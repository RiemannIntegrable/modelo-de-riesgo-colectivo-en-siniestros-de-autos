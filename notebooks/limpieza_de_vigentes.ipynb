{
 "cells": [
  {
   "cell_type": "markdown",
   "id": "e4508bfb",
   "metadata": {},
   "source": [
    "<div align=\"center\">\n",
    "\n",
    "# **Vigentes**\n",
    "\n",
    "</div>"
   ]
  },
  {
   "cell_type": "markdown",
   "id": "d163c0f1",
   "metadata": {},
   "source": [
    "## Librerias"
   ]
  },
  {
   "cell_type": "code",
   "execution_count": 60,
   "id": "9e10b970",
   "metadata": {
    "vscode": {
     "languageId": "r"
    }
   },
   "outputs": [],
   "source": [
    "source(\"../src/data/vigentes_diarias.R\")"
   ]
  },
  {
   "cell_type": "code",
   "execution_count": 61,
   "id": "6795097a",
   "metadata": {
    "vscode": {
     "languageId": "r"
    }
   },
   "outputs": [],
   "source": [
    "library(readxl)\n",
    "library(dplyr)"
   ]
  },
  {
   "cell_type": "markdown",
   "id": "d9dfd2da",
   "metadata": {},
   "source": [
    "## Data"
   ]
  },
  {
   "cell_type": "code",
   "execution_count": 62,
   "id": "jszf06dc2yg",
   "metadata": {
    "vscode": {
     "languageId": "r"
    }
   },
   "outputs": [
    {
     "data": {
      "text/html": [
       "<table class=\"dataframe\">\n",
       "<caption>A tibble: 6 × 10</caption>\n",
       "<thead>\n",
       "\t<tr><th scope=col>FECINICIO</th><th scope=col>FECFIN</th><th scope=col>VLRPRISUSCR</th><th scope=col>VLRASEGU</th><th scope=col>VLRASEGURC</th><th scope=col>PTD</th><th scope=col>PPD</th><th scope=col>PH</th><th scope=col>PPH</th><th scope=col>RC</th></tr>\n",
       "\t<tr><th scope=col>&lt;dttm&gt;</th><th scope=col>&lt;dttm&gt;</th><th scope=col>&lt;dbl&gt;</th><th scope=col>&lt;dbl&gt;</th><th scope=col>&lt;dbl&gt;</th><th scope=col>&lt;dbl&gt;</th><th scope=col>&lt;dbl&gt;</th><th scope=col>&lt;dbl&gt;</th><th scope=col>&lt;dbl&gt;</th><th scope=col>&lt;dbl&gt;</th></tr>\n",
       "</thead>\n",
       "<tbody>\n",
       "\t<tr><td>2019-01-08</td><td>2020-01-08</td><td>1379000</td><td>46490000</td><td>2e+09</td><td>1</td><td>1</td><td>1</td><td>1</td><td>1</td></tr>\n",
       "\t<tr><td>2019-01-08</td><td>2020-01-08</td><td>1414000</td><td>62590000</td><td>2e+09</td><td>1</td><td>1</td><td>1</td><td>1</td><td>1</td></tr>\n",
       "\t<tr><td>2019-01-08</td><td>2020-01-08</td><td>1369000</td><td>36490000</td><td>2e+09</td><td>1</td><td>1</td><td>1</td><td>1</td><td>1</td></tr>\n",
       "\t<tr><td>2019-01-08</td><td>2020-01-08</td><td>1379000</td><td>41990000</td><td>2e+09</td><td>1</td><td>1</td><td>1</td><td>1</td><td>1</td></tr>\n",
       "\t<tr><td>2019-01-08</td><td>2020-01-08</td><td>1379000</td><td>45390000</td><td>2e+09</td><td>1</td><td>1</td><td>1</td><td>1</td><td>1</td></tr>\n",
       "\t<tr><td>2019-01-08</td><td>2019-09-01</td><td> 661678</td><td>23500000</td><td>3e+09</td><td>1</td><td>1</td><td>1</td><td>1</td><td>1</td></tr>\n",
       "</tbody>\n",
       "</table>\n"
      ],
      "text/latex": [
       "A tibble: 6 × 10\n",
       "\\begin{tabular}{llllllllll}\n",
       " FECINICIO & FECFIN & VLRPRISUSCR & VLRASEGU & VLRASEGURC & PTD & PPD & PH & PPH & RC\\\\\n",
       " <dttm> & <dttm> & <dbl> & <dbl> & <dbl> & <dbl> & <dbl> & <dbl> & <dbl> & <dbl>\\\\\n",
       "\\hline\n",
       "\t 2019-01-08 & 2020-01-08 & 1379000 & 46490000 & 2e+09 & 1 & 1 & 1 & 1 & 1\\\\\n",
       "\t 2019-01-08 & 2020-01-08 & 1414000 & 62590000 & 2e+09 & 1 & 1 & 1 & 1 & 1\\\\\n",
       "\t 2019-01-08 & 2020-01-08 & 1369000 & 36490000 & 2e+09 & 1 & 1 & 1 & 1 & 1\\\\\n",
       "\t 2019-01-08 & 2020-01-08 & 1379000 & 41990000 & 2e+09 & 1 & 1 & 1 & 1 & 1\\\\\n",
       "\t 2019-01-08 & 2020-01-08 & 1379000 & 45390000 & 2e+09 & 1 & 1 & 1 & 1 & 1\\\\\n",
       "\t 2019-01-08 & 2019-09-01 &  661678 & 23500000 & 3e+09 & 1 & 1 & 1 & 1 & 1\\\\\n",
       "\\end{tabular}\n"
      ],
      "text/markdown": [
       "\n",
       "A tibble: 6 × 10\n",
       "\n",
       "| FECINICIO &lt;dttm&gt; | FECFIN &lt;dttm&gt; | VLRPRISUSCR &lt;dbl&gt; | VLRASEGU &lt;dbl&gt; | VLRASEGURC &lt;dbl&gt; | PTD &lt;dbl&gt; | PPD &lt;dbl&gt; | PH &lt;dbl&gt; | PPH &lt;dbl&gt; | RC &lt;dbl&gt; |\n",
       "|---|---|---|---|---|---|---|---|---|---|\n",
       "| 2019-01-08 | 2020-01-08 | 1379000 | 46490000 | 2e+09 | 1 | 1 | 1 | 1 | 1 |\n",
       "| 2019-01-08 | 2020-01-08 | 1414000 | 62590000 | 2e+09 | 1 | 1 | 1 | 1 | 1 |\n",
       "| 2019-01-08 | 2020-01-08 | 1369000 | 36490000 | 2e+09 | 1 | 1 | 1 | 1 | 1 |\n",
       "| 2019-01-08 | 2020-01-08 | 1379000 | 41990000 | 2e+09 | 1 | 1 | 1 | 1 | 1 |\n",
       "| 2019-01-08 | 2020-01-08 | 1379000 | 45390000 | 2e+09 | 1 | 1 | 1 | 1 | 1 |\n",
       "| 2019-01-08 | 2019-09-01 |  661678 | 23500000 | 3e+09 | 1 | 1 | 1 | 1 | 1 |\n",
       "\n"
      ],
      "text/plain": [
       "  FECINICIO  FECFIN     VLRPRISUSCR VLRASEGU VLRASEGURC PTD PPD PH PPH RC\n",
       "1 2019-01-08 2020-01-08 1379000     46490000 2e+09      1   1   1  1   1 \n",
       "2 2019-01-08 2020-01-08 1414000     62590000 2e+09      1   1   1  1   1 \n",
       "3 2019-01-08 2020-01-08 1369000     36490000 2e+09      1   1   1  1   1 \n",
       "4 2019-01-08 2020-01-08 1379000     41990000 2e+09      1   1   1  1   1 \n",
       "5 2019-01-08 2020-01-08 1379000     45390000 2e+09      1   1   1  1   1 \n",
       "6 2019-01-08 2019-09-01  661678     23500000 3e+09      1   1   1  1   1 "
      ]
     },
     "metadata": {},
     "output_type": "display_data"
    }
   ],
   "source": [
    "vigentes <- read_excel(\"../data/input/Grupo_P11.xlsx\")\n",
    "head(vigentes)"
   ]
  },
  {
   "cell_type": "code",
   "execution_count": 63,
   "id": "scvdial48dq",
   "metadata": {
    "vscode": {
     "languageId": "r"
    }
   },
   "outputs": [
    {
     "data": {
      "text/html": [
       "<style>\n",
       ".list-inline {list-style: none; margin:0; padding: 0}\n",
       ".list-inline>li {display: inline-block}\n",
       ".list-inline>li:not(:last-child)::after {content: \"\\00b7\"; padding: 0 .5ex}\n",
       "</style>\n",
       "<ol class=list-inline><li>'FECINICIO'</li><li>'FECFIN'</li><li>'VLRPRISUSCR'</li><li>'VLRASEGU'</li><li>'VLRASEGURC'</li><li>'PTD'</li><li>'PPD'</li><li>'PH'</li><li>'PPH'</li><li>'RC'</li></ol>\n"
      ],
      "text/latex": [
       "\\begin{enumerate*}\n",
       "\\item 'FECINICIO'\n",
       "\\item 'FECFIN'\n",
       "\\item 'VLRPRISUSCR'\n",
       "\\item 'VLRASEGU'\n",
       "\\item 'VLRASEGURC'\n",
       "\\item 'PTD'\n",
       "\\item 'PPD'\n",
       "\\item 'PH'\n",
       "\\item 'PPH'\n",
       "\\item 'RC'\n",
       "\\end{enumerate*}\n"
      ],
      "text/markdown": [
       "1. 'FECINICIO'\n",
       "2. 'FECFIN'\n",
       "3. 'VLRPRISUSCR'\n",
       "4. 'VLRASEGU'\n",
       "5. 'VLRASEGURC'\n",
       "6. 'PTD'\n",
       "7. 'PPD'\n",
       "8. 'PH'\n",
       "9. 'PPH'\n",
       "10. 'RC'\n",
       "\n",
       "\n"
      ],
      "text/plain": [
       " [1] \"FECINICIO\"   \"FECFIN\"      \"VLRPRISUSCR\" \"VLRASEGU\"    \"VLRASEGURC\" \n",
       " [6] \"PTD\"         \"PPD\"         \"PH\"          \"PPH\"         \"RC\"         "
      ]
     },
     "metadata": {},
     "output_type": "display_data"
    }
   ],
   "source": [
    "names(vigentes)"
   ]
  },
  {
   "cell_type": "code",
   "execution_count": 64,
   "id": "34c2ef30",
   "metadata": {
    "vscode": {
     "languageId": "r"
    }
   },
   "outputs": [],
   "source": [
    "vigentes$PTD <- NULL"
   ]
  },
  {
   "cell_type": "code",
   "execution_count": 65,
   "id": "f1lv80i3jk",
   "metadata": {
    "vscode": {
     "languageId": "r"
    }
   },
   "outputs": [],
   "source": [
    "vigentes <- vigentes %>%\n",
    "  rename(\n",
    "    \"inicio\" = \"FECINICIO\",                 # Fecha de inicio\n",
    "    \"fin\" = \"FECFIN\",                       # Fecha de fin  \n",
    "    \"prima\" = \"VLRPRISUSCR\",                # Prima\n",
    "    \"valor_asegurado\" = \"VLRASEGU\",         # Valor asegurado general\n",
    "    \"valor_asegurado_rc\" = \"VLRASEGURC\",    # Valor asegurado RC\n",
    "    \"ppd\" = \"PPD\",                          # Pérdida parcial daños\n",
    "    \"pth\" = \"PH\",                           # Pérdida total hurto\n",
    "    \"pph\" = \"PPH\",                          # Pérdida parcial hurto\n",
    "    \"rc\" = \"RC\"                             # Responsabilidad civil\n",
    "  )"
   ]
  },
  {
   "cell_type": "code",
   "execution_count": 66,
   "id": "yf0k7ud9l6m",
   "metadata": {
    "vscode": {
     "languageId": "r"
    }
   },
   "outputs": [],
   "source": [
    "vigentes <- vigentes %>%\n",
    "  mutate(\n",
    "    valor_asegurado = valor_asegurado + valor_asegurado_rc  # Suma los valores asegurados\n",
    "  )"
   ]
  },
  {
   "cell_type": "markdown",
   "id": "50dbc18e",
   "metadata": {},
   "source": [
    "## Nulos y duplicados"
   ]
  },
  {
   "cell_type": "code",
   "execution_count": 67,
   "id": "4103355c",
   "metadata": {
    "vscode": {
     "languageId": "r"
    }
   },
   "outputs": [
    {
     "data": {
      "text/html": [
       "0"
      ],
      "text/latex": [
       "0"
      ],
      "text/markdown": [
       "0"
      ],
      "text/plain": [
       "[1] 0"
      ]
     },
     "metadata": {},
     "output_type": "display_data"
    }
   ],
   "source": [
    "sum(is.na(vigentes))"
   ]
  },
  {
   "cell_type": "code",
   "execution_count": 68,
   "id": "c59fdbf9",
   "metadata": {
    "vscode": {
     "languageId": "r"
    }
   },
   "outputs": [
    {
     "data": {
      "text/html": [
       "<style>\n",
       ".list-inline {list-style: none; margin:0; padding: 0}\n",
       ".list-inline>li {display: inline-block}\n",
       ".list-inline>li:not(:last-child)::after {content: \"\\00b7\"; padding: 0 .5ex}\n",
       "</style>\n",
       "<ol class=list-inline><li>FALSE</li><li>TRUE</li></ol>\n"
      ],
      "text/latex": [
       "\\begin{enumerate*}\n",
       "\\item FALSE\n",
       "\\item TRUE\n",
       "\\end{enumerate*}\n"
      ],
      "text/markdown": [
       "1. FALSE\n",
       "2. TRUE\n",
       "\n",
       "\n"
      ],
      "text/plain": [
       "[1] FALSE  TRUE"
      ]
     },
     "metadata": {},
     "output_type": "display_data"
    }
   ],
   "source": [
    "unique(duplicated(vigentes))"
   ]
  },
  {
   "cell_type": "code",
   "execution_count": 69,
   "id": "11c8a27b",
   "metadata": {
    "vscode": {
     "languageId": "r"
    }
   },
   "outputs": [
    {
     "data": {
      "text/html": [
       "300"
      ],
      "text/latex": [
       "300"
      ],
      "text/markdown": [
       "300"
      ],
      "text/plain": [
       "[1] 300"
      ]
     },
     "metadata": {},
     "output_type": "display_data"
    }
   ],
   "source": [
    "nrow(vigentes)"
   ]
  },
  {
   "cell_type": "code",
   "execution_count": 70,
   "id": "fce25d3a",
   "metadata": {
    "vscode": {
     "languageId": "r"
    }
   },
   "outputs": [
    {
     "data": {
      "text/html": [
       "294"
      ],
      "text/latex": [
       "294"
      ],
      "text/markdown": [
       "294"
      ],
      "text/plain": [
       "[1] 294"
      ]
     },
     "metadata": {},
     "output_type": "display_data"
    }
   ],
   "source": [
    "nrow(unique(vigentes))"
   ]
  },
  {
   "cell_type": "markdown",
   "id": "bff64408",
   "metadata": {},
   "source": [
    "Eliminamos los 6 duplicados"
   ]
  },
  {
   "cell_type": "code",
   "execution_count": 71,
   "id": "d513133b",
   "metadata": {
    "vscode": {
     "languageId": "r"
    }
   },
   "outputs": [],
   "source": [
    "vigentes <- unique(vigentes)"
   ]
  },
  {
   "cell_type": "markdown",
   "id": "4179ad3e",
   "metadata": {},
   "source": [
    "## Fechas y duracion"
   ]
  },
  {
   "cell_type": "code",
   "execution_count": 72,
   "id": "4e7905d9",
   "metadata": {
    "vscode": {
     "languageId": "r"
    }
   },
   "outputs": [
    {
     "data": {
      "text/plain": [
       "[1] \"2019-01-08 UTC\""
      ]
     },
     "metadata": {},
     "output_type": "display_data"
    },
    {
     "data": {
      "text/plain": [
       "[1] \"2019-01-09 UTC\""
      ]
     },
     "metadata": {},
     "output_type": "display_data"
    }
   ],
   "source": [
    "min(vigentes$inicio)\n",
    "max(vigentes$inicio)"
   ]
  },
  {
   "cell_type": "code",
   "execution_count": 73,
   "id": "f6be9031",
   "metadata": {
    "vscode": {
     "languageId": "r"
    }
   },
   "outputs": [
    {
     "data": {
      "text/plain": [
       "[1] \"2019-01-08 UTC\""
      ]
     },
     "metadata": {},
     "output_type": "display_data"
    },
    {
     "data": {
      "text/plain": [
       "[1] \"2020-12-29 UTC\""
      ]
     },
     "metadata": {},
     "output_type": "display_data"
    }
   ],
   "source": [
    "min(vigentes$fin)\n",
    "max(vigentes$fin)"
   ]
  },
  {
   "cell_type": "code",
   "execution_count": 74,
   "id": "bae1719d",
   "metadata": {
    "vscode": {
     "languageId": "r"
    }
   },
   "outputs": [],
   "source": [
    "vigentes$duracion <- as.numeric(difftime(vigentes$fin, vigentes$inicio, units = \"days\")) + 1"
   ]
  },
  {
   "cell_type": "code",
   "execution_count": 75,
   "id": "1daad398",
   "metadata": {
    "vscode": {
     "languageId": "r"
    }
   },
   "outputs": [
    {
     "data": {
      "text/html": [
       "<style>\n",
       ".list-inline {list-style: none; margin:0; padding: 0}\n",
       ".list-inline>li {display: inline-block}\n",
       ".list-inline>li:not(:last-child)::after {content: \"\\00b7\"; padding: 0 .5ex}\n",
       "</style>\n",
       "<ol class=list-inline><li>1</li><li>18</li><li>24</li><li>31</li><li>38</li><li>54</li><li>66</li><li>81</li><li>84</li><li>87</li><li>89</li><li>99</li><li>107</li><li>108</li><li>109</li><li>114</li><li>117</li><li>122</li><li>129</li><li>137</li><li>150</li><li>152</li><li>174</li><li>200</li><li>206</li><li>207</li><li>213</li><li>225</li><li>236</li><li>237</li><li>251</li><li>254</li><li>255</li><li>256</li><li>259</li><li>266</li><li>267</li><li>273</li><li>274</li><li>298</li><li>303</li><li>304</li><li>305</li><li>326</li><li>327</li><li>341</li><li>348</li><li>358</li><li>366</li><li>390</li><li>397</li><li>399</li><li>406</li><li>457</li><li>500</li><li>501</li><li>529</li><li>530</li><li>613</li><li>661</li><li>672</li><li>680</li><li>688</li><li>720</li><li>722</li></ol>\n"
      ],
      "text/latex": [
       "\\begin{enumerate*}\n",
       "\\item 1\n",
       "\\item 18\n",
       "\\item 24\n",
       "\\item 31\n",
       "\\item 38\n",
       "\\item 54\n",
       "\\item 66\n",
       "\\item 81\n",
       "\\item 84\n",
       "\\item 87\n",
       "\\item 89\n",
       "\\item 99\n",
       "\\item 107\n",
       "\\item 108\n",
       "\\item 109\n",
       "\\item 114\n",
       "\\item 117\n",
       "\\item 122\n",
       "\\item 129\n",
       "\\item 137\n",
       "\\item 150\n",
       "\\item 152\n",
       "\\item 174\n",
       "\\item 200\n",
       "\\item 206\n",
       "\\item 207\n",
       "\\item 213\n",
       "\\item 225\n",
       "\\item 236\n",
       "\\item 237\n",
       "\\item 251\n",
       "\\item 254\n",
       "\\item 255\n",
       "\\item 256\n",
       "\\item 259\n",
       "\\item 266\n",
       "\\item 267\n",
       "\\item 273\n",
       "\\item 274\n",
       "\\item 298\n",
       "\\item 303\n",
       "\\item 304\n",
       "\\item 305\n",
       "\\item 326\n",
       "\\item 327\n",
       "\\item 341\n",
       "\\item 348\n",
       "\\item 358\n",
       "\\item 366\n",
       "\\item 390\n",
       "\\item 397\n",
       "\\item 399\n",
       "\\item 406\n",
       "\\item 457\n",
       "\\item 500\n",
       "\\item 501\n",
       "\\item 529\n",
       "\\item 530\n",
       "\\item 613\n",
       "\\item 661\n",
       "\\item 672\n",
       "\\item 680\n",
       "\\item 688\n",
       "\\item 720\n",
       "\\item 722\n",
       "\\end{enumerate*}\n"
      ],
      "text/markdown": [
       "1. 1\n",
       "2. 18\n",
       "3. 24\n",
       "4. 31\n",
       "5. 38\n",
       "6. 54\n",
       "7. 66\n",
       "8. 81\n",
       "9. 84\n",
       "10. 87\n",
       "11. 89\n",
       "12. 99\n",
       "13. 107\n",
       "14. 108\n",
       "15. 109\n",
       "16. 114\n",
       "17. 117\n",
       "18. 122\n",
       "19. 129\n",
       "20. 137\n",
       "21. 150\n",
       "22. 152\n",
       "23. 174\n",
       "24. 200\n",
       "25. 206\n",
       "26. 207\n",
       "27. 213\n",
       "28. 225\n",
       "29. 236\n",
       "30. 237\n",
       "31. 251\n",
       "32. 254\n",
       "33. 255\n",
       "34. 256\n",
       "35. 259\n",
       "36. 266\n",
       "37. 267\n",
       "38. 273\n",
       "39. 274\n",
       "40. 298\n",
       "41. 303\n",
       "42. 304\n",
       "43. 305\n",
       "44. 326\n",
       "45. 327\n",
       "46. 341\n",
       "47. 348\n",
       "48. 358\n",
       "49. 366\n",
       "50. 390\n",
       "51. 397\n",
       "52. 399\n",
       "53. 406\n",
       "54. 457\n",
       "55. 500\n",
       "56. 501\n",
       "57. 529\n",
       "58. 530\n",
       "59. 613\n",
       "60. 661\n",
       "61. 672\n",
       "62. 680\n",
       "63. 688\n",
       "64. 720\n",
       "65. 722\n",
       "\n",
       "\n"
      ],
      "text/plain": [
       " [1]   1  18  24  31  38  54  66  81  84  87  89  99 107 108 109 114 117 122 129\n",
       "[20] 137 150 152 174 200 206 207 213 225 236 237 251 254 255 256 259 266 267 273\n",
       "[39] 274 298 303 304 305 326 327 341 348 358 366 390 397 399 406 457 500 501 529\n",
       "[58] 530 613 661 672 680 688 720 722"
      ]
     },
     "metadata": {},
     "output_type": "display_data"
    }
   ],
   "source": [
    "sort(unique(vigentes$duracion))"
   ]
  },
  {
   "cell_type": "code",
   "execution_count": 76,
   "id": "86302ce3",
   "metadata": {
    "vscode": {
     "languageId": "r"
    }
   },
   "outputs": [
    {
     "data": {
      "text/html": [
       "50"
      ],
      "text/latex": [
       "50"
      ],
      "text/markdown": [
       "50"
      ],
      "text/plain": [
       "[1] 50"
      ]
     },
     "metadata": {},
     "output_type": "display_data"
    }
   ],
   "source": [
    "nrow(vigentes[vigentes$duracion == 366, ])*100/nrow(vigentes)"
   ]
  },
  {
   "cell_type": "code",
   "execution_count": 77,
   "id": "d5ce63b5",
   "metadata": {
    "vscode": {
     "languageId": "r"
    }
   },
   "outputs": [
    {
     "data": {
      "text/html": [
       "13.265306122449"
      ],
      "text/latex": [
       "13.265306122449"
      ],
      "text/markdown": [
       "13.265306122449"
      ],
      "text/plain": [
       "[1] 13.26531"
      ]
     },
     "metadata": {},
     "output_type": "display_data"
    }
   ],
   "source": [
    "nrow(vigentes[vigentes$duracion <= 1, ])*100/nrow(vigentes)"
   ]
  },
  {
   "cell_type": "markdown",
   "id": "6bc6b5f0",
   "metadata": {},
   "source": [
    "Vamos a considerar como una anomalia y vamos a corregirla. Es probable que todas estas polizas que duran un dia en realidad tengan una cobertura de 1 año y fueron mal digitadas."
   ]
  },
  {
   "cell_type": "code",
   "execution_count": 78,
   "id": "ae6c35ea",
   "metadata": {
    "vscode": {
     "languageId": "r"
    }
   },
   "outputs": [],
   "source": [
    "vigentes$duracion[vigentes$duracion == 1] <- 366"
   ]
  },
  {
   "cell_type": "markdown",
   "id": "15387a16",
   "metadata": {},
   "source": [
    "## Primas"
   ]
  },
  {
   "cell_type": "code",
   "execution_count": 79,
   "id": "42f7ad69",
   "metadata": {
    "vscode": {
     "languageId": "r"
    }
   },
   "outputs": [
    {
     "data": {
      "text/html": [
       "<style>\n",
       ".list-inline {list-style: none; margin:0; padding: 0}\n",
       ".list-inline>li {display: inline-block}\n",
       ".list-inline>li:not(:last-child)::after {content: \"\\00b7\"; padding: 0 .5ex}\n",
       "</style>\n",
       "<ol class=list-inline><li>0</li><li>37122</li><li>39259</li><li>121702</li><li>195057</li><li>219278</li><li>236005</li><li>256979</li><li>272372</li><li>279076</li><li>286282</li><li>287705</li><li>300168</li><li>314402</li><li>316368</li><li>339744</li><li>379433</li><li>391748</li><li>429136</li><li>429589</li><li>433938</li><li>457431</li><li>466781</li><li>466783</li><li>471575</li><li>482875</li><li>485120</li><li>499729</li><li>567796</li><li>577482</li><li>578321</li><li>616388</li><li>630032</li><li>632390</li><li>661678</li><li>682500</li><li>727829</li><li>730864</li><li>732946</li><li>745310</li><li>755491</li><li>757442</li><li>785777</li><li>789460</li><li>828116</li><li>834927</li><li>848437</li><li>862121</li><li>874197</li><li>880272</li><li>889474</li><li>896118</li><li>9e+05</li><li>906420</li><li>909980</li><li>912847</li><li>923278</li><li>930532</li><li>957084</li><li>959759</li><li>962339</li><li>963071</li><li>972139</li><li>974786</li><li>981449</li><li>990807</li><li>995059</li><li>1001403</li><li>1029542</li><li>1051786</li><li>1066400</li><li>1071535</li><li>1080388</li><li>1081279</li><li>1087721</li><li>1088898</li><li>1090181</li><li>1090536</li><li>1102719</li><li>1106547</li><li>1107822</li><li>1119259</li><li>1127394</li><li>1142531</li><li>1158500</li><li>1163300</li><li>1164470</li><li>1173323</li><li>1177840</li><li>1191750</li><li>1196318</li><li>1208534</li><li>1211117</li><li>1235483</li><li>1243400</li><li>1245881</li><li>1265701</li><li>1273246</li><li>1298888</li><li>1313815</li><li>1315473</li><li>1331775</li><li>1341459</li><li>1346364</li><li>1354076</li><li>1369000</li><li>1379000</li><li>1381828</li><li>1389005</li><li>1396592</li><li>1406541</li><li>1413088</li><li>1414000</li><li>1453916</li><li>1465697</li><li>1492759</li><li>1494762</li><li>1499600</li><li>1510284</li><li>1516410</li><li>1547879</li><li>1550881</li><li>1560635</li><li>1566046</li><li>1587620</li><li>1604646</li><li>1607680</li><li>1623631</li><li>1640105</li><li>1657000</li><li>1667829</li><li>1673923</li><li>1674798</li><li>1678396</li><li>1683046</li><li>1692470</li><li>1697000</li><li>1718975</li><li>1726781</li><li>1741526</li><li>1787700</li><li>1800000</li><li>1806736</li><li>1814971</li><li>1822000</li><li>1837651</li><li>1839044</li><li>1853090</li><li>1910428</li><li>1928666</li><li>1961676</li><li>1973880</li><li>1978748</li><li>2005301</li><li>2024954</li><li>2050169</li><li>2063768</li><li>2079587</li><li>2082141</li><li>2093918</li><li>2114656</li><li>2128389</li><li>2147781</li><li>2171700</li><li>2187357</li><li>2198108</li><li>2208417</li><li>2242967</li><li>2280028</li><li>2309474</li><li>2329618</li><li>2364792</li><li>2397900</li><li>2408417</li><li>2426064</li><li>2476720</li><li>2549353</li><li>2626665</li><li>2744899</li><li>2785210</li><li>2789600</li><li>2881582</li><li>2933847</li><li>2936069</li><li>3002697</li><li>3004569</li><li>3071054</li><li>3073296</li><li>3156273</li><li>3311157</li><li>3314976</li><li>3477091</li><li>3677232</li><li>4081287</li><li>4148832</li><li>4171758</li><li>4212917</li></ol>\n"
      ],
      "text/latex": [
       "\\begin{enumerate*}\n",
       "\\item 0\n",
       "\\item 37122\n",
       "\\item 39259\n",
       "\\item 121702\n",
       "\\item 195057\n",
       "\\item 219278\n",
       "\\item 236005\n",
       "\\item 256979\n",
       "\\item 272372\n",
       "\\item 279076\n",
       "\\item 286282\n",
       "\\item 287705\n",
       "\\item 300168\n",
       "\\item 314402\n",
       "\\item 316368\n",
       "\\item 339744\n",
       "\\item 379433\n",
       "\\item 391748\n",
       "\\item 429136\n",
       "\\item 429589\n",
       "\\item 433938\n",
       "\\item 457431\n",
       "\\item 466781\n",
       "\\item 466783\n",
       "\\item 471575\n",
       "\\item 482875\n",
       "\\item 485120\n",
       "\\item 499729\n",
       "\\item 567796\n",
       "\\item 577482\n",
       "\\item 578321\n",
       "\\item 616388\n",
       "\\item 630032\n",
       "\\item 632390\n",
       "\\item 661678\n",
       "\\item 682500\n",
       "\\item 727829\n",
       "\\item 730864\n",
       "\\item 732946\n",
       "\\item 745310\n",
       "\\item 755491\n",
       "\\item 757442\n",
       "\\item 785777\n",
       "\\item 789460\n",
       "\\item 828116\n",
       "\\item 834927\n",
       "\\item 848437\n",
       "\\item 862121\n",
       "\\item 874197\n",
       "\\item 880272\n",
       "\\item 889474\n",
       "\\item 896118\n",
       "\\item 9e+05\n",
       "\\item 906420\n",
       "\\item 909980\n",
       "\\item 912847\n",
       "\\item 923278\n",
       "\\item 930532\n",
       "\\item 957084\n",
       "\\item 959759\n",
       "\\item 962339\n",
       "\\item 963071\n",
       "\\item 972139\n",
       "\\item 974786\n",
       "\\item 981449\n",
       "\\item 990807\n",
       "\\item 995059\n",
       "\\item 1001403\n",
       "\\item 1029542\n",
       "\\item 1051786\n",
       "\\item 1066400\n",
       "\\item 1071535\n",
       "\\item 1080388\n",
       "\\item 1081279\n",
       "\\item 1087721\n",
       "\\item 1088898\n",
       "\\item 1090181\n",
       "\\item 1090536\n",
       "\\item 1102719\n",
       "\\item 1106547\n",
       "\\item 1107822\n",
       "\\item 1119259\n",
       "\\item 1127394\n",
       "\\item 1142531\n",
       "\\item 1158500\n",
       "\\item 1163300\n",
       "\\item 1164470\n",
       "\\item 1173323\n",
       "\\item 1177840\n",
       "\\item 1191750\n",
       "\\item 1196318\n",
       "\\item 1208534\n",
       "\\item 1211117\n",
       "\\item 1235483\n",
       "\\item 1243400\n",
       "\\item 1245881\n",
       "\\item 1265701\n",
       "\\item 1273246\n",
       "\\item 1298888\n",
       "\\item 1313815\n",
       "\\item 1315473\n",
       "\\item 1331775\n",
       "\\item 1341459\n",
       "\\item 1346364\n",
       "\\item 1354076\n",
       "\\item 1369000\n",
       "\\item 1379000\n",
       "\\item 1381828\n",
       "\\item 1389005\n",
       "\\item 1396592\n",
       "\\item 1406541\n",
       "\\item 1413088\n",
       "\\item 1414000\n",
       "\\item 1453916\n",
       "\\item 1465697\n",
       "\\item 1492759\n",
       "\\item 1494762\n",
       "\\item 1499600\n",
       "\\item 1510284\n",
       "\\item 1516410\n",
       "\\item 1547879\n",
       "\\item 1550881\n",
       "\\item 1560635\n",
       "\\item 1566046\n",
       "\\item 1587620\n",
       "\\item 1604646\n",
       "\\item 1607680\n",
       "\\item 1623631\n",
       "\\item 1640105\n",
       "\\item 1657000\n",
       "\\item 1667829\n",
       "\\item 1673923\n",
       "\\item 1674798\n",
       "\\item 1678396\n",
       "\\item 1683046\n",
       "\\item 1692470\n",
       "\\item 1697000\n",
       "\\item 1718975\n",
       "\\item 1726781\n",
       "\\item 1741526\n",
       "\\item 1787700\n",
       "\\item 1800000\n",
       "\\item 1806736\n",
       "\\item 1814971\n",
       "\\item 1822000\n",
       "\\item 1837651\n",
       "\\item 1839044\n",
       "\\item 1853090\n",
       "\\item 1910428\n",
       "\\item 1928666\n",
       "\\item 1961676\n",
       "\\item 1973880\n",
       "\\item 1978748\n",
       "\\item 2005301\n",
       "\\item 2024954\n",
       "\\item 2050169\n",
       "\\item 2063768\n",
       "\\item 2079587\n",
       "\\item 2082141\n",
       "\\item 2093918\n",
       "\\item 2114656\n",
       "\\item 2128389\n",
       "\\item 2147781\n",
       "\\item 2171700\n",
       "\\item 2187357\n",
       "\\item 2198108\n",
       "\\item 2208417\n",
       "\\item 2242967\n",
       "\\item 2280028\n",
       "\\item 2309474\n",
       "\\item 2329618\n",
       "\\item 2364792\n",
       "\\item 2397900\n",
       "\\item 2408417\n",
       "\\item 2426064\n",
       "\\item 2476720\n",
       "\\item 2549353\n",
       "\\item 2626665\n",
       "\\item 2744899\n",
       "\\item 2785210\n",
       "\\item 2789600\n",
       "\\item 2881582\n",
       "\\item 2933847\n",
       "\\item 2936069\n",
       "\\item 3002697\n",
       "\\item 3004569\n",
       "\\item 3071054\n",
       "\\item 3073296\n",
       "\\item 3156273\n",
       "\\item 3311157\n",
       "\\item 3314976\n",
       "\\item 3477091\n",
       "\\item 3677232\n",
       "\\item 4081287\n",
       "\\item 4148832\n",
       "\\item 4171758\n",
       "\\item 4212917\n",
       "\\end{enumerate*}\n"
      ],
      "text/markdown": [
       "1. 0\n",
       "2. 37122\n",
       "3. 39259\n",
       "4. 121702\n",
       "5. 195057\n",
       "6. 219278\n",
       "7. 236005\n",
       "8. 256979\n",
       "9. 272372\n",
       "10. 279076\n",
       "11. 286282\n",
       "12. 287705\n",
       "13. 300168\n",
       "14. 314402\n",
       "15. 316368\n",
       "16. 339744\n",
       "17. 379433\n",
       "18. 391748\n",
       "19. 429136\n",
       "20. 429589\n",
       "21. 433938\n",
       "22. 457431\n",
       "23. 466781\n",
       "24. 466783\n",
       "25. 471575\n",
       "26. 482875\n",
       "27. 485120\n",
       "28. 499729\n",
       "29. 567796\n",
       "30. 577482\n",
       "31. 578321\n",
       "32. 616388\n",
       "33. 630032\n",
       "34. 632390\n",
       "35. 661678\n",
       "36. 682500\n",
       "37. 727829\n",
       "38. 730864\n",
       "39. 732946\n",
       "40. 745310\n",
       "41. 755491\n",
       "42. 757442\n",
       "43. 785777\n",
       "44. 789460\n",
       "45. 828116\n",
       "46. 834927\n",
       "47. 848437\n",
       "48. 862121\n",
       "49. 874197\n",
       "50. 880272\n",
       "51. 889474\n",
       "52. 896118\n",
       "53. 9e+05\n",
       "54. 906420\n",
       "55. 909980\n",
       "56. 912847\n",
       "57. 923278\n",
       "58. 930532\n",
       "59. 957084\n",
       "60. 959759\n",
       "61. 962339\n",
       "62. 963071\n",
       "63. 972139\n",
       "64. 974786\n",
       "65. 981449\n",
       "66. 990807\n",
       "67. 995059\n",
       "68. 1001403\n",
       "69. 1029542\n",
       "70. 1051786\n",
       "71. 1066400\n",
       "72. 1071535\n",
       "73. 1080388\n",
       "74. 1081279\n",
       "75. 1087721\n",
       "76. 1088898\n",
       "77. 1090181\n",
       "78. 1090536\n",
       "79. 1102719\n",
       "80. 1106547\n",
       "81. 1107822\n",
       "82. 1119259\n",
       "83. 1127394\n",
       "84. 1142531\n",
       "85. 1158500\n",
       "86. 1163300\n",
       "87. 1164470\n",
       "88. 1173323\n",
       "89. 1177840\n",
       "90. 1191750\n",
       "91. 1196318\n",
       "92. 1208534\n",
       "93. 1211117\n",
       "94. 1235483\n",
       "95. 1243400\n",
       "96. 1245881\n",
       "97. 1265701\n",
       "98. 1273246\n",
       "99. 1298888\n",
       "100. 1313815\n",
       "101. 1315473\n",
       "102. 1331775\n",
       "103. 1341459\n",
       "104. 1346364\n",
       "105. 1354076\n",
       "106. 1369000\n",
       "107. 1379000\n",
       "108. 1381828\n",
       "109. 1389005\n",
       "110. 1396592\n",
       "111. 1406541\n",
       "112. 1413088\n",
       "113. 1414000\n",
       "114. 1453916\n",
       "115. 1465697\n",
       "116. 1492759\n",
       "117. 1494762\n",
       "118. 1499600\n",
       "119. 1510284\n",
       "120. 1516410\n",
       "121. 1547879\n",
       "122. 1550881\n",
       "123. 1560635\n",
       "124. 1566046\n",
       "125. 1587620\n",
       "126. 1604646\n",
       "127. 1607680\n",
       "128. 1623631\n",
       "129. 1640105\n",
       "130. 1657000\n",
       "131. 1667829\n",
       "132. 1673923\n",
       "133. 1674798\n",
       "134. 1678396\n",
       "135. 1683046\n",
       "136. 1692470\n",
       "137. 1697000\n",
       "138. 1718975\n",
       "139. 1726781\n",
       "140. 1741526\n",
       "141. 1787700\n",
       "142. 1800000\n",
       "143. 1806736\n",
       "144. 1814971\n",
       "145. 1822000\n",
       "146. 1837651\n",
       "147. 1839044\n",
       "148. 1853090\n",
       "149. 1910428\n",
       "150. 1928666\n",
       "151. 1961676\n",
       "152. 1973880\n",
       "153. 1978748\n",
       "154. 2005301\n",
       "155. 2024954\n",
       "156. 2050169\n",
       "157. 2063768\n",
       "158. 2079587\n",
       "159. 2082141\n",
       "160. 2093918\n",
       "161. 2114656\n",
       "162. 2128389\n",
       "163. 2147781\n",
       "164. 2171700\n",
       "165. 2187357\n",
       "166. 2198108\n",
       "167. 2208417\n",
       "168. 2242967\n",
       "169. 2280028\n",
       "170. 2309474\n",
       "171. 2329618\n",
       "172. 2364792\n",
       "173. 2397900\n",
       "174. 2408417\n",
       "175. 2426064\n",
       "176. 2476720\n",
       "177. 2549353\n",
       "178. 2626665\n",
       "179. 2744899\n",
       "180. 2785210\n",
       "181. 2789600\n",
       "182. 2881582\n",
       "183. 2933847\n",
       "184. 2936069\n",
       "185. 3002697\n",
       "186. 3004569\n",
       "187. 3071054\n",
       "188. 3073296\n",
       "189. 3156273\n",
       "190. 3311157\n",
       "191. 3314976\n",
       "192. 3477091\n",
       "193. 3677232\n",
       "194. 4081287\n",
       "195. 4148832\n",
       "196. 4171758\n",
       "197. 4212917\n",
       "\n",
       "\n"
      ],
      "text/plain": [
       "  [1]       0   37122   39259  121702  195057  219278  236005  256979  272372\n",
       " [10]  279076  286282  287705  300168  314402  316368  339744  379433  391748\n",
       " [19]  429136  429589  433938  457431  466781  466783  471575  482875  485120\n",
       " [28]  499729  567796  577482  578321  616388  630032  632390  661678  682500\n",
       " [37]  727829  730864  732946  745310  755491  757442  785777  789460  828116\n",
       " [46]  834927  848437  862121  874197  880272  889474  896118  900000  906420\n",
       " [55]  909980  912847  923278  930532  957084  959759  962339  963071  972139\n",
       " [64]  974786  981449  990807  995059 1001403 1029542 1051786 1066400 1071535\n",
       " [73] 1080388 1081279 1087721 1088898 1090181 1090536 1102719 1106547 1107822\n",
       " [82] 1119259 1127394 1142531 1158500 1163300 1164470 1173323 1177840 1191750\n",
       " [91] 1196318 1208534 1211117 1235483 1243400 1245881 1265701 1273246 1298888\n",
       "[100] 1313815 1315473 1331775 1341459 1346364 1354076 1369000 1379000 1381828\n",
       "[109] 1389005 1396592 1406541 1413088 1414000 1453916 1465697 1492759 1494762\n",
       "[118] 1499600 1510284 1516410 1547879 1550881 1560635 1566046 1587620 1604646\n",
       "[127] 1607680 1623631 1640105 1657000 1667829 1673923 1674798 1678396 1683046\n",
       "[136] 1692470 1697000 1718975 1726781 1741526 1787700 1800000 1806736 1814971\n",
       "[145] 1822000 1837651 1839044 1853090 1910428 1928666 1961676 1973880 1978748\n",
       "[154] 2005301 2024954 2050169 2063768 2079587 2082141 2093918 2114656 2128389\n",
       "[163] 2147781 2171700 2187357 2198108 2208417 2242967 2280028 2309474 2329618\n",
       "[172] 2364792 2397900 2408417 2426064 2476720 2549353 2626665 2744899 2785210\n",
       "[181] 2789600 2881582 2933847 2936069 3002697 3004569 3071054 3073296 3156273\n",
       "[190] 3311157 3314976 3477091 3677232 4081287 4148832 4171758 4212917"
      ]
     },
     "metadata": {},
     "output_type": "display_data"
    }
   ],
   "source": [
    "sort(unique(vigentes$prima))"
   ]
  },
  {
   "cell_type": "code",
   "execution_count": 80,
   "id": "0488b51a",
   "metadata": {
    "vscode": {
     "languageId": "r"
    }
   },
   "outputs": [
    {
     "data": {
      "text/html": [
       "0.251700680272109"
      ],
      "text/latex": [
       "0.251700680272109"
      ],
      "text/markdown": [
       "0.251700680272109"
      ],
      "text/plain": [
       "[1] 0.2517007"
      ]
     },
     "metadata": {},
     "output_type": "display_data"
    }
   ],
   "source": [
    "nrow(vigentes[vigentes$prima <100000,])/nrow(vigentes)"
   ]
  },
  {
   "cell_type": "markdown",
   "id": "1d4acc0b",
   "metadata": {
    "vscode": {
     "languageId": "r"
    }
   },
   "source": [
    "No vamos a considerar esto como una anomalia pues podrian ser seguros que pagan mensualmente y hasta ahora han pagado la primer cuota"
   ]
  },
  {
   "cell_type": "markdown",
   "id": "98be8041",
   "metadata": {},
   "source": [
    "Nos quedamos solo con las 294 polizas tras eliminar duplicados"
   ]
  },
  {
   "cell_type": "markdown",
   "id": "ce1811dd",
   "metadata": {},
   "source": [
    "## Separacion por cobertura"
   ]
  },
  {
   "cell_type": "code",
   "execution_count": 81,
   "id": "9e857afa",
   "metadata": {
    "vscode": {
     "languageId": "r"
    }
   },
   "outputs": [],
   "source": [
    "ppd <- vigentes[vigentes$ppd == 1,]\n",
    "ppd <- ppd %>% select(-ppd, -pth, -pph, -rc)"
   ]
  },
  {
   "cell_type": "code",
   "execution_count": 82,
   "id": "d704b110",
   "metadata": {
    "vscode": {
     "languageId": "r"
    }
   },
   "outputs": [],
   "source": [
    "pth <- vigentes[vigentes$pth == 1,]\n",
    "pth <- pth %>% select(-ppd, -pth, -pph, -rc)"
   ]
  },
  {
   "cell_type": "code",
   "execution_count": 83,
   "id": "46c3687c",
   "metadata": {
    "vscode": {
     "languageId": "r"
    }
   },
   "outputs": [],
   "source": [
    "pph <- vigentes[vigentes$pph == 1,]\n",
    "pph <- pph %>% select(-ppd, -pth, -pph, -rc)"
   ]
  },
  {
   "cell_type": "code",
   "execution_count": 84,
   "id": "f2e7ae18",
   "metadata": {
    "vscode": {
     "languageId": "r"
    }
   },
   "outputs": [],
   "source": [
    "rc <- vigentes[vigentes$rc == 1,]\n",
    "rc <- rc %>% select(-ppd, -pth, -pph, -rc)"
   ]
  },
  {
   "cell_type": "markdown",
   "id": "5582c386",
   "metadata": {},
   "source": [
    "## Agrupacion por dia"
   ]
  },
  {
   "cell_type": "code",
   "execution_count": 85,
   "id": "2b494adf",
   "metadata": {
    "vscode": {
     "languageId": "r"
    }
   },
   "outputs": [
    {
     "data": {
      "text/html": [
       "117.037396121884"
      ],
      "text/latex": [
       "117.037396121884"
      ],
      "text/markdown": [
       "117.037396121884"
      ],
      "text/plain": [
       "[1] 117.0374"
      ]
     },
     "metadata": {},
     "output_type": "display_data"
    }
   ],
   "source": [
    "mean(vigentes_diarias(ppd)$polizas_activas)"
   ]
  },
  {
   "cell_type": "code",
   "execution_count": 86,
   "id": "93dc9bf7",
   "metadata": {
    "vscode": {
     "languageId": "r"
    }
   },
   "outputs": [
    {
     "data": {
      "text/html": [
       "117.037396121884"
      ],
      "text/latex": [
       "117.037396121884"
      ],
      "text/markdown": [
       "117.037396121884"
      ],
      "text/plain": [
       "[1] 117.0374"
      ]
     },
     "metadata": {},
     "output_type": "display_data"
    }
   ],
   "source": [
    "mean(vigentes_diarias(pph)$polizas_activas)"
   ]
  },
  {
   "cell_type": "code",
   "execution_count": 87,
   "id": "0feba111",
   "metadata": {
    "vscode": {
     "languageId": "r"
    }
   },
   "outputs": [
    {
     "data": {
      "text/html": [
       "117.545706371191"
      ],
      "text/latex": [
       "117.545706371191"
      ],
      "text/markdown": [
       "117.545706371191"
      ],
      "text/plain": [
       "[1] 117.5457"
      ]
     },
     "metadata": {},
     "output_type": "display_data"
    }
   ],
   "source": [
    "mean(vigentes_diarias(pth)$polizas_activas)"
   ]
  },
  {
   "cell_type": "code",
   "execution_count": 88,
   "id": "b36eb566",
   "metadata": {
    "vscode": {
     "languageId": "r"
    }
   },
   "outputs": [
    {
     "data": {
      "text/html": [
       "89.4196675900277"
      ],
      "text/latex": [
       "89.4196675900277"
      ],
      "text/markdown": [
       "89.4196675900277"
      ],
      "text/plain": [
       "[1] 89.41967"
      ]
     },
     "metadata": {},
     "output_type": "display_data"
    }
   ],
   "source": [
    "mean(vigentes_diarias(rc)$polizas_activas)"
   ]
  }
 ],
 "metadata": {
  "kernelspec": {
   "display_name": "R",
   "language": "R",
   "name": "ir"
  },
  "language_info": {
   "codemirror_mode": "r",
   "file_extension": ".r",
   "mimetype": "text/x-r-source",
   "name": "R",
   "pygments_lexer": "r",
   "version": "4.2.3"
  }
 },
 "nbformat": 4,
 "nbformat_minor": 5
}
