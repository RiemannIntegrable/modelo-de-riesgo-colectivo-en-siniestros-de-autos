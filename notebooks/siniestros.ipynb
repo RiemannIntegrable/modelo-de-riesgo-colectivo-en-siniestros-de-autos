{
 "cells": [
  {
   "cell_type": "markdown",
   "id": "4ad00dfc",
   "metadata": {},
   "source": [
    "<div align=\"center\">\n",
    "\n",
    "# **Siniestros**\n",
    "\n",
    "</div>"
   ]
  },
  {
   "cell_type": "markdown",
   "id": "06893579",
   "metadata": {},
   "source": [
    "## Librerias"
   ]
  },
  {
   "cell_type": "code",
   "execution_count": 1,
   "id": "4dfe150b",
   "metadata": {
    "vscode": {
     "languageId": "r"
    }
   },
   "outputs": [
    {
     "name": "stderr",
     "output_type": "stream",
     "text": [
      "\n",
      "Attaching package: ‘lubridate’\n",
      "\n",
      "\n",
      "The following objects are masked from ‘package:base’:\n",
      "\n",
      "    date, intersect, setdiff, union\n",
      "\n",
      "\n",
      "\n",
      "Attaching package: ‘dplyr’\n",
      "\n",
      "\n",
      "The following objects are masked from ‘package:stats’:\n",
      "\n",
      "    filter, lag\n",
      "\n",
      "\n",
      "The following objects are masked from ‘package:base’:\n",
      "\n",
      "    intersect, setdiff, setequal, union\n",
      "\n",
      "\n"
     ]
    }
   ],
   "source": [
    "library(readxl)\n",
    "library(lubridate)\n",
    "library(dplyr)"
   ]
  },
  {
   "cell_type": "code",
   "execution_count": 2,
   "id": "d90bbb11",
   "metadata": {
    "vscode": {
     "languageId": "r"
    }
   },
   "outputs": [],
   "source": [
    "source(\"../src/data/ajuste_dinero_ipc.R\")"
   ]
  },
  {
   "cell_type": "markdown",
   "id": "55566fe4",
   "metadata": {},
   "source": [
    "## Data"
   ]
  },
  {
   "cell_type": "code",
   "execution_count": 3,
   "id": "f6f41011",
   "metadata": {
    "vscode": {
     "languageId": "r"
    }
   },
   "outputs": [],
   "source": [
    "siniestros <- read_excel(\"../data/input/Siniestros_Hist.xlsx\")"
   ]
  },
  {
   "cell_type": "code",
   "execution_count": 4,
   "id": "30fe76f9",
   "metadata": {
    "vscode": {
     "languageId": "r"
    }
   },
   "outputs": [
    {
     "data": {
      "text/html": [
       "<style>\n",
       ".list-inline {list-style: none; margin:0; padding: 0}\n",
       ".list-inline>li {display: inline-block}\n",
       ".list-inline>li:not(:last-child)::after {content: \"\\00b7\"; padding: 0 .5ex}\n",
       "</style>\n",
       "<ol class=list-inline><li>'FECHASIN'</li><li>'VLRPRIMAPAG'</li><li>'VLRPRISUSCR'</li><li>'VLRASEGU'</li><li>'VLRASEGU_ORIG'</li><li>'VLRPAGADO.'</li><li>'VLRSININCUR'</li><li>'VLRDEDUCIBLE'</li><li>'VLRRECOBRO'</li><li>'VLRRSVACONSTIAMP'</li><li>'VLRRSVAPAGAMP'</li><li>'FECPAGOAMP'</li><li>'ESTADO_FINAL'</li><li>'COBERTURA_FINAL'</li></ol>\n"
      ],
      "text/latex": [
       "\\begin{enumerate*}\n",
       "\\item 'FECHASIN'\n",
       "\\item 'VLRPRIMAPAG'\n",
       "\\item 'VLRPRISUSCR'\n",
       "\\item 'VLRASEGU'\n",
       "\\item 'VLRASEGU\\_ORIG'\n",
       "\\item 'VLRPAGADO.'\n",
       "\\item 'VLRSININCUR'\n",
       "\\item 'VLRDEDUCIBLE'\n",
       "\\item 'VLRRECOBRO'\n",
       "\\item 'VLRRSVACONSTIAMP'\n",
       "\\item 'VLRRSVAPAGAMP'\n",
       "\\item 'FECPAGOAMP'\n",
       "\\item 'ESTADO\\_FINAL'\n",
       "\\item 'COBERTURA\\_FINAL'\n",
       "\\end{enumerate*}\n"
      ],
      "text/markdown": [
       "1. 'FECHASIN'\n",
       "2. 'VLRPRIMAPAG'\n",
       "3. 'VLRPRISUSCR'\n",
       "4. 'VLRASEGU'\n",
       "5. 'VLRASEGU_ORIG'\n",
       "6. 'VLRPAGADO.'\n",
       "7. 'VLRSININCUR'\n",
       "8. 'VLRDEDUCIBLE'\n",
       "9. 'VLRRECOBRO'\n",
       "10. 'VLRRSVACONSTIAMP'\n",
       "11. 'VLRRSVAPAGAMP'\n",
       "12. 'FECPAGOAMP'\n",
       "13. 'ESTADO_FINAL'\n",
       "14. 'COBERTURA_FINAL'\n",
       "\n",
       "\n"
      ],
      "text/plain": [
       " [1] \"FECHASIN\"         \"VLRPRIMAPAG\"      \"VLRPRISUSCR\"      \"VLRASEGU\"        \n",
       " [5] \"VLRASEGU_ORIG\"    \"VLRPAGADO.\"       \"VLRSININCUR\"      \"VLRDEDUCIBLE\"    \n",
       " [9] \"VLRRECOBRO\"       \"VLRRSVACONSTIAMP\" \"VLRRSVAPAGAMP\"    \"FECPAGOAMP\"      \n",
       "[13] \"ESTADO_FINAL\"     \"COBERTURA_FINAL\" "
      ]
     },
     "metadata": {},
     "output_type": "display_data"
    }
   ],
   "source": [
    "colnames(siniestros)"
   ]
  },
  {
   "cell_type": "code",
   "execution_count": 5,
   "id": "391a83ee",
   "metadata": {
    "vscode": {
     "languageId": "r"
    }
   },
   "outputs": [],
   "source": [
    "names(siniestros) <- c(\n",
    "  \"Fecha\",\n",
    "  \"Prima_efectivamente_pagada_hasta_fecha_siniestro\",\n",
    "  \"Prima_suscrita_incluida_cobertura_responsabilidad_civil\",\n",
    "  \"Asegurado_otras_coberturas_distintas_responsabilidad_civil\",\n",
    "  \"Asegurado_original\",\n",
    "  \"Efectivamente_pagado_por_siniestro\",\n",
    "  \"Siniestro_incurrido\",\n",
    "  \"Deducible\",\n",
    "  \"Recobro_obtenido\",\n",
    "  \"Reserva_constituida_para_amparo\",\n",
    "  \"Reserva_pagada_para_amparo\",\n",
    "  \"Fecha_pago_amparo\",\n",
    "  \"Estado_final_siniestro\",\n",
    "  \"Cobertura\"\n",
    ")"
   ]
  },
  {
   "cell_type": "code",
   "execution_count": 6,
   "id": "5df7e9cd",
   "metadata": {
    "vscode": {
     "languageId": "r"
    }
   },
   "outputs": [
    {
     "data": {
      "text/html": [
       "<style>\n",
       ".list-inline {list-style: none; margin:0; padding: 0}\n",
       ".list-inline>li {display: inline-block}\n",
       ".list-inline>li:not(:last-child)::after {content: \"\\00b7\"; padding: 0 .5ex}\n",
       "</style>\n",
       "<ol class=list-inline><li>'PTH'</li><li>'PPD'</li><li>'RC BIENES'</li><li>'PPH'</li><li>'RC PERS'</li></ol>\n"
      ],
      "text/latex": [
       "\\begin{enumerate*}\n",
       "\\item 'PTH'\n",
       "\\item 'PPD'\n",
       "\\item 'RC BIENES'\n",
       "\\item 'PPH'\n",
       "\\item 'RC PERS'\n",
       "\\end{enumerate*}\n"
      ],
      "text/markdown": [
       "1. 'PTH'\n",
       "2. 'PPD'\n",
       "3. 'RC BIENES'\n",
       "4. 'PPH'\n",
       "5. 'RC PERS'\n",
       "\n",
       "\n"
      ],
      "text/plain": [
       "[1] \"PTH\"       \"PPD\"       \"RC BIENES\" \"PPH\"       \"RC PERS\"  "
      ]
     },
     "metadata": {},
     "output_type": "display_data"
    }
   ],
   "source": [
    "unique(siniestros$Cobertura)"
   ]
  },
  {
   "cell_type": "code",
   "execution_count": 7,
   "id": "66a5eb21",
   "metadata": {
    "vscode": {
     "languageId": "r"
    }
   },
   "outputs": [],
   "source": [
    "siniestros$Cobertura <- factor(siniestros$Cobertura,\n",
    "                               levels = c(\"PTH\", \"PPD\", \"RC BIENES\", \"PPH\", \"RC PERS\"),\n",
    "                               labels = c(\"pth\", \n",
    "                                          \"ppd\",\n",
    "                                          \"rc\",\n",
    "                                          \"pph\",\n",
    "                                          \"rc\"))"
   ]
  },
  {
   "cell_type": "markdown",
   "id": "6ffbda1a",
   "metadata": {
    "vscode": {
     "languageId": "r"
    }
   },
   "source": [
    "Juntamos ambas responsabilidades civiles para que concuerde con las coberturas de polizas_v2.txt"
   ]
  },
  {
   "cell_type": "markdown",
   "id": "6aabde03",
   "metadata": {},
   "source": [
    "## Fechas"
   ]
  },
  {
   "cell_type": "code",
   "execution_count": 8,
   "id": "10580913",
   "metadata": {
    "vscode": {
     "languageId": "r"
    }
   },
   "outputs": [],
   "source": [
    "siniestros$Fecha <- as.Date(siniestros$Fecha)"
   ]
  },
  {
   "cell_type": "code",
   "execution_count": 9,
   "id": "31efb1d6",
   "metadata": {
    "vscode": {
     "languageId": "r"
    }
   },
   "outputs": [
    {
     "data": {
      "text/html": [
       "<style>\n",
       ".list-inline {list-style: none; margin:0; padding: 0}\n",
       ".list-inline>li {display: inline-block}\n",
       ".list-inline>li:not(:last-child)::after {content: \"\\00b7\"; padding: 0 .5ex}\n",
       "</style>\n",
       "<ol class=list-inline><li>'2017'</li><li>'2018'</li></ol>\n"
      ],
      "text/latex": [
       "\\begin{enumerate*}\n",
       "\\item '2017'\n",
       "\\item '2018'\n",
       "\\end{enumerate*}\n"
      ],
      "text/markdown": [
       "1. '2017'\n",
       "2. '2018'\n",
       "\n",
       "\n"
      ],
      "text/plain": [
       "[1] \"2017\" \"2018\""
      ]
     },
     "metadata": {},
     "output_type": "display_data"
    }
   ],
   "source": [
    "unique(format(siniestros$Fecha, \"%Y\"))"
   ]
  },
  {
   "cell_type": "code",
   "execution_count": 10,
   "id": "325b3142",
   "metadata": {
    "vscode": {
     "languageId": "r"
    }
   },
   "outputs": [
    {
     "data": {
      "text/html": [
       "'01'"
      ],
      "text/latex": [
       "'01'"
      ],
      "text/markdown": [
       "'01'"
      ],
      "text/plain": [
       "[1] \"01\""
      ]
     },
     "metadata": {},
     "output_type": "display_data"
    }
   ],
   "source": [
    "unique(format(siniestros$Fecha[year(siniestros$Fecha) == 2017], \"%m\"))"
   ]
  },
  {
   "cell_type": "code",
   "execution_count": 11,
   "metadata": {
    "vscode": {
     "languageId": "r"
    }
   },
   "outputs": [
    {
     "data": {
      "text/html": [
       "<style>\n",
       ".list-inline {list-style: none; margin:0; padding: 0}\n",
       ".list-inline>li {display: inline-block}\n",
       ".list-inline>li:not(:last-child)::after {content: \"\\00b7\"; padding: 0 .5ex}\n",
       "</style>\n",
       "<ol class=list-inline><li>'01'</li><li>'02'</li><li>'03'</li><li>'04'</li><li>'05'</li><li>'06'</li><li>'07'</li><li>'08'</li><li>'09'</li><li>'10'</li><li>'11'</li><li>'12'</li></ol>\n"
      ],
      "text/latex": [
       "\\begin{enumerate*}\n",
       "\\item '01'\n",
       "\\item '02'\n",
       "\\item '03'\n",
       "\\item '04'\n",
       "\\item '05'\n",
       "\\item '06'\n",
       "\\item '07'\n",
       "\\item '08'\n",
       "\\item '09'\n",
       "\\item '10'\n",
       "\\item '11'\n",
       "\\item '12'\n",
       "\\end{enumerate*}\n"
      ],
      "text/markdown": [
       "1. '01'\n",
       "2. '02'\n",
       "3. '03'\n",
       "4. '04'\n",
       "5. '05'\n",
       "6. '06'\n",
       "7. '07'\n",
       "8. '08'\n",
       "9. '09'\n",
       "10. '10'\n",
       "11. '11'\n",
       "12. '12'\n",
       "\n",
       "\n"
      ],
      "text/plain": [
       " [1] \"01\" \"02\" \"03\" \"04\" \"05\" \"06\" \"07\" \"08\" \"09\" \"10\" \"11\" \"12\""
      ]
     },
     "metadata": {},
     "output_type": "display_data"
    }
   ],
   "source": [
    "unique(format(siniestros$Fecha[year(siniestros$Fecha) == 2018], \"%m\"))"
   ]
  },
  {
   "cell_type": "markdown",
   "id": "57689df4",
   "metadata": {},
   "source": [
    "Vamos a ignorar 2017 porque solo hay datos de enero"
   ]
  },
  {
   "cell_type": "code",
   "execution_count": 12,
   "id": "ca0dca5d",
   "metadata": {
    "vscode": {
     "languageId": "r"
    }
   },
   "outputs": [],
   "source": [
    "siniestros <- siniestros[year(siniestros$Fecha) == 2018, ]"
   ]
  },
  {
   "cell_type": "markdown",
   "id": "c974faa1",
   "metadata": {},
   "source": [
    "## Nulos"
   ]
  },
  {
   "cell_type": "code",
   "execution_count": 13,
   "id": "a2e3e5f8",
   "metadata": {
    "vscode": {
     "languageId": "r"
    }
   },
   "outputs": [
    {
     "data": {
      "text/html": [
       "5380"
      ],
      "text/latex": [
       "5380"
      ],
      "text/markdown": [
       "5380"
      ],
      "text/plain": [
       "[1] 5380"
      ]
     },
     "metadata": {},
     "output_type": "display_data"
    }
   ],
   "source": [
    "sum(is.na(siniestros))"
   ]
  },
  {
   "cell_type": "code",
   "execution_count": 14,
   "id": "5ceecdbd",
   "metadata": {
    "vscode": {
     "languageId": "r"
    }
   },
   "outputs": [
    {
     "data": {
      "text/html": [
       "<style>\n",
       ".dl-inline {width: auto; margin:0; padding: 0}\n",
       ".dl-inline>dt, .dl-inline>dd {float: none; width: auto; display: inline-block}\n",
       ".dl-inline>dt::after {content: \":\\0020\"; padding-right: .5ex}\n",
       ".dl-inline>dt:not(:first-of-type) {padding-left: .5ex}\n",
       "</style><dl class=dl-inline><dt>Fecha</dt><dd>0</dd><dt>Prima_efectivamente_pagada_hasta_fecha_siniestro</dt><dd>0</dd><dt>Prima_suscrita_incluida_cobertura_responsabilidad_civil</dt><dd>0</dd><dt>Asegurado_otras_coberturas_distintas_responsabilidad_civil</dt><dd>0</dd><dt>Asegurado_original</dt><dd>0</dd><dt>Efectivamente_pagado_por_siniestro</dt><dd>0</dd><dt>Siniestro_incurrido</dt><dd>0</dd><dt>Deducible</dt><dd>0</dd><dt>Recobro_obtenido</dt><dd>0</dd><dt>Reserva_constituida_para_amparo</dt><dd>0</dd><dt>Reserva_pagada_para_amparo</dt><dd>0</dd><dt>Fecha_pago_amparo</dt><dd>5380</dd><dt>Estado_final_siniestro</dt><dd>0</dd><dt>Cobertura</dt><dd>0</dd></dl>\n"
      ],
      "text/latex": [
       "\\begin{description*}\n",
       "\\item[Fecha] 0\n",
       "\\item[Prima\\textbackslash{}\\_efectivamente\\textbackslash{}\\_pagada\\textbackslash{}\\_hasta\\textbackslash{}\\_fecha\\textbackslash{}\\_siniestro] 0\n",
       "\\item[Prima\\textbackslash{}\\_suscrita\\textbackslash{}\\_incluida\\textbackslash{}\\_cobertura\\textbackslash{}\\_responsabilidad\\textbackslash{}\\_civil] 0\n",
       "\\item[Asegurado\\textbackslash{}\\_otras\\textbackslash{}\\_coberturas\\textbackslash{}\\_distintas\\textbackslash{}\\_responsabilidad\\textbackslash{}\\_civil] 0\n",
       "\\item[Asegurado\\textbackslash{}\\_original] 0\n",
       "\\item[Efectivamente\\textbackslash{}\\_pagado\\textbackslash{}\\_por\\textbackslash{}\\_siniestro] 0\n",
       "\\item[Siniestro\\textbackslash{}\\_incurrido] 0\n",
       "\\item[Deducible] 0\n",
       "\\item[Recobro\\textbackslash{}\\_obtenido] 0\n",
       "\\item[Reserva\\textbackslash{}\\_constituida\\textbackslash{}\\_para\\textbackslash{}\\_amparo] 0\n",
       "\\item[Reserva\\textbackslash{}\\_pagada\\textbackslash{}\\_para\\textbackslash{}\\_amparo] 0\n",
       "\\item[Fecha\\textbackslash{}\\_pago\\textbackslash{}\\_amparo] 5380\n",
       "\\item[Estado\\textbackslash{}\\_final\\textbackslash{}\\_siniestro] 0\n",
       "\\item[Cobertura] 0\n",
       "\\end{description*}\n"
      ],
      "text/markdown": [
       "Fecha\n",
       ":   0Prima_efectivamente_pagada_hasta_fecha_siniestro\n",
       ":   0Prima_suscrita_incluida_cobertura_responsabilidad_civil\n",
       ":   0Asegurado_otras_coberturas_distintas_responsabilidad_civil\n",
       ":   0Asegurado_original\n",
       ":   0Efectivamente_pagado_por_siniestro\n",
       ":   0Siniestro_incurrido\n",
       ":   0Deducible\n",
       ":   0Recobro_obtenido\n",
       ":   0Reserva_constituida_para_amparo\n",
       ":   0Reserva_pagada_para_amparo\n",
       ":   0Fecha_pago_amparo\n",
       ":   5380Estado_final_siniestro\n",
       ":   0Cobertura\n",
       ":   0\n",
       "\n"
      ],
      "text/plain": [
       "                                                     Fecha \n",
       "                                                         0 \n",
       "          Prima_efectivamente_pagada_hasta_fecha_siniestro \n",
       "                                                         0 \n",
       "   Prima_suscrita_incluida_cobertura_responsabilidad_civil \n",
       "                                                         0 \n",
       "Asegurado_otras_coberturas_distintas_responsabilidad_civil \n",
       "                                                         0 \n",
       "                                        Asegurado_original \n",
       "                                                         0 \n",
       "                        Efectivamente_pagado_por_siniestro \n",
       "                                                         0 \n",
       "                                       Siniestro_incurrido \n",
       "                                                         0 \n",
       "                                                 Deducible \n",
       "                                                         0 \n",
       "                                          Recobro_obtenido \n",
       "                                                         0 \n",
       "                           Reserva_constituida_para_amparo \n",
       "                                                         0 \n",
       "                                Reserva_pagada_para_amparo \n",
       "                                                         0 \n",
       "                                         Fecha_pago_amparo \n",
       "                                                      5380 \n",
       "                                    Estado_final_siniestro \n",
       "                                                         0 \n",
       "                                                 Cobertura \n",
       "                                                         0 "
      ]
     },
     "metadata": {},
     "output_type": "display_data"
    }
   ],
   "source": [
    "colSums(is.na(siniestros))"
   ]
  },
  {
   "cell_type": "markdown",
   "id": "ef2184df",
   "metadata": {},
   "source": [
    "Fecha_pago_amparo no es relevante para la modelacion que estamos llevando a cabo"
   ]
  },
  {
   "cell_type": "markdown",
   "id": "bb9b68a1",
   "metadata": {},
   "source": [
    "## Eliminando duplicados"
   ]
  },
  {
   "cell_type": "code",
   "execution_count": 15,
   "id": "80be27de",
   "metadata": {
    "vscode": {
     "languageId": "r"
    }
   },
   "outputs": [],
   "source": [
    "siniestros <- unique(siniestros)"
   ]
  },
  {
   "cell_type": "markdown",
   "id": "3a99f2f9",
   "metadata": {},
   "source": [
    "## Seleccion de columnas"
   ]
  },
  {
   "cell_type": "markdown",
   "id": "99a754b2",
   "metadata": {},
   "source": [
    "Vamos a seleccionar Siniestro_incurrido como la severidad, pues es el valor neto de los siniestros sin haber descontado el pago del deducible u otras posibles alteraciones del valor de cada accidente"
   ]
  },
  {
   "cell_type": "code",
   "execution_count": 16,
   "id": "3772dd95",
   "metadata": {
    "vscode": {
     "languageId": "r"
    }
   },
   "outputs": [],
   "source": [
    "siniestros <- siniestros[, c(\"Fecha\", \"Siniestro_incurrido\", \"Cobertura\")]\n",
    "names(siniestros) <- c(\"fecha\", \"severidad\", \"cobertura\")\n",
    "siniestros$semana <- week(siniestros$fecha)\n",
    "siniestros$dia <- yday(siniestros$fecha)"
   ]
  },
  {
   "cell_type": "markdown",
   "id": "bc967a18",
   "metadata": {},
   "source": [
    "## Llevando la severidad a enero de 2019"
   ]
  },
  {
   "cell_type": "code",
   "execution_count": 17,
   "id": "ede16477",
   "metadata": {
    "vscode": {
     "languageId": "r"
    }
   },
   "outputs": [],
   "source": [
    "siniestros <- ajuste_dinero_ipc(siniestros, \"fecha\", \"severidad\")"
   ]
  },
  {
   "cell_type": "markdown",
   "id": "709171a6",
   "metadata": {},
   "source": [
    "## Segmentando por cobertura y eliminado valores extraños"
   ]
  },
  {
   "cell_type": "markdown",
   "id": "666353a0",
   "metadata": {},
   "source": [
    "- pph"
   ]
  },
  {
   "cell_type": "code",
   "execution_count": 18,
   "id": "82de5899",
   "metadata": {
    "vscode": {
     "languageId": "r"
    }
   },
   "outputs": [
    {
     "data": {
      "text/html": [
       "<style>\n",
       ".list-inline {list-style: none; margin:0; padding: 0}\n",
       ".list-inline>li {display: inline-block}\n",
       ".list-inline>li:not(:last-child)::after {content: \"\\00b7\"; padding: 0 .5ex}\n",
       "</style>\n",
       "<ol class=list-inline><li>0</li><li>35245.6054352819</li><li>41120.3958103117</li><li>48747.6933688893</li><li>64963.4196164623</li><li>84273.5079777142</li><li>89809.1325625283</li><li>115978.220897504</li><li>116139.551390887</li><li>142873.710390385</li><li>148001.553539278</li><li>158309.194135091</li><li>161411.75583011</li><li>162588.426921526</li><li>167265.748677983</li><li>171020.880099705</li><li>173384.719489746</li><li>178223.05210577</li><li>179107.023986258</li><li>194332.184162566</li></ol>\n"
      ],
      "text/latex": [
       "\\begin{enumerate*}\n",
       "\\item 0\n",
       "\\item 35245.6054352819\n",
       "\\item 41120.3958103117\n",
       "\\item 48747.6933688893\n",
       "\\item 64963.4196164623\n",
       "\\item 84273.5079777142\n",
       "\\item 89809.1325625283\n",
       "\\item 115978.220897504\n",
       "\\item 116139.551390887\n",
       "\\item 142873.710390385\n",
       "\\item 148001.553539278\n",
       "\\item 158309.194135091\n",
       "\\item 161411.75583011\n",
       "\\item 162588.426921526\n",
       "\\item 167265.748677983\n",
       "\\item 171020.880099705\n",
       "\\item 173384.719489746\n",
       "\\item 178223.05210577\n",
       "\\item 179107.023986258\n",
       "\\item 194332.184162566\n",
       "\\end{enumerate*}\n"
      ],
      "text/markdown": [
       "1. 0\n",
       "2. 35245.6054352819\n",
       "3. 41120.3958103117\n",
       "4. 48747.6933688893\n",
       "5. 64963.4196164623\n",
       "6. 84273.5079777142\n",
       "7. 89809.1325625283\n",
       "8. 115978.220897504\n",
       "9. 116139.551390887\n",
       "10. 142873.710390385\n",
       "11. 148001.553539278\n",
       "12. 158309.194135091\n",
       "13. 161411.75583011\n",
       "14. 162588.426921526\n",
       "15. 167265.748677983\n",
       "16. 171020.880099705\n",
       "17. 173384.719489746\n",
       "18. 178223.05210577\n",
       "19. 179107.023986258\n",
       "20. 194332.184162566\n",
       "\n",
       "\n"
      ],
      "text/plain": [
       " [1]      0.00  35245.61  41120.40  48747.69  64963.42  84273.51  89809.13\n",
       " [8] 115978.22 116139.55 142873.71 148001.55 158309.19 161411.76 162588.43\n",
       "[15] 167265.75 171020.88 173384.72 178223.05 179107.02 194332.18"
      ]
     },
     "metadata": {},
     "output_type": "display_data"
    }
   ],
   "source": [
    "siniestros_pph <- siniestros[(siniestros$cobertura) == \"pph\", ]\n",
    "siniestros_pph$cobertura <- NULL\n",
    "head(sort(unique(siniestros_pph$severidad)),20)"
   ]
  },
  {
   "cell_type": "code",
   "execution_count": 19,
   "id": "7c79bb7c",
   "metadata": {
    "vscode": {
     "languageId": "r"
    }
   },
   "outputs": [
    {
     "data": {
      "text/html": [
       "14.8849797023004"
      ],
      "text/latex": [
       "14.8849797023004"
      ],
      "text/markdown": [
       "14.8849797023004"
      ],
      "text/plain": [
       "[1] 14.88498"
      ]
     },
     "metadata": {},
     "output_type": "display_data"
    }
   ],
   "source": [
    "nrow(siniestros_pph[(siniestros_pph$severidad < 70000),])*100/nrow(siniestros_pph)"
   ]
  },
  {
   "cell_type": "code",
   "execution_count": 20,
   "id": "5c1250be",
   "metadata": {
    "vscode": {
     "languageId": "r"
    }
   },
   "outputs": [],
   "source": [
    "siniestros_pph <- siniestros_pph[(siniestros_pph$severidad >= 70000),]"
   ]
  },
  {
   "cell_type": "code",
   "execution_count": 21,
   "id": "6b82ada7",
   "metadata": {
    "vscode": {
     "languageId": "r"
    }
   },
   "outputs": [],
   "source": [
    "write.csv(siniestros_pph$severidad, \"../data/processed/severidad_pph.csv\")"
   ]
  },
  {
   "cell_type": "markdown",
   "id": "880da361",
   "metadata": {},
   "source": [
    "- pth"
   ]
  },
  {
   "cell_type": "code",
   "execution_count": 22,
   "id": "a596a068",
   "metadata": {
    "vscode": {
     "languageId": "r"
    }
   },
   "outputs": [
    {
     "data": {
      "text/html": [
       "<style>\n",
       ".list-inline {list-style: none; margin:0; padding: 0}\n",
       ".list-inline>li {display: inline-block}\n",
       ".list-inline>li:not(:last-child)::after {content: \"\\00b7\"; padding: 0 .5ex}\n",
       "</style>\n",
       "<ol class=list-inline><li>0</li><li>98013.537101758</li><li>116282.09484196</li><li>117180.518084</li><li>160672.576</li><li>168071.227342079</li><li>201423.281695841</li><li>279360.215965396</li><li>300007.33</li><li>312625.6521412</li><li>347420.967862064</li><li>347837.873023498</li><li>347906.76231425</li><li>348776.529220036</li><li>352879.001618042</li><li>353715.490306925</li><li>355943.897895858</li><li>378353.919363093</li><li>382935.465593149</li><li>385347.959026385</li></ol>\n"
      ],
      "text/latex": [
       "\\begin{enumerate*}\n",
       "\\item 0\n",
       "\\item 98013.537101758\n",
       "\\item 116282.09484196\n",
       "\\item 117180.518084\n",
       "\\item 160672.576\n",
       "\\item 168071.227342079\n",
       "\\item 201423.281695841\n",
       "\\item 279360.215965396\n",
       "\\item 300007.33\n",
       "\\item 312625.6521412\n",
       "\\item 347420.967862064\n",
       "\\item 347837.873023498\n",
       "\\item 347906.76231425\n",
       "\\item 348776.529220036\n",
       "\\item 352879.001618042\n",
       "\\item 353715.490306925\n",
       "\\item 355943.897895858\n",
       "\\item 378353.919363093\n",
       "\\item 382935.465593149\n",
       "\\item 385347.959026385\n",
       "\\end{enumerate*}\n"
      ],
      "text/markdown": [
       "1. 0\n",
       "2. 98013.537101758\n",
       "3. 116282.09484196\n",
       "4. 117180.518084\n",
       "5. 160672.576\n",
       "6. 168071.227342079\n",
       "7. 201423.281695841\n",
       "8. 279360.215965396\n",
       "9. 300007.33\n",
       "10. 312625.6521412\n",
       "11. 347420.967862064\n",
       "12. 347837.873023498\n",
       "13. 347906.76231425\n",
       "14. 348776.529220036\n",
       "15. 352879.001618042\n",
       "16. 353715.490306925\n",
       "17. 355943.897895858\n",
       "18. 378353.919363093\n",
       "19. 382935.465593149\n",
       "20. 385347.959026385\n",
       "\n",
       "\n"
      ],
      "text/plain": [
       " [1]      0.00  98013.54 116282.09 117180.52 160672.58 168071.23 201423.28\n",
       " [8] 279360.22 300007.33 312625.65 347420.97 347837.87 347906.76 348776.53\n",
       "[15] 352879.00 353715.49 355943.90 378353.92 382935.47 385347.96"
      ]
     },
     "metadata": {},
     "output_type": "display_data"
    }
   ],
   "source": [
    "siniestros_pth <- siniestros[(siniestros$cobertura) == \"pth\", ]\n",
    "siniestros_pth$cobertura <- NULL\n",
    "head(sort(unique(siniestros_pth$severidad)),20)"
   ]
  },
  {
   "cell_type": "code",
   "execution_count": 23,
   "id": "189c0f5a",
   "metadata": {
    "vscode": {
     "languageId": "r"
    }
   },
   "outputs": [
    {
     "data": {
      "text/html": [
       "21.608832807571"
      ],
      "text/latex": [
       "21.608832807571"
      ],
      "text/markdown": [
       "21.608832807571"
      ],
      "text/plain": [
       "[1] 21.60883"
      ]
     },
     "metadata": {},
     "output_type": "display_data"
    }
   ],
   "source": [
    "nrow(siniestros_pth[(siniestros_pth$severidad < 3000000),])*100/nrow(siniestros_pth)"
   ]
  },
  {
   "cell_type": "code",
   "execution_count": 24,
   "id": "0a6b63ba",
   "metadata": {
    "vscode": {
     "languageId": "r"
    }
   },
   "outputs": [],
   "source": [
    "siniestros_pth <- siniestros_pth[(siniestros_pth$severidad >= 3000000),]"
   ]
  },
  {
   "cell_type": "code",
   "execution_count": 25,
   "id": "0c4bf916",
   "metadata": {
    "vscode": {
     "languageId": "r"
    }
   },
   "outputs": [],
   "source": [
    "write.csv(siniestros_pth$severidad, \"../data/processed/severidad_pth.csv\")"
   ]
  },
  {
   "cell_type": "markdown",
   "id": "0c426078",
   "metadata": {},
   "source": [
    "- ppd"
   ]
  },
  {
   "cell_type": "code",
   "execution_count": 26,
   "id": "9dff3985",
   "metadata": {
    "vscode": {
     "languageId": "r"
    }
   },
   "outputs": [
    {
     "data": {
      "text/html": [
       "<style>\n",
       ".list-inline {list-style: none; margin:0; padding: 0}\n",
       ".list-inline>li {display: inline-block}\n",
       ".list-inline>li:not(:last-child)::after {content: \"\\00b7\"; padding: 0 .5ex}\n",
       "</style>\n",
       "<ol class=list-inline><li>0</li><li>1724.4911730326</li><li>3430.26</li><li>3941.68025341716</li><li>5907.67</li><li>9412.64266504699</li><li>14352.0931086652</li><li>14636.9964286235</li><li>16161.2094890089</li><li>20491.29</li><li>23296.2701869231</li><li>24189.5117569109</li><li>27606.2124405921</li><li>33332.9150032949</li><li>37942.1364075615</li><li>39237.075970492</li><li>43948.8933550627</li><li>44300.7783179889</li><li>45189.162</li><li>46270.6892772</li></ol>\n"
      ],
      "text/latex": [
       "\\begin{enumerate*}\n",
       "\\item 0\n",
       "\\item 1724.4911730326\n",
       "\\item 3430.26\n",
       "\\item 3941.68025341716\n",
       "\\item 5907.67\n",
       "\\item 9412.64266504699\n",
       "\\item 14352.0931086652\n",
       "\\item 14636.9964286235\n",
       "\\item 16161.2094890089\n",
       "\\item 20491.29\n",
       "\\item 23296.2701869231\n",
       "\\item 24189.5117569109\n",
       "\\item 27606.2124405921\n",
       "\\item 33332.9150032949\n",
       "\\item 37942.1364075615\n",
       "\\item 39237.075970492\n",
       "\\item 43948.8933550627\n",
       "\\item 44300.7783179889\n",
       "\\item 45189.162\n",
       "\\item 46270.6892772\n",
       "\\end{enumerate*}\n"
      ],
      "text/markdown": [
       "1. 0\n",
       "2. 1724.4911730326\n",
       "3. 3430.26\n",
       "4. 3941.68025341716\n",
       "5. 5907.67\n",
       "6. 9412.64266504699\n",
       "7. 14352.0931086652\n",
       "8. 14636.9964286235\n",
       "9. 16161.2094890089\n",
       "10. 20491.29\n",
       "11. 23296.2701869231\n",
       "12. 24189.5117569109\n",
       "13. 27606.2124405921\n",
       "14. 33332.9150032949\n",
       "15. 37942.1364075615\n",
       "16. 39237.075970492\n",
       "17. 43948.8933550627\n",
       "18. 44300.7783179889\n",
       "19. 45189.162\n",
       "20. 46270.6892772\n",
       "\n",
       "\n"
      ],
      "text/plain": [
       " [1]     0.000  1724.491  3430.260  3941.680  5907.670  9412.643 14352.093\n",
       " [8] 14636.996 16161.209 20491.290 23296.270 24189.512 27606.212 33332.915\n",
       "[15] 37942.136 39237.076 43948.893 44300.778 45189.162 46270.689"
      ]
     },
     "metadata": {},
     "output_type": "display_data"
    }
   ],
   "source": [
    "siniestros_ppd <- siniestros[(siniestros$cobertura) == \"ppd\", ]\n",
    "siniestros_ppd$cobertura <- NULL\n",
    "head(sort(unique(siniestros_ppd$severidad)) ,20)"
   ]
  },
  {
   "cell_type": "code",
   "execution_count": 27,
   "id": "57545e88",
   "metadata": {
    "vscode": {
     "languageId": "r"
    }
   },
   "outputs": [
    {
     "data": {
      "text/html": [
       "8.92186553603876"
      ],
      "text/latex": [
       "8.92186553603876"
      ],
      "text/markdown": [
       "8.92186553603876"
      ],
      "text/plain": [
       "[1] 8.921866"
      ]
     },
     "metadata": {},
     "output_type": "display_data"
    }
   ],
   "source": [
    "nrow(siniestros_ppd[(siniestros_ppd$severidad < 70000),])*100/nrow(siniestros_ppd)"
   ]
  },
  {
   "cell_type": "code",
   "execution_count": 28,
   "id": "8d7a57e8",
   "metadata": {
    "vscode": {
     "languageId": "r"
    }
   },
   "outputs": [],
   "source": [
    "siniestros_ppd <- siniestros_ppd[(siniestros_ppd$severidad >= 70000),]"
   ]
  },
  {
   "cell_type": "code",
   "execution_count": 29,
   "id": "2ec79277",
   "metadata": {
    "vscode": {
     "languageId": "r"
    }
   },
   "outputs": [],
   "source": [
    "write.csv(siniestros_ppd$severidad, \"../data/processed/severidad_ppd.csv\")"
   ]
  },
  {
   "cell_type": "markdown",
   "id": "360f6795",
   "metadata": {},
   "source": [
    "- rh"
   ]
  },
  {
   "cell_type": "code",
   "execution_count": 30,
   "id": "ed1e567f",
   "metadata": {
    "vscode": {
     "languageId": "r"
    }
   },
   "outputs": [
    {
     "data": {
      "text/html": [
       "<style>\n",
       ".list-inline {list-style: none; margin:0; padding: 0}\n",
       ".list-inline>li {display: inline-block}\n",
       ".list-inline>li:not(:last-child)::after {content: \"\\00b7\"; padding: 0 .5ex}\n",
       "</style>\n",
       "<ol class=list-inline><li>0</li><li>19867.9971916387</li><li>22486.9697388611</li><li>30910.3959667422</li><li>69359.5374604198</li><li>73845.875</li><li>75315.27</li><li>75526.2973613183</li><li>75616.9289181518</li><li>76352.568569013</li><li>83579.593692632</li><li>89083.771246324</li><li>100785.390511097</li><li>107481.001757476</li><li>117587.332125511</li><li>122164.109710421</li><li>122856.110374411</li><li>123784.912639014</li><li>123939.156655557</li><li>127099.539742722</li></ol>\n"
      ],
      "text/latex": [
       "\\begin{enumerate*}\n",
       "\\item 0\n",
       "\\item 19867.9971916387\n",
       "\\item 22486.9697388611\n",
       "\\item 30910.3959667422\n",
       "\\item 69359.5374604198\n",
       "\\item 73845.875\n",
       "\\item 75315.27\n",
       "\\item 75526.2973613183\n",
       "\\item 75616.9289181518\n",
       "\\item 76352.568569013\n",
       "\\item 83579.593692632\n",
       "\\item 89083.771246324\n",
       "\\item 100785.390511097\n",
       "\\item 107481.001757476\n",
       "\\item 117587.332125511\n",
       "\\item 122164.109710421\n",
       "\\item 122856.110374411\n",
       "\\item 123784.912639014\n",
       "\\item 123939.156655557\n",
       "\\item 127099.539742722\n",
       "\\end{enumerate*}\n"
      ],
      "text/markdown": [
       "1. 0\n",
       "2. 19867.9971916387\n",
       "3. 22486.9697388611\n",
       "4. 30910.3959667422\n",
       "5. 69359.5374604198\n",
       "6. 73845.875\n",
       "7. 75315.27\n",
       "8. 75526.2973613183\n",
       "9. 75616.9289181518\n",
       "10. 76352.568569013\n",
       "11. 83579.593692632\n",
       "12. 89083.771246324\n",
       "13. 100785.390511097\n",
       "14. 107481.001757476\n",
       "15. 117587.332125511\n",
       "16. 122164.109710421\n",
       "17. 122856.110374411\n",
       "18. 123784.912639014\n",
       "19. 123939.156655557\n",
       "20. 127099.539742722\n",
       "\n",
       "\n"
      ],
      "text/plain": [
       " [1]      0.00  19868.00  22486.97  30910.40  69359.54  73845.87  75315.27\n",
       " [8]  75526.30  75616.93  76352.57  83579.59  89083.77 100785.39 107481.00\n",
       "[15] 117587.33 122164.11 122856.11 123784.91 123939.16 127099.54"
      ]
     },
     "metadata": {},
     "output_type": "display_data"
    }
   ],
   "source": [
    "siniestros_rc <- siniestros[(siniestros$cobertura) == \"rc\", ]\n",
    "siniestros_rc$cobertura <- NULL\n",
    "head(sort(unique(siniestros_rc$severidad)),20)"
   ]
  },
  {
   "cell_type": "code",
   "execution_count": 31,
   "id": "9bf688fc",
   "metadata": {
    "vscode": {
     "languageId": "r"
    }
   },
   "outputs": [
    {
     "data": {
      "text/html": [
       "18.6085972850679"
      ],
      "text/latex": [
       "18.6085972850679"
      ],
      "text/markdown": [
       "18.6085972850679"
      ],
      "text/plain": [
       "[1] 18.6086"
      ]
     },
     "metadata": {},
     "output_type": "display_data"
    }
   ],
   "source": [
    "nrow(siniestros_rc[(siniestros_rc$severidad < 500000),])*100/nrow(siniestros_rc)"
   ]
  },
  {
   "cell_type": "code",
   "execution_count": 32,
   "id": "283a5671",
   "metadata": {
    "vscode": {
     "languageId": "r"
    }
   },
   "outputs": [],
   "source": [
    "siniestros_rc <- siniestros_rc[(siniestros_rc$severidad >= 500000),]"
   ]
  },
  {
   "cell_type": "code",
   "execution_count": 33,
   "id": "147f7dcf",
   "metadata": {
    "vscode": {
     "languageId": "r"
    }
   },
   "outputs": [],
   "source": [
    "write.csv(siniestros_rc$severidad, \"../data/processed/severidad_rc.csv\")"
   ]
  },
  {
   "cell_type": "markdown",
   "id": "0c978748",
   "metadata": {},
   "source": [
    "## Agrupando por semanas"
   ]
  },
  {
   "cell_type": "markdown",
   "id": "e2330de9",
   "metadata": {},
   "source": [
    "- pph"
   ]
  },
  {
   "cell_type": "code",
   "execution_count": 34,
   "id": "3eb75d58",
   "metadata": {
    "vscode": {
     "languageId": "r"
    }
   },
   "outputs": [],
   "source": [
    "siniestros_pph_semana <- siniestros_pph %>%\n",
    "  group_by(semana) %>%\n",
    "  summarise(\n",
    "    severidad = sum(severidad),\n",
    "    siniestros = n()\n",
    "  )\n",
    "\n",
    "write.csv(siniestros_pph_semana, \"../data/processed/siniestros_pph_semana.csv\")"
   ]
  },
  {
   "cell_type": "code",
   "execution_count": 35,
   "id": "78f4884d",
   "metadata": {
    "vscode": {
     "languageId": "r"
    }
   },
   "outputs": [],
   "source": [
    "siniestros_pph_dia <- siniestros_pph %>%\n",
    "  group_by(dia) %>%\n",
    "  summarise(\n",
    "    severidad = sum(severidad),\n",
    "    siniestros = n()\n",
    "  )\n",
    "\n",
    "write.csv(siniestros_pph_dia, \"../data/processed/siniestros_pph_dia.csv\")"
   ]
  },
  {
   "cell_type": "markdown",
   "id": "05a73972",
   "metadata": {},
   "source": [
    "- pth"
   ]
  },
  {
   "cell_type": "code",
   "execution_count": 36,
   "id": "9636a7fe",
   "metadata": {
    "vscode": {
     "languageId": "r"
    }
   },
   "outputs": [],
   "source": [
    "siniestros_pth_semana <- siniestros_pth %>%\n",
    "  group_by(semana) %>%\n",
    "  summarise(\n",
    "    severidad = sum(severidad),\n",
    "    siniestros = n()\n",
    "  )\n",
    "\n",
    "write.csv(siniestros_pth_semana, \"../data/processed/siniestros_pth_semana.csv\")"
   ]
  },
  {
   "cell_type": "code",
   "execution_count": 37,
   "id": "f29e4079",
   "metadata": {
    "vscode": {
     "languageId": "r"
    }
   },
   "outputs": [],
   "source": [
    "siniestros_pth_dia <- siniestros_pth %>%\n",
    "  group_by(dia) %>%\n",
    "  summarise(\n",
    "    severidad = sum(severidad),\n",
    "    siniestros = n()\n",
    "  )\n",
    "\n",
    "write.csv(siniestros_pth_dia, \"../data/processed/siniestros_pth_dia.csv\")"
   ]
  },
  {
   "cell_type": "markdown",
   "id": "27bd1c51",
   "metadata": {},
   "source": [
    "- ppd"
   ]
  },
  {
   "cell_type": "code",
   "execution_count": 38,
   "id": "87e05fc6",
   "metadata": {
    "vscode": {
     "languageId": "r"
    }
   },
   "outputs": [],
   "source": [
    "siniestros_ppd_semana <- siniestros_ppd %>%\n",
    "  group_by(semana) %>%\n",
    "  summarise(\n",
    "    severidad = sum(severidad),\n",
    "    siniestros = n()\n",
    "  )\n",
    "\n",
    "write.csv(siniestros_ppd_semana, \"../data/processed/siniestros_ppd_semana.csv\")"
   ]
  },
  {
   "cell_type": "code",
   "execution_count": 39,
   "id": "507a4df7",
   "metadata": {
    "vscode": {
     "languageId": "r"
    }
   },
   "outputs": [],
   "source": [
    "siniestros_ppd_dia <- siniestros_ppd %>%\n",
    "  group_by(dia) %>%\n",
    "  summarise(\n",
    "    severidad = sum(severidad),\n",
    "    siniestros = n()\n",
    "  )\n",
    "\n",
    "write.csv(siniestros_ppd_dia, \"../data/processed/siniestros_ppd_dia.csv\")"
   ]
  },
  {
   "cell_type": "markdown",
   "id": "64924e4b",
   "metadata": {},
   "source": [
    "- rc"
   ]
  },
  {
   "cell_type": "code",
   "execution_count": 40,
   "id": "aa101f32",
   "metadata": {
    "vscode": {
     "languageId": "r"
    }
   },
   "outputs": [],
   "source": [
    "siniestros_rc_semana <- siniestros_rc %>%\n",
    "  group_by(semana) %>%\n",
    "  summarise(\n",
    "    severidad = sum(severidad),\n",
    "    siniestros = n()\n",
    "  )\n",
    "\n",
    "write.csv(siniestros_rc_semana, \"../data/processed/siniestros_rc_semana.csv\")"
   ]
  },
  {
   "cell_type": "code",
   "execution_count": 41,
   "id": "721d28ad",
   "metadata": {
    "vscode": {
     "languageId": "r"
    }
   },
   "outputs": [],
   "source": [
    "siniestros_rc_dia <- siniestros_rc %>%\n",
    "  group_by(dia) %>%\n",
    "  summarise(\n",
    "    severidad = sum(severidad),\n",
    "    siniestros = n()\n",
    "  )\n",
    "\n",
    "write.csv(siniestros_rc_dia, \"../data/processed/siniestros_rc_dia.csv\")"
   ]
  }
 ],
 "metadata": {
  "kernelspec": {
   "display_name": "R",
   "language": "R",
   "name": "ir"
  },
  "language_info": {
   "codemirror_mode": "r",
   "file_extension": ".r",
   "mimetype": "text/x-r-source",
   "name": "R",
   "pygments_lexer": "r",
   "version": "4.2.3"
  }
 },
 "nbformat": 4,
 "nbformat_minor": 5
}
