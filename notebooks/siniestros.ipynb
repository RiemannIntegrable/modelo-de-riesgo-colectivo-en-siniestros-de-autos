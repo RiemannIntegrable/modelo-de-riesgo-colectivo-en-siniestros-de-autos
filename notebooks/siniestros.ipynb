{
 "cells": [
  {
   "cell_type": "markdown",
   "id": "4ad00dfc",
   "metadata": {},
   "source": [
    "<div align=\"center\">\n",
    "\n",
    "# **Exploracion y limpieza de los siniestros**\n",
    "\n",
    "</div>"
   ]
  },
  {
   "cell_type": "markdown",
   "id": "06893579",
   "metadata": {},
   "source": [
    "## Librerias"
   ]
  },
  {
   "cell_type": "code",
   "execution_count": 271,
   "id": "4dfe150b",
   "metadata": {
    "vscode": {
     "languageId": "r"
    }
   },
   "outputs": [],
   "source": [
    "library(readxl)\n",
    "library(lubridate)"
   ]
  },
  {
   "cell_type": "code",
   "execution_count": 272,
   "id": "d90bbb11",
   "metadata": {
    "vscode": {
     "languageId": "r"
    }
   },
   "outputs": [],
   "source": [
    "source(\"../src/data/ajuste_dinero_ipc.R\")"
   ]
  },
  {
   "cell_type": "markdown",
   "id": "55566fe4",
   "metadata": {},
   "source": [
    "## Data"
   ]
  },
  {
   "cell_type": "code",
   "execution_count": 273,
   "id": "f6f41011",
   "metadata": {
    "vscode": {
     "languageId": "r"
    }
   },
   "outputs": [],
   "source": [
    "siniestros <- read_excel(\"../data/input/Siniestros_Hist.xlsx\")"
   ]
  },
  {
   "cell_type": "code",
   "execution_count": 274,
   "id": "30fe76f9",
   "metadata": {
    "vscode": {
     "languageId": "r"
    }
   },
   "outputs": [
    {
     "data": {
      "text/html": [
       "<style>\n",
       ".list-inline {list-style: none; margin:0; padding: 0}\n",
       ".list-inline>li {display: inline-block}\n",
       ".list-inline>li:not(:last-child)::after {content: \"\\00b7\"; padding: 0 .5ex}\n",
       "</style>\n",
       "<ol class=list-inline><li>'FECHASIN'</li><li>'VLRPRIMAPAG'</li><li>'VLRPRISUSCR'</li><li>'VLRASEGU'</li><li>'VLRASEGU_ORIG'</li><li>'VLRPAGADO.'</li><li>'VLRSININCUR'</li><li>'VLRDEDUCIBLE'</li><li>'VLRRECOBRO'</li><li>'VLRRSVACONSTIAMP'</li><li>'VLRRSVAPAGAMP'</li><li>'FECPAGOAMP'</li><li>'ESTADO_FINAL'</li><li>'COBERTURA_FINAL'</li></ol>\n"
      ],
      "text/latex": [
       "\\begin{enumerate*}\n",
       "\\item 'FECHASIN'\n",
       "\\item 'VLRPRIMAPAG'\n",
       "\\item 'VLRPRISUSCR'\n",
       "\\item 'VLRASEGU'\n",
       "\\item 'VLRASEGU\\_ORIG'\n",
       "\\item 'VLRPAGADO.'\n",
       "\\item 'VLRSININCUR'\n",
       "\\item 'VLRDEDUCIBLE'\n",
       "\\item 'VLRRECOBRO'\n",
       "\\item 'VLRRSVACONSTIAMP'\n",
       "\\item 'VLRRSVAPAGAMP'\n",
       "\\item 'FECPAGOAMP'\n",
       "\\item 'ESTADO\\_FINAL'\n",
       "\\item 'COBERTURA\\_FINAL'\n",
       "\\end{enumerate*}\n"
      ],
      "text/markdown": [
       "1. 'FECHASIN'\n",
       "2. 'VLRPRIMAPAG'\n",
       "3. 'VLRPRISUSCR'\n",
       "4. 'VLRASEGU'\n",
       "5. 'VLRASEGU_ORIG'\n",
       "6. 'VLRPAGADO.'\n",
       "7. 'VLRSININCUR'\n",
       "8. 'VLRDEDUCIBLE'\n",
       "9. 'VLRRECOBRO'\n",
       "10. 'VLRRSVACONSTIAMP'\n",
       "11. 'VLRRSVAPAGAMP'\n",
       "12. 'FECPAGOAMP'\n",
       "13. 'ESTADO_FINAL'\n",
       "14. 'COBERTURA_FINAL'\n",
       "\n",
       "\n"
      ],
      "text/plain": [
       " [1] \"FECHASIN\"         \"VLRPRIMAPAG\"      \"VLRPRISUSCR\"      \"VLRASEGU\"        \n",
       " [5] \"VLRASEGU_ORIG\"    \"VLRPAGADO.\"       \"VLRSININCUR\"      \"VLRDEDUCIBLE\"    \n",
       " [9] \"VLRRECOBRO\"       \"VLRRSVACONSTIAMP\" \"VLRRSVAPAGAMP\"    \"FECPAGOAMP\"      \n",
       "[13] \"ESTADO_FINAL\"     \"COBERTURA_FINAL\" "
      ]
     },
     "metadata": {},
     "output_type": "display_data"
    }
   ],
   "source": [
    "colnames(siniestros)"
   ]
  },
  {
   "cell_type": "code",
   "execution_count": 275,
   "id": "391a83ee",
   "metadata": {
    "vscode": {
     "languageId": "r"
    }
   },
   "outputs": [],
   "source": [
    "names(siniestros) <- c(\n",
    "  \"Fecha\",\n",
    "  \"Prima_efectivamente_pagada_hasta_fecha_siniestro\",\n",
    "  \"Prima_suscrita_incluida_cobertura_responsabilidad_civil\",\n",
    "  \"Asegurado_otras_coberturas_distintas_responsabilidad_civil\",\n",
    "  \"Asegurado_original\",\n",
    "  \"Efectivamente_pagado_por_siniestro\",\n",
    "  \"Siniestro_incurrido\",\n",
    "  \"Deducible\",\n",
    "  \"Recobro_obtenido\",\n",
    "  \"Reserva_constituida_para_amparo\",\n",
    "  \"Reserva_pagada_para_amparo\",\n",
    "  \"Fecha_pago_amparo\",\n",
    "  \"Estado_final_siniestro\",\n",
    "  \"Cobertura\"\n",
    ")"
   ]
  },
  {
   "cell_type": "code",
   "execution_count": 276,
   "id": "5df7e9cd",
   "metadata": {
    "vscode": {
     "languageId": "r"
    }
   },
   "outputs": [
    {
     "data": {
      "text/html": [
       "<style>\n",
       ".list-inline {list-style: none; margin:0; padding: 0}\n",
       ".list-inline>li {display: inline-block}\n",
       ".list-inline>li:not(:last-child)::after {content: \"\\00b7\"; padding: 0 .5ex}\n",
       "</style>\n",
       "<ol class=list-inline><li>'PTH'</li><li>'PPD'</li><li>'RC BIENES'</li><li>'PPH'</li><li>'RC PERS'</li></ol>\n"
      ],
      "text/latex": [
       "\\begin{enumerate*}\n",
       "\\item 'PTH'\n",
       "\\item 'PPD'\n",
       "\\item 'RC BIENES'\n",
       "\\item 'PPH'\n",
       "\\item 'RC PERS'\n",
       "\\end{enumerate*}\n"
      ],
      "text/markdown": [
       "1. 'PTH'\n",
       "2. 'PPD'\n",
       "3. 'RC BIENES'\n",
       "4. 'PPH'\n",
       "5. 'RC PERS'\n",
       "\n",
       "\n"
      ],
      "text/plain": [
       "[1] \"PTH\"       \"PPD\"       \"RC BIENES\" \"PPH\"       \"RC PERS\"  "
      ]
     },
     "metadata": {},
     "output_type": "display_data"
    }
   ],
   "source": [
    "unique(siniestros$Cobertura)"
   ]
  },
  {
   "cell_type": "code",
   "execution_count": 277,
   "id": "66a5eb21",
   "metadata": {
    "vscode": {
     "languageId": "r"
    }
   },
   "outputs": [],
   "source": [
    "siniestros$Cobertura <- factor(siniestros$Cobertura,\n",
    "                               levels = c(\"PTH\", \"PPD\", \"RC BIENES\", \"PPH\", \"RC PERS\"),\n",
    "                               labels = c(\"pth\", \n",
    "                                          \"ppd\",\n",
    "                                          \"rc\",\n",
    "                                          \"pph\",\n",
    "                                          \"rc\"))"
   ]
  },
  {
   "cell_type": "markdown",
   "id": "6ffbda1a",
   "metadata": {
    "vscode": {
     "languageId": "r"
    }
   },
   "source": [
    "Juntamos ambas responsabilidades civiles para que concuerde con las coberturas de polizas_v2.txt"
   ]
  },
  {
   "cell_type": "markdown",
   "id": "6aabde03",
   "metadata": {},
   "source": [
    "## Fechas"
   ]
  },
  {
   "cell_type": "code",
   "execution_count": 278,
   "id": "10580913",
   "metadata": {
    "vscode": {
     "languageId": "r"
    }
   },
   "outputs": [],
   "source": [
    "siniestros$Fecha <- as.Date(siniestros$Fecha)"
   ]
  },
  {
   "cell_type": "code",
   "execution_count": 279,
   "id": "31efb1d6",
   "metadata": {
    "vscode": {
     "languageId": "r"
    }
   },
   "outputs": [
    {
     "data": {
      "text/html": [
       "<style>\n",
       ".list-inline {list-style: none; margin:0; padding: 0}\n",
       ".list-inline>li {display: inline-block}\n",
       ".list-inline>li:not(:last-child)::after {content: \"\\00b7\"; padding: 0 .5ex}\n",
       "</style>\n",
       "<ol class=list-inline><li>'2017'</li><li>'2018'</li></ol>\n"
      ],
      "text/latex": [
       "\\begin{enumerate*}\n",
       "\\item '2017'\n",
       "\\item '2018'\n",
       "\\end{enumerate*}\n"
      ],
      "text/markdown": [
       "1. '2017'\n",
       "2. '2018'\n",
       "\n",
       "\n"
      ],
      "text/plain": [
       "[1] \"2017\" \"2018\""
      ]
     },
     "metadata": {},
     "output_type": "display_data"
    }
   ],
   "source": [
    "unique(format(siniestros$Fecha, \"%Y\"))"
   ]
  },
  {
   "cell_type": "code",
   "execution_count": 280,
   "id": "325b3142",
   "metadata": {
    "vscode": {
     "languageId": "r"
    }
   },
   "outputs": [
    {
     "data": {
      "text/html": [
       "'01'"
      ],
      "text/latex": [
       "'01'"
      ],
      "text/markdown": [
       "'01'"
      ],
      "text/plain": [
       "[1] \"01\""
      ]
     },
     "metadata": {},
     "output_type": "display_data"
    }
   ],
   "source": [
    "unique(format(siniestros$Fecha[year(siniestros$Fecha) == 2017], \"%m\"))"
   ]
  },
  {
   "cell_type": "code",
   "execution_count": 281,
   "metadata": {
    "vscode": {
     "languageId": "r"
    }
   },
   "outputs": [
    {
     "data": {
      "text/html": [
       "<style>\n",
       ".list-inline {list-style: none; margin:0; padding: 0}\n",
       ".list-inline>li {display: inline-block}\n",
       ".list-inline>li:not(:last-child)::after {content: \"\\00b7\"; padding: 0 .5ex}\n",
       "</style>\n",
       "<ol class=list-inline><li>'01'</li><li>'02'</li><li>'03'</li><li>'04'</li><li>'05'</li><li>'06'</li><li>'07'</li><li>'08'</li><li>'09'</li><li>'10'</li><li>'11'</li><li>'12'</li></ol>\n"
      ],
      "text/latex": [
       "\\begin{enumerate*}\n",
       "\\item '01'\n",
       "\\item '02'\n",
       "\\item '03'\n",
       "\\item '04'\n",
       "\\item '05'\n",
       "\\item '06'\n",
       "\\item '07'\n",
       "\\item '08'\n",
       "\\item '09'\n",
       "\\item '10'\n",
       "\\item '11'\n",
       "\\item '12'\n",
       "\\end{enumerate*}\n"
      ],
      "text/markdown": [
       "1. '01'\n",
       "2. '02'\n",
       "3. '03'\n",
       "4. '04'\n",
       "5. '05'\n",
       "6. '06'\n",
       "7. '07'\n",
       "8. '08'\n",
       "9. '09'\n",
       "10. '10'\n",
       "11. '11'\n",
       "12. '12'\n",
       "\n",
       "\n"
      ],
      "text/plain": [
       " [1] \"01\" \"02\" \"03\" \"04\" \"05\" \"06\" \"07\" \"08\" \"09\" \"10\" \"11\" \"12\""
      ]
     },
     "metadata": {},
     "output_type": "display_data"
    }
   ],
   "source": [
    "unique(format(siniestros$Fecha[year(siniestros$Fecha) == 2018], \"%m\"))"
   ]
  },
  {
   "cell_type": "markdown",
   "id": "57689df4",
   "metadata": {},
   "source": [
    "Vamos a ignorar 2017 porque solo hay datos de enero"
   ]
  },
  {
   "cell_type": "code",
   "execution_count": 282,
   "id": "ca0dca5d",
   "metadata": {
    "vscode": {
     "languageId": "r"
    }
   },
   "outputs": [],
   "source": [
    "siniestros <- siniestros[year(siniestros$Fecha) == 2018, ]"
   ]
  },
  {
   "cell_type": "markdown",
   "id": "c974faa1",
   "metadata": {},
   "source": [
    "## Nulos"
   ]
  },
  {
   "cell_type": "code",
   "execution_count": 283,
   "id": "a2e3e5f8",
   "metadata": {
    "vscode": {
     "languageId": "r"
    }
   },
   "outputs": [
    {
     "data": {
      "text/html": [
       "5380"
      ],
      "text/latex": [
       "5380"
      ],
      "text/markdown": [
       "5380"
      ],
      "text/plain": [
       "[1] 5380"
      ]
     },
     "metadata": {},
     "output_type": "display_data"
    }
   ],
   "source": [
    "sum(is.na(siniestros))"
   ]
  },
  {
   "cell_type": "code",
   "execution_count": 284,
   "id": "5ceecdbd",
   "metadata": {
    "vscode": {
     "languageId": "r"
    }
   },
   "outputs": [
    {
     "data": {
      "text/html": [
       "<style>\n",
       ".dl-inline {width: auto; margin:0; padding: 0}\n",
       ".dl-inline>dt, .dl-inline>dd {float: none; width: auto; display: inline-block}\n",
       ".dl-inline>dt::after {content: \":\\0020\"; padding-right: .5ex}\n",
       ".dl-inline>dt:not(:first-of-type) {padding-left: .5ex}\n",
       "</style><dl class=dl-inline><dt>Fecha</dt><dd>0</dd><dt>Prima_efectivamente_pagada_hasta_fecha_siniestro</dt><dd>0</dd><dt>Prima_suscrita_incluida_cobertura_responsabilidad_civil</dt><dd>0</dd><dt>Asegurado_otras_coberturas_distintas_responsabilidad_civil</dt><dd>0</dd><dt>Asegurado_original</dt><dd>0</dd><dt>Efectivamente_pagado_por_siniestro</dt><dd>0</dd><dt>Siniestro_incurrido</dt><dd>0</dd><dt>Deducible</dt><dd>0</dd><dt>Recobro_obtenido</dt><dd>0</dd><dt>Reserva_constituida_para_amparo</dt><dd>0</dd><dt>Reserva_pagada_para_amparo</dt><dd>0</dd><dt>Fecha_pago_amparo</dt><dd>5380</dd><dt>Estado_final_siniestro</dt><dd>0</dd><dt>Cobertura</dt><dd>0</dd></dl>\n"
      ],
      "text/latex": [
       "\\begin{description*}\n",
       "\\item[Fecha] 0\n",
       "\\item[Prima\\textbackslash{}\\_efectivamente\\textbackslash{}\\_pagada\\textbackslash{}\\_hasta\\textbackslash{}\\_fecha\\textbackslash{}\\_siniestro] 0\n",
       "\\item[Prima\\textbackslash{}\\_suscrita\\textbackslash{}\\_incluida\\textbackslash{}\\_cobertura\\textbackslash{}\\_responsabilidad\\textbackslash{}\\_civil] 0\n",
       "\\item[Asegurado\\textbackslash{}\\_otras\\textbackslash{}\\_coberturas\\textbackslash{}\\_distintas\\textbackslash{}\\_responsabilidad\\textbackslash{}\\_civil] 0\n",
       "\\item[Asegurado\\textbackslash{}\\_original] 0\n",
       "\\item[Efectivamente\\textbackslash{}\\_pagado\\textbackslash{}\\_por\\textbackslash{}\\_siniestro] 0\n",
       "\\item[Siniestro\\textbackslash{}\\_incurrido] 0\n",
       "\\item[Deducible] 0\n",
       "\\item[Recobro\\textbackslash{}\\_obtenido] 0\n",
       "\\item[Reserva\\textbackslash{}\\_constituida\\textbackslash{}\\_para\\textbackslash{}\\_amparo] 0\n",
       "\\item[Reserva\\textbackslash{}\\_pagada\\textbackslash{}\\_para\\textbackslash{}\\_amparo] 0\n",
       "\\item[Fecha\\textbackslash{}\\_pago\\textbackslash{}\\_amparo] 5380\n",
       "\\item[Estado\\textbackslash{}\\_final\\textbackslash{}\\_siniestro] 0\n",
       "\\item[Cobertura] 0\n",
       "\\end{description*}\n"
      ],
      "text/markdown": [
       "Fecha\n",
       ":   0Prima_efectivamente_pagada_hasta_fecha_siniestro\n",
       ":   0Prima_suscrita_incluida_cobertura_responsabilidad_civil\n",
       ":   0Asegurado_otras_coberturas_distintas_responsabilidad_civil\n",
       ":   0Asegurado_original\n",
       ":   0Efectivamente_pagado_por_siniestro\n",
       ":   0Siniestro_incurrido\n",
       ":   0Deducible\n",
       ":   0Recobro_obtenido\n",
       ":   0Reserva_constituida_para_amparo\n",
       ":   0Reserva_pagada_para_amparo\n",
       ":   0Fecha_pago_amparo\n",
       ":   5380Estado_final_siniestro\n",
       ":   0Cobertura\n",
       ":   0\n",
       "\n"
      ],
      "text/plain": [
       "                                                     Fecha \n",
       "                                                         0 \n",
       "          Prima_efectivamente_pagada_hasta_fecha_siniestro \n",
       "                                                         0 \n",
       "   Prima_suscrita_incluida_cobertura_responsabilidad_civil \n",
       "                                                         0 \n",
       "Asegurado_otras_coberturas_distintas_responsabilidad_civil \n",
       "                                                         0 \n",
       "                                        Asegurado_original \n",
       "                                                         0 \n",
       "                        Efectivamente_pagado_por_siniestro \n",
       "                                                         0 \n",
       "                                       Siniestro_incurrido \n",
       "                                                         0 \n",
       "                                                 Deducible \n",
       "                                                         0 \n",
       "                                          Recobro_obtenido \n",
       "                                                         0 \n",
       "                           Reserva_constituida_para_amparo \n",
       "                                                         0 \n",
       "                                Reserva_pagada_para_amparo \n",
       "                                                         0 \n",
       "                                         Fecha_pago_amparo \n",
       "                                                      5380 \n",
       "                                    Estado_final_siniestro \n",
       "                                                         0 \n",
       "                                                 Cobertura \n",
       "                                                         0 "
      ]
     },
     "metadata": {},
     "output_type": "display_data"
    }
   ],
   "source": [
    "colSums(is.na(siniestros))"
   ]
  },
  {
   "cell_type": "markdown",
   "id": "ef2184df",
   "metadata": {},
   "source": [
    "Fecha_pago_amparo no es relevante para la modelacion que estamos llevando a cabo"
   ]
  },
  {
   "cell_type": "markdown",
   "id": "bb9b68a1",
   "metadata": {},
   "source": [
    "## Eliminando duplicados"
   ]
  },
  {
   "cell_type": "code",
   "execution_count": 285,
   "id": "80be27de",
   "metadata": {
    "vscode": {
     "languageId": "r"
    }
   },
   "outputs": [],
   "source": [
    "siniestros <- unique(siniestros)"
   ]
  },
  {
   "cell_type": "markdown",
   "id": "3a99f2f9",
   "metadata": {},
   "source": [
    "## Seleccion de columnas"
   ]
  },
  {
   "cell_type": "markdown",
   "id": "99a754b2",
   "metadata": {},
   "source": [
    "Vamos a seleccionar Siniestro_incurrido como la severidad, pues es el valor neto de los siniestros sin haber descontado el pago del deducible u otras posibles alteraciones del valor de cada accidente"
   ]
  },
  {
   "cell_type": "code",
   "execution_count": 286,
   "id": "3772dd95",
   "metadata": {
    "vscode": {
     "languageId": "r"
    }
   },
   "outputs": [],
   "source": [
    "siniestros <- siniestros[, c(\"Fecha\", \"Siniestro_incurrido\", \"Cobertura\")]\n",
    "names(siniestros) <- c(\"fecha\", \"severidad\", \"cobertura\")\n",
    "siniestros$semana <- week(siniestros$fecha)\n",
    "siniestros$dia <- yday(siniestros$fecha)"
   ]
  },
  {
   "cell_type": "markdown",
   "id": "bc967a18",
   "metadata": {},
   "source": [
    "## Llevando la severidad a enero de 2019"
   ]
  },
  {
   "cell_type": "code",
   "execution_count": 287,
   "id": "ede16477",
   "metadata": {
    "vscode": {
     "languageId": "r"
    }
   },
   "outputs": [],
   "source": [
    "siniestros <- ajuste_dinero_ipc(siniestros, \"fecha\", \"severidad\")"
   ]
  },
  {
   "cell_type": "markdown",
   "id": "709171a6",
   "metadata": {},
   "source": [
    "## Segmentando por cobertura y eliminado valores extraños"
   ]
  },
  {
   "cell_type": "markdown",
   "id": "666353a0",
   "metadata": {},
   "source": [
    "- pph"
   ]
  },
  {
   "cell_type": "code",
   "execution_count": 288,
   "id": "82de5899",
   "metadata": {
    "vscode": {
     "languageId": "r"
    }
   },
   "outputs": [
    {
     "data": {
      "text/html": [
       "<style>\n",
       ".list-inline {list-style: none; margin:0; padding: 0}\n",
       ".list-inline>li {display: inline-block}\n",
       ".list-inline>li:not(:last-child)::after {content: \"\\00b7\"; padding: 0 .5ex}\n",
       "</style>\n",
       "<ol class=list-inline><li>0</li><li>35245.6054352819</li><li>41120.3958103117</li><li>48747.6933688893</li><li>64963.4196164623</li><li>84273.5079777142</li><li>89809.1325625283</li><li>115978.220897504</li><li>116139.551390887</li><li>142873.710390385</li><li>148001.553539278</li><li>158309.194135091</li><li>161411.75583011</li><li>162588.426921526</li><li>167265.748677983</li><li>171020.880099705</li><li>173384.719489746</li><li>178223.05210577</li><li>179107.023986258</li><li>194332.184162566</li></ol>\n"
      ],
      "text/latex": [
       "\\begin{enumerate*}\n",
       "\\item 0\n",
       "\\item 35245.6054352819\n",
       "\\item 41120.3958103117\n",
       "\\item 48747.6933688893\n",
       "\\item 64963.4196164623\n",
       "\\item 84273.5079777142\n",
       "\\item 89809.1325625283\n",
       "\\item 115978.220897504\n",
       "\\item 116139.551390887\n",
       "\\item 142873.710390385\n",
       "\\item 148001.553539278\n",
       "\\item 158309.194135091\n",
       "\\item 161411.75583011\n",
       "\\item 162588.426921526\n",
       "\\item 167265.748677983\n",
       "\\item 171020.880099705\n",
       "\\item 173384.719489746\n",
       "\\item 178223.05210577\n",
       "\\item 179107.023986258\n",
       "\\item 194332.184162566\n",
       "\\end{enumerate*}\n"
      ],
      "text/markdown": [
       "1. 0\n",
       "2. 35245.6054352819\n",
       "3. 41120.3958103117\n",
       "4. 48747.6933688893\n",
       "5. 64963.4196164623\n",
       "6. 84273.5079777142\n",
       "7. 89809.1325625283\n",
       "8. 115978.220897504\n",
       "9. 116139.551390887\n",
       "10. 142873.710390385\n",
       "11. 148001.553539278\n",
       "12. 158309.194135091\n",
       "13. 161411.75583011\n",
       "14. 162588.426921526\n",
       "15. 167265.748677983\n",
       "16. 171020.880099705\n",
       "17. 173384.719489746\n",
       "18. 178223.05210577\n",
       "19. 179107.023986258\n",
       "20. 194332.184162566\n",
       "\n",
       "\n"
      ],
      "text/plain": [
       " [1]      0.00  35245.61  41120.40  48747.69  64963.42  84273.51  89809.13\n",
       " [8] 115978.22 116139.55 142873.71 148001.55 158309.19 161411.76 162588.43\n",
       "[15] 167265.75 171020.88 173384.72 178223.05 179107.02 194332.18"
      ]
     },
     "metadata": {},
     "output_type": "display_data"
    }
   ],
   "source": [
    "siniestros_pph <- siniestros[(siniestros$cobertura) == \"pph\", ]\n",
    "head(sort(unique(siniestros_pph$severidad)),20)"
   ]
  },
  {
   "cell_type": "code",
   "execution_count": 289,
   "id": "7c79bb7c",
   "metadata": {
    "vscode": {
     "languageId": "r"
    }
   },
   "outputs": [
    {
     "data": {
      "text/html": [
       "14.8849797023004"
      ],
      "text/latex": [
       "14.8849797023004"
      ],
      "text/markdown": [
       "14.8849797023004"
      ],
      "text/plain": [
       "[1] 14.88498"
      ]
     },
     "metadata": {},
     "output_type": "display_data"
    }
   ],
   "source": [
    "nrow(siniestros_pph[(siniestros_pph$severidad < 70000),])*100/nrow(siniestros_pph)"
   ]
  },
  {
   "cell_type": "code",
   "execution_count": 290,
   "id": "5c1250be",
   "metadata": {
    "vscode": {
     "languageId": "r"
    }
   },
   "outputs": [],
   "source": [
    "siniestros_pph <- siniestros_pph[(siniestros_pph$severidad >= 70000),]"
   ]
  },
  {
   "cell_type": "markdown",
   "id": "880da361",
   "metadata": {},
   "source": [
    "- pth"
   ]
  },
  {
   "cell_type": "code",
   "execution_count": 291,
   "id": "a596a068",
   "metadata": {
    "vscode": {
     "languageId": "r"
    }
   },
   "outputs": [
    {
     "data": {
      "text/html": [
       "<style>\n",
       ".list-inline {list-style: none; margin:0; padding: 0}\n",
       ".list-inline>li {display: inline-block}\n",
       ".list-inline>li:not(:last-child)::after {content: \"\\00b7\"; padding: 0 .5ex}\n",
       "</style>\n",
       "<ol class=list-inline><li>0</li><li>98013.537101758</li><li>116282.09484196</li><li>117180.518084</li><li>160672.576</li><li>168071.227342079</li><li>201423.281695841</li><li>279360.215965396</li><li>300007.33</li><li>312625.6521412</li><li>347420.967862064</li><li>347837.873023498</li><li>347906.76231425</li><li>348776.529220036</li><li>352879.001618042</li><li>353715.490306925</li><li>355943.897895858</li><li>378353.919363093</li><li>382935.465593149</li><li>385347.959026385</li></ol>\n"
      ],
      "text/latex": [
       "\\begin{enumerate*}\n",
       "\\item 0\n",
       "\\item 98013.537101758\n",
       "\\item 116282.09484196\n",
       "\\item 117180.518084\n",
       "\\item 160672.576\n",
       "\\item 168071.227342079\n",
       "\\item 201423.281695841\n",
       "\\item 279360.215965396\n",
       "\\item 300007.33\n",
       "\\item 312625.6521412\n",
       "\\item 347420.967862064\n",
       "\\item 347837.873023498\n",
       "\\item 347906.76231425\n",
       "\\item 348776.529220036\n",
       "\\item 352879.001618042\n",
       "\\item 353715.490306925\n",
       "\\item 355943.897895858\n",
       "\\item 378353.919363093\n",
       "\\item 382935.465593149\n",
       "\\item 385347.959026385\n",
       "\\end{enumerate*}\n"
      ],
      "text/markdown": [
       "1. 0\n",
       "2. 98013.537101758\n",
       "3. 116282.09484196\n",
       "4. 117180.518084\n",
       "5. 160672.576\n",
       "6. 168071.227342079\n",
       "7. 201423.281695841\n",
       "8. 279360.215965396\n",
       "9. 300007.33\n",
       "10. 312625.6521412\n",
       "11. 347420.967862064\n",
       "12. 347837.873023498\n",
       "13. 347906.76231425\n",
       "14. 348776.529220036\n",
       "15. 352879.001618042\n",
       "16. 353715.490306925\n",
       "17. 355943.897895858\n",
       "18. 378353.919363093\n",
       "19. 382935.465593149\n",
       "20. 385347.959026385\n",
       "\n",
       "\n"
      ],
      "text/plain": [
       " [1]      0.00  98013.54 116282.09 117180.52 160672.58 168071.23 201423.28\n",
       " [8] 279360.22 300007.33 312625.65 347420.97 347837.87 347906.76 348776.53\n",
       "[15] 352879.00 353715.49 355943.90 378353.92 382935.47 385347.96"
      ]
     },
     "metadata": {},
     "output_type": "display_data"
    }
   ],
   "source": [
    "siniestros_pth <- siniestros[(siniestros$cobertura) == \"pth\", ]\n",
    "head(sort(unique(siniestros_pth$severidad)),20)"
   ]
  },
  {
   "cell_type": "code",
   "execution_count": 292,
   "id": "189c0f5a",
   "metadata": {
    "vscode": {
     "languageId": "r"
    }
   },
   "outputs": [
    {
     "data": {
      "text/html": [
       "21.608832807571"
      ],
      "text/latex": [
       "21.608832807571"
      ],
      "text/markdown": [
       "21.608832807571"
      ],
      "text/plain": [
       "[1] 21.60883"
      ]
     },
     "metadata": {},
     "output_type": "display_data"
    }
   ],
   "source": [
    "nrow(siniestros_pth[(siniestros_pth$severidad < 3000000),])*100/nrow(siniestros_pth)"
   ]
  },
  {
   "cell_type": "code",
   "execution_count": 293,
   "id": "0a6b63ba",
   "metadata": {
    "vscode": {
     "languageId": "r"
    }
   },
   "outputs": [],
   "source": [
    "siniestros_pth <- siniestros_pth[(siniestros_pth$severidad >= 3000000),]"
   ]
  },
  {
   "cell_type": "markdown",
   "id": "0c426078",
   "metadata": {},
   "source": [
    "- ppd"
   ]
  },
  {
   "cell_type": "code",
   "execution_count": 294,
   "id": "9dff3985",
   "metadata": {
    "vscode": {
     "languageId": "r"
    }
   },
   "outputs": [
    {
     "data": {
      "text/html": [
       "<style>\n",
       ".list-inline {list-style: none; margin:0; padding: 0}\n",
       ".list-inline>li {display: inline-block}\n",
       ".list-inline>li:not(:last-child)::after {content: \"\\00b7\"; padding: 0 .5ex}\n",
       "</style>\n",
       "<ol class=list-inline><li>0</li><li>1724.4911730326</li><li>3430.26</li><li>3941.68025341716</li><li>5907.67</li><li>9412.64266504699</li><li>14352.0931086652</li><li>14636.9964286235</li><li>16161.2094890089</li><li>20491.29</li><li>23296.2701869231</li><li>24189.5117569109</li><li>27606.2124405921</li><li>33332.9150032949</li><li>37942.1364075615</li><li>39237.075970492</li><li>43948.8933550627</li><li>44300.7783179889</li><li>45189.162</li><li>46270.6892772</li></ol>\n"
      ],
      "text/latex": [
       "\\begin{enumerate*}\n",
       "\\item 0\n",
       "\\item 1724.4911730326\n",
       "\\item 3430.26\n",
       "\\item 3941.68025341716\n",
       "\\item 5907.67\n",
       "\\item 9412.64266504699\n",
       "\\item 14352.0931086652\n",
       "\\item 14636.9964286235\n",
       "\\item 16161.2094890089\n",
       "\\item 20491.29\n",
       "\\item 23296.2701869231\n",
       "\\item 24189.5117569109\n",
       "\\item 27606.2124405921\n",
       "\\item 33332.9150032949\n",
       "\\item 37942.1364075615\n",
       "\\item 39237.075970492\n",
       "\\item 43948.8933550627\n",
       "\\item 44300.7783179889\n",
       "\\item 45189.162\n",
       "\\item 46270.6892772\n",
       "\\end{enumerate*}\n"
      ],
      "text/markdown": [
       "1. 0\n",
       "2. 1724.4911730326\n",
       "3. 3430.26\n",
       "4. 3941.68025341716\n",
       "5. 5907.67\n",
       "6. 9412.64266504699\n",
       "7. 14352.0931086652\n",
       "8. 14636.9964286235\n",
       "9. 16161.2094890089\n",
       "10. 20491.29\n",
       "11. 23296.2701869231\n",
       "12. 24189.5117569109\n",
       "13. 27606.2124405921\n",
       "14. 33332.9150032949\n",
       "15. 37942.1364075615\n",
       "16. 39237.075970492\n",
       "17. 43948.8933550627\n",
       "18. 44300.7783179889\n",
       "19. 45189.162\n",
       "20. 46270.6892772\n",
       "\n",
       "\n"
      ],
      "text/plain": [
       " [1]     0.000  1724.491  3430.260  3941.680  5907.670  9412.643 14352.093\n",
       " [8] 14636.996 16161.209 20491.290 23296.270 24189.512 27606.212 33332.915\n",
       "[15] 37942.136 39237.076 43948.893 44300.778 45189.162 46270.689"
      ]
     },
     "metadata": {},
     "output_type": "display_data"
    }
   ],
   "source": [
    "siniestros_ppd <- siniestros[(siniestros$cobertura) == \"ppd\", ]\n",
    "head(sort(unique(siniestros_ppd$severidad)),20)"
   ]
  },
  {
   "cell_type": "code",
   "execution_count": 295,
   "id": "57545e88",
   "metadata": {
    "vscode": {
     "languageId": "r"
    }
   },
   "outputs": [
    {
     "data": {
      "text/html": [
       "8.92186553603876"
      ],
      "text/latex": [
       "8.92186553603876"
      ],
      "text/markdown": [
       "8.92186553603876"
      ],
      "text/plain": [
       "[1] 8.921866"
      ]
     },
     "metadata": {},
     "output_type": "display_data"
    }
   ],
   "source": [
    "nrow(siniestros_ppd[(siniestros_ppd$severidad < 70000),])*100/nrow(siniestros_ppd)"
   ]
  },
  {
   "cell_type": "code",
   "execution_count": 296,
   "id": "8d7a57e8",
   "metadata": {
    "vscode": {
     "languageId": "r"
    }
   },
   "outputs": [],
   "source": [
    "siniestros_ppd <- siniestros_ppd[(siniestros_ppd$severidad >= 70000),]"
   ]
  },
  {
   "cell_type": "markdown",
   "id": "360f6795",
   "metadata": {},
   "source": [
    "- rh"
   ]
  },
  {
   "cell_type": "code",
   "execution_count": 297,
   "id": "ed1e567f",
   "metadata": {
    "vscode": {
     "languageId": "r"
    }
   },
   "outputs": [
    {
     "data": {
      "text/html": [
       "<style>\n",
       ".list-inline {list-style: none; margin:0; padding: 0}\n",
       ".list-inline>li {display: inline-block}\n",
       ".list-inline>li:not(:last-child)::after {content: \"\\00b7\"; padding: 0 .5ex}\n",
       "</style>\n",
       "<ol class=list-inline><li>0</li><li>19867.9971916387</li><li>22486.9697388611</li><li>30910.3959667422</li><li>69359.5374604198</li><li>73845.875</li><li>75315.27</li><li>75526.2973613183</li><li>75616.9289181518</li><li>76352.568569013</li><li>83579.593692632</li><li>89083.771246324</li><li>100785.390511097</li><li>107481.001757476</li><li>117587.332125511</li><li>122164.109710421</li><li>122856.110374411</li><li>123784.912639014</li><li>123939.156655557</li><li>127099.539742722</li></ol>\n"
      ],
      "text/latex": [
       "\\begin{enumerate*}\n",
       "\\item 0\n",
       "\\item 19867.9971916387\n",
       "\\item 22486.9697388611\n",
       "\\item 30910.3959667422\n",
       "\\item 69359.5374604198\n",
       "\\item 73845.875\n",
       "\\item 75315.27\n",
       "\\item 75526.2973613183\n",
       "\\item 75616.9289181518\n",
       "\\item 76352.568569013\n",
       "\\item 83579.593692632\n",
       "\\item 89083.771246324\n",
       "\\item 100785.390511097\n",
       "\\item 107481.001757476\n",
       "\\item 117587.332125511\n",
       "\\item 122164.109710421\n",
       "\\item 122856.110374411\n",
       "\\item 123784.912639014\n",
       "\\item 123939.156655557\n",
       "\\item 127099.539742722\n",
       "\\end{enumerate*}\n"
      ],
      "text/markdown": [
       "1. 0\n",
       "2. 19867.9971916387\n",
       "3. 22486.9697388611\n",
       "4. 30910.3959667422\n",
       "5. 69359.5374604198\n",
       "6. 73845.875\n",
       "7. 75315.27\n",
       "8. 75526.2973613183\n",
       "9. 75616.9289181518\n",
       "10. 76352.568569013\n",
       "11. 83579.593692632\n",
       "12. 89083.771246324\n",
       "13. 100785.390511097\n",
       "14. 107481.001757476\n",
       "15. 117587.332125511\n",
       "16. 122164.109710421\n",
       "17. 122856.110374411\n",
       "18. 123784.912639014\n",
       "19. 123939.156655557\n",
       "20. 127099.539742722\n",
       "\n",
       "\n"
      ],
      "text/plain": [
       " [1]      0.00  19868.00  22486.97  30910.40  69359.54  73845.87  75315.27\n",
       " [8]  75526.30  75616.93  76352.57  83579.59  89083.77 100785.39 107481.00\n",
       "[15] 117587.33 122164.11 122856.11 123784.91 123939.16 127099.54"
      ]
     },
     "metadata": {},
     "output_type": "display_data"
    }
   ],
   "source": [
    "siniestros_rc <- siniestros[(siniestros$cobertura) == \"rc\", ]\n",
    "head(sort(unique(siniestros_rc$severidad)),20)"
   ]
  },
  {
   "cell_type": "code",
   "execution_count": 298,
   "id": "9bf688fc",
   "metadata": {
    "vscode": {
     "languageId": "r"
    }
   },
   "outputs": [
    {
     "data": {
      "text/html": [
       "18.6085972850679"
      ],
      "text/latex": [
       "18.6085972850679"
      ],
      "text/markdown": [
       "18.6085972850679"
      ],
      "text/plain": [
       "[1] 18.6086"
      ]
     },
     "metadata": {},
     "output_type": "display_data"
    }
   ],
   "source": [
    "nrow(siniestros_rc[(siniestros_rc$severidad < 500000),])*100/nrow(siniestros_rc)"
   ]
  },
  {
   "cell_type": "code",
   "execution_count": 299,
   "id": "283a5671",
   "metadata": {
    "vscode": {
     "languageId": "r"
    }
   },
   "outputs": [],
   "source": [
    "siniestros_rc <- siniestros_rc[(siniestros_rc$severidad >= 500000),]"
   ]
  },
  {
   "cell_type": "markdown",
   "id": "0c978748",
   "metadata": {},
   "source": [
    "## Agrupando por semanas y dia"
   ]
  },
  {
   "cell_type": "code",
   "execution_count": null,
   "id": "3eb75d58",
   "metadata": {
    "vscode": {
     "languageId": "r"
    }
   },
   "outputs": [
    {
     "data": {
      "text/html": [
       "<style>\n",
       ".list-inline {list-style: none; margin:0; padding: 0}\n",
       ".list-inline>li {display: inline-block}\n",
       ".list-inline>li:not(:last-child)::after {content: \"\\00b7\"; padding: 0 .5ex}\n",
       "</style>\n",
       "<ol class=list-inline><li>1</li><li>2</li><li>3</li><li>4</li><li>5</li><li>6</li><li>7</li><li>8</li><li>9</li><li>10</li><li>11</li><li>12</li><li>13</li><li>14</li><li>15</li><li>16</li><li>17</li><li>18</li><li>19</li><li>20</li><li>21</li><li>22</li><li>23</li><li>24</li><li>25</li><li>26</li><li>27</li><li>28</li><li>29</li><li>30</li><li>31</li><li>32</li><li>33</li><li>34</li><li>35</li><li>36</li><li>37</li><li>38</li><li>39</li><li>40</li><li>41</li><li>42</li><li>43</li><li>44</li><li>45</li><li>46</li><li>47</li><li>48</li><li>49</li><li>50</li><li>51</li><li>52</li><li>53</li><li>54</li><li>55</li><li>56</li><li>57</li><li>58</li><li>59</li><li>60</li><li>61</li><li>62</li><li>63</li><li>64</li><li>65</li><li>66</li><li>67</li><li>68</li><li>69</li><li>70</li><li>71</li><li>72</li><li>73</li><li>74</li><li>75</li><li>76</li><li>77</li><li>78</li><li>79</li><li>80</li><li>81</li><li>82</li><li>83</li><li>84</li><li>85</li><li>86</li><li>87</li><li>88</li><li>89</li><li>90</li><li>91</li><li>92</li><li>93</li><li>94</li><li>95</li><li>96</li><li>97</li><li>98</li><li>99</li><li>100</li><li>101</li><li>102</li><li>103</li><li>104</li><li>105</li><li>106</li><li>107</li><li>108</li><li>109</li><li>110</li><li>111</li><li>112</li><li>113</li><li>114</li><li>115</li><li>116</li><li>117</li><li>118</li><li>119</li><li>120</li><li>121</li><li>122</li><li>123</li><li>124</li><li>125</li><li>126</li><li>127</li><li>128</li><li>129</li><li>130</li><li>131</li><li>132</li><li>133</li><li>134</li><li>135</li><li>136</li><li>137</li><li>138</li><li>139</li><li>140</li><li>141</li><li>142</li><li>143</li><li>144</li><li>145</li><li>146</li><li>147</li><li>148</li><li>149</li><li>150</li><li>151</li><li>152</li><li>153</li><li>154</li><li>155</li><li>156</li><li>157</li><li>158</li><li>159</li><li>160</li><li>161</li><li>162</li><li>163</li><li>164</li><li>165</li><li>166</li><li>167</li><li>168</li><li>169</li><li>170</li><li>171</li><li>172</li><li>173</li><li>174</li><li>175</li><li>176</li><li>177</li><li>178</li><li>179</li><li>180</li><li>181</li><li>182</li><li>183</li><li>184</li><li>185</li><li>186</li><li>187</li><li>188</li><li>189</li><li>190</li><li>191</li><li>192</li><li>193</li><li>194</li><li>195</li><li>196</li><li>197</li><li>198</li><li>199</li><li>200</li><li>201</li><li>202</li><li>203</li><li>204</li><li>205</li><li>206</li><li>207</li><li>208</li><li>209</li><li>210</li><li>211</li><li>212</li><li>213</li><li>214</li><li>215</li><li>216</li><li>217</li><li>218</li><li>219</li><li>220</li><li>221</li><li>222</li><li>223</li><li>224</li><li>225</li><li>226</li><li>227</li><li>228</li><li>229</li><li>230</li><li>231</li><li>232</li><li>233</li><li>234</li><li>235</li><li>236</li><li>237</li><li>238</li><li>239</li><li>240</li><li>241</li><li>242</li><li>243</li><li>244</li><li>245</li><li>246</li><li>247</li><li>248</li><li>249</li><li>250</li><li>251</li><li>252</li><li>253</li><li>254</li><li>255</li><li>256</li><li>257</li><li>258</li><li>259</li><li>260</li><li>261</li><li>262</li><li>263</li><li>264</li><li>265</li><li>266</li><li>267</li><li>268</li><li>269</li><li>270</li><li>271</li><li>272</li><li>273</li><li>274</li><li>275</li><li>276</li><li>277</li><li>278</li><li>279</li><li>280</li><li>281</li><li>282</li><li>283</li><li>284</li><li>285</li><li>286</li><li>287</li><li>288</li><li>289</li><li>290</li><li>291</li><li>292</li><li>293</li><li>294</li><li>295</li><li>296</li><li>297</li><li>298</li><li>299</li><li>300</li><li>301</li><li>302</li><li>303</li><li>304</li><li>305</li><li>306</li><li>307</li><li>308</li><li>309</li><li>310</li><li>311</li><li>312</li><li>313</li><li>314</li><li>315</li><li>316</li><li>317</li><li>318</li><li>319</li><li>320</li><li>321</li><li>322</li><li>323</li><li>324</li><li>325</li><li>326</li><li>327</li><li>328</li><li>329</li><li>330</li><li>331</li><li>332</li><li>333</li><li>334</li><li>335</li><li>336</li><li>337</li><li>338</li><li>339</li><li>340</li><li>341</li><li>342</li><li>343</li><li>344</li><li>345</li><li>346</li><li>347</li><li>348</li><li>349</li><li>350</li><li>351</li><li>352</li><li>353</li><li>354</li><li>355</li><li>356</li><li>357</li><li>358</li><li>359</li><li>360</li><li>361</li><li>362</li><li>363</li><li>364</li><li>365</li></ol>\n"
      ],
      "text/latex": [
       "\\begin{enumerate*}\n",
       "\\item 1\n",
       "\\item 2\n",
       "\\item 3\n",
       "\\item 4\n",
       "\\item 5\n",
       "\\item 6\n",
       "\\item 7\n",
       "\\item 8\n",
       "\\item 9\n",
       "\\item 10\n",
       "\\item 11\n",
       "\\item 12\n",
       "\\item 13\n",
       "\\item 14\n",
       "\\item 15\n",
       "\\item 16\n",
       "\\item 17\n",
       "\\item 18\n",
       "\\item 19\n",
       "\\item 20\n",
       "\\item 21\n",
       "\\item 22\n",
       "\\item 23\n",
       "\\item 24\n",
       "\\item 25\n",
       "\\item 26\n",
       "\\item 27\n",
       "\\item 28\n",
       "\\item 29\n",
       "\\item 30\n",
       "\\item 31\n",
       "\\item 32\n",
       "\\item 33\n",
       "\\item 34\n",
       "\\item 35\n",
       "\\item 36\n",
       "\\item 37\n",
       "\\item 38\n",
       "\\item 39\n",
       "\\item 40\n",
       "\\item 41\n",
       "\\item 42\n",
       "\\item 43\n",
       "\\item 44\n",
       "\\item 45\n",
       "\\item 46\n",
       "\\item 47\n",
       "\\item 48\n",
       "\\item 49\n",
       "\\item 50\n",
       "\\item 51\n",
       "\\item 52\n",
       "\\item 53\n",
       "\\item 54\n",
       "\\item 55\n",
       "\\item 56\n",
       "\\item 57\n",
       "\\item 58\n",
       "\\item 59\n",
       "\\item 60\n",
       "\\item 61\n",
       "\\item 62\n",
       "\\item 63\n",
       "\\item 64\n",
       "\\item 65\n",
       "\\item 66\n",
       "\\item 67\n",
       "\\item 68\n",
       "\\item 69\n",
       "\\item 70\n",
       "\\item 71\n",
       "\\item 72\n",
       "\\item 73\n",
       "\\item 74\n",
       "\\item 75\n",
       "\\item 76\n",
       "\\item 77\n",
       "\\item 78\n",
       "\\item 79\n",
       "\\item 80\n",
       "\\item 81\n",
       "\\item 82\n",
       "\\item 83\n",
       "\\item 84\n",
       "\\item 85\n",
       "\\item 86\n",
       "\\item 87\n",
       "\\item 88\n",
       "\\item 89\n",
       "\\item 90\n",
       "\\item 91\n",
       "\\item 92\n",
       "\\item 93\n",
       "\\item 94\n",
       "\\item 95\n",
       "\\item 96\n",
       "\\item 97\n",
       "\\item 98\n",
       "\\item 99\n",
       "\\item 100\n",
       "\\item 101\n",
       "\\item 102\n",
       "\\item 103\n",
       "\\item 104\n",
       "\\item 105\n",
       "\\item 106\n",
       "\\item 107\n",
       "\\item 108\n",
       "\\item 109\n",
       "\\item 110\n",
       "\\item 111\n",
       "\\item 112\n",
       "\\item 113\n",
       "\\item 114\n",
       "\\item 115\n",
       "\\item 116\n",
       "\\item 117\n",
       "\\item 118\n",
       "\\item 119\n",
       "\\item 120\n",
       "\\item 121\n",
       "\\item 122\n",
       "\\item 123\n",
       "\\item 124\n",
       "\\item 125\n",
       "\\item 126\n",
       "\\item 127\n",
       "\\item 128\n",
       "\\item 129\n",
       "\\item 130\n",
       "\\item 131\n",
       "\\item 132\n",
       "\\item 133\n",
       "\\item 134\n",
       "\\item 135\n",
       "\\item 136\n",
       "\\item 137\n",
       "\\item 138\n",
       "\\item 139\n",
       "\\item 140\n",
       "\\item 141\n",
       "\\item 142\n",
       "\\item 143\n",
       "\\item 144\n",
       "\\item 145\n",
       "\\item 146\n",
       "\\item 147\n",
       "\\item 148\n",
       "\\item 149\n",
       "\\item 150\n",
       "\\item 151\n",
       "\\item 152\n",
       "\\item 153\n",
       "\\item 154\n",
       "\\item 155\n",
       "\\item 156\n",
       "\\item 157\n",
       "\\item 158\n",
       "\\item 159\n",
       "\\item 160\n",
       "\\item 161\n",
       "\\item 162\n",
       "\\item 163\n",
       "\\item 164\n",
       "\\item 165\n",
       "\\item 166\n",
       "\\item 167\n",
       "\\item 168\n",
       "\\item 169\n",
       "\\item 170\n",
       "\\item 171\n",
       "\\item 172\n",
       "\\item 173\n",
       "\\item 174\n",
       "\\item 175\n",
       "\\item 176\n",
       "\\item 177\n",
       "\\item 178\n",
       "\\item 179\n",
       "\\item 180\n",
       "\\item 181\n",
       "\\item 182\n",
       "\\item 183\n",
       "\\item 184\n",
       "\\item 185\n",
       "\\item 186\n",
       "\\item 187\n",
       "\\item 188\n",
       "\\item 189\n",
       "\\item 190\n",
       "\\item 191\n",
       "\\item 192\n",
       "\\item 193\n",
       "\\item 194\n",
       "\\item 195\n",
       "\\item 196\n",
       "\\item 197\n",
       "\\item 198\n",
       "\\item 199\n",
       "\\item 200\n",
       "\\item 201\n",
       "\\item 202\n",
       "\\item 203\n",
       "\\item 204\n",
       "\\item 205\n",
       "\\item 206\n",
       "\\item 207\n",
       "\\item 208\n",
       "\\item 209\n",
       "\\item 210\n",
       "\\item 211\n",
       "\\item 212\n",
       "\\item 213\n",
       "\\item 214\n",
       "\\item 215\n",
       "\\item 216\n",
       "\\item 217\n",
       "\\item 218\n",
       "\\item 219\n",
       "\\item 220\n",
       "\\item 221\n",
       "\\item 222\n",
       "\\item 223\n",
       "\\item 224\n",
       "\\item 225\n",
       "\\item 226\n",
       "\\item 227\n",
       "\\item 228\n",
       "\\item 229\n",
       "\\item 230\n",
       "\\item 231\n",
       "\\item 232\n",
       "\\item 233\n",
       "\\item 234\n",
       "\\item 235\n",
       "\\item 236\n",
       "\\item 237\n",
       "\\item 238\n",
       "\\item 239\n",
       "\\item 240\n",
       "\\item 241\n",
       "\\item 242\n",
       "\\item 243\n",
       "\\item 244\n",
       "\\item 245\n",
       "\\item 246\n",
       "\\item 247\n",
       "\\item 248\n",
       "\\item 249\n",
       "\\item 250\n",
       "\\item 251\n",
       "\\item 252\n",
       "\\item 253\n",
       "\\item 254\n",
       "\\item 255\n",
       "\\item 256\n",
       "\\item 257\n",
       "\\item 258\n",
       "\\item 259\n",
       "\\item 260\n",
       "\\item 261\n",
       "\\item 262\n",
       "\\item 263\n",
       "\\item 264\n",
       "\\item 265\n",
       "\\item 266\n",
       "\\item 267\n",
       "\\item 268\n",
       "\\item 269\n",
       "\\item 270\n",
       "\\item 271\n",
       "\\item 272\n",
       "\\item 273\n",
       "\\item 274\n",
       "\\item 275\n",
       "\\item 276\n",
       "\\item 277\n",
       "\\item 278\n",
       "\\item 279\n",
       "\\item 280\n",
       "\\item 281\n",
       "\\item 282\n",
       "\\item 283\n",
       "\\item 284\n",
       "\\item 285\n",
       "\\item 286\n",
       "\\item 287\n",
       "\\item 288\n",
       "\\item 289\n",
       "\\item 290\n",
       "\\item 291\n",
       "\\item 292\n",
       "\\item 293\n",
       "\\item 294\n",
       "\\item 295\n",
       "\\item 296\n",
       "\\item 297\n",
       "\\item 298\n",
       "\\item 299\n",
       "\\item 300\n",
       "\\item 301\n",
       "\\item 302\n",
       "\\item 303\n",
       "\\item 304\n",
       "\\item 305\n",
       "\\item 306\n",
       "\\item 307\n",
       "\\item 308\n",
       "\\item 309\n",
       "\\item 310\n",
       "\\item 311\n",
       "\\item 312\n",
       "\\item 313\n",
       "\\item 314\n",
       "\\item 315\n",
       "\\item 316\n",
       "\\item 317\n",
       "\\item 318\n",
       "\\item 319\n",
       "\\item 320\n",
       "\\item 321\n",
       "\\item 322\n",
       "\\item 323\n",
       "\\item 324\n",
       "\\item 325\n",
       "\\item 326\n",
       "\\item 327\n",
       "\\item 328\n",
       "\\item 329\n",
       "\\item 330\n",
       "\\item 331\n",
       "\\item 332\n",
       "\\item 333\n",
       "\\item 334\n",
       "\\item 335\n",
       "\\item 336\n",
       "\\item 337\n",
       "\\item 338\n",
       "\\item 339\n",
       "\\item 340\n",
       "\\item 341\n",
       "\\item 342\n",
       "\\item 343\n",
       "\\item 344\n",
       "\\item 345\n",
       "\\item 346\n",
       "\\item 347\n",
       "\\item 348\n",
       "\\item 349\n",
       "\\item 350\n",
       "\\item 351\n",
       "\\item 352\n",
       "\\item 353\n",
       "\\item 354\n",
       "\\item 355\n",
       "\\item 356\n",
       "\\item 357\n",
       "\\item 358\n",
       "\\item 359\n",
       "\\item 360\n",
       "\\item 361\n",
       "\\item 362\n",
       "\\item 363\n",
       "\\item 364\n",
       "\\item 365\n",
       "\\end{enumerate*}\n"
      ],
      "text/markdown": [
       "1. 1\n",
       "2. 2\n",
       "3. 3\n",
       "4. 4\n",
       "5. 5\n",
       "6. 6\n",
       "7. 7\n",
       "8. 8\n",
       "9. 9\n",
       "10. 10\n",
       "11. 11\n",
       "12. 12\n",
       "13. 13\n",
       "14. 14\n",
       "15. 15\n",
       "16. 16\n",
       "17. 17\n",
       "18. 18\n",
       "19. 19\n",
       "20. 20\n",
       "21. 21\n",
       "22. 22\n",
       "23. 23\n",
       "24. 24\n",
       "25. 25\n",
       "26. 26\n",
       "27. 27\n",
       "28. 28\n",
       "29. 29\n",
       "30. 30\n",
       "31. 31\n",
       "32. 32\n",
       "33. 33\n",
       "34. 34\n",
       "35. 35\n",
       "36. 36\n",
       "37. 37\n",
       "38. 38\n",
       "39. 39\n",
       "40. 40\n",
       "41. 41\n",
       "42. 42\n",
       "43. 43\n",
       "44. 44\n",
       "45. 45\n",
       "46. 46\n",
       "47. 47\n",
       "48. 48\n",
       "49. 49\n",
       "50. 50\n",
       "51. 51\n",
       "52. 52\n",
       "53. 53\n",
       "54. 54\n",
       "55. 55\n",
       "56. 56\n",
       "57. 57\n",
       "58. 58\n",
       "59. 59\n",
       "60. 60\n",
       "61. 61\n",
       "62. 62\n",
       "63. 63\n",
       "64. 64\n",
       "65. 65\n",
       "66. 66\n",
       "67. 67\n",
       "68. 68\n",
       "69. 69\n",
       "70. 70\n",
       "71. 71\n",
       "72. 72\n",
       "73. 73\n",
       "74. 74\n",
       "75. 75\n",
       "76. 76\n",
       "77. 77\n",
       "78. 78\n",
       "79. 79\n",
       "80. 80\n",
       "81. 81\n",
       "82. 82\n",
       "83. 83\n",
       "84. 84\n",
       "85. 85\n",
       "86. 86\n",
       "87. 87\n",
       "88. 88\n",
       "89. 89\n",
       "90. 90\n",
       "91. 91\n",
       "92. 92\n",
       "93. 93\n",
       "94. 94\n",
       "95. 95\n",
       "96. 96\n",
       "97. 97\n",
       "98. 98\n",
       "99. 99\n",
       "100. 100\n",
       "101. 101\n",
       "102. 102\n",
       "103. 103\n",
       "104. 104\n",
       "105. 105\n",
       "106. 106\n",
       "107. 107\n",
       "108. 108\n",
       "109. 109\n",
       "110. 110\n",
       "111. 111\n",
       "112. 112\n",
       "113. 113\n",
       "114. 114\n",
       "115. 115\n",
       "116. 116\n",
       "117. 117\n",
       "118. 118\n",
       "119. 119\n",
       "120. 120\n",
       "121. 121\n",
       "122. 122\n",
       "123. 123\n",
       "124. 124\n",
       "125. 125\n",
       "126. 126\n",
       "127. 127\n",
       "128. 128\n",
       "129. 129\n",
       "130. 130\n",
       "131. 131\n",
       "132. 132\n",
       "133. 133\n",
       "134. 134\n",
       "135. 135\n",
       "136. 136\n",
       "137. 137\n",
       "138. 138\n",
       "139. 139\n",
       "140. 140\n",
       "141. 141\n",
       "142. 142\n",
       "143. 143\n",
       "144. 144\n",
       "145. 145\n",
       "146. 146\n",
       "147. 147\n",
       "148. 148\n",
       "149. 149\n",
       "150. 150\n",
       "151. 151\n",
       "152. 152\n",
       "153. 153\n",
       "154. 154\n",
       "155. 155\n",
       "156. 156\n",
       "157. 157\n",
       "158. 158\n",
       "159. 159\n",
       "160. 160\n",
       "161. 161\n",
       "162. 162\n",
       "163. 163\n",
       "164. 164\n",
       "165. 165\n",
       "166. 166\n",
       "167. 167\n",
       "168. 168\n",
       "169. 169\n",
       "170. 170\n",
       "171. 171\n",
       "172. 172\n",
       "173. 173\n",
       "174. 174\n",
       "175. 175\n",
       "176. 176\n",
       "177. 177\n",
       "178. 178\n",
       "179. 179\n",
       "180. 180\n",
       "181. 181\n",
       "182. 182\n",
       "183. 183\n",
       "184. 184\n",
       "185. 185\n",
       "186. 186\n",
       "187. 187\n",
       "188. 188\n",
       "189. 189\n",
       "190. 190\n",
       "191. 191\n",
       "192. 192\n",
       "193. 193\n",
       "194. 194\n",
       "195. 195\n",
       "196. 196\n",
       "197. 197\n",
       "198. 198\n",
       "199. 199\n",
       "200. 200\n",
       "201. 201\n",
       "202. 202\n",
       "203. 203\n",
       "204. 204\n",
       "205. 205\n",
       "206. 206\n",
       "207. 207\n",
       "208. 208\n",
       "209. 209\n",
       "210. 210\n",
       "211. 211\n",
       "212. 212\n",
       "213. 213\n",
       "214. 214\n",
       "215. 215\n",
       "216. 216\n",
       "217. 217\n",
       "218. 218\n",
       "219. 219\n",
       "220. 220\n",
       "221. 221\n",
       "222. 222\n",
       "223. 223\n",
       "224. 224\n",
       "225. 225\n",
       "226. 226\n",
       "227. 227\n",
       "228. 228\n",
       "229. 229\n",
       "230. 230\n",
       "231. 231\n",
       "232. 232\n",
       "233. 233\n",
       "234. 234\n",
       "235. 235\n",
       "236. 236\n",
       "237. 237\n",
       "238. 238\n",
       "239. 239\n",
       "240. 240\n",
       "241. 241\n",
       "242. 242\n",
       "243. 243\n",
       "244. 244\n",
       "245. 245\n",
       "246. 246\n",
       "247. 247\n",
       "248. 248\n",
       "249. 249\n",
       "250. 250\n",
       "251. 251\n",
       "252. 252\n",
       "253. 253\n",
       "254. 254\n",
       "255. 255\n",
       "256. 256\n",
       "257. 257\n",
       "258. 258\n",
       "259. 259\n",
       "260. 260\n",
       "261. 261\n",
       "262. 262\n",
       "263. 263\n",
       "264. 264\n",
       "265. 265\n",
       "266. 266\n",
       "267. 267\n",
       "268. 268\n",
       "269. 269\n",
       "270. 270\n",
       "271. 271\n",
       "272. 272\n",
       "273. 273\n",
       "274. 274\n",
       "275. 275\n",
       "276. 276\n",
       "277. 277\n",
       "278. 278\n",
       "279. 279\n",
       "280. 280\n",
       "281. 281\n",
       "282. 282\n",
       "283. 283\n",
       "284. 284\n",
       "285. 285\n",
       "286. 286\n",
       "287. 287\n",
       "288. 288\n",
       "289. 289\n",
       "290. 290\n",
       "291. 291\n",
       "292. 292\n",
       "293. 293\n",
       "294. 294\n",
       "295. 295\n",
       "296. 296\n",
       "297. 297\n",
       "298. 298\n",
       "299. 299\n",
       "300. 300\n",
       "301. 301\n",
       "302. 302\n",
       "303. 303\n",
       "304. 304\n",
       "305. 305\n",
       "306. 306\n",
       "307. 307\n",
       "308. 308\n",
       "309. 309\n",
       "310. 310\n",
       "311. 311\n",
       "312. 312\n",
       "313. 313\n",
       "314. 314\n",
       "315. 315\n",
       "316. 316\n",
       "317. 317\n",
       "318. 318\n",
       "319. 319\n",
       "320. 320\n",
       "321. 321\n",
       "322. 322\n",
       "323. 323\n",
       "324. 324\n",
       "325. 325\n",
       "326. 326\n",
       "327. 327\n",
       "328. 328\n",
       "329. 329\n",
       "330. 330\n",
       "331. 331\n",
       "332. 332\n",
       "333. 333\n",
       "334. 334\n",
       "335. 335\n",
       "336. 336\n",
       "337. 337\n",
       "338. 338\n",
       "339. 339\n",
       "340. 340\n",
       "341. 341\n",
       "342. 342\n",
       "343. 343\n",
       "344. 344\n",
       "345. 345\n",
       "346. 346\n",
       "347. 347\n",
       "348. 348\n",
       "349. 349\n",
       "350. 350\n",
       "351. 351\n",
       "352. 352\n",
       "353. 353\n",
       "354. 354\n",
       "355. 355\n",
       "356. 356\n",
       "357. 357\n",
       "358. 358\n",
       "359. 359\n",
       "360. 360\n",
       "361. 361\n",
       "362. 362\n",
       "363. 363\n",
       "364. 364\n",
       "365. 365\n",
       "\n",
       "\n"
      ],
      "text/plain": [
       "  [1]   1   2   3   4   5   6   7   8   9  10  11  12  13  14  15  16  17  18\n",
       " [19]  19  20  21  22  23  24  25  26  27  28  29  30  31  32  33  34  35  36\n",
       " [37]  37  38  39  40  41  42  43  44  45  46  47  48  49  50  51  52  53  54\n",
       " [55]  55  56  57  58  59  60  61  62  63  64  65  66  67  68  69  70  71  72\n",
       " [73]  73  74  75  76  77  78  79  80  81  82  83  84  85  86  87  88  89  90\n",
       " [91]  91  92  93  94  95  96  97  98  99 100 101 102 103 104 105 106 107 108\n",
       "[109] 109 110 111 112 113 114 115 116 117 118 119 120 121 122 123 124 125 126\n",
       "[127] 127 128 129 130 131 132 133 134 135 136 137 138 139 140 141 142 143 144\n",
       "[145] 145 146 147 148 149 150 151 152 153 154 155 156 157 158 159 160 161 162\n",
       "[163] 163 164 165 166 167 168 169 170 171 172 173 174 175 176 177 178 179 180\n",
       "[181] 181 182 183 184 185 186 187 188 189 190 191 192 193 194 195 196 197 198\n",
       "[199] 199 200 201 202 203 204 205 206 207 208 209 210 211 212 213 214 215 216\n",
       "[217] 217 218 219 220 221 222 223 224 225 226 227 228 229 230 231 232 233 234\n",
       "[235] 235 236 237 238 239 240 241 242 243 244 245 246 247 248 249 250 251 252\n",
       "[253] 253 254 255 256 257 258 259 260 261 262 263 264 265 266 267 268 269 270\n",
       "[271] 271 272 273 274 275 276 277 278 279 280 281 282 283 284 285 286 287 288\n",
       "[289] 289 290 291 292 293 294 295 296 297 298 299 300 301 302 303 304 305 306\n",
       "[307] 307 308 309 310 311 312 313 314 315 316 317 318 319 320 321 322 323 324\n",
       "[325] 325 326 327 328 329 330 331 332 333 334 335 336 337 338 339 340 341 342\n",
       "[343] 343 344 345 346 347 348 349 350 351 352 353 354 355 356 357 358 359 360\n",
       "[361] 361 362 363 364 365"
      ]
     },
     "metadata": {},
     "output_type": "display_data"
    }
   ],
   "source": []
  },
  {
   "cell_type": "markdown",
   "id": "8fcebb00",
   "metadata": {},
   "source": [
    "## Exportando resultados"
   ]
  },
  {
   "cell_type": "code",
   "execution_count": null,
   "id": "8f1d01c4",
   "metadata": {
    "vscode": {
     "languageId": "r"
    }
   },
   "outputs": [],
   "source": []
  }
 ],
 "metadata": {
  "kernelspec": {
   "display_name": "R",
   "language": "R",
   "name": "ir"
  },
  "language_info": {
   "codemirror_mode": "r",
   "file_extension": ".r",
   "mimetype": "text/x-r-source",
   "name": "R",
   "pygments_lexer": "r",
   "version": "4.2.3"
  }
 },
 "nbformat": 4,
 "nbformat_minor": 5
}
