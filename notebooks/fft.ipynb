{
 "cells": [
  {
   "cell_type": "markdown",
   "metadata": {},
   "source": [
    "<div align = \"center\">\n",
    "\n",
    "# **Modelo de Riesgo Colectivo - Transformada Rápida de Fourier (FFT)**\n",
    "\n",
    "</div>"
   ]
  },
  {
   "cell_type": "markdown",
   "metadata": {},
   "source": [
    "## Librerías y Funciones"
   ]
  },
  {
   "cell_type": "code",
   "execution_count": 22,
   "metadata": {
    "vscode": {
     "languageId": "r"
    }
   },
   "outputs": [],
   "source": [
    "source(\"../src/utils/FFT_RiesgoColectivo.R\")\n",
    "library(ggplot2)\n",
    "library(dplyr)"
   ]
  },
  {
   "cell_type": "markdown",
   "metadata": {},
   "source": [
    "## Datos de Entrada"
   ]
  },
  {
   "cell_type": "code",
   "execution_count": 23,
   "metadata": {
    "vscode": {
     "languageId": "r"
    }
   },
   "outputs": [
    {
     "name": "stderr",
     "output_type": "stream",
     "text": [
      "Warning message in read.table(file = file, header = header, sep = sep, quote = quote, :\n",
      "“incomplete final line found by readTableHeader on '../data/processed/severidad_discreta_metadata.csv'”\n"
     ]
    },
    {
     "name": "stdout",
     "output_type": "stream",
     "text": [
      "═══════════════════════════════════════════════════════════════════════════\n",
      "                     DISTRIBUCIONES DE SEVERIDAD CARGADAS                    \n",
      "═══════════════════════════════════════════════════════════════════════════\n",
      "PPD: gamma (α=1.8460, β=0.0000) - 50000 puntos, suma = 1.000000\n",
      "PPH: gamma (α=1.9422, β=0.0000) - 50000 puntos, suma = 1.000000\n",
      "PTH: gamma (α=0.9403, β=0.0000) - 50000 puntos, suma = 1.000000\n",
      "RC: lognormal (μ=14.1863, σ=0.8105) - 50000 puntos, suma = 1.000000\n",
      "═══════════════════════════════════════════════════════════════════════════\n"
     ]
    }
   ],
   "source": [
    "### Cargar distribuciones de severidad discretizadas\n",
    "\n",
    "# Cargar probabilidades de severidad\n",
    "prob_severidad_ppd <- read.csv(\"../data/processed/prob_severidad_ppd.csv\")$probabilidades\n",
    "prob_severidad_pph <- read.csv(\"../data/processed/prob_severidad_pph.csv\")$probabilidades\n",
    "prob_severidad_pth <- read.csv(\"../data/processed/prob_severidad_pth.csv\")$probabilidades\n",
    "prob_severidad_rc <- read.csv(\"../data/processed/prob_severidad_rc.csv\")$probabilidades\n",
    "\n",
    "# Cargar metadata\n",
    "metadata <- read.csv(\"../data/processed/severidad_discreta_metadata.csv\")\n",
    "\n",
    "# Mostrar información de las distribuciones\n",
    "cat(\"═══════════════════════════════════════════════════════════════════════════\\n\")\n",
    "cat(\"                     DISTRIBUCIONES DE SEVERIDAD CARGADAS                    \\n\")\n",
    "cat(\"═══════════════════════════════════════════════════════════════════════════\\n\")\n",
    "for (i in 1:nrow(metadata)) {\n",
    "  cat(sprintf(\"%s: %s (%s) - %d puntos, suma = %.6f\\n\", \n",
    "              metadata$cobertura[i], metadata$distribucion[i], \n",
    "              metadata$parametros[i], metadata$numero_puntos[i], \n",
    "              metadata$suma_probabilidades[i]))\n",
    "}\n",
    "cat(\"═══════════════════════════════════════════════════════════════════════════\\n\")"
   ]
  },
  {
   "cell_type": "code",
   "execution_count": 24,
   "metadata": {
    "vscode": {
     "languageId": "r"
    }
   },
   "outputs": [
    {
     "name": "stdout",
     "output_type": "stream",
     "text": [
      "[1] \"Parámetros de frecuencia listos para usar con FFT\"\n"
     ]
    }
   ],
   "source": [
    "### Parámetros de frecuencia para nuevas pólizas\n",
    "\n",
    "# Basados en el análisis de modelo_de_frecuencia.ipynb\n",
    "\n",
    "# PPD - Binomial Negativa (size=497.8318, mu=2.718789)\n",
    "# PPH - Poisson (lambda=0.1140837)\n",
    "# PTH - Binomial Negativa (size=70.55872, mu=0.1042296)  \n",
    "# RC - Binomial Negativa (size=253.8759, mu=0.53535)\n",
    "\n",
    "print(\"Parámetros de frecuencia listos para usar con FFT\")"
   ]
  },
  {
   "cell_type": "markdown",
   "metadata": {},
   "source": [
    "## Cálculo de Modelos de Riesgo Colectivo usando FFT"
   ]
  },
  {
   "cell_type": "code",
   "execution_count": 25,
   "metadata": {
    "vscode": {
     "languageId": "r"
    }
   },
   "outputs": [
    {
     "name": "stdout",
     "output_type": "stream",
     "text": [
      "Calculando distribución compuesta usando suma aleatoria FFT...\n",
      "Distribución de frecuencia: max_n = 9, suma = 0.999446\n",
      "Aplicando suma aleatoria FFT...\n",
      "═══════════════════════════════════════════════════════════════════════════\n",
      "                       MODELO DE RIESGO COLECTIVO (FFT)                    \n",
      "═══════════════════════════════════════════════════════════════════════════\n",
      "Distribución de frecuencia: Negative Binomial\n",
      "Parámetros de frecuencia:\n",
      "  size = 497.831800\n",
      "  mu = 2.718789\n",
      "Puntos de severidad: 50000\n",
      "Suma probabilidades severidad: 1.000000\n",
      "Puntos FFT: 262144\n",
      "Factor de escala: 10000\n",
      "═══════════════════════════════════════════════════════════════════════════\n"
     ]
    }
   ],
   "source": [
    "### PPD - Binomial Negativa + Gamma\n",
    "\n",
    "resultado_ppd <- FFT_RiesgoColectivo(\n",
    "  prob_severidad = prob_severidad_ppd,\n",
    "  dist_frecuencia = \"negative binomial\",\n",
    "  parametros_frecuencia = list(size = 497.8318, mu = 2.718789),\n",
    "  x_scale = 10000,\n",
    "  echo = TRUE\n",
    ")"
   ]
  },
  {
   "cell_type": "code",
   "execution_count": 26,
   "metadata": {
    "vscode": {
     "languageId": "r"
    }
   },
   "outputs": [
    {
     "name": "stdout",
     "output_type": "stream",
     "text": [
      "Calculando distribución compuesta usando suma aleatoria FFT...\n",
      "Distribución de frecuencia: max_n = 2, suma = 0.999773\n",
      "Aplicando suma aleatoria FFT...\n",
      "═══════════════════════════════════════════════════════════════════════════\n",
      "                       MODELO DE RIESGO COLECTIVO (FFT)                    \n",
      "═══════════════════════════════════════════════════════════════════════════\n",
      "Distribución de frecuencia: Poisson\n",
      "Parámetros de frecuencia:\n",
      "  lambda = 0.114084\n",
      "Puntos de severidad: 50000\n",
      "Suma probabilidades severidad: 1.000000\n",
      "Puntos FFT: 262144\n",
      "Factor de escala: 10000\n",
      "═══════════════════════════════════════════════════════════════════════════\n"
     ]
    }
   ],
   "source": [
    "### PPH - Poisson + Gamma\n",
    "\n",
    "resultado_pph <- FFT_RiesgoColectivo(\n",
    "  prob_severidad = prob_severidad_pph,\n",
    "  dist_frecuencia = \"poisson\",\n",
    "  parametros_frecuencia = list(lambda = 0.1140837),\n",
    "  x_scale = 10000,\n",
    "  echo = TRUE\n",
    ")"
   ]
  },
  {
   "cell_type": "code",
   "execution_count": 27,
   "metadata": {
    "vscode": {
     "languageId": "r"
    }
   },
   "outputs": [
    {
     "name": "stdout",
     "output_type": "stream",
     "text": [
      "Calculando distribución compuesta usando suma aleatoria FFT...\n",
      "Distribución de frecuencia: max_n = 2, suma = 0.999819\n",
      "Aplicando suma aleatoria FFT...\n",
      "═══════════════════════════════════════════════════════════════════════════\n",
      "                       MODELO DE RIESGO COLECTIVO (FFT)                    \n",
      "═══════════════════════════════════════════════════════════════════════════\n",
      "Distribución de frecuencia: Negative Binomial\n",
      "Parámetros de frecuencia:\n",
      "  size = 70.558720\n",
      "  mu = 0.104230\n",
      "Puntos de severidad: 50000\n",
      "Suma probabilidades severidad: 1.000000\n",
      "Puntos FFT: 262144\n",
      "Factor de escala: 10000\n",
      "═══════════════════════════════════════════════════════════════════════════\n"
     ]
    }
   ],
   "source": [
    "### PTH - Binomial Negativa + Gamma\n",
    "\n",
    "resultado_pth <- FFT_RiesgoColectivo(\n",
    "  prob_severidad = prob_severidad_pth,\n",
    "  dist_frecuencia = \"negative binomial\",\n",
    "  parametros_frecuencia = list(size = 70.55872, mu = 0.1042296),\n",
    "  x_scale = 10000,\n",
    "  echo = TRUE\n",
    ")"
   ]
  },
  {
   "cell_type": "code",
   "execution_count": 28,
   "metadata": {
    "vscode": {
     "languageId": "r"
    }
   },
   "outputs": [
    {
     "name": "stdout",
     "output_type": "stream",
     "text": [
      "Calculando distribución compuesta usando suma aleatoria FFT...\n",
      "Distribución de frecuencia: max_n = 4, suma = 0.999757\n",
      "Aplicando suma aleatoria FFT...\n",
      "═══════════════════════════════════════════════════════════════════════════\n",
      "                       MODELO DE RIESGO COLECTIVO (FFT)                    \n",
      "═══════════════════════════════════════════════════════════════════════════\n",
      "Distribución de frecuencia: Negative Binomial\n",
      "Parámetros de frecuencia:\n",
      "  size = 253.875900\n",
      "  mu = 0.535350\n",
      "Puntos de severidad: 50000\n",
      "Suma probabilidades severidad: 1.000000\n",
      "Puntos FFT: 262144\n",
      "Factor de escala: 10000\n",
      "═══════════════════════════════════════════════════════════════════════════\n"
     ]
    }
   ],
   "source": [
    "### RC - Binomial Negativa + Lognormal\n",
    "\n",
    "resultado_rc <- FFT_RiesgoColectivo(\n",
    "  prob_severidad = prob_severidad_rc,\n",
    "  dist_frecuencia = \"negative binomial\",\n",
    "  parametros_frecuencia = list(size = 253.8759, mu = 0.53535),\n",
    "  x_scale = 10000,\n",
    "  echo = TRUE\n",
    ")"
   ]
  },
  {
   "cell_type": "markdown",
   "metadata": {},
   "source": [
    "## Obtener distribuciones de pérdida agregada"
   ]
  },
  {
   "cell_type": "code",
   "execution_count": 29,
   "metadata": {
    "vscode": {
     "languageId": "r"
    }
   },
   "outputs": [
    {
     "name": "stdout",
     "output_type": "stream",
     "text": [
      "Primeros valores PPD:\n"
     ]
    },
    {
     "name": "stdout",
     "output_type": "stream",
     "text": [
      "      x        cdf          pmf\n",
      "1     0 0.06648718 6.648718e-02\n",
      "2 10000 0.06650288 1.570548e-05\n",
      "3 20000 0.06652700 2.411447e-05\n",
      "4 30000 0.06655891 3.191023e-05\n",
      "5 40000 0.06659819 3.928120e-05\n",
      "6 50000 0.06664451 4.632336e-05\n",
      "\n",
      "Primeros valores PPH:\n",
      "      x       cdf          pmf\n",
      "1     0 0.8923935 8.923935e-01\n",
      "2 10000 0.8924144 2.089066e-05\n",
      "3 20000 0.8924478 3.348710e-05\n",
      "4 30000 0.8924934 4.551940e-05\n",
      "5 40000 0.8925505 5.709601e-05\n",
      "6 50000 0.8926187 6.827607e-05\n",
      "\n",
      "Primeros valores PTH:\n",
      "      x       cdf          pmf\n",
      "1     0 0.9013389 9.013389e-01\n",
      "2 10000 0.9014195 8.053571e-05\n",
      "3 20000 0.9014975 7.801277e-05\n",
      "4 30000 0.9015739 7.640371e-05\n",
      "5 40000 0.9016491 7.521862e-05\n",
      "6 50000 0.9017234 7.427931e-05\n",
      "\n",
      "Primeros valores RC:\n",
      "      x       cdf          pmf\n",
      "1     0 0.5859366 5.859366e-01\n",
      "2 10000 0.5859366 1.961096e-08\n",
      "3 20000 0.5859369 2.490846e-07\n",
      "4 30000 0.5859381 1.211984e-06\n",
      "5 40000 0.5859417 3.637081e-06\n",
      "6 50000 0.5859500 8.241418e-06\n",
      "\n",
      "═══════════════════════════════════════════════════════════════════════════\n",
      "                           INFORMACIÓN DE RANGO                             \n",
      "═══════════════════════════════════════════════════════════════════════════\n",
      "PPD: 50001 puntos, desde $0 hasta $5e+08\n",
      "PPH: 50001 puntos, desde $0 hasta $5e+08\n",
      "PTH: 50001 puntos, desde $0 hasta $5e+08\n",
      "RC: 50001 puntos, desde $0 hasta $5e+08\n",
      "═══════════════════════════════════════════════════════════════════════════\n"
     ]
    }
   ],
   "source": [
    "# Obtener probabilidades discretas para cada cobertura (hasta 500 millones)\n",
    "prob_agregada_ppd <- resultado_ppd$obtener_probabilidades(x_max = 500000000, paso = 10000)\n",
    "prob_agregada_pph <- resultado_pph$obtener_probabilidades(x_max = 500000000, paso = 10000)\n",
    "prob_agregada_pth <- resultado_pth$obtener_probabilidades(x_max = 500000000, paso = 10000)\n",
    "prob_agregada_rc <- resultado_rc$obtener_probabilidades(x_max = 500000000, paso = 10000)\n",
    "\n",
    "# Mostrar primeros valores de cada distribución\n",
    "cat(\"Primeros valores PPD:\\n\")\n",
    "print(head(prob_agregada_ppd))\n",
    "\n",
    "cat(\"\\nPrimeros valores PPH:\\n\")\n",
    "print(head(prob_agregada_pph))\n",
    "\n",
    "cat(\"\\nPrimeros valores PTH:\\n\")\n",
    "print(head(prob_agregada_pth))\n",
    "\n",
    "cat(\"\\nPrimeros valores RC:\\n\")\n",
    "print(head(prob_agregada_rc))\n",
    "\n",
    "# Mostrar información sobre el rango de datos\n",
    "cat(\"\\n═══════════════════════════════════════════════════════════════════════════\\n\")\n",
    "cat(\"                           INFORMACIÓN DE RANGO                             \\n\")\n",
    "cat(\"═══════════════════════════════════════════════════════════════════════════\\n\")\n",
    "cat(sprintf(\"PPD: %d puntos, desde $%s hasta $%s\\n\", \n",
    "            nrow(prob_agregada_ppd), \n",
    "            format(min(prob_agregada_ppd$x), big.mark = \",\"), \n",
    "            format(max(prob_agregada_ppd$x), big.mark = \",\")))\n",
    "cat(sprintf(\"PPH: %d puntos, desde $%s hasta $%s\\n\", \n",
    "            nrow(prob_agregada_pph), \n",
    "            format(min(prob_agregada_pph$x), big.mark = \",\"), \n",
    "            format(max(prob_agregada_pph$x), big.mark = \",\")))\n",
    "cat(sprintf(\"PTH: %d puntos, desde $%s hasta $%s\\n\", \n",
    "            nrow(prob_agregada_pth), \n",
    "            format(min(prob_agregada_pth$x), big.mark = \",\"), \n",
    "            format(max(prob_agregada_pth$x), big.mark = \",\")))\n",
    "cat(sprintf(\"RC: %d puntos, desde $%s hasta $%s\\n\", \n",
    "            nrow(prob_agregada_rc), \n",
    "            format(min(prob_agregada_rc$x), big.mark = \",\"), \n",
    "            format(max(prob_agregada_rc$x), big.mark = \",\")))\n",
    "cat(\"═══════════════════════════════════════════════════════════════════════════\\n\")"
   ]
  },
  {
   "cell_type": "markdown",
   "metadata": {},
   "source": [
    "## Exportar vectores de probabilidad"
   ]
  },
  {
   "cell_type": "code",
   "execution_count": 30,
   "metadata": {
    "vscode": {
     "languageId": "r"
    }
   },
   "outputs": [
    {
     "name": "stdout",
     "output_type": "stream",
     "text": [
      "[1] \"Vectores de probabilidad exportados exitosamente desde FFT\"\n"
     ]
    }
   ],
   "source": [
    "# Exportar vectores de probabilidad para comparación con Panjer\n",
    "write.csv(prob_agregada_ppd, \"../data/processed/prob_agregada_ppd_fft.csv\", row.names = FALSE)\n",
    "write.csv(prob_agregada_pph, \"../data/processed/prob_agregada_pph_fft.csv\", row.names = FALSE)\n",
    "write.csv(prob_agregada_pth, \"../data/processed/prob_agregada_pth_fft.csv\", row.names = FALSE)\n",
    "write.csv(prob_agregada_rc, \"../data/processed/prob_agregada_rc_fft.csv\", row.names = FALSE)\n",
    "\n",
    "print(\"Vectores de probabilidad exportados exitosamente desde FFT\")"
   ]
  }
 ],
 "metadata": {
  "kernelspec": {
   "display_name": "R",
   "language": "R",
   "name": "ir"
  },
  "language_info": {
   "codemirror_mode": "r",
   "file_extension": ".r",
   "mimetype": "text/x-r-source",
   "name": "R",
   "pygments_lexer": "r",
   "version": "4.2.3"
  }
 },
 "nbformat": 4,
 "nbformat_minor": 4
}
