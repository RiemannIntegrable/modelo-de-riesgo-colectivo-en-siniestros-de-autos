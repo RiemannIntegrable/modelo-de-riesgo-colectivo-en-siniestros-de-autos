{
 "cells": [
  {
   "cell_type": "markdown",
   "metadata": {},
   "source": [
    "# Requerimiento de Capital Mensual\n",
    "\n",
    "Calculo del SCR basado en la distribucion de perdida agregada total."
   ]
  },
  {
   "cell_type": "code",
   "execution_count": 1,
   "metadata": {
    "vscode": {
     "languageId": "r"
    }
   },
   "outputs": [
    {
     "name": "stdout",
     "output_type": "stream",
     "text": [
      "Datos cargados: 200001 observaciones\n",
      "Rango: 0 a 2e+09"
     ]
    }
   ],
   "source": [
    "# Cargar librerias y datos\n",
    "library(data.table)\n",
    "library(knitr)\n",
    "\n",
    "# Cargar distribucion de perdida agregada total\n",
    "perdida_total <- fread(\"../data/output/perdida_agregada_total_portafolio.csv\")\n",
    "\n",
    "cat(\"Datos cargados:\", nrow(perdida_total), \"observaciones\")\n",
    "cat(\"\\nRango:\", min(perdida_total$x), \"a\", max(perdida_total$x))"
   ]
  },
  {
   "cell_type": "code",
   "execution_count": 2,
   "metadata": {
    "vscode": {
     "languageId": "r"
    }
   },
   "outputs": [
    {
     "name": "stdout",
     "output_type": "stream",
     "text": [
      "Perdida Esperada: $ 12,714,886"
     ]
    }
   ],
   "source": [
    "# Calcular perdida esperada\n",
    "perdida_esperada <- sum(perdida_total$x * perdida_total$pmf)\n",
    "\n",
    "cat(\"Perdida Esperada: $\", format(perdida_esperada, big.mark=\",\", scientific=FALSE))"
   ]
  },
  {
   "cell_type": "code",
   "execution_count": 3,
   "metadata": {
    "vscode": {
     "languageId": "r"
    }
   },
   "outputs": [
    {
     "data": {
      "text/plain": [
       "\n",
       "\n",
       "Table: Solvency Capital Requirement (SCR) por Nivel de Confianza\n",
       "\n",
       "|Nivel_Confianza |VaR         |SCR         |SCR_Porcentaje |\n",
       "|:---------------|:-----------|:-----------|:--------------|\n",
       "|90%             |$24,580,000 |$11,865,114 |93.3%          |\n",
       "|95%             |$30,850,000 |$18,135,114 |142.6%         |\n",
       "|99%             |$52,420,000 |$39,705,114 |312.3%         |\n",
       "|99.5%           |$64,350,000 |$51,635,114 |406.1%         |\n",
       "|99.9%           |$92,560,000 |$79,845,114 |628%           |"
      ]
     },
     "metadata": {},
     "output_type": "display_data"
    },
    {
     "name": "stdout",
     "output_type": "stream",
     "text": [
      "\n",
      "\n",
      "Formula: SCR = VaR - Perdida Esperada"
     ]
    }
   ],
   "source": [
    "# Funcion para calcular VaR\n",
    "calcular_var <- function(datos, alpha) {\n",
    "  indice <- which(datos$cdf >= alpha)[1]\n",
    "  return(datos$x[indice])\n",
    "}\n",
    "\n",
    "# Calcular VaR para diferentes niveles\n",
    "niveles <- c(0.90, 0.95, 0.99, 0.995, 0.999)\n",
    "var_valores <- sapply(niveles, function(alpha) calcular_var(perdida_total, alpha))\n",
    "\n",
    "# Calcular SCR para cada nivel (SCR = VaR - Perdida Esperada)\n",
    "scr_valores <- var_valores - perdida_esperada\n",
    "\n",
    "# Crear tabla de resultados\n",
    "tabla_scr <- data.frame(\n",
    "  Nivel_Confianza = c(\"90%\", \"95%\", \"99%\", \"99.5%\", \"99.9%\"),\n",
    "  VaR = paste0(\"$\", format(var_valores, big.mark=\",\", scientific=FALSE)),\n",
    "  SCR = paste0(\"$\", format(scr_valores, big.mark=\",\", scientific=FALSE)),\n",
    "  SCR_Porcentaje = paste0(round((scr_valores/perdida_esperada)*100, 1), \"%\")\n",
    ")\n",
    "\n",
    "kable(tabla_scr, caption = \"Solvency Capital Requirement (SCR) por Nivel de Confianza\")\n",
    "\n",
    "cat(\"\\n\\nFormula: SCR = VaR - Perdida Esperada\")"
   ]
  },
  {
   "cell_type": "code",
   "execution_count": 4,
   "metadata": {
    "vscode": {
     "languageId": "r"
    }
   },
   "outputs": [
    {
     "name": "stdout",
     "output_type": "stream",
     "text": [
      "======================================================\n",
      "       REQUERIMIENTO DE CAPITAL MENSUAL\n",
      "======================================================\n",
      "\n",
      "Segun Solvencia II (99.5% confianza):\n",
      "\n",
      "SCR = $ 51,635,114\n",
      "\n",
      "======================================================"
     ]
    }
   ],
   "source": [
    "# Respuesta final - SCR al 99.5% (estandar regulatorio)\n",
    "scr_995 <- scr_valores[4]  # 99.5% es el cuarto elemento\n",
    "\n",
    "cat(\"======================================================\")\n",
    "cat(\"\\n       REQUERIMIENTO DE CAPITAL MENSUAL\")\n",
    "cat(\"\\n======================================================\")\n",
    "cat(\"\\n\")\n",
    "cat(\"\\nSegun Solvencia II (99.5% confianza):\")\n",
    "cat(\"\\n\")\n",
    "cat(\"\\nSCR = $\", format(scr_995, big.mark=\",\", scientific=FALSE))\n",
    "cat(\"\\n\")\n",
    "cat(\"\\n======================================================\")"
   ]
  }
 ],
 "metadata": {
  "kernelspec": {
   "display_name": "R",
   "language": "R",
   "name": "ir"
  },
  "language_info": {
   "codemirror_mode": "r",
   "file_extension": ".r",
   "mimetype": "text/x-r-source",
   "name": "R",
   "pygments_lexer": "r",
   "version": "4.2.3"
  }
 },
 "nbformat": 4,
 "nbformat_minor": 4
}
