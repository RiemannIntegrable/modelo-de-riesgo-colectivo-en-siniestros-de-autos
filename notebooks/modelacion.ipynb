{
 "cells": [
  {
   "cell_type": "markdown",
   "id": "a867510d",
   "metadata": {},
   "source": [
    "<div align=\"center\">\n",
    "\n",
    "# **Modelacion**\n",
    "\n",
    "</div>"
   ]
  },
  {
   "cell_type": "markdown",
   "id": "9f7aadbe",
   "metadata": {},
   "source": [
    "## Librerias"
   ]
  },
  {
   "cell_type": "code",
   "execution_count": null,
   "id": "7ea991c0",
   "metadata": {
    "vscode": {
     "languageId": "r"
    }
   },
   "outputs": [],
   "source": []
  },
  {
   "cell_type": "markdown",
   "id": "5f079426",
   "metadata": {},
   "source": [
    "## Data"
   ]
  },
  {
   "cell_type": "code",
   "execution_count": 41,
   "id": "4034587f",
   "metadata": {
    "vscode": {
     "languageId": "r"
    }
   },
   "outputs": [],
   "source": [
    "siniestros_ppd <- read.csv(\"../data/processed/Siniestros_ppd.csv\")\n",
    "siniestros_pph <- read.csv(\"../data/processed/Siniestros_pph.csv\")\n",
    "siniestros_pth <- read.csv(\"../data/processed/Siniestros_pth.csv\")\n",
    "siniestros_rc <- read.csv(\"../data/processed/Siniestros_rc.csv\")\n",
    "polizas_ppd <- read.csv(\"../data/processed/polizas_ppd.csv\")\n",
    "polizas_pph <- read.csv(\"../data/processed/polizas_pph.csv\")\n",
    "polizas_pth <- read.csv(\"../data/processed/polizas_pth.csv\")\n",
    "polizas_rc <- read.csv(\"../data/processed/polizas_rc.csv\")"
   ]
  },
  {
   "cell_type": "code",
   "execution_count": 42,
   "id": "ea022f31",
   "metadata": {
    "vscode": {
     "languageId": "r"
    }
   },
   "outputs": [],
   "source": [
    "siniestros_pph$Año <- NULL\n",
    "siniestros_pph$Mes <- NULL\n",
    "siniestros_pph$Día <- NULL\n",
    "siniestros_pph$Periodo <- NULL"
   ]
  },
  {
   "cell_type": "code",
   "execution_count": 43,
   "id": "e37ddc35",
   "metadata": {
    "vscode": {
     "languageId": "r"
    }
   },
   "outputs": [],
   "source": [
    "siniestros_ppd$Año <- NULL\n",
    "siniestros_ppd$Mes <- NULL\n",
    "siniestros_ppd$Día <- NULL\n",
    "siniestros_ppd$Periodo <- NULL"
   ]
  },
  {
   "cell_type": "code",
   "execution_count": 44,
   "id": "b6152197",
   "metadata": {
    "vscode": {
     "languageId": "r"
    }
   },
   "outputs": [],
   "source": [
    "siniestros_pth$Año <- NULL\n",
    "siniestros_pth$Mes <- NULL\n",
    "siniestros_pth$Día <- NULL\n",
    "siniestros_pth$Periodo <- NULL"
   ]
  },
  {
   "cell_type": "code",
   "execution_count": 45,
   "id": "52a754e4",
   "metadata": {
    "vscode": {
     "languageId": "r"
    }
   },
   "outputs": [],
   "source": [
    "siniestros_rc$Año <- NULL\n",
    "siniestros_rc$Mes <- NULL\n",
    "siniestros_rc$Día <- NULL\n",
    "siniestros_rc$Periodo <- NULL"
   ]
  },
  {
   "cell_type": "markdown",
   "id": "6a9cef07",
   "metadata": {},
   "source": [
    "## Merge de las tablas"
   ]
  },
  {
   "cell_type": "code",
   "execution_count": 46,
   "id": "9eafd4e5",
   "metadata": {
    "vscode": {
     "languageId": "r"
    }
   },
   "outputs": [],
   "source": [
    "ppd <- merge(polizas_ppd, siniestros_ppd, by.x = \"Fecha\", by.y = \"Fecha_siniestro\")\n",
    "pph <- merge(polizas_pph, siniestros_pph, by.x = \"Fecha\", by.y = \"Fecha_siniestro\")\n",
    "pth <- merge(polizas_pth, siniestros_pth, by.x = \"Fecha\", by.y = \"Fecha_siniestro\")\n",
    "rc <- merge(polizas_rc, siniestros_rc, by.x = \"Fecha\", by.y = \"Fecha_siniestro\")"
   ]
  },
  {
   "cell_type": "code",
   "execution_count": 47,
   "id": "5042714e",
   "metadata": {
    "vscode": {
     "languageId": "r"
    }
   },
   "outputs": [],
   "source": [
    "ppd$X <- NULL\n",
    "pph$X <- NULL\n",
    "pth$X <- NULL\n",
    "rc$X <- NULL"
   ]
  },
  {
   "cell_type": "code",
   "execution_count": 48,
   "id": "94066f08",
   "metadata": {
    "vscode": {
     "languageId": "r"
    }
   },
   "outputs": [
    {
     "data": {
      "text/html": [
       "<style>\n",
       ".list-inline {list-style: none; margin:0; padding: 0}\n",
       ".list-inline>li {display: inline-block}\n",
       ".list-inline>li:not(:last-child)::after {content: \"\\00b7\"; padding: 0 .5ex}\n",
       "</style>\n",
       "<ol class=list-inline><li>'Fecha'</li><li>'Numero_polizas'</li><li>'Suma_primas'</li><li>'Exposicion'</li><li>'Cantidad_siniestros'</li><li>'Valor_siniestro_incurrido_update'</li></ol>\n"
      ],
      "text/latex": [
       "\\begin{enumerate*}\n",
       "\\item 'Fecha'\n",
       "\\item 'Numero\\_polizas'\n",
       "\\item 'Suma\\_primas'\n",
       "\\item 'Exposicion'\n",
       "\\item 'Cantidad\\_siniestros'\n",
       "\\item 'Valor\\_siniestro\\_incurrido\\_update'\n",
       "\\end{enumerate*}\n"
      ],
      "text/markdown": [
       "1. 'Fecha'\n",
       "2. 'Numero_polizas'\n",
       "3. 'Suma_primas'\n",
       "4. 'Exposicion'\n",
       "5. 'Cantidad_siniestros'\n",
       "6. 'Valor_siniestro_incurrido_update'\n",
       "\n",
       "\n"
      ],
      "text/plain": [
       "[1] \"Fecha\"                            \"Numero_polizas\"                  \n",
       "[3] \"Suma_primas\"                      \"Exposicion\"                      \n",
       "[5] \"Cantidad_siniestros\"              \"Valor_siniestro_incurrido_update\""
      ]
     },
     "metadata": {},
     "output_type": "display_data"
    }
   ],
   "source": [
    "colnames(ppd)"
   ]
  },
  {
   "cell_type": "markdown",
   "id": "6597dc21",
   "metadata": {},
   "source": [
    "## Modelo"
   ]
  },
  {
   "cell_type": "markdown",
   "id": "6bf2b3d0",
   "metadata": {},
   "source": [
    "### PPD"
   ]
  },
  {
   "cell_type": "code",
   "execution_count": 49,
   "id": "8a9f2f17",
   "metadata": {
    "vscode": {
     "languageId": "r"
    }
   },
   "outputs": [],
   "source": [
    "l_pph <- sum(pph$Cantidad_siniestros)/sum(pph$Exposicion)\n",
    "l_ppd <- sum(ppd$Cantidad_siniestros)/sum(ppd$Exposicion)\n",
    "l_pth <- sum(pth$Cantidad_siniestros)/sum(pth$Exposicion)\n",
    "l_rc <- sum(rc$Cantidad_siniestros)/sum(rc$Exposicion)"
   ]
  },
  {
   "cell_type": "code",
   "execution_count": 50,
   "id": "293ac998",
   "metadata": {
    "vscode": {
     "languageId": "r"
    }
   },
   "outputs": [
    {
     "data": {
      "text/html": [
       "3.53364930429981e-05"
      ],
      "text/latex": [
       "3.53364930429981e-05"
      ],
      "text/markdown": [
       "3.53364930429981e-05"
      ],
      "text/plain": [
       "[1] 3.533649e-05"
      ]
     },
     "metadata": {},
     "output_type": "display_data"
    },
    {
     "data": {
      "text/html": [
       "0.000682542011082145"
      ],
      "text/latex": [
       "0.000682542011082145"
      ],
      "text/markdown": [
       "0.000682542011082145"
      ],
      "text/plain": [
       "[1] 0.000682542"
      ]
     },
     "metadata": {},
     "output_type": "display_data"
    },
    {
     "data": {
      "text/html": [
       "3.4125236655036e-05"
      ],
      "text/latex": [
       "3.4125236655036e-05"
      ],
      "text/markdown": [
       "3.4125236655036e-05"
      ],
      "text/plain": [
       "[1] 3.412524e-05"
      ]
     },
     "metadata": {},
     "output_type": "display_data"
    },
    {
     "data": {
      "text/html": [
       "0.000170515621961741"
      ],
      "text/latex": [
       "0.000170515621961741"
      ],
      "text/markdown": [
       "0.000170515621961741"
      ],
      "text/plain": [
       "[1] 0.0001705156"
      ]
     },
     "metadata": {},
     "output_type": "display_data"
    }
   ],
   "source": [
    "l_pph\n",
    "l_ppd\n",
    "l_pth\n",
    "l_rc"
   ]
  },
  {
   "cell_type": "code",
   "execution_count": 51,
   "id": "7095d233",
   "metadata": {
    "vscode": {
     "languageId": "r"
    }
   },
   "outputs": [],
   "source": [
    "E_pph <- l_pph * sum(pph$Exposicion)\n",
    "E_ppd <- l_ppd * sum(ppd$Exposicion)\n",
    "E_pth <- l_pth * sum(pth$Exposicion)\n",
    "E_rc <- l_rc * sum(rc$Exposicion)"
   ]
  },
  {
   "cell_type": "code",
   "execution_count": 52,
   "id": "3fdbf208",
   "metadata": {
    "vscode": {
     "languageId": "r"
    }
   },
   "outputs": [
    {
     "data": {
      "text/html": [
       "740"
      ],
      "text/latex": [
       "740"
      ],
      "text/markdown": [
       "740"
      ],
      "text/plain": [
       "[1] 740"
      ]
     },
     "metadata": {},
     "output_type": "display_data"
    },
    {
     "data": {
      "text/html": [
       "16516"
      ],
      "text/latex": [
       "16516"
      ],
      "text/markdown": [
       "16516"
      ],
      "text/plain": [
       "[1] 16516"
      ]
     },
     "metadata": {},
     "output_type": "display_data"
    },
    {
     "data": {
      "text/html": [
       "634"
      ],
      "text/latex": [
       "634"
      ],
      "text/markdown": [
       "634"
      ],
      "text/plain": [
       "[1] 634"
      ]
     },
     "metadata": {},
     "output_type": "display_data"
    },
    {
     "data": {
      "text/html": [
       "3538"
      ],
      "text/latex": [
       "3538"
      ],
      "text/markdown": [
       "3538"
      ],
      "text/plain": [
       "[1] 3538"
      ]
     },
     "metadata": {},
     "output_type": "display_data"
    }
   ],
   "source": [
    "E_pph\n",
    "E_ppd\n",
    "E_pth\n",
    "E_rc"
   ]
  }
 ],
 "metadata": {
  "kernelspec": {
   "display_name": "R",
   "language": "R",
   "name": "ir"
  },
  "language_info": {
   "codemirror_mode": "r",
   "file_extension": ".r",
   "mimetype": "text/x-r-source",
   "name": "R",
   "pygments_lexer": "r",
   "version": "4.2.3"
  }
 },
 "nbformat": 4,
 "nbformat_minor": 5
}
