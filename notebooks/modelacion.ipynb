{
 "cells": [
  {
   "cell_type": "markdown",
   "id": "dsts4cggfau",
   "metadata": {},
   "source": [
    "## Análisis de Dispersión y Tests de Distribución"
   ]
  },
  {
   "cell_type": "markdown",
   "id": "a867510d",
   "metadata": {},
   "source": [
    "<div align=\"center\">\n",
    "\n",
    "# **Modelacion**\n",
    "\n",
    "</div>"
   ]
  },
  {
   "cell_type": "markdown",
   "id": "9f7aadbe",
   "metadata": {},
   "source": [
    "## Librerias"
   ]
  },
  {
   "cell_type": "code",
   "execution_count": null,
   "id": "7ea991c0",
   "metadata": {
    "vscode": {
     "languageId": "r"
    }
   },
   "outputs": [],
   "source": []
  },
  {
   "cell_type": "markdown",
   "id": "5f079426",
   "metadata": {},
   "source": [
    "## Data"
   ]
  },
  {
   "cell_type": "code",
   "execution_count": 14,
   "id": "4034587f",
   "metadata": {
    "vscode": {
     "languageId": "r"
    }
   },
   "outputs": [],
   "source": [
    "siniestros_ppd <- read.csv(\"../data/processed/Siniestros_ppd.csv\")\n",
    "siniestros_pph <- read.csv(\"../data/processed/Siniestros_pph.csv\")\n",
    "siniestros_pth <- read.csv(\"../data/processed/Siniestros_pth.csv\")\n",
    "siniestros_rc <- read.csv(\"../data/processed/Siniestros_rc.csv\")\n",
    "polizas_ppd <- read.csv(\"../data/processed/polizas_ppd.csv\")\n",
    "polizas_pph <- read.csv(\"../data/processed/polizas_pph.csv\")\n",
    "polizas_pth <- read.csv(\"../data/processed/polizas_pth.csv\")\n",
    "polizas_rc <- read.csv(\"../data/processed/polizas_rc.csv\")"
   ]
  },
  {
   "cell_type": "code",
   "execution_count": 15,
   "id": "ea022f31",
   "metadata": {
    "vscode": {
     "languageId": "r"
    }
   },
   "outputs": [],
   "source": [
    "siniestros_pph$Año <- NULL\n",
    "siniestros_pph$Mes <- NULL\n",
    "siniestros_pph$Día <- NULL\n",
    "siniestros_pph$Periodo <- NULL"
   ]
  },
  {
   "cell_type": "code",
   "execution_count": 16,
   "id": "e37ddc35",
   "metadata": {
    "vscode": {
     "languageId": "r"
    }
   },
   "outputs": [],
   "source": [
    "siniestros_ppd$Año <- NULL\n",
    "siniestros_ppd$Mes <- NULL\n",
    "siniestros_ppd$Día <- NULL\n",
    "siniestros_ppd$Periodo <- NULL"
   ]
  },
  {
   "cell_type": "code",
   "execution_count": 17,
   "id": "b6152197",
   "metadata": {
    "vscode": {
     "languageId": "r"
    }
   },
   "outputs": [],
   "source": [
    "siniestros_pth$Año <- NULL\n",
    "siniestros_pth$Mes <- NULL\n",
    "siniestros_pth$Día <- NULL\n",
    "siniestros_pth$Periodo <- NULL"
   ]
  },
  {
   "cell_type": "code",
   "execution_count": 18,
   "id": "52a754e4",
   "metadata": {
    "vscode": {
     "languageId": "r"
    }
   },
   "outputs": [],
   "source": [
    "siniestros_rc$Año <- NULL\n",
    "siniestros_rc$Mes <- NULL\n",
    "siniestros_rc$Día <- NULL\n",
    "siniestros_rc$Periodo <- NULL"
   ]
  },
  {
   "cell_type": "markdown",
   "id": "6a9cef07",
   "metadata": {},
   "source": [
    "## Merge de las tablas"
   ]
  },
  {
   "cell_type": "code",
   "execution_count": 19,
   "id": "9eafd4e5",
   "metadata": {
    "vscode": {
     "languageId": "r"
    }
   },
   "outputs": [],
   "source": [
    "ppd <- merge(polizas_ppd, siniestros_ppd, by.x = \"Fecha\", by.y = \"Fecha_siniestro\")\n",
    "pph <- merge(polizas_pph, siniestros_pph, by.x = \"Fecha\", by.y = \"Fecha_siniestro\")\n",
    "pth <- merge(polizas_pth, siniestros_pth, by.x = \"Fecha\", by.y = \"Fecha_siniestro\")\n",
    "rc <- merge(polizas_rc, siniestros_rc, by.x = \"Fecha\", by.y = \"Fecha_siniestro\")"
   ]
  },
  {
   "cell_type": "code",
   "execution_count": 20,
   "id": "5042714e",
   "metadata": {
    "vscode": {
     "languageId": "r"
    }
   },
   "outputs": [],
   "source": [
    "ppd$X <- NULL\n",
    "pph$X <- NULL\n",
    "pth$X <- NULL\n",
    "rc$X <- NULL"
   ]
  },
  {
   "cell_type": "code",
   "execution_count": 21,
   "id": "94066f08",
   "metadata": {
    "vscode": {
     "languageId": "r"
    }
   },
   "outputs": [
    {
     "data": {
      "text/html": [
       "<style>\n",
       ".list-inline {list-style: none; margin:0; padding: 0}\n",
       ".list-inline>li {display: inline-block}\n",
       ".list-inline>li:not(:last-child)::after {content: \"\\00b7\"; padding: 0 .5ex}\n",
       "</style>\n",
       "<ol class=list-inline><li>'Fecha'</li><li>'Numero_polizas'</li><li>'Suma_primas'</li><li>'Exposicion'</li><li>'Cantidad_siniestros'</li><li>'Valor_siniestro_incurrido_update'</li></ol>\n"
      ],
      "text/latex": [
       "\\begin{enumerate*}\n",
       "\\item 'Fecha'\n",
       "\\item 'Numero\\_polizas'\n",
       "\\item 'Suma\\_primas'\n",
       "\\item 'Exposicion'\n",
       "\\item 'Cantidad\\_siniestros'\n",
       "\\item 'Valor\\_siniestro\\_incurrido\\_update'\n",
       "\\end{enumerate*}\n"
      ],
      "text/markdown": [
       "1. 'Fecha'\n",
       "2. 'Numero_polizas'\n",
       "3. 'Suma_primas'\n",
       "4. 'Exposicion'\n",
       "5. 'Cantidad_siniestros'\n",
       "6. 'Valor_siniestro_incurrido_update'\n",
       "\n",
       "\n"
      ],
      "text/plain": [
       "[1] \"Fecha\"                            \"Numero_polizas\"                  \n",
       "[3] \"Suma_primas\"                      \"Exposicion\"                      \n",
       "[5] \"Cantidad_siniestros\"              \"Valor_siniestro_incurrido_update\""
      ]
     },
     "metadata": {},
     "output_type": "display_data"
    }
   ],
   "source": [
    "colnames(ppd)"
   ]
  },
  {
   "cell_type": "markdown",
   "id": "6597dc21",
   "metadata": {},
   "source": [
    "## Modelo"
   ]
  },
  {
   "cell_type": "markdown",
   "id": "6bf2b3d0",
   "metadata": {},
   "source": [
    "### PPD"
   ]
  },
  {
   "cell_type": "code",
   "execution_count": 22,
   "id": "8a9f2f17",
   "metadata": {
    "vscode": {
     "languageId": "r"
    }
   },
   "outputs": [],
   "source": [
    "l_pph <- sum(pph$Cantidad_siniestros)/sum(pph$Exposicion)\n",
    "l_ppd <- sum(ppd$Cantidad_siniestros)/sum(ppd$Exposicion)\n",
    "l_pth <- sum(pth$Cantidad_siniestros)/sum(pth$Exposicion)\n",
    "l_rc <- sum(rc$Cantidad_siniestros)/sum(rc$Exposicion)"
   ]
  },
  {
   "cell_type": "code",
   "execution_count": 23,
   "id": "293ac998",
   "metadata": {
    "vscode": {
     "languageId": "r"
    }
   },
   "outputs": [
    {
     "data": {
      "text/html": [
       "3.53364930429981e-05"
      ],
      "text/latex": [
       "3.53364930429981e-05"
      ],
      "text/markdown": [
       "3.53364930429981e-05"
      ],
      "text/plain": [
       "[1] 3.533649e-05"
      ]
     },
     "metadata": {},
     "output_type": "display_data"
    },
    {
     "data": {
      "text/html": [
       "0.000682542011082145"
      ],
      "text/latex": [
       "0.000682542011082145"
      ],
      "text/markdown": [
       "0.000682542011082145"
      ],
      "text/plain": [
       "[1] 0.000682542"
      ]
     },
     "metadata": {},
     "output_type": "display_data"
    },
    {
     "data": {
      "text/html": [
       "3.4125236655036e-05"
      ],
      "text/latex": [
       "3.4125236655036e-05"
      ],
      "text/markdown": [
       "3.4125236655036e-05"
      ],
      "text/plain": [
       "[1] 3.412524e-05"
      ]
     },
     "metadata": {},
     "output_type": "display_data"
    },
    {
     "data": {
      "text/html": [
       "0.000170515621961741"
      ],
      "text/latex": [
       "0.000170515621961741"
      ],
      "text/markdown": [
       "0.000170515621961741"
      ],
      "text/plain": [
       "[1] 0.0001705156"
      ]
     },
     "metadata": {},
     "output_type": "display_data"
    }
   ],
   "source": [
    "l_pph\n",
    "l_ppd\n",
    "l_pth\n",
    "l_rc"
   ]
  },
  {
   "cell_type": "code",
   "execution_count": 24,
   "id": "7095d233",
   "metadata": {
    "vscode": {
     "languageId": "r"
    }
   },
   "outputs": [],
   "source": [
    "E_pph <- l_pph * sum(pph$Exposicion)\n",
    "E_ppd <- l_ppd * sum(ppd$Exposicion)\n",
    "E_pth <- l_pth * sum(pth$Exposicion)\n",
    "E_rc <- l_rc * sum(rc$Exposicion)"
   ]
  },
  {
   "cell_type": "code",
   "execution_count": 25,
   "id": "3fdbf208",
   "metadata": {
    "vscode": {
     "languageId": "r"
    }
   },
   "outputs": [
    {
     "data": {
      "text/html": [
       "740"
      ],
      "text/latex": [
       "740"
      ],
      "text/markdown": [
       "740"
      ],
      "text/plain": [
       "[1] 740"
      ]
     },
     "metadata": {},
     "output_type": "display_data"
    },
    {
     "data": {
      "text/html": [
       "16516"
      ],
      "text/latex": [
       "16516"
      ],
      "text/markdown": [
       "16516"
      ],
      "text/plain": [
       "[1] 16516"
      ]
     },
     "metadata": {},
     "output_type": "display_data"
    },
    {
     "data": {
      "text/html": [
       "634"
      ],
      "text/latex": [
       "634"
      ],
      "text/markdown": [
       "634"
      ],
      "text/plain": [
       "[1] 634"
      ]
     },
     "metadata": {},
     "output_type": "display_data"
    },
    {
     "data": {
      "text/html": [
       "3538"
      ],
      "text/latex": [
       "3538"
      ],
      "text/markdown": [
       "3538"
      ],
      "text/plain": [
       "[1] 3538"
      ]
     },
     "metadata": {},
     "output_type": "display_data"
    }
   ],
   "source": [
    "E_pph\n",
    "E_ppd\n",
    "E_pth\n",
    "E_rc"
   ]
  },
  {
   "cell_type": "code",
   "execution_count": 26,
   "id": "23784229",
   "metadata": {
    "vscode": {
     "languageId": "r"
    }
   },
   "outputs": [],
   "source": [
    "# Función para calcular estadísticos de dispersión y realizar tests\n",
    "calcular_dispersion_y_tests <- function(datos_siniestros, nombre_cobertura) {\n",
    "  \n",
    "  # Extraer los siniestros diarios (N_t,j)\n",
    "  N_t_j <- datos_siniestros$Cantidad_siniestros\n",
    "  T <- length(N_t_j)  # T = 365 días\n",
    "  \n",
    "  # Calcular estadísticos muestrales\n",
    "  media_muestral <- mean(N_t_j)\n",
    "  varianza_muestral <- var(N_t_j)\n",
    "  \n",
    "  # Calcular D_j (dispersión muestral)\n",
    "  D_j <- varianza_muestral / media_muestral\n",
    "  \n",
    "  # Test de Cameron-Trivedi para sobredispersión\n",
    "  # H0: Poisson, H1: Binomial Negativa\n",
    "  t_cameron_trivedi <- (varianza_muestral - media_muestral) / \n",
    "                       (sqrt(2) * media_muestral / sqrt(T))\n",
    "  p_value_cameron <- 2 * (1 - pnorm(abs(t_cameron_trivedi)))\n",
    "  \n",
    "  # Test de equidispersión (Chi-cuadrado)\n",
    "  # H0: D_j = 1 (Poisson), H1: D_j ≠ 1\n",
    "  chi_cuadrado <- (T - 1) * D_j\n",
    "  p_value_chi <- 1 - pchisq(chi_cuadrado, df = T - 1)\n",
    "  \n",
    "  # Test de Dean para sobredispersión\n",
    "  # H0: Equidispersión, H1: Sobredispersión\n",
    "  z_dean <- (varianza_muestral - media_muestral) / sqrt(2 * media_muestral / (T - 1))\n",
    "  p_value_dean <- 1 - pnorm(z_dean)\n",
    "  \n",
    "  # Determinar distribución recomendada\n",
    "  if (D_j >= 0.8 && D_j <= 1.2) {\n",
    "    distribucion <- \"Poisson\"\n",
    "  } else if (D_j > 1.5) {\n",
    "    distribucion <- \"Binomial Negativa\"\n",
    "  } else if (D_j < 0.8) {\n",
    "    distribucion <- \"Subdispersa\"\n",
    "  } else {\n",
    "    distribucion <- \"Borderline - revisar tests\"\n",
    "  }\n",
    "  \n",
    "  # Resultados\n",
    "  resultados <- list(\n",
    "    cobertura = nombre_cobertura,\n",
    "    media_muestral = media_muestral,\n",
    "    varianza_muestral = varianza_muestral,\n",
    "    D_j = D_j,\n",
    "    t_cameron_trivedi = t_cameron_trivedi,\n",
    "    p_value_cameron = p_value_cameron,\n",
    "    chi_cuadrado = chi_cuadrado,\n",
    "    p_value_chi = p_value_chi,\n",
    "    z_dean = z_dean,\n",
    "    p_value_dean = p_value_dean,\n",
    "    distribucion_recomendada = distribucion\n",
    "  )\n",
    "  \n",
    "  return(resultados)\n",
    "}"
   ]
  },
  {
   "cell_type": "code",
   "execution_count": 27,
   "id": "7399ccee",
   "metadata": {
    "vscode": {
     "languageId": "r"
    }
   },
   "outputs": [],
   "source": [
    "# Aplicar análisis de dispersión a cada cobertura\n",
    "resultados_ppd <- calcular_dispersion_y_tests(siniestros_ppd, \"PPD\")\n",
    "resultados_pph <- calcular_dispersion_y_tests(siniestros_pph, \"PPH\") \n",
    "resultados_pth <- calcular_dispersion_y_tests(siniestros_pth, \"PTH\")\n",
    "resultados_rc <- calcular_dispersion_y_tests(siniestros_rc, \"RC\")\n",
    "\n",
    "# Lista con todos los resultados\n",
    "todos_resultados <- list(resultados_ppd, resultados_pph, resultados_pth, resultados_rc)"
   ]
  },
  {
   "cell_type": "code",
   "execution_count": 28,
   "id": "602bc2b2",
   "metadata": {
    "vscode": {
     "languageId": "r"
    }
   },
   "outputs": [
    {
     "name": "stdout",
     "output_type": "stream",
     "text": [
      "==============================================\n",
      "COBERTURA: PPD \n",
      "==============================================\n",
      "Media muestral (N̄_t,j): 45.2493 \n",
      "Varianza muestral (s²_j): 60.4404 \n",
      "Dispersión D_j: 1.3357 \n",
      "\n",
      "--- TESTS ESTADÍSTICOS ---\n",
      "Test Cameron-Trivedi:\n",
      "  Estadístico t: 4.5353 \n",
      "  p-valor: 0 \n",
      "  Interpretación: Rechaza Poisson (hay sobredispersión) \n",
      "\n",
      "Test Chi-cuadrado (equidispersión):\n",
      "  Estadístico χ²: 486.2021 \n",
      "  p-valor: 0 \n",
      "  Interpretación: Rechaza equidispersión \n",
      "\n",
      "Test de Dean:\n",
      "  Estadístico Z: 30.4663 \n",
      "  p-valor: 0 \n",
      "  Interpretación: Hay sobredispersión significativa \n",
      "\n",
      "--- RECOMENDACIÓN ---\n",
      "Distribución recomendada: Borderline - revisar tests \n",
      "==============================================\n",
      "\n",
      "==============================================\n",
      "COBERTURA: PPH \n",
      "==============================================\n",
      "Media muestral (N̄_t,j): 2.3492 \n",
      "Varianza muestral (s²_j): 1.5974 \n",
      "Dispersión D_j: 0.68 \n",
      "\n",
      "--- TESTS ESTADÍSTICOS ---\n",
      "Test Cameron-Trivedi:\n",
      "  Estadístico t: -4.0162 \n",
      "  p-valor: 1e-04 \n",
      "  Interpretación: Rechaza Poisson (hay sobredispersión) \n",
      "\n",
      "Test Chi-cuadrado (equidispersión):\n",
      "  Estadístico χ²: 213.5135 \n",
      "  p-valor: 1 \n",
      "  Interpretación: No rechaza equidispersión \n",
      "\n",
      "Test de Dean:\n",
      "  Estadístico Z: -6.1459 \n",
      "  p-valor: 1 \n",
      "  Interpretación: No hay sobredispersión significativa \n",
      "\n",
      "--- RECOMENDACIÓN ---\n",
      "Distribución recomendada: Subdispersa \n",
      "==============================================\n",
      "\n",
      "==============================================\n",
      "COBERTURA: PTH \n",
      "==============================================\n",
      "Media muestral (N̄_t,j): 2.1787 \n",
      "Varianza muestral (s²_j): 1.5197 \n",
      "Dispersión D_j: 0.6975 \n",
      "\n",
      "--- TESTS ESTADÍSTICOS ---\n",
      "Test Cameron-Trivedi:\n",
      "  Estadístico t: -3.6486 \n",
      "  p-valor: 3e-04 \n",
      "  Interpretación: Rechaza Poisson (hay sobredispersión) \n",
      "\n",
      "Test Chi-cuadrado (equidispersión):\n",
      "  Estadístico χ²: 202.2808 \n",
      "  p-valor: 1 \n",
      "  Interpretación: No rechaza equidispersión \n",
      "\n",
      "Test de Dean:\n",
      "  Estadístico Z: -5.3762 \n",
      "  p-valor: 1 \n",
      "  Interpretación: No hay sobredispersión significativa \n",
      "\n",
      "--- RECOMENDACIÓN ---\n",
      "Distribución recomendada: Subdispersa \n",
      "==============================================\n",
      "\n",
      "==============================================\n",
      "COBERTURA: RC \n",
      "==============================================\n",
      "Media muestral (N̄_t,j): 9.6932 \n",
      "Varianza muestral (s²_j): 13.8067 \n",
      "Dispersión D_j: 1.4244 \n",
      "\n",
      "--- TESTS ESTADÍSTICOS ---\n",
      "Test Cameron-Trivedi:\n",
      "  Estadístico t: 5.733 \n",
      "  p-valor: 0 \n",
      "  Interpretación: Rechaza Poisson (hay sobredispersión) \n",
      "\n",
      "Test Chi-cuadrado (equidispersión):\n",
      "  Estadístico χ²: 518.4726 \n",
      "  p-valor: 0 \n",
      "  Interpretación: Rechaza equidispersión \n",
      "\n",
      "Test de Dean:\n",
      "  Estadístico Z: 17.8245 \n",
      "  p-valor: 0 \n",
      "  Interpretación: Hay sobredispersión significativa \n",
      "\n",
      "--- RECOMENDACIÓN ---\n",
      "Distribución recomendada: Borderline - revisar tests \n",
      "==============================================\n",
      "\n"
     ]
    }
   ],
   "source": [
    "# Función para mostrar resultados de manera organizada\n",
    "mostrar_resultados <- function(resultado) {\n",
    "  cat(\"==============================================\\n\")\n",
    "  cat(\"COBERTURA:\", resultado$cobertura, \"\\n\")\n",
    "  cat(\"==============================================\\n\")\n",
    "  cat(\"Media muestral (N̄_t,j):\", round(resultado$media_muestral, 4), \"\\n\")\n",
    "  cat(\"Varianza muestral (s²_j):\", round(resultado$varianza_muestral, 4), \"\\n\")\n",
    "  cat(\"Dispersión D_j:\", round(resultado$D_j, 4), \"\\n\")\n",
    "  cat(\"\\n--- TESTS ESTADÍSTICOS ---\\n\")\n",
    "  cat(\"Test Cameron-Trivedi:\\n\")\n",
    "  cat(\"  Estadístico t:\", round(resultado$t_cameron_trivedi, 4), \"\\n\")\n",
    "  cat(\"  p-valor:\", round(resultado$p_value_cameron, 4), \"\\n\")\n",
    "  cat(\"  Interpretación:\", ifelse(resultado$p_value_cameron < 0.05, \n",
    "                                 \"Rechaza Poisson (hay sobredispersión)\", \n",
    "                                 \"No rechaza Poisson\"), \"\\n\")\n",
    "  cat(\"\\nTest Chi-cuadrado (equidispersión):\\n\")\n",
    "  cat(\"  Estadístico χ²:\", round(resultado$chi_cuadrado, 4), \"\\n\")\n",
    "  cat(\"  p-valor:\", round(resultado$p_value_chi, 4), \"\\n\")\n",
    "  cat(\"  Interpretación:\", ifelse(resultado$p_value_chi < 0.05, \n",
    "                                 \"Rechaza equidispersión\", \n",
    "                                 \"No rechaza equidispersión\"), \"\\n\")\n",
    "  cat(\"\\nTest de Dean:\\n\")\n",
    "  cat(\"  Estadístico Z:\", round(resultado$z_dean, 4), \"\\n\")\n",
    "  cat(\"  p-valor:\", round(resultado$p_value_dean, 4), \"\\n\")\n",
    "  cat(\"  Interpretación:\", ifelse(resultado$p_value_dean < 0.05, \n",
    "                                 \"Hay sobredispersión significativa\", \n",
    "                                 \"No hay sobredispersión significativa\"), \"\\n\")\n",
    "  cat(\"\\n--- RECOMENDACIÓN ---\\n\")\n",
    "  cat(\"Distribución recomendada:\", resultado$distribucion_recomendada, \"\\n\")\n",
    "  cat(\"==============================================\\n\\n\")\n",
    "}\n",
    "\n",
    "# Mostrar resultados para cada cobertura\n",
    "for (resultado in todos_resultados) {\n",
    "  mostrar_resultados(resultado)\n",
    "}"
   ]
  },
  {
   "cell_type": "code",
   "execution_count": 29,
   "id": "4f4e1c26",
   "metadata": {
    "vscode": {
     "languageId": "r"
    }
   },
   "outputs": [
    {
     "name": "stdout",
     "output_type": "stream",
     "text": [
      "[1] \"TABLA RESUMEN - ANÁLISIS DE DISPERSIÓN\"\n",
      "[1] \"=====================================\"\n",
      "  Cobertura    D_j P_valor_Cameron_Trivedi   Distribucion_Recomendada\n",
      "1       PPD 1.3357                   0e+00 Borderline - revisar tests\n",
      "2       PPH 0.6800                   1e-04                Subdispersa\n",
      "3       PTH 0.6975                   3e-04                Subdispersa\n",
      "4        RC 1.4244                   0e+00 Borderline - revisar tests\n"
     ]
    }
   ],
   "source": [
    "# Crear tabla resumida de resultados\n",
    "crear_tabla_resumen <- function(todos_resultados) {\n",
    "  \n",
    "  # Extraer datos principales\n",
    "  coberturas <- sapply(todos_resultados, function(x) x$cobertura)\n",
    "  D_j_valores <- sapply(todos_resultados, function(x) round(x$D_j, 4))\n",
    "  distribuciones <- sapply(todos_resultados, function(x) x$distribucion_recomendada)\n",
    "  p_cameron <- sapply(todos_resultados, function(x) round(x$p_value_cameron, 4))\n",
    "  \n",
    "  # Crear dataframe\n",
    "  tabla_resumen <- data.frame(\n",
    "    Cobertura = coberturas,\n",
    "    D_j = D_j_valores,\n",
    "    P_valor_Cameron_Trivedi = p_cameron,\n",
    "    Distribucion_Recomendada = distribuciones,\n",
    "    stringsAsFactors = FALSE\n",
    "  )\n",
    "  \n",
    "  return(tabla_resumen)\n",
    "}\n",
    "\n",
    "# Crear y mostrar tabla resumen\n",
    "tabla_final <- crear_tabla_resumen(todos_resultados)\n",
    "print(\"TABLA RESUMEN - ANÁLISIS DE DISPERSIÓN\")\n",
    "print(\"=====================================\")\n",
    "print(tabla_final)"
   ]
  }
 ],
 "metadata": {
  "kernelspec": {
   "display_name": "R",
   "language": "R",
   "name": "ir"
  },
  "language_info": {
   "codemirror_mode": "r",
   "file_extension": ".r",
   "mimetype": "text/x-r-source",
   "name": "R",
   "pygments_lexer": "r",
   "version": "4.2.3"
  }
 },
 "nbformat": 4,
 "nbformat_minor": 5
}
