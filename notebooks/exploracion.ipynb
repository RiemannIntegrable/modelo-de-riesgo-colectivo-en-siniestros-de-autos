{
 "cells": [
  {
   "cell_type": "markdown",
   "metadata": {},
   "source": [
    "<div align = \"center\">\n",
    "\n",
    "# **Exploración de datos**\n",
    "\n",
    "</div>"
   ]
  },
  {
   "cell_type": "markdown",
   "metadata": {},
   "source": [
    "## Librerias"
   ]
  },
  {
   "cell_type": "code",
   "execution_count": 9,
   "metadata": {
    "vscode": {
     "languageId": "r"
    }
   },
   "outputs": [],
   "source": [
    "library(readxl)\n",
    "library(dplyr)"
   ]
  },
  {
   "cell_type": "markdown",
   "metadata": {},
   "source": [
    "## Data"
   ]
  },
  {
   "cell_type": "code",
   "execution_count": 10,
   "metadata": {
    "vscode": {
     "languageId": "r"
    }
   },
   "outputs": [],
   "source": [
    "polizas <- read_excel(\"../data/input/Grupo_P11.xlsx\")\n",
    "historia <- read_excel(\"../data/input/Siniestros_Hist.xlsx\")\n"
   ]
  },
  {
   "cell_type": "code",
   "execution_count": 11,
   "metadata": {
    "vscode": {
     "languageId": "r"
    }
   },
   "outputs": [
    {
     "data": {
      "text/html": [
       "<style>\n",
       ".list-inline {list-style: none; margin:0; padding: 0}\n",
       ".list-inline>li {display: inline-block}\n",
       ".list-inline>li:not(:last-child)::after {content: \"\\00b7\"; padding: 0 .5ex}\n",
       "</style>\n",
       "<ol class=list-inline><li>'FECHASIN'</li><li>'VLRPRIMAPAG'</li><li>'VLRPRISUSCR'</li><li>'VLRASEGU'</li><li>'VLRASEGU_ORIG'</li><li>'VLRPAGADO.'</li><li>'VLRSININCUR'</li><li>'VLRDEDUCIBLE'</li><li>'VLRRECOBRO'</li><li>'VLRRSVACONSTIAMP'</li><li>'VLRRSVAPAGAMP'</li><li>'FECPAGOAMP'</li><li>'ESTADO_FINAL'</li><li>'COBERTURA_FINAL'</li></ol>\n"
      ],
      "text/latex": [
       "\\begin{enumerate*}\n",
       "\\item 'FECHASIN'\n",
       "\\item 'VLRPRIMAPAG'\n",
       "\\item 'VLRPRISUSCR'\n",
       "\\item 'VLRASEGU'\n",
       "\\item 'VLRASEGU\\_ORIG'\n",
       "\\item 'VLRPAGADO.'\n",
       "\\item 'VLRSININCUR'\n",
       "\\item 'VLRDEDUCIBLE'\n",
       "\\item 'VLRRECOBRO'\n",
       "\\item 'VLRRSVACONSTIAMP'\n",
       "\\item 'VLRRSVAPAGAMP'\n",
       "\\item 'FECPAGOAMP'\n",
       "\\item 'ESTADO\\_FINAL'\n",
       "\\item 'COBERTURA\\_FINAL'\n",
       "\\end{enumerate*}\n"
      ],
      "text/markdown": [
       "1. 'FECHASIN'\n",
       "2. 'VLRPRIMAPAG'\n",
       "3. 'VLRPRISUSCR'\n",
       "4. 'VLRASEGU'\n",
       "5. 'VLRASEGU_ORIG'\n",
       "6. 'VLRPAGADO.'\n",
       "7. 'VLRSININCUR'\n",
       "8. 'VLRDEDUCIBLE'\n",
       "9. 'VLRRECOBRO'\n",
       "10. 'VLRRSVACONSTIAMP'\n",
       "11. 'VLRRSVAPAGAMP'\n",
       "12. 'FECPAGOAMP'\n",
       "13. 'ESTADO_FINAL'\n",
       "14. 'COBERTURA_FINAL'\n",
       "\n",
       "\n"
      ],
      "text/plain": [
       " [1] \"FECHASIN\"         \"VLRPRIMAPAG\"      \"VLRPRISUSCR\"      \"VLRASEGU\"        \n",
       " [5] \"VLRASEGU_ORIG\"    \"VLRPAGADO.\"       \"VLRSININCUR\"      \"VLRDEDUCIBLE\"    \n",
       " [9] \"VLRRECOBRO\"       \"VLRRSVACONSTIAMP\" \"VLRRSVAPAGAMP\"    \"FECPAGOAMP\"      \n",
       "[13] \"ESTADO_FINAL\"     \"COBERTURA_FINAL\" "
      ]
     },
     "metadata": {},
     "output_type": "display_data"
    }
   ],
   "source": [
    "# Ver nombres actuales del dataframe historia\n",
    "names(historia)"
   ]
  },
  {
   "cell_type": "code",
   "execution_count": 12,
   "metadata": {
    "vscode": {
     "languageId": "r"
    }
   },
   "outputs": [],
   "source": [
    "# Método directo para renombrar columnas\n",
    "names(historia) <- c(\n",
    "  \"Fecha_siniestro\",\n",
    "  \"Valor_prima_efectivamente_pagada_hasta_fecha_siniestro\",\n",
    "  \"Valor_prima_suscrita_incluida_cobertura_responsabilidad_civil\",\n",
    "  \"Valor_asegurado_otras_coberturas_distintas_responsabilidad_civil\",\n",
    "  \"Valor_asegurado_original\",\n",
    "  \"Valor_efectivamente_pagado_por_siniestro\",\n",
    "  \"Valor_siniestro_incurrido\",\n",
    "  \"Valor_deducible\",\n",
    "  \"Valor_recobro_obtenido\",\n",
    "  \"Valor_reserva_constituida_para_amparo\",\n",
    "  \"Valor_reserva_pagada_para_amparo\",\n",
    "  \"Fecha_pago_amparo\",\n",
    "  \"Estado_final_siniestro\",\n",
    "  \"Cobertura_final_aplicada\"\n",
    ")"
   ]
  },
  {
   "cell_type": "code",
   "execution_count": 13,
   "metadata": {
    "vscode": {
     "languageId": "r"
    }
   },
   "outputs": [
    {
     "data": {
      "text/html": [
       "<style>\n",
       ".list-inline {list-style: none; margin:0; padding: 0}\n",
       ".list-inline>li {display: inline-block}\n",
       ".list-inline>li:not(:last-child)::after {content: \"\\00b7\"; padding: 0 .5ex}\n",
       "</style>\n",
       "<ol class=list-inline><li>'PTH'</li><li>'PPD'</li><li>'RC BIENES'</li><li>'PPH'</li><li>'RC PERS'</li></ol>\n"
      ],
      "text/latex": [
       "\\begin{enumerate*}\n",
       "\\item 'PTH'\n",
       "\\item 'PPD'\n",
       "\\item 'RC BIENES'\n",
       "\\item 'PPH'\n",
       "\\item 'RC PERS'\n",
       "\\end{enumerate*}\n"
      ],
      "text/markdown": [
       "1. 'PTH'\n",
       "2. 'PPD'\n",
       "3. 'RC BIENES'\n",
       "4. 'PPH'\n",
       "5. 'RC PERS'\n",
       "\n",
       "\n"
      ],
      "text/plain": [
       "[1] \"PTH\"       \"PPD\"       \"RC BIENES\" \"PPH\"       \"RC PERS\"  "
      ]
     },
     "metadata": {},
     "output_type": "display_data"
    }
   ],
   "source": [
    "unique(historia$Cobertura_final_aplicada)"
   ]
  },
  {
   "cell_type": "code",
   "execution_count": 14,
   "metadata": {
    "vscode": {
     "languageId": "r"
    }
   },
   "outputs": [],
   "source": [
    "# Cambiar los niveles de la columna Cobertura_final_aplicada\n",
    "historia$Cobertura_final_aplicada <- factor(historia$Cobertura_final_aplicada, \n",
    "                                           levels = c(\"PTH\", \"PPD\", \"PRC BIENES\", \"PPH\", \"RC PERS\"),\n",
    "                                           labels = c(\"Perdida_total_hurto\", \n",
    "                                                     \"Perdida_parcial_danos\",\n",
    "                                                     \"Responsabilidad_civil_bienes\",\n",
    "                                                     \"Perdida_parcial_hurto\",\n",
    "                                                     \"Responsabilidad_civil_personas\"))"
   ]
  },
  {
   "cell_type": "code",
   "execution_count": 15,
   "metadata": {
    "vscode": {
     "languageId": "r"
    }
   },
   "outputs": [
    {
     "data": {
      "text/html": [
       "<style>\n",
       ".list-inline {list-style: none; margin:0; padding: 0}\n",
       ".list-inline>li {display: inline-block}\n",
       ".list-inline>li:not(:last-child)::after {content: \"\\00b7\"; padding: 0 .5ex}\n",
       "</style>\n",
       "<ol class=list-inline><li>'Perdida_total_hurto'</li><li>'Perdida_parcial_danos'</li><li>'Responsabilidad_civil_bienes'</li><li>'Perdida_parcial_hurto'</li><li>'Responsabilidad_civil_personas'</li></ol>\n"
      ],
      "text/latex": [
       "\\begin{enumerate*}\n",
       "\\item 'Perdida\\_total\\_hurto'\n",
       "\\item 'Perdida\\_parcial\\_danos'\n",
       "\\item 'Responsabilidad\\_civil\\_bienes'\n",
       "\\item 'Perdida\\_parcial\\_hurto'\n",
       "\\item 'Responsabilidad\\_civil\\_personas'\n",
       "\\end{enumerate*}\n"
      ],
      "text/markdown": [
       "1. 'Perdida_total_hurto'\n",
       "2. 'Perdida_parcial_danos'\n",
       "3. 'Responsabilidad_civil_bienes'\n",
       "4. 'Perdida_parcial_hurto'\n",
       "5. 'Responsabilidad_civil_personas'\n",
       "\n",
       "\n"
      ],
      "text/plain": [
       "[1] \"Perdida_total_hurto\"            \"Perdida_parcial_danos\"         \n",
       "[3] \"Responsabilidad_civil_bienes\"   \"Perdida_parcial_hurto\"         \n",
       "[5] \"Responsabilidad_civil_personas\""
      ]
     },
     "metadata": {},
     "output_type": "display_data"
    }
   ],
   "source": [
    "# Verificar los cambios\n",
    "levels(historia$Cobertura_final_aplicada)"
   ]
  },
  {
   "cell_type": "code",
   "execution_count": 16,
   "metadata": {
    "vscode": {
     "languageId": "r"
    }
   },
   "outputs": [
    {
     "data": {
      "text/html": [
       "<table class=\"dataframe\">\n",
       "<caption>A tibble: 6 × 14</caption>\n",
       "<thead>\n",
       "\t<tr><th scope=col>Fecha_siniestro</th><th scope=col>Valor_prima_efectivamente_pagada_hasta_fecha_siniestro</th><th scope=col>Valor_prima_suscrita_incluida_cobertura_responsabilidad_civil</th><th scope=col>Valor_asegurado_otras_coberturas_distintas_responsabilidad_civil</th><th scope=col>Valor_asegurado_original</th><th scope=col>Valor_efectivamente_pagado_por_siniestro</th><th scope=col>Valor_siniestro_incurrido</th><th scope=col>Valor_deducible</th><th scope=col>Valor_recobro_obtenido</th><th scope=col>Valor_reserva_constituida_para_amparo</th><th scope=col>Valor_reserva_pagada_para_amparo</th><th scope=col>Fecha_pago_amparo</th><th scope=col>Estado_final_siniestro</th><th scope=col>Cobertura_final_aplicada</th></tr>\n",
       "\t<tr><th scope=col>&lt;dttm&gt;</th><th scope=col>&lt;dbl&gt;</th><th scope=col>&lt;dbl&gt;</th><th scope=col>&lt;dbl&gt;</th><th scope=col>&lt;dbl&gt;</th><th scope=col>&lt;dbl&gt;</th><th scope=col>&lt;dbl&gt;</th><th scope=col>&lt;dbl&gt;</th><th scope=col>&lt;dbl&gt;</th><th scope=col>&lt;dbl&gt;</th><th scope=col>&lt;dbl&gt;</th><th scope=col>&lt;dbl&gt;</th><th scope=col>&lt;chr&gt;</th><th scope=col>&lt;fct&gt;</th></tr>\n",
       "</thead>\n",
       "<tbody>\n",
       "\t<tr><td>2017-01-01</td><td> 300000</td><td>  300000</td><td>4.350e+06</td><td>4.350e+06</td><td>      0</td><td>3262500</td><td>870000</td><td>      0</td><td>4.350e+06</td><td>3480000</td><td>20171220</td><td>Pagado </td><td>Perdida_total_hurto  </td></tr>\n",
       "\t<tr><td>2017-01-01</td><td>5543164</td><td>16639492</td><td>8.400e+07</td><td>8.400e+07</td><td>4601532</td><td>4601532</td><td>737717</td><td>      0</td><td>8.400e+07</td><td>      0</td><td>20170215</td><td>Pagado </td><td>Perdida_parcial_danos</td></tr>\n",
       "\t<tr><td>2017-01-01</td><td>1072019</td><td> 1072019</td><td>5.255e+07</td><td>5.255e+07</td><td>3375620</td><td>3375620</td><td>737717</td><td> 375909</td><td>5.255e+07</td><td>      0</td><td>20170131</td><td>Pagado </td><td>Perdida_parcial_danos</td></tr>\n",
       "\t<tr><td>2017-01-01</td><td> 958821</td><td>  958821</td><td>3.449e+07</td><td>3.449e+07</td><td>3600357</td><td>3600357</td><td>737717</td><td>      0</td><td>3.449e+07</td><td>      0</td><td>20170131</td><td>Pagado </td><td>Perdida_parcial_danos</td></tr>\n",
       "\t<tr><td>2017-01-01</td><td> 714176</td><td> 3398721</td><td>2.000e+09</td><td>2.000e+09</td><td>      0</td><td>2175223</td><td>     0</td><td>1241379</td><td>2.000e+09</td><td>2175223</td><td>      NA</td><td>Avisado</td><td>Perdida_parcial_danos</td></tr>\n",
       "\t<tr><td>2017-01-01</td><td>1681845</td><td> 5193649</td><td>1.500e+09</td><td>1.500e+09</td><td>1569899</td><td>1569899</td><td>737717</td><td>      0</td><td>1.500e+09</td><td>      0</td><td>20170213</td><td>Pagado </td><td>Perdida_parcial_danos</td></tr>\n",
       "</tbody>\n",
       "</table>\n"
      ],
      "text/latex": [
       "A tibble: 6 × 14\n",
       "\\begin{tabular}{llllllllllllll}\n",
       " Fecha\\_siniestro & Valor\\_prima\\_efectivamente\\_pagada\\_hasta\\_fecha\\_siniestro & Valor\\_prima\\_suscrita\\_incluida\\_cobertura\\_responsabilidad\\_civil & Valor\\_asegurado\\_otras\\_coberturas\\_distintas\\_responsabilidad\\_civil & Valor\\_asegurado\\_original & Valor\\_efectivamente\\_pagado\\_por\\_siniestro & Valor\\_siniestro\\_incurrido & Valor\\_deducible & Valor\\_recobro\\_obtenido & Valor\\_reserva\\_constituida\\_para\\_amparo & Valor\\_reserva\\_pagada\\_para\\_amparo & Fecha\\_pago\\_amparo & Estado\\_final\\_siniestro & Cobertura\\_final\\_aplicada\\\\\n",
       " <dttm> & <dbl> & <dbl> & <dbl> & <dbl> & <dbl> & <dbl> & <dbl> & <dbl> & <dbl> & <dbl> & <dbl> & <chr> & <fct>\\\\\n",
       "\\hline\n",
       "\t 2017-01-01 &  300000 &   300000 & 4.350e+06 & 4.350e+06 &       0 & 3262500 & 870000 &       0 & 4.350e+06 & 3480000 & 20171220 & Pagado  & Perdida\\_total\\_hurto  \\\\\n",
       "\t 2017-01-01 & 5543164 & 16639492 & 8.400e+07 & 8.400e+07 & 4601532 & 4601532 & 737717 &       0 & 8.400e+07 &       0 & 20170215 & Pagado  & Perdida\\_parcial\\_danos\\\\\n",
       "\t 2017-01-01 & 1072019 &  1072019 & 5.255e+07 & 5.255e+07 & 3375620 & 3375620 & 737717 &  375909 & 5.255e+07 &       0 & 20170131 & Pagado  & Perdida\\_parcial\\_danos\\\\\n",
       "\t 2017-01-01 &  958821 &   958821 & 3.449e+07 & 3.449e+07 & 3600357 & 3600357 & 737717 &       0 & 3.449e+07 &       0 & 20170131 & Pagado  & Perdida\\_parcial\\_danos\\\\\n",
       "\t 2017-01-01 &  714176 &  3398721 & 2.000e+09 & 2.000e+09 &       0 & 2175223 &      0 & 1241379 & 2.000e+09 & 2175223 &       NA & Avisado & Perdida\\_parcial\\_danos\\\\\n",
       "\t 2017-01-01 & 1681845 &  5193649 & 1.500e+09 & 1.500e+09 & 1569899 & 1569899 & 737717 &       0 & 1.500e+09 &       0 & 20170213 & Pagado  & Perdida\\_parcial\\_danos\\\\\n",
       "\\end{tabular}\n"
      ],
      "text/markdown": [
       "\n",
       "A tibble: 6 × 14\n",
       "\n",
       "| Fecha_siniestro &lt;dttm&gt; | Valor_prima_efectivamente_pagada_hasta_fecha_siniestro &lt;dbl&gt; | Valor_prima_suscrita_incluida_cobertura_responsabilidad_civil &lt;dbl&gt; | Valor_asegurado_otras_coberturas_distintas_responsabilidad_civil &lt;dbl&gt; | Valor_asegurado_original &lt;dbl&gt; | Valor_efectivamente_pagado_por_siniestro &lt;dbl&gt; | Valor_siniestro_incurrido &lt;dbl&gt; | Valor_deducible &lt;dbl&gt; | Valor_recobro_obtenido &lt;dbl&gt; | Valor_reserva_constituida_para_amparo &lt;dbl&gt; | Valor_reserva_pagada_para_amparo &lt;dbl&gt; | Fecha_pago_amparo &lt;dbl&gt; | Estado_final_siniestro &lt;chr&gt; | Cobertura_final_aplicada &lt;fct&gt; |\n",
       "|---|---|---|---|---|---|---|---|---|---|---|---|---|---|\n",
       "| 2017-01-01 |  300000 |   300000 | 4.350e+06 | 4.350e+06 |       0 | 3262500 | 870000 |       0 | 4.350e+06 | 3480000 | 20171220 | Pagado  | Perdida_total_hurto   |\n",
       "| 2017-01-01 | 5543164 | 16639492 | 8.400e+07 | 8.400e+07 | 4601532 | 4601532 | 737717 |       0 | 8.400e+07 |       0 | 20170215 | Pagado  | Perdida_parcial_danos |\n",
       "| 2017-01-01 | 1072019 |  1072019 | 5.255e+07 | 5.255e+07 | 3375620 | 3375620 | 737717 |  375909 | 5.255e+07 |       0 | 20170131 | Pagado  | Perdida_parcial_danos |\n",
       "| 2017-01-01 |  958821 |   958821 | 3.449e+07 | 3.449e+07 | 3600357 | 3600357 | 737717 |       0 | 3.449e+07 |       0 | 20170131 | Pagado  | Perdida_parcial_danos |\n",
       "| 2017-01-01 |  714176 |  3398721 | 2.000e+09 | 2.000e+09 |       0 | 2175223 |      0 | 1241379 | 2.000e+09 | 2175223 |       NA | Avisado | Perdida_parcial_danos |\n",
       "| 2017-01-01 | 1681845 |  5193649 | 1.500e+09 | 1.500e+09 | 1569899 | 1569899 | 737717 |       0 | 1.500e+09 |       0 | 20170213 | Pagado  | Perdida_parcial_danos |\n",
       "\n"
      ],
      "text/plain": [
       "  Fecha_siniestro Valor_prima_efectivamente_pagada_hasta_fecha_siniestro\n",
       "1 2017-01-01       300000                                               \n",
       "2 2017-01-01      5543164                                               \n",
       "3 2017-01-01      1072019                                               \n",
       "4 2017-01-01       958821                                               \n",
       "5 2017-01-01       714176                                               \n",
       "6 2017-01-01      1681845                                               \n",
       "  Valor_prima_suscrita_incluida_cobertura_responsabilidad_civil\n",
       "1   300000                                                     \n",
       "2 16639492                                                     \n",
       "3  1072019                                                     \n",
       "4   958821                                                     \n",
       "5  3398721                                                     \n",
       "6  5193649                                                     \n",
       "  Valor_asegurado_otras_coberturas_distintas_responsabilidad_civil\n",
       "1 4.350e+06                                                       \n",
       "2 8.400e+07                                                       \n",
       "3 5.255e+07                                                       \n",
       "4 3.449e+07                                                       \n",
       "5 2.000e+09                                                       \n",
       "6 1.500e+09                                                       \n",
       "  Valor_asegurado_original Valor_efectivamente_pagado_por_siniestro\n",
       "1 4.350e+06                      0                                 \n",
       "2 8.400e+07                4601532                                 \n",
       "3 5.255e+07                3375620                                 \n",
       "4 3.449e+07                3600357                                 \n",
       "5 2.000e+09                      0                                 \n",
       "6 1.500e+09                1569899                                 \n",
       "  Valor_siniestro_incurrido Valor_deducible Valor_recobro_obtenido\n",
       "1 3262500                   870000                0               \n",
       "2 4601532                   737717                0               \n",
       "3 3375620                   737717           375909               \n",
       "4 3600357                   737717                0               \n",
       "5 2175223                        0          1241379               \n",
       "6 1569899                   737717                0               \n",
       "  Valor_reserva_constituida_para_amparo Valor_reserva_pagada_para_amparo\n",
       "1 4.350e+06                             3480000                         \n",
       "2 8.400e+07                                   0                         \n",
       "3 5.255e+07                                   0                         \n",
       "4 3.449e+07                                   0                         \n",
       "5 2.000e+09                             2175223                         \n",
       "6 1.500e+09                                   0                         \n",
       "  Fecha_pago_amparo Estado_final_siniestro Cobertura_final_aplicada\n",
       "1 20171220          Pagado                 Perdida_total_hurto     \n",
       "2 20170215          Pagado                 Perdida_parcial_danos   \n",
       "3 20170131          Pagado                 Perdida_parcial_danos   \n",
       "4 20170131          Pagado                 Perdida_parcial_danos   \n",
       "5       NA          Avisado                Perdida_parcial_danos   \n",
       "6 20170213          Pagado                 Perdida_parcial_danos   "
      ]
     },
     "metadata": {},
     "output_type": "display_data"
    }
   ],
   "source": [
    "head(historia)"
   ]
  }
 ],
 "metadata": {
  "kernelspec": {
   "display_name": "R",
   "language": "R",
   "name": "ir"
  },
  "language_info": {
   "codemirror_mode": "r",
   "file_extension": ".r",
   "mimetype": "text/x-r-source",
   "name": "R",
   "pygments_lexer": "r",
   "version": "4.2.3"
  }
 },
 "nbformat": 4,
 "nbformat_minor": 2
}
