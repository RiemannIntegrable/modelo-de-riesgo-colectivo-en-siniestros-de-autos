{
 "cells": [
  {
   "cell_type": "markdown",
   "metadata": {},
   "source": [
    "<div align = \"center\">\n",
    "\n",
    "# **Exploración de datos**\n",
    "\n",
    "</div>"
   ]
  },
  {
   "cell_type": "markdown",
   "metadata": {},
   "source": [
    "## Librerias"
   ]
  },
  {
   "cell_type": "code",
   "execution_count": 8,
   "metadata": {
    "vscode": {
     "languageId": "r"
    }
   },
   "outputs": [],
   "source": [
    "library(readxl)"
   ]
  },
  {
   "cell_type": "markdown",
   "metadata": {},
   "source": [
    "## Data"
   ]
  },
  {
   "cell_type": "code",
   "execution_count": 11,
   "metadata": {
    "vscode": {
     "languageId": "r"
    }
   },
   "outputs": [],
   "source": [
    "data <- read_excel(\"../data/input/Grupo_P11.xlsx\")"
   ]
  },
  {
   "cell_type": "code",
   "execution_count": 13,
   "metadata": {
    "vscode": {
     "languageId": "r"
    }
   },
   "outputs": [
    {
     "data": {
      "text/html": [
       "<table class=\"dataframe\">\n",
       "<caption>A tibble: 6 × 10</caption>\n",
       "<thead>\n",
       "\t<tr><th scope=col>FECINICIO</th><th scope=col>FECFIN</th><th scope=col>VLRPRISUSCR</th><th scope=col>VLRASEGU</th><th scope=col>VLRASEGURC</th><th scope=col>PTD</th><th scope=col>PPD</th><th scope=col>PH</th><th scope=col>PPH</th><th scope=col>RC</th></tr>\n",
       "\t<tr><th scope=col>&lt;dttm&gt;</th><th scope=col>&lt;dttm&gt;</th><th scope=col>&lt;dbl&gt;</th><th scope=col>&lt;dbl&gt;</th><th scope=col>&lt;dbl&gt;</th><th scope=col>&lt;dbl&gt;</th><th scope=col>&lt;dbl&gt;</th><th scope=col>&lt;dbl&gt;</th><th scope=col>&lt;dbl&gt;</th><th scope=col>&lt;dbl&gt;</th></tr>\n",
       "</thead>\n",
       "<tbody>\n",
       "\t<tr><td>2019-01-08</td><td>2020-01-08</td><td>1379000</td><td>46490000</td><td>2e+09</td><td>1</td><td>1</td><td>1</td><td>1</td><td>1</td></tr>\n",
       "\t<tr><td>2019-01-08</td><td>2020-01-08</td><td>1414000</td><td>62590000</td><td>2e+09</td><td>1</td><td>1</td><td>1</td><td>1</td><td>1</td></tr>\n",
       "\t<tr><td>2019-01-08</td><td>2020-01-08</td><td>1369000</td><td>36490000</td><td>2e+09</td><td>1</td><td>1</td><td>1</td><td>1</td><td>1</td></tr>\n",
       "\t<tr><td>2019-01-08</td><td>2020-01-08</td><td>1379000</td><td>41990000</td><td>2e+09</td><td>1</td><td>1</td><td>1</td><td>1</td><td>1</td></tr>\n",
       "\t<tr><td>2019-01-08</td><td>2020-01-08</td><td>1379000</td><td>45390000</td><td>2e+09</td><td>1</td><td>1</td><td>1</td><td>1</td><td>1</td></tr>\n",
       "\t<tr><td>2019-01-08</td><td>2019-09-01</td><td> 661678</td><td>23500000</td><td>3e+09</td><td>1</td><td>1</td><td>1</td><td>1</td><td>1</td></tr>\n",
       "</tbody>\n",
       "</table>\n"
      ],
      "text/latex": [
       "A tibble: 6 × 10\n",
       "\\begin{tabular}{llllllllll}\n",
       " FECINICIO & FECFIN & VLRPRISUSCR & VLRASEGU & VLRASEGURC & PTD & PPD & PH & PPH & RC\\\\\n",
       " <dttm> & <dttm> & <dbl> & <dbl> & <dbl> & <dbl> & <dbl> & <dbl> & <dbl> & <dbl>\\\\\n",
       "\\hline\n",
       "\t 2019-01-08 & 2020-01-08 & 1379000 & 46490000 & 2e+09 & 1 & 1 & 1 & 1 & 1\\\\\n",
       "\t 2019-01-08 & 2020-01-08 & 1414000 & 62590000 & 2e+09 & 1 & 1 & 1 & 1 & 1\\\\\n",
       "\t 2019-01-08 & 2020-01-08 & 1369000 & 36490000 & 2e+09 & 1 & 1 & 1 & 1 & 1\\\\\n",
       "\t 2019-01-08 & 2020-01-08 & 1379000 & 41990000 & 2e+09 & 1 & 1 & 1 & 1 & 1\\\\\n",
       "\t 2019-01-08 & 2020-01-08 & 1379000 & 45390000 & 2e+09 & 1 & 1 & 1 & 1 & 1\\\\\n",
       "\t 2019-01-08 & 2019-09-01 &  661678 & 23500000 & 3e+09 & 1 & 1 & 1 & 1 & 1\\\\\n",
       "\\end{tabular}\n"
      ],
      "text/markdown": [
       "\n",
       "A tibble: 6 × 10\n",
       "\n",
       "| FECINICIO &lt;dttm&gt; | FECFIN &lt;dttm&gt; | VLRPRISUSCR &lt;dbl&gt; | VLRASEGU &lt;dbl&gt; | VLRASEGURC &lt;dbl&gt; | PTD &lt;dbl&gt; | PPD &lt;dbl&gt; | PH &lt;dbl&gt; | PPH &lt;dbl&gt; | RC &lt;dbl&gt; |\n",
       "|---|---|---|---|---|---|---|---|---|---|\n",
       "| 2019-01-08 | 2020-01-08 | 1379000 | 46490000 | 2e+09 | 1 | 1 | 1 | 1 | 1 |\n",
       "| 2019-01-08 | 2020-01-08 | 1414000 | 62590000 | 2e+09 | 1 | 1 | 1 | 1 | 1 |\n",
       "| 2019-01-08 | 2020-01-08 | 1369000 | 36490000 | 2e+09 | 1 | 1 | 1 | 1 | 1 |\n",
       "| 2019-01-08 | 2020-01-08 | 1379000 | 41990000 | 2e+09 | 1 | 1 | 1 | 1 | 1 |\n",
       "| 2019-01-08 | 2020-01-08 | 1379000 | 45390000 | 2e+09 | 1 | 1 | 1 | 1 | 1 |\n",
       "| 2019-01-08 | 2019-09-01 |  661678 | 23500000 | 3e+09 | 1 | 1 | 1 | 1 | 1 |\n",
       "\n"
      ],
      "text/plain": [
       "  FECINICIO  FECFIN     VLRPRISUSCR VLRASEGU VLRASEGURC PTD PPD PH PPH RC\n",
       "1 2019-01-08 2020-01-08 1379000     46490000 2e+09      1   1   1  1   1 \n",
       "2 2019-01-08 2020-01-08 1414000     62590000 2e+09      1   1   1  1   1 \n",
       "3 2019-01-08 2020-01-08 1369000     36490000 2e+09      1   1   1  1   1 \n",
       "4 2019-01-08 2020-01-08 1379000     41990000 2e+09      1   1   1  1   1 \n",
       "5 2019-01-08 2020-01-08 1379000     45390000 2e+09      1   1   1  1   1 \n",
       "6 2019-01-08 2019-09-01  661678     23500000 3e+09      1   1   1  1   1 "
      ]
     },
     "metadata": {},
     "output_type": "display_data"
    }
   ],
   "source": [
    "head(data)"
   ]
  }
 ],
 "metadata": {
  "kernelspec": {
   "display_name": "R",
   "language": "R",
   "name": "ir"
  },
  "language_info": {
   "codemirror_mode": "r",
   "file_extension": ".r",
   "mimetype": "text/x-r-source",
   "name": "R",
   "pygments_lexer": "r",
   "version": "4.2.3"
  }
 },
 "nbformat": 4,
 "nbformat_minor": 2
}
