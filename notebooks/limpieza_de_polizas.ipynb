{
 "cells": [
  {
   "cell_type": "markdown",
   "id": "ca093885",
   "metadata": {},
   "source": [
    "<div align=\"center\">\n",
    "\n",
    "# **Limpieza de Polizas**\n",
    "\n",
    "</div>"
   ]
  },
  {
   "cell_type": "markdown",
   "id": "4338d3b1",
   "metadata": {},
   "source": [
    "## Librerias"
   ]
  },
  {
   "cell_type": "code",
   "execution_count": 1,
   "id": "a88c249c",
   "metadata": {
    "vscode": {
     "languageId": "r"
    }
   },
   "outputs": [
    {
     "name": "stderr",
     "output_type": "stream",
     "text": [
      "\n",
      "Attaching package: ‘lubridate’\n",
      "\n",
      "\n",
      "The following objects are masked from ‘package:base’:\n",
      "\n",
      "    date, intersect, setdiff, union\n",
      "\n",
      "\n",
      "\n",
      "Attaching package: ‘dplyr’\n",
      "\n",
      "\n",
      "The following objects are masked from ‘package:stats’:\n",
      "\n",
      "    filter, lag\n",
      "\n",
      "\n",
      "The following objects are masked from ‘package:base’:\n",
      "\n",
      "    intersect, setdiff, setequal, union\n",
      "\n",
      "\n"
     ]
    }
   ],
   "source": [
    "library(readxl)\n",
    "library(lubridate)\n",
    "library(dplyr)\n",
    "library(DT)"
   ]
  },
  {
   "cell_type": "markdown",
   "id": "8ad7cf92",
   "metadata": {},
   "source": [
    "## Datos"
   ]
  },
  {
   "cell_type": "code",
   "execution_count": 2,
   "id": "77fb0207",
   "metadata": {
    "vscode": {
     "languageId": "r"
    }
   },
   "outputs": [],
   "source": [
    "polizas <- read.table(\"../data/input/polizas_v2.txt\", header = TRUE, sep = \"|\")"
   ]
  },
  {
   "cell_type": "markdown",
   "id": "d0e593e5",
   "metadata": {},
   "source": [
    "## Limpieza"
   ]
  },
  {
   "cell_type": "markdown",
   "id": "ac4d45dd",
   "metadata": {},
   "source": [
    "### Columnas"
   ]
  },
  {
   "cell_type": "code",
   "execution_count": 3,
   "id": "99dd9db1",
   "metadata": {
    "vscode": {
     "languageId": "r"
    }
   },
   "outputs": [
    {
     "data": {
      "text/html": [
       "<style>\n",
       ".list-inline {list-style: none; margin:0; padding: 0}\n",
       ".list-inline>li {display: inline-block}\n",
       ".list-inline>li:not(:last-child)::after {content: \"\\00b7\"; padding: 0 .5ex}\n",
       "</style>\n",
       "<ol class=list-inline><li>'FECINICIO'</li><li>'FECFIN'</li><li>'VLRPRISUSCR'</li><li>'VLRASEGU'</li><li>'VLRASEGURC'</li><li>'PTD'</li><li>'PPD'</li><li>'PH'</li><li>'PPH'</li><li>'RC'</li></ol>\n"
      ],
      "text/latex": [
       "\\begin{enumerate*}\n",
       "\\item 'FECINICIO'\n",
       "\\item 'FECFIN'\n",
       "\\item 'VLRPRISUSCR'\n",
       "\\item 'VLRASEGU'\n",
       "\\item 'VLRASEGURC'\n",
       "\\item 'PTD'\n",
       "\\item 'PPD'\n",
       "\\item 'PH'\n",
       "\\item 'PPH'\n",
       "\\item 'RC'\n",
       "\\end{enumerate*}\n"
      ],
      "text/markdown": [
       "1. 'FECINICIO'\n",
       "2. 'FECFIN'\n",
       "3. 'VLRPRISUSCR'\n",
       "4. 'VLRASEGU'\n",
       "5. 'VLRASEGURC'\n",
       "6. 'PTD'\n",
       "7. 'PPD'\n",
       "8. 'PH'\n",
       "9. 'PPH'\n",
       "10. 'RC'\n",
       "\n",
       "\n"
      ],
      "text/plain": [
       " [1] \"FECINICIO\"   \"FECFIN\"      \"VLRPRISUSCR\" \"VLRASEGU\"    \"VLRASEGURC\" \n",
       " [6] \"PTD\"         \"PPD\"         \"PH\"          \"PPH\"         \"RC\"         "
      ]
     },
     "metadata": {},
     "output_type": "display_data"
    }
   ],
   "source": [
    "names(polizas)"
   ]
  },
  {
   "cell_type": "code",
   "execution_count": 4,
   "id": "16d4b182",
   "metadata": {
    "vscode": {
     "languageId": "r"
    }
   },
   "outputs": [],
   "source": [
    "names(polizas) <- c(\n",
    "    \"Fecha_inicio\",\n",
    "    \"Fecha_fin\",\n",
    "    \"Prima\",\n",
    "    \"Valor_asegurado\",\n",
    "    \"Valor_asegurado_rc\",\n",
    "    \"ptd\", \n",
    "    \"ppd\",\n",
    "    \"pth\",\n",
    "    \"pph\",\n",
    "    \"rc\"\n",
    ")"
   ]
  },
  {
   "cell_type": "markdown",
   "id": "34963236",
   "metadata": {},
   "source": [
    "En la data de siniestros no hay ninguno con ptd"
   ]
  },
  {
   "cell_type": "code",
   "execution_count": 5,
   "id": "fd8aae32",
   "metadata": {
    "vscode": {
     "languageId": "r"
    }
   },
   "outputs": [],
   "source": [
    "polizas$ptd <- NULL"
   ]
  },
  {
   "cell_type": "markdown",
   "id": "175a83de",
   "metadata": {},
   "source": [
    "### Duplicados"
   ]
  },
  {
   "cell_type": "code",
   "execution_count": 6,
   "id": "a9fa2319",
   "metadata": {
    "vscode": {
     "languageId": "r"
    }
   },
   "outputs": [
    {
     "data": {
      "text/html": [
       "1130223"
      ],
      "text/latex": [
       "1130223"
      ],
      "text/markdown": [
       "1130223"
      ],
      "text/plain": [
       "[1] 1130223"
      ]
     },
     "metadata": {},
     "output_type": "display_data"
    }
   ],
   "source": [
    "nrow(polizas)"
   ]
  },
  {
   "cell_type": "code",
   "execution_count": 7,
   "id": "18f8f9d5",
   "metadata": {
    "vscode": {
     "languageId": "r"
    }
   },
   "outputs": [],
   "source": [
    "polizas <- unique(polizas)"
   ]
  },
  {
   "cell_type": "code",
   "execution_count": 8,
   "id": "a91193d2",
   "metadata": {
    "vscode": {
     "languageId": "r"
    }
   },
   "outputs": [
    {
     "data": {
      "text/html": [
       "881295"
      ],
      "text/latex": [
       "881295"
      ],
      "text/markdown": [
       "881295"
      ],
      "text/plain": [
       "[1] 881295"
      ]
     },
     "metadata": {},
     "output_type": "display_data"
    }
   ],
   "source": [
    "nrow(polizas)"
   ]
  },
  {
   "cell_type": "markdown",
   "id": "c0ace3fa",
   "metadata": {},
   "source": [
    "### Valores nulos"
   ]
  },
  {
   "cell_type": "code",
   "execution_count": 9,
   "id": "9a38b734",
   "metadata": {
    "vscode": {
     "languageId": "r"
    }
   },
   "outputs": [
    {
     "data": {
      "text/html": [
       "263"
      ],
      "text/latex": [
       "263"
      ],
      "text/markdown": [
       "263"
      ],
      "text/plain": [
       "[1] 263"
      ]
     },
     "metadata": {},
     "output_type": "display_data"
    }
   ],
   "source": [
    "sum(is.na(polizas))"
   ]
  },
  {
   "cell_type": "code",
   "execution_count": 10,
   "id": "ec6c1368",
   "metadata": {
    "vscode": {
     "languageId": "r"
    }
   },
   "outputs": [
    {
     "data": {
      "text/html": [
       "0.00331582752905919"
      ],
      "text/latex": [
       "0.00331582752905919"
      ],
      "text/markdown": [
       "0.00331582752905919"
      ],
      "text/plain": [
       "[1] 0.003315828"
      ]
     },
     "metadata": {},
     "output_type": "display_data"
    }
   ],
   "source": [
    "100*sum(is.na(polizas))/(nrow(polizas)*ncol(polizas))"
   ]
  },
  {
   "cell_type": "markdown",
   "id": "69437691",
   "metadata": {},
   "source": [
    "Son tan pocos que se pueden eliminar sin problema"
   ]
  },
  {
   "cell_type": "code",
   "execution_count": 11,
   "id": "168a90b4",
   "metadata": {
    "vscode": {
     "languageId": "r"
    }
   },
   "outputs": [],
   "source": [
    "polizas <- na.omit(polizas)"
   ]
  },
  {
   "cell_type": "markdown",
   "id": "cf4d0397",
   "metadata": {},
   "source": [
    "### Seleccion de fechas"
   ]
  },
  {
   "cell_type": "markdown",
   "id": "fc0f42dd",
   "metadata": {},
   "source": [
    "Al igual que con los siniestros, vamos a reducir el analisis a las polizas que tienen exposicion en 2018"
   ]
  },
  {
   "cell_type": "code",
   "execution_count": 12,
   "id": "b5d714e3",
   "metadata": {
    "vscode": {
     "languageId": "r"
    }
   },
   "outputs": [],
   "source": [
    "polizas$Fecha_inicio <- as.Date(polizas$Fecha_inicio)\n",
    "polizas$Fecha_fin <- as.Date(polizas$Fecha_fin)\n",
    "polizas <- polizas[polizas$Fecha_inicio <= as.Date(\"2018-12-31\") & polizas$Fecha_fin >= as.Date(\"2018-01-01\"), ]"
   ]
  },
  {
   "cell_type": "markdown",
   "id": "3aae9d0b",
   "metadata": {},
   "source": [
    "### Prima"
   ]
  },
  {
   "cell_type": "markdown",
   "id": "ab861b4b",
   "metadata": {},
   "source": [
    "humbral seleccionado de tarifas de seguros todo riesgo en 2016"
   ]
  },
  {
   "cell_type": "code",
   "execution_count": 13,
   "id": "8ba8f97c",
   "metadata": {
    "vscode": {
     "languageId": "r"
    }
   },
   "outputs": [],
   "source": [
    "h <- 1250000"
   ]
  },
  {
   "cell_type": "code",
   "execution_count": 14,
   "id": "cbac3461",
   "metadata": {
    "vscode": {
     "languageId": "r"
    }
   },
   "outputs": [
    {
     "data": {
      "text/html": [
       "46.2374269185638"
      ],
      "text/latex": [
       "46.2374269185638"
      ],
      "text/markdown": [
       "46.2374269185638"
      ],
      "text/plain": [
       "[1] 46.23743"
      ]
     },
     "metadata": {},
     "output_type": "display_data"
    }
   ],
   "source": [
    "nrow(polizas[(polizas$Prima < h), ])*100/nrow(polizas)"
   ]
  },
  {
   "cell_type": "code",
   "execution_count": 15,
   "id": "6eeb8f2b",
   "metadata": {
    "vscode": {
     "languageId": "r"
    }
   },
   "outputs": [],
   "source": [
    "polizas_h <- polizas[(polizas$Prima < h), ]"
   ]
  },
  {
   "cell_type": "code",
   "execution_count": 16,
   "id": "cc886bb8",
   "metadata": {
    "vscode": {
     "languageId": "r"
    }
   },
   "outputs": [
    {
     "data": {
      "text/html": [
       "19.8586299857494"
      ],
      "text/latex": [
       "19.8586299857494"
      ],
      "text/markdown": [
       "19.8586299857494"
      ],
      "text/plain": [
       "[1] 19.85863"
      ]
     },
     "metadata": {},
     "output_type": "display_data"
    }
   ],
   "source": [
    "sum(polizas_h$Prima)*100/sum(polizas$Prima)"
   ]
  },
  {
   "cell_type": "code",
   "execution_count": 17,
   "id": "77de1770",
   "metadata": {
    "vscode": {
     "languageId": "r"
    }
   },
   "outputs": [
    {
     "data": {
      "text/html": [
       "209845"
      ],
      "text/latex": [
       "209845"
      ],
      "text/markdown": [
       "209845"
      ],
      "text/plain": [
       "[1] 209845"
      ]
     },
     "metadata": {},
     "output_type": "display_data"
    }
   ],
   "source": [
    "polizas <- polizas[(polizas$Prima >= h), ]\n",
    "nrow(polizas)"
   ]
  },
  {
   "cell_type": "markdown",
   "id": "ff50b398",
   "metadata": {},
   "source": [
    "## Duracion"
   ]
  },
  {
   "cell_type": "code",
   "execution_count": 18,
   "id": "1404046c",
   "metadata": {
    "vscode": {
     "languageId": "r"
    }
   },
   "outputs": [
    {
     "data": {
      "text/html": [
       "<style>\n",
       ".list-inline {list-style: none; margin:0; padding: 0}\n",
       ".list-inline>li {display: inline-block}\n",
       ".list-inline>li:not(:last-child)::after {content: \"\\00b7\"; padding: 0 .5ex}\n",
       "</style>\n",
       "<ol class=list-inline><li>1</li><li>2</li><li>3</li><li>4</li><li>5</li><li>7</li><li>8</li><li>9</li><li>10</li><li>12</li><li>13</li><li>14</li><li>15</li><li>16</li><li>18</li><li>19</li><li>20</li><li>21</li><li>22</li><li>23</li><li>24</li><li>25</li><li>26</li><li>27</li><li>29</li><li>30</li><li>31</li><li>32</li><li>33</li><li>34</li><li>35</li><li>36</li><li>37</li><li>38</li><li>39</li><li>40</li><li>41</li><li>42</li><li>43</li><li>44</li><li>45</li><li>47</li><li>48</li><li>50</li><li>51</li><li>52</li><li>53</li><li>54</li><li>56</li><li>57</li><li>58</li><li>59</li><li>60</li><li>61</li><li>62</li><li>63</li><li>64</li><li>65</li><li>66</li><li>67</li><li>68</li><li>69</li><li>70</li><li>71</li><li>72</li><li>73</li><li>74</li><li>75</li><li>76</li><li>77</li><li>78</li><li>79</li><li>80</li><li>81</li><li>82</li><li>83</li><li>84</li><li>85</li><li>86</li><li>87</li><li>88</li><li>89</li><li>90</li><li>91</li><li>92</li><li>93</li><li>94</li><li>95</li><li>96</li><li>97</li><li>98</li><li>99</li><li>100</li><li>101</li><li>102</li><li>103</li><li>104</li><li>105</li><li>106</li><li>107</li><li>108</li><li>109</li><li>110</li><li>111</li><li>112</li><li>113</li><li>114</li><li>115</li><li>116</li><li>117</li><li>118</li><li>119</li><li>120</li><li>121</li><li>122</li><li>123</li><li>124</li><li>125</li><li>126</li><li>127</li><li>128</li><li>129</li><li>130</li><li>131</li><li>132</li><li>133</li><li>134</li><li>135</li><li>136</li><li>137</li><li>138</li><li>139</li><li>140</li><li>141</li><li>142</li><li>143</li><li>144</li><li>145</li><li>146</li><li>147</li><li>148</li><li>149</li><li>150</li><li>151</li><li>152</li><li>153</li><li>154</li><li>155</li><li>156</li><li>157</li><li>158</li><li>159</li><li>160</li><li>161</li><li>162</li><li>163</li><li>164</li><li>165</li><li>166</li><li>167</li><li>168</li><li>169</li><li>170</li><li>171</li><li>172</li><li>173</li><li>174</li><li>175</li><li>176</li><li>177</li><li>178</li><li>179</li><li>180</li><li>181</li><li>182</li><li>183</li><li>184</li><li>185</li><li>186</li><li>187</li><li>188</li><li>189</li><li>190</li><li>191</li><li>192</li><li>193</li><li>194</li><li>195</li><li>196</li><li>197</li><li>198</li><li>199</li><li>200</li><li>201</li><li>202</li><li>203</li><li>204</li><li>205</li><li>206</li><li>207</li><li>⋯</li><li>1544</li><li>1545</li><li>1546</li><li>1547</li><li>1548</li><li>1549</li><li>1550</li><li>1551</li><li>1552</li><li>1553</li><li>1554</li><li>1555</li><li>1556</li><li>1557</li><li>1558</li><li>1559</li><li>1560</li><li>1561</li><li>1562</li><li>1563</li><li>1565</li><li>1566</li><li>1567</li><li>1568</li><li>1569</li><li>1570</li><li>1571</li><li>1572</li><li>1573</li><li>1574</li><li>1575</li><li>1576</li><li>1577</li><li>1578</li><li>1581</li><li>1582</li><li>1583</li><li>1584</li><li>1585</li><li>1586</li><li>1587</li><li>1588</li><li>1589</li><li>1590</li><li>1591</li><li>1592</li><li>1593</li><li>1594</li><li>1595</li><li>1596</li><li>1597</li><li>1598</li><li>1599</li><li>1600</li><li>1601</li><li>1602</li><li>1603</li><li>1604</li><li>1605</li><li>1606</li><li>1607</li><li>1608</li><li>1609</li><li>1610</li><li>1611</li><li>1612</li><li>1613</li><li>1614</li><li>1615</li><li>1616</li><li>1617</li><li>1618</li><li>1619</li><li>1620</li><li>1621</li><li>1622</li><li>1623</li><li>1624</li><li>1625</li><li>1626</li><li>1627</li><li>1628</li><li>1629</li><li>1630</li><li>1631</li><li>1632</li><li>1633</li><li>1634</li><li>1635</li><li>1638</li><li>1639</li><li>1640</li><li>1641</li><li>1642</li><li>1643</li><li>1644</li><li>1645</li><li>1646</li><li>1647</li><li>1648</li><li>1649</li><li>1650</li><li>1651</li><li>1652</li><li>1653</li><li>1654</li><li>1655</li><li>1656</li><li>1657</li><li>1658</li><li>1659</li><li>1660</li><li>1662</li><li>1663</li><li>1664</li><li>1665</li><li>1666</li><li>1667</li><li>1668</li><li>1669</li><li>1670</li><li>1671</li><li>1672</li><li>1674</li><li>1675</li><li>1676</li><li>1677</li><li>1679</li><li>1680</li><li>1683</li><li>1684</li><li>1685</li><li>1686</li><li>1687</li><li>1688</li><li>1690</li><li>1692</li><li>1693</li><li>1694</li><li>1695</li><li>1696</li><li>1697</li><li>1698</li><li>1699</li><li>1701</li><li>1702</li><li>1703</li><li>1704</li><li>1705</li><li>1706</li><li>1708</li><li>1709</li><li>1710</li><li>1711</li><li>1712</li><li>1713</li><li>1714</li><li>1715</li><li>1716</li><li>1717</li><li>1718</li><li>1720</li><li>1721</li><li>1722</li><li>1724</li><li>1728</li><li>1730</li><li>1732</li><li>1733</li><li>1735</li><li>1736</li><li>1737</li><li>1739</li><li>1740</li><li>1742</li><li>1743</li><li>1745</li><li>1749</li><li>1750</li><li>1753</li><li>1755</li><li>1757</li><li>1760</li><li>1765</li><li>1766</li><li>1767</li><li>1771</li><li>1774</li><li>1776</li><li>1777</li><li>1779</li><li>1786</li><li>1788</li><li>1792</li><li>1794</li><li>1798</li><li>1807</li><li>1811</li><li>1813</li><li>1827</li></ol>\n"
      ],
      "text/latex": [
       "\\begin{enumerate*}\n",
       "\\item 1\n",
       "\\item 2\n",
       "\\item 3\n",
       "\\item 4\n",
       "\\item 5\n",
       "\\item 7\n",
       "\\item 8\n",
       "\\item 9\n",
       "\\item 10\n",
       "\\item 12\n",
       "\\item 13\n",
       "\\item 14\n",
       "\\item 15\n",
       "\\item 16\n",
       "\\item 18\n",
       "\\item 19\n",
       "\\item 20\n",
       "\\item 21\n",
       "\\item 22\n",
       "\\item 23\n",
       "\\item 24\n",
       "\\item 25\n",
       "\\item 26\n",
       "\\item 27\n",
       "\\item 29\n",
       "\\item 30\n",
       "\\item 31\n",
       "\\item 32\n",
       "\\item 33\n",
       "\\item 34\n",
       "\\item 35\n",
       "\\item 36\n",
       "\\item 37\n",
       "\\item 38\n",
       "\\item 39\n",
       "\\item 40\n",
       "\\item 41\n",
       "\\item 42\n",
       "\\item 43\n",
       "\\item 44\n",
       "\\item 45\n",
       "\\item 47\n",
       "\\item 48\n",
       "\\item 50\n",
       "\\item 51\n",
       "\\item 52\n",
       "\\item 53\n",
       "\\item 54\n",
       "\\item 56\n",
       "\\item 57\n",
       "\\item 58\n",
       "\\item 59\n",
       "\\item 60\n",
       "\\item 61\n",
       "\\item 62\n",
       "\\item 63\n",
       "\\item 64\n",
       "\\item 65\n",
       "\\item 66\n",
       "\\item 67\n",
       "\\item 68\n",
       "\\item 69\n",
       "\\item 70\n",
       "\\item 71\n",
       "\\item 72\n",
       "\\item 73\n",
       "\\item 74\n",
       "\\item 75\n",
       "\\item 76\n",
       "\\item 77\n",
       "\\item 78\n",
       "\\item 79\n",
       "\\item 80\n",
       "\\item 81\n",
       "\\item 82\n",
       "\\item 83\n",
       "\\item 84\n",
       "\\item 85\n",
       "\\item 86\n",
       "\\item 87\n",
       "\\item 88\n",
       "\\item 89\n",
       "\\item 90\n",
       "\\item 91\n",
       "\\item 92\n",
       "\\item 93\n",
       "\\item 94\n",
       "\\item 95\n",
       "\\item 96\n",
       "\\item 97\n",
       "\\item 98\n",
       "\\item 99\n",
       "\\item 100\n",
       "\\item 101\n",
       "\\item 102\n",
       "\\item 103\n",
       "\\item 104\n",
       "\\item 105\n",
       "\\item 106\n",
       "\\item 107\n",
       "\\item 108\n",
       "\\item 109\n",
       "\\item 110\n",
       "\\item 111\n",
       "\\item 112\n",
       "\\item 113\n",
       "\\item 114\n",
       "\\item 115\n",
       "\\item 116\n",
       "\\item 117\n",
       "\\item 118\n",
       "\\item 119\n",
       "\\item 120\n",
       "\\item 121\n",
       "\\item 122\n",
       "\\item 123\n",
       "\\item 124\n",
       "\\item 125\n",
       "\\item 126\n",
       "\\item 127\n",
       "\\item 128\n",
       "\\item 129\n",
       "\\item 130\n",
       "\\item 131\n",
       "\\item 132\n",
       "\\item 133\n",
       "\\item 134\n",
       "\\item 135\n",
       "\\item 136\n",
       "\\item 137\n",
       "\\item 138\n",
       "\\item 139\n",
       "\\item 140\n",
       "\\item 141\n",
       "\\item 142\n",
       "\\item 143\n",
       "\\item 144\n",
       "\\item 145\n",
       "\\item 146\n",
       "\\item 147\n",
       "\\item 148\n",
       "\\item 149\n",
       "\\item 150\n",
       "\\item 151\n",
       "\\item 152\n",
       "\\item 153\n",
       "\\item 154\n",
       "\\item 155\n",
       "\\item 156\n",
       "\\item 157\n",
       "\\item 158\n",
       "\\item 159\n",
       "\\item 160\n",
       "\\item 161\n",
       "\\item 162\n",
       "\\item 163\n",
       "\\item 164\n",
       "\\item 165\n",
       "\\item 166\n",
       "\\item 167\n",
       "\\item 168\n",
       "\\item 169\n",
       "\\item 170\n",
       "\\item 171\n",
       "\\item 172\n",
       "\\item 173\n",
       "\\item 174\n",
       "\\item 175\n",
       "\\item 176\n",
       "\\item 177\n",
       "\\item 178\n",
       "\\item 179\n",
       "\\item 180\n",
       "\\item 181\n",
       "\\item 182\n",
       "\\item 183\n",
       "\\item 184\n",
       "\\item 185\n",
       "\\item 186\n",
       "\\item 187\n",
       "\\item 188\n",
       "\\item 189\n",
       "\\item 190\n",
       "\\item 191\n",
       "\\item 192\n",
       "\\item 193\n",
       "\\item 194\n",
       "\\item 195\n",
       "\\item 196\n",
       "\\item 197\n",
       "\\item 198\n",
       "\\item 199\n",
       "\\item 200\n",
       "\\item 201\n",
       "\\item 202\n",
       "\\item 203\n",
       "\\item 204\n",
       "\\item 205\n",
       "\\item 206\n",
       "\\item 207\n",
       "\\item ⋯\n",
       "\\item 1544\n",
       "\\item 1545\n",
       "\\item 1546\n",
       "\\item 1547\n",
       "\\item 1548\n",
       "\\item 1549\n",
       "\\item 1550\n",
       "\\item 1551\n",
       "\\item 1552\n",
       "\\item 1553\n",
       "\\item 1554\n",
       "\\item 1555\n",
       "\\item 1556\n",
       "\\item 1557\n",
       "\\item 1558\n",
       "\\item 1559\n",
       "\\item 1560\n",
       "\\item 1561\n",
       "\\item 1562\n",
       "\\item 1563\n",
       "\\item 1565\n",
       "\\item 1566\n",
       "\\item 1567\n",
       "\\item 1568\n",
       "\\item 1569\n",
       "\\item 1570\n",
       "\\item 1571\n",
       "\\item 1572\n",
       "\\item 1573\n",
       "\\item 1574\n",
       "\\item 1575\n",
       "\\item 1576\n",
       "\\item 1577\n",
       "\\item 1578\n",
       "\\item 1581\n",
       "\\item 1582\n",
       "\\item 1583\n",
       "\\item 1584\n",
       "\\item 1585\n",
       "\\item 1586\n",
       "\\item 1587\n",
       "\\item 1588\n",
       "\\item 1589\n",
       "\\item 1590\n",
       "\\item 1591\n",
       "\\item 1592\n",
       "\\item 1593\n",
       "\\item 1594\n",
       "\\item 1595\n",
       "\\item 1596\n",
       "\\item 1597\n",
       "\\item 1598\n",
       "\\item 1599\n",
       "\\item 1600\n",
       "\\item 1601\n",
       "\\item 1602\n",
       "\\item 1603\n",
       "\\item 1604\n",
       "\\item 1605\n",
       "\\item 1606\n",
       "\\item 1607\n",
       "\\item 1608\n",
       "\\item 1609\n",
       "\\item 1610\n",
       "\\item 1611\n",
       "\\item 1612\n",
       "\\item 1613\n",
       "\\item 1614\n",
       "\\item 1615\n",
       "\\item 1616\n",
       "\\item 1617\n",
       "\\item 1618\n",
       "\\item 1619\n",
       "\\item 1620\n",
       "\\item 1621\n",
       "\\item 1622\n",
       "\\item 1623\n",
       "\\item 1624\n",
       "\\item 1625\n",
       "\\item 1626\n",
       "\\item 1627\n",
       "\\item 1628\n",
       "\\item 1629\n",
       "\\item 1630\n",
       "\\item 1631\n",
       "\\item 1632\n",
       "\\item 1633\n",
       "\\item 1634\n",
       "\\item 1635\n",
       "\\item 1638\n",
       "\\item 1639\n",
       "\\item 1640\n",
       "\\item 1641\n",
       "\\item 1642\n",
       "\\item 1643\n",
       "\\item 1644\n",
       "\\item 1645\n",
       "\\item 1646\n",
       "\\item 1647\n",
       "\\item 1648\n",
       "\\item 1649\n",
       "\\item 1650\n",
       "\\item 1651\n",
       "\\item 1652\n",
       "\\item 1653\n",
       "\\item 1654\n",
       "\\item 1655\n",
       "\\item 1656\n",
       "\\item 1657\n",
       "\\item 1658\n",
       "\\item 1659\n",
       "\\item 1660\n",
       "\\item 1662\n",
       "\\item 1663\n",
       "\\item 1664\n",
       "\\item 1665\n",
       "\\item 1666\n",
       "\\item 1667\n",
       "\\item 1668\n",
       "\\item 1669\n",
       "\\item 1670\n",
       "\\item 1671\n",
       "\\item 1672\n",
       "\\item 1674\n",
       "\\item 1675\n",
       "\\item 1676\n",
       "\\item 1677\n",
       "\\item 1679\n",
       "\\item 1680\n",
       "\\item 1683\n",
       "\\item 1684\n",
       "\\item 1685\n",
       "\\item 1686\n",
       "\\item 1687\n",
       "\\item 1688\n",
       "\\item 1690\n",
       "\\item 1692\n",
       "\\item 1693\n",
       "\\item 1694\n",
       "\\item 1695\n",
       "\\item 1696\n",
       "\\item 1697\n",
       "\\item 1698\n",
       "\\item 1699\n",
       "\\item 1701\n",
       "\\item 1702\n",
       "\\item 1703\n",
       "\\item 1704\n",
       "\\item 1705\n",
       "\\item 1706\n",
       "\\item 1708\n",
       "\\item 1709\n",
       "\\item 1710\n",
       "\\item 1711\n",
       "\\item 1712\n",
       "\\item 1713\n",
       "\\item 1714\n",
       "\\item 1715\n",
       "\\item 1716\n",
       "\\item 1717\n",
       "\\item 1718\n",
       "\\item 1720\n",
       "\\item 1721\n",
       "\\item 1722\n",
       "\\item 1724\n",
       "\\item 1728\n",
       "\\item 1730\n",
       "\\item 1732\n",
       "\\item 1733\n",
       "\\item 1735\n",
       "\\item 1736\n",
       "\\item 1737\n",
       "\\item 1739\n",
       "\\item 1740\n",
       "\\item 1742\n",
       "\\item 1743\n",
       "\\item 1745\n",
       "\\item 1749\n",
       "\\item 1750\n",
       "\\item 1753\n",
       "\\item 1755\n",
       "\\item 1757\n",
       "\\item 1760\n",
       "\\item 1765\n",
       "\\item 1766\n",
       "\\item 1767\n",
       "\\item 1771\n",
       "\\item 1774\n",
       "\\item 1776\n",
       "\\item 1777\n",
       "\\item 1779\n",
       "\\item 1786\n",
       "\\item 1788\n",
       "\\item 1792\n",
       "\\item 1794\n",
       "\\item 1798\n",
       "\\item 1807\n",
       "\\item 1811\n",
       "\\item 1813\n",
       "\\item 1827\n",
       "\\end{enumerate*}\n"
      ],
      "text/markdown": [
       "1. 1\n",
       "2. 2\n",
       "3. 3\n",
       "4. 4\n",
       "5. 5\n",
       "6. 7\n",
       "7. 8\n",
       "8. 9\n",
       "9. 10\n",
       "10. 12\n",
       "11. 13\n",
       "12. 14\n",
       "13. 15\n",
       "14. 16\n",
       "15. 18\n",
       "16. 19\n",
       "17. 20\n",
       "18. 21\n",
       "19. 22\n",
       "20. 23\n",
       "21. 24\n",
       "22. 25\n",
       "23. 26\n",
       "24. 27\n",
       "25. 29\n",
       "26. 30\n",
       "27. 31\n",
       "28. 32\n",
       "29. 33\n",
       "30. 34\n",
       "31. 35\n",
       "32. 36\n",
       "33. 37\n",
       "34. 38\n",
       "35. 39\n",
       "36. 40\n",
       "37. 41\n",
       "38. 42\n",
       "39. 43\n",
       "40. 44\n",
       "41. 45\n",
       "42. 47\n",
       "43. 48\n",
       "44. 50\n",
       "45. 51\n",
       "46. 52\n",
       "47. 53\n",
       "48. 54\n",
       "49. 56\n",
       "50. 57\n",
       "51. 58\n",
       "52. 59\n",
       "53. 60\n",
       "54. 61\n",
       "55. 62\n",
       "56. 63\n",
       "57. 64\n",
       "58. 65\n",
       "59. 66\n",
       "60. 67\n",
       "61. 68\n",
       "62. 69\n",
       "63. 70\n",
       "64. 71\n",
       "65. 72\n",
       "66. 73\n",
       "67. 74\n",
       "68. 75\n",
       "69. 76\n",
       "70. 77\n",
       "71. 78\n",
       "72. 79\n",
       "73. 80\n",
       "74. 81\n",
       "75. 82\n",
       "76. 83\n",
       "77. 84\n",
       "78. 85\n",
       "79. 86\n",
       "80. 87\n",
       "81. 88\n",
       "82. 89\n",
       "83. 90\n",
       "84. 91\n",
       "85. 92\n",
       "86. 93\n",
       "87. 94\n",
       "88. 95\n",
       "89. 96\n",
       "90. 97\n",
       "91. 98\n",
       "92. 99\n",
       "93. 100\n",
       "94. 101\n",
       "95. 102\n",
       "96. 103\n",
       "97. 104\n",
       "98. 105\n",
       "99. 106\n",
       "100. 107\n",
       "101. 108\n",
       "102. 109\n",
       "103. 110\n",
       "104. 111\n",
       "105. 112\n",
       "106. 113\n",
       "107. 114\n",
       "108. 115\n",
       "109. 116\n",
       "110. 117\n",
       "111. 118\n",
       "112. 119\n",
       "113. 120\n",
       "114. 121\n",
       "115. 122\n",
       "116. 123\n",
       "117. 124\n",
       "118. 125\n",
       "119. 126\n",
       "120. 127\n",
       "121. 128\n",
       "122. 129\n",
       "123. 130\n",
       "124. 131\n",
       "125. 132\n",
       "126. 133\n",
       "127. 134\n",
       "128. 135\n",
       "129. 136\n",
       "130. 137\n",
       "131. 138\n",
       "132. 139\n",
       "133. 140\n",
       "134. 141\n",
       "135. 142\n",
       "136. 143\n",
       "137. 144\n",
       "138. 145\n",
       "139. 146\n",
       "140. 147\n",
       "141. 148\n",
       "142. 149\n",
       "143. 150\n",
       "144. 151\n",
       "145. 152\n",
       "146. 153\n",
       "147. 154\n",
       "148. 155\n",
       "149. 156\n",
       "150. 157\n",
       "151. 158\n",
       "152. 159\n",
       "153. 160\n",
       "154. 161\n",
       "155. 162\n",
       "156. 163\n",
       "157. 164\n",
       "158. 165\n",
       "159. 166\n",
       "160. 167\n",
       "161. 168\n",
       "162. 169\n",
       "163. 170\n",
       "164. 171\n",
       "165. 172\n",
       "166. 173\n",
       "167. 174\n",
       "168. 175\n",
       "169. 176\n",
       "170. 177\n",
       "171. 178\n",
       "172. 179\n",
       "173. 180\n",
       "174. 181\n",
       "175. 182\n",
       "176. 183\n",
       "177. 184\n",
       "178. 185\n",
       "179. 186\n",
       "180. 187\n",
       "181. 188\n",
       "182. 189\n",
       "183. 190\n",
       "184. 191\n",
       "185. 192\n",
       "186. 193\n",
       "187. 194\n",
       "188. 195\n",
       "189. 196\n",
       "190. 197\n",
       "191. 198\n",
       "192. 199\n",
       "193. 200\n",
       "194. 201\n",
       "195. 202\n",
       "196. 203\n",
       "197. 204\n",
       "198. 205\n",
       "199. 206\n",
       "200. 207\n",
       "201. ⋯\n",
       "202. 1544\n",
       "203. 1545\n",
       "204. 1546\n",
       "205. 1547\n",
       "206. 1548\n",
       "207. 1549\n",
       "208. 1550\n",
       "209. 1551\n",
       "210. 1552\n",
       "211. 1553\n",
       "212. 1554\n",
       "213. 1555\n",
       "214. 1556\n",
       "215. 1557\n",
       "216. 1558\n",
       "217. 1559\n",
       "218. 1560\n",
       "219. 1561\n",
       "220. 1562\n",
       "221. 1563\n",
       "222. 1565\n",
       "223. 1566\n",
       "224. 1567\n",
       "225. 1568\n",
       "226. 1569\n",
       "227. 1570\n",
       "228. 1571\n",
       "229. 1572\n",
       "230. 1573\n",
       "231. 1574\n",
       "232. 1575\n",
       "233. 1576\n",
       "234. 1577\n",
       "235. 1578\n",
       "236. 1581\n",
       "237. 1582\n",
       "238. 1583\n",
       "239. 1584\n",
       "240. 1585\n",
       "241. 1586\n",
       "242. 1587\n",
       "243. 1588\n",
       "244. 1589\n",
       "245. 1590\n",
       "246. 1591\n",
       "247. 1592\n",
       "248. 1593\n",
       "249. 1594\n",
       "250. 1595\n",
       "251. 1596\n",
       "252. 1597\n",
       "253. 1598\n",
       "254. 1599\n",
       "255. 1600\n",
       "256. 1601\n",
       "257. 1602\n",
       "258. 1603\n",
       "259. 1604\n",
       "260. 1605\n",
       "261. 1606\n",
       "262. 1607\n",
       "263. 1608\n",
       "264. 1609\n",
       "265. 1610\n",
       "266. 1611\n",
       "267. 1612\n",
       "268. 1613\n",
       "269. 1614\n",
       "270. 1615\n",
       "271. 1616\n",
       "272. 1617\n",
       "273. 1618\n",
       "274. 1619\n",
       "275. 1620\n",
       "276. 1621\n",
       "277. 1622\n",
       "278. 1623\n",
       "279. 1624\n",
       "280. 1625\n",
       "281. 1626\n",
       "282. 1627\n",
       "283. 1628\n",
       "284. 1629\n",
       "285. 1630\n",
       "286. 1631\n",
       "287. 1632\n",
       "288. 1633\n",
       "289. 1634\n",
       "290. 1635\n",
       "291. 1638\n",
       "292. 1639\n",
       "293. 1640\n",
       "294. 1641\n",
       "295. 1642\n",
       "296. 1643\n",
       "297. 1644\n",
       "298. 1645\n",
       "299. 1646\n",
       "300. 1647\n",
       "301. 1648\n",
       "302. 1649\n",
       "303. 1650\n",
       "304. 1651\n",
       "305. 1652\n",
       "306. 1653\n",
       "307. 1654\n",
       "308. 1655\n",
       "309. 1656\n",
       "310. 1657\n",
       "311. 1658\n",
       "312. 1659\n",
       "313. 1660\n",
       "314. 1662\n",
       "315. 1663\n",
       "316. 1664\n",
       "317. 1665\n",
       "318. 1666\n",
       "319. 1667\n",
       "320. 1668\n",
       "321. 1669\n",
       "322. 1670\n",
       "323. 1671\n",
       "324. 1672\n",
       "325. 1674\n",
       "326. 1675\n",
       "327. 1676\n",
       "328. 1677\n",
       "329. 1679\n",
       "330. 1680\n",
       "331. 1683\n",
       "332. 1684\n",
       "333. 1685\n",
       "334. 1686\n",
       "335. 1687\n",
       "336. 1688\n",
       "337. 1690\n",
       "338. 1692\n",
       "339. 1693\n",
       "340. 1694\n",
       "341. 1695\n",
       "342. 1696\n",
       "343. 1697\n",
       "344. 1698\n",
       "345. 1699\n",
       "346. 1701\n",
       "347. 1702\n",
       "348. 1703\n",
       "349. 1704\n",
       "350. 1705\n",
       "351. 1706\n",
       "352. 1708\n",
       "353. 1709\n",
       "354. 1710\n",
       "355. 1711\n",
       "356. 1712\n",
       "357. 1713\n",
       "358. 1714\n",
       "359. 1715\n",
       "360. 1716\n",
       "361. 1717\n",
       "362. 1718\n",
       "363. 1720\n",
       "364. 1721\n",
       "365. 1722\n",
       "366. 1724\n",
       "367. 1728\n",
       "368. 1730\n",
       "369. 1732\n",
       "370. 1733\n",
       "371. 1735\n",
       "372. 1736\n",
       "373. 1737\n",
       "374. 1739\n",
       "375. 1740\n",
       "376. 1742\n",
       "377. 1743\n",
       "378. 1745\n",
       "379. 1749\n",
       "380. 1750\n",
       "381. 1753\n",
       "382. 1755\n",
       "383. 1757\n",
       "384. 1760\n",
       "385. 1765\n",
       "386. 1766\n",
       "387. 1767\n",
       "388. 1771\n",
       "389. 1774\n",
       "390. 1776\n",
       "391. 1777\n",
       "392. 1779\n",
       "393. 1786\n",
       "394. 1788\n",
       "395. 1792\n",
       "396. 1794\n",
       "397. 1798\n",
       "398. 1807\n",
       "399. 1811\n",
       "400. 1813\n",
       "401. 1827\n",
       "\n",
       "\n"
      ],
      "text/plain": [
       "   [1]    1    2    3    4    5    7    8    9   10   12   13   14   15   16\n",
       "  [15]   18   19   20   21   22   23   24   25   26   27   29   30   31   32\n",
       "  [29]   33   34   35   36   37   38   39   40   41   42   43   44   45   47\n",
       "  [43]   48   50   51   52   53   54   56   57   58   59   60   61   62   63\n",
       "  [57]   64   65   66   67   68   69   70   71   72   73   74   75   76   77\n",
       "  [71]   78   79   80   81   82   83   84   85   86   87   88   89   90   91\n",
       "  [85]   92   93   94   95   96   97   98   99  100  101  102  103  104  105\n",
       "  [99]  106  107  108  109  110  111  112  113  114  115  116  117  118  119\n",
       " [113]  120  121  122  123  124  125  126  127  128  129  130  131  132  133\n",
       " [127]  134  135  136  137  138  139  140  141  142  143  144  145  146  147\n",
       " [141]  148  149  150  151  152  153  154  155  156  157  158  159  160  161\n",
       " [155]  162  163  164  165  166  167  168  169  170  171  172  173  174  175\n",
       " [169]  176  177  178  179  180  181  182  183  184  185  186  187  188  189\n",
       " [183]  190  191  192  193  194  195  196  197  198  199  200  201  202  203\n",
       " [197]  204  205  206  207  208  209  210  211  212  213  214  215  216  217\n",
       " [211]  218  219  220  221  222  223  224  225  226  227  228  229  230  231\n",
       " [225]  232  233  234  235  236  237  238  239  240  241  242  243  244  245\n",
       " [239]  246  247  248  249  250  251  252  253  254  255  256  257  258  259\n",
       " [253]  260  261  262  263  264  265  266  267  268  269  270  271  272  273\n",
       " [267]  274  275  276  277  278  279  280  281  282  283  284  285  286  287\n",
       " [281]  288  289  290  291  292  293  294  295  296  297  298  299  300  301\n",
       " [295]  302  303  304  305  306  307  308  309  310  311  312  313  314  315\n",
       " [309]  316  317  318  319  320  321  322  323  324  325  326  327  328  329\n",
       " [323]  330  331  332  333  334  335  336  337  338  339  340  341  342  343\n",
       " [337]  344  345  346  347  348  349  350  351  352  353  354  355  356  357\n",
       " [351]  358  359  360  361  362  363  364  365  366  367  368  369  370  371\n",
       " [365]  372  373  374  375  376  377  378  379  380  381  382  383  384  385\n",
       " [379]  386  387  388  389  390  391  392  393  394  395  396  397  398  399\n",
       " [393]  400  401  402  403  404  405  406  407  408  409  410  411  412  413\n",
       " [407]  414  415  416  417  418  419  420  421  422  423  424  425  426  427\n",
       " [421]  428  429  430  431  432  433  434  435  436  437  438  439  440  441\n",
       " [435]  442  443  444  445  446  447  448  449  450  451  452  453  454  455\n",
       " [449]  456  457  458  459  460  461  462  463  464  465  466  467  468  469\n",
       " [463]  470  471  472  473  474  475  476  477  478  479  480  481  482  483\n",
       " [477]  484  485  486  487  488  489  490  491  492  493  494  495  496  497\n",
       " [491]  498  499  500  501  502  503  504  505  506  507  508  509  510  511\n",
       " [505]  512  513  514  515  516  517  518  519  520  521  522  523  524  525\n",
       " [519]  526  527  528  529  530  531  532  533  534  535  536  537  538  539\n",
       " [533]  540  541  542  543  544  545  546  547  548  549  550  551  552  553\n",
       " [547]  554  555  556  557  558  559  560  561  562  563  564  565  566  567\n",
       " [561]  568  569  570  571  572  573  574  575  576  577  578  579  580  581\n",
       " [575]  582  583  584  585  586  587  588  589  590  591  592  593  594  595\n",
       " [589]  596  597  598  599  600  601  602  603  604  605  606  607  608  609\n",
       " [603]  610  611  612  613  614  615  616  617  618  619  620  621  622  623\n",
       " [617]  624  625  626  627  628  629  630  631  632  633  634  635  636  637\n",
       " [631]  638  639  640  641  642  643  644  645  646  647  648  649  650  651\n",
       " [645]  652  653  654  655  656  657  658  659  660  661  662  663  664  665\n",
       " [659]  666  667  668  669  670  671  672  673  674  675  676  677  678  679\n",
       " [673]  680  681  682  683  684  685  686  687  688  689  690  691  692  693\n",
       " [687]  694  695  696  697  698  699  700  701  702  703  704  705  706  707\n",
       " [701]  708  709  710  711  712  713  714  715  716  717  718  719  720  721\n",
       " [715]  722  723  724  725  726  727  728  729  730  731  732  733  734  735\n",
       " [729]  736  737  738  739  740  741  742  743  744  745  746  747  748  749\n",
       " [743]  750  751  752  753  754  755  756  757  758  759  760  761  762  763\n",
       " [757]  764  765  766  767  768  769  770  771  772  773  774  775  776  777\n",
       " [771]  778  779  780  781  782  783  784  785  786  787  788  789  790  791\n",
       " [785]  792  793  794  795  796  797  798  799  800  801  802  803  804  805\n",
       " [799]  806  807  808  809  810  811  812  813  814  815  816  817  818  819\n",
       " [813]  820  821  822  823  824  825  826  827  828  829  830  831  832  833\n",
       " [827]  834  835  836  837  838  839  840  841  842  843  844  845  846  847\n",
       " [841]  848  849  850  851  852  853  854  855  856  857  858  859  860  861\n",
       " [855]  862  863  864  865  866  867  868  869  870  871  872  873  874  875\n",
       " [869]  876  877  878  879  880  881  882  883  884  885  886  887  888  889\n",
       " [883]  890  891  892  893  894  895  896  897  898  899  900  901  902  903\n",
       " [897]  904  905  906  907  908  909  910  911  912  913  914  915  916  917\n",
       " [911]  918  919  920  921  922  923  924  925  926  927  928  929  930  931\n",
       " [925]  932  933  934  935  936  937  938  939  940  941  942  943  944  945\n",
       " [939]  946  947  948  949  950  951  952  953  954  955  956  957  958  959\n",
       " [953]  960  961  962  963  964  965  966  967  968  969  970  971  972  973\n",
       " [967]  974  975  976  977  978  979  980  981  982  983  984  985  986  987\n",
       " [981]  988  989  990  991  992  993  994  995  996  997  998  999 1000 1001\n",
       " [995] 1002 1003 1004 1005 1006 1007 1008 1009 1010 1011 1012 1013 1014 1015\n",
       "[1009] 1016 1017 1018 1019 1020 1021 1022 1023 1024 1025 1026 1027 1028 1029\n",
       "[1023] 1030 1031 1032 1033 1034 1035 1036 1037 1038 1039 1040 1041 1042 1043\n",
       "[1037] 1044 1045 1046 1047 1048 1049 1050 1051 1052 1053 1054 1055 1056 1057\n",
       "[1051] 1058 1059 1060 1061 1062 1063 1064 1065 1066 1067 1068 1069 1070 1071\n",
       "[1065] 1072 1073 1074 1075 1076 1077 1078 1079 1080 1081 1082 1083 1084 1085\n",
       "[1079] 1086 1087 1088 1089 1090 1091 1092 1093 1094 1095 1096 1097 1098 1099\n",
       "[1093] 1100 1101 1102 1103 1104 1105 1106 1107 1108 1109 1110 1111 1112 1113\n",
       "[1107] 1114 1115 1116 1117 1118 1119 1120 1121 1122 1123 1124 1125 1126 1127\n",
       "[1121] 1128 1129 1130 1131 1132 1133 1134 1135 1136 1137 1138 1139 1140 1141\n",
       "[1135] 1142 1143 1144 1145 1146 1147 1148 1149 1150 1151 1152 1153 1154 1155\n",
       "[1149] 1156 1157 1158 1159 1160 1161 1162 1163 1164 1165 1166 1167 1168 1169\n",
       "[1163] 1170 1171 1172 1173 1174 1175 1176 1177 1178 1179 1180 1181 1182 1183\n",
       "[1177] 1184 1185 1186 1187 1188 1189 1190 1191 1192 1193 1194 1195 1196 1197\n",
       "[1191] 1198 1199 1200 1201 1202 1203 1204 1205 1206 1207 1208 1209 1210 1211\n",
       "[1205] 1212 1213 1214 1215 1216 1217 1218 1219 1220 1221 1222 1223 1224 1225\n",
       "[1219] 1226 1227 1228 1229 1230 1231 1232 1233 1234 1235 1236 1237 1238 1239\n",
       "[1233] 1240 1241 1242 1243 1244 1245 1246 1247 1248 1249 1250 1251 1252 1253\n",
       "[1247] 1254 1255 1256 1257 1258 1259 1260 1261 1262 1263 1264 1265 1266 1267\n",
       "[1261] 1268 1269 1270 1271 1272 1273 1274 1275 1276 1277 1278 1279 1280 1281\n",
       "[1275] 1282 1283 1284 1285 1286 1287 1288 1289 1290 1291 1292 1293 1294 1295\n",
       "[1289] 1296 1297 1298 1299 1300 1301 1302 1303 1304 1305 1306 1307 1308 1309\n",
       "[1303] 1310 1311 1312 1313 1314 1315 1316 1317 1318 1319 1320 1321 1322 1323\n",
       "[1317] 1324 1325 1326 1327 1328 1329 1330 1331 1332 1333 1334 1335 1336 1337\n",
       "[1331] 1338 1339 1340 1341 1342 1343 1344 1345 1346 1347 1348 1349 1350 1351\n",
       "[1345] 1352 1353 1354 1355 1356 1357 1358 1359 1360 1361 1362 1363 1364 1365\n",
       "[1359] 1366 1367 1368 1369 1370 1371 1372 1373 1374 1375 1376 1377 1378 1379\n",
       "[1373] 1380 1381 1382 1383 1384 1385 1386 1387 1388 1389 1390 1391 1392 1393\n",
       "[1387] 1394 1395 1396 1397 1398 1399 1400 1401 1402 1403 1404 1405 1406 1407\n",
       "[1401] 1408 1409 1410 1411 1412 1413 1414 1415 1416 1417 1419 1420 1421 1422\n",
       "[1415] 1424 1425 1426 1427 1428 1429 1430 1431 1432 1433 1435 1436 1437 1438\n",
       "[1429] 1439 1440 1441 1442 1443 1444 1445 1446 1447 1448 1449 1450 1451 1452\n",
       "[1443] 1453 1454 1455 1456 1457 1458 1459 1460 1461 1462 1463 1464 1465 1467\n",
       "[1457] 1468 1469 1470 1471 1472 1473 1476 1477 1478 1479 1480 1481 1482 1483\n",
       "[1471] 1484 1485 1486 1487 1488 1489 1491 1492 1493 1494 1495 1496 1497 1498\n",
       "[1485] 1499 1500 1501 1502 1503 1505 1506 1507 1508 1509 1510 1511 1512 1514\n",
       "[1499] 1515 1516 1517 1518 1519 1521 1522 1523 1524 1525 1526 1527 1528 1529\n",
       "[1513] 1530 1531 1532 1533 1534 1535 1536 1537 1538 1539 1540 1542 1543 1544\n",
       "[1527] 1545 1546 1547 1548 1549 1550 1551 1552 1553 1554 1555 1556 1557 1558\n",
       "[1541] 1559 1560 1561 1562 1563 1565 1566 1567 1568 1569 1570 1571 1572 1573\n",
       "[1555] 1574 1575 1576 1577 1578 1581 1582 1583 1584 1585 1586 1587 1588 1589\n",
       "[1569] 1590 1591 1592 1593 1594 1595 1596 1597 1598 1599 1600 1601 1602 1603\n",
       "[1583] 1604 1605 1606 1607 1608 1609 1610 1611 1612 1613 1614 1615 1616 1617\n",
       "[1597] 1618 1619 1620 1621 1622 1623 1624 1625 1626 1627 1628 1629 1630 1631\n",
       "[1611] 1632 1633 1634 1635 1638 1639 1640 1641 1642 1643 1644 1645 1646 1647\n",
       "[1625] 1648 1649 1650 1651 1652 1653 1654 1655 1656 1657 1658 1659 1660 1662\n",
       "[1639] 1663 1664 1665 1666 1667 1668 1669 1670 1671 1672 1674 1675 1676 1677\n",
       "[1653] 1679 1680 1683 1684 1685 1686 1687 1688 1690 1692 1693 1694 1695 1696\n",
       "[1667] 1697 1698 1699 1701 1702 1703 1704 1705 1706 1708 1709 1710 1711 1712\n",
       "[1681] 1713 1714 1715 1716 1717 1718 1720 1721 1722 1724 1728 1730 1732 1733\n",
       "[1695] 1735 1736 1737 1739 1740 1742 1743 1745 1749 1750 1753 1755 1757 1760\n",
       "[1709] 1765 1766 1767 1771 1774 1776 1777 1779 1786 1788 1792 1794 1798 1807\n",
       "[1723] 1811 1813 1827"
      ]
     },
     "metadata": {},
     "output_type": "display_data"
    }
   ],
   "source": [
    "polizas$Duracion <- as.numeric(difftime(polizas$Fecha_fin, polizas$Fecha_inicio, units=\"days\")) + 1\n",
    "sort(unique(polizas$Duracion))"
   ]
  },
  {
   "cell_type": "code",
   "execution_count": 19,
   "id": "12fc297a",
   "metadata": {
    "vscode": {
     "languageId": "r"
    }
   },
   "outputs": [
    {
     "data": {
      "text/html": [
       "0.333103004598632"
      ],
      "text/latex": [
       "0.333103004598632"
      ],
      "text/markdown": [
       "0.333103004598632"
      ],
      "text/plain": [
       "[1] 0.333103"
      ]
     },
     "metadata": {},
     "output_type": "display_data"
    }
   ],
   "source": [
    "100*sum(polizas$Duracion < 90)/nrow(polizas)"
   ]
  },
  {
   "cell_type": "markdown",
   "id": "7c7eaf48",
   "metadata": {},
   "source": [
    "Vamos a eliminar estos datos suponiendo que fueron seguros adquiridos por pagos mensuales y que despues de tres meses de impago se terminaron. "
   ]
  },
  {
   "cell_type": "code",
   "execution_count": 20,
   "id": "70eec00b",
   "metadata": {
    "vscode": {
     "languageId": "r"
    }
   },
   "outputs": [],
   "source": [
    "polizas <- polizas[polizas$Duracion >= 90,]"
   ]
  },
  {
   "cell_type": "code",
   "execution_count": 21,
   "id": "2ff04778",
   "metadata": {
    "vscode": {
     "languageId": "r"
    }
   },
   "outputs": [
    {
     "data": {
      "text/html": [
       "209146"
      ],
      "text/latex": [
       "209146"
      ],
      "text/markdown": [
       "209146"
      ],
      "text/plain": [
       "[1] 209146"
      ]
     },
     "metadata": {},
     "output_type": "display_data"
    }
   ],
   "source": [
    "nrow(polizas)"
   ]
  },
  {
   "cell_type": "code",
   "execution_count": 22,
   "id": "cd16a889",
   "metadata": {
    "vscode": {
     "languageId": "r"
    }
   },
   "outputs": [
    {
     "data": {
      "text/plain": [
       "  Fecha_inicio          Fecha_fin              Prima          \n",
       " Min.   :2016-01-01   Min.   :2018-01-01   Min.   :  1250000  \n",
       " 1st Qu.:2017-03-16   1st Qu.:2018-09-20   1st Qu.:  1495500  \n",
       " Median :2017-10-26   Median :2019-06-15   Median :  1735572  \n",
       " Mean   :2017-10-09   Mean   :2019-06-07   Mean   :  2037437  \n",
       " 3rd Qu.:2018-06-13   3rd Qu.:2020-01-02   3rd Qu.:  2188076  \n",
       " Max.   :2018-12-31   Max.   :2020-12-31   Max.   :424284704  \n",
       " Valor_asegurado     Valor_asegurado_rc      ppd              pth        \n",
       " Min.   :0.000e+00   Min.   :0.00e+00   Min.   :0.0000   Min.   :0.0000  \n",
       " 1st Qu.:3.420e+07   1st Qu.:8.00e+08   1st Qu.:1.0000   1st Qu.:1.0000  \n",
       " Median :4.480e+07   Median :2.00e+09   Median :1.0000   Median :1.0000  \n",
       " Mean   :5.515e+07   Mean   :1.73e+09   Mean   :0.9856   Mean   :0.9866  \n",
       " 3rd Qu.:6.480e+07   3rd Qu.:3.00e+09   3rd Qu.:1.0000   3rd Qu.:1.0000  \n",
       " Max.   :1.624e+09   Max.   :4.00e+09   Max.   :1.0000   Max.   :1.0000  \n",
       "      pph               rc            Duracion     \n",
       " Min.   :0.0000   Min.   :0.0000   Min.   :  90.0  \n",
       " 1st Qu.:1.0000   1st Qu.:1.0000   1st Qu.: 366.0  \n",
       " Median :1.0000   Median :1.0000   Median : 366.0  \n",
       " Mean   :0.9856   Mean   :0.8156   Mean   : 606.9  \n",
       " 3rd Qu.:1.0000   3rd Qu.:1.0000   3rd Qu.: 732.0  \n",
       " Max.   :1.0000   Max.   :1.0000   Max.   :1827.0  "
      ]
     },
     "metadata": {},
     "output_type": "display_data"
    }
   ],
   "source": [
    "summary(polizas)"
   ]
  },
  {
   "cell_type": "markdown",
   "id": "3d7b2ad0",
   "metadata": {},
   "source": [
    "### Dataframes por mes"
   ]
  },
  {
   "cell_type": "code",
   "execution_count": 23,
   "id": "6ee5148f",
   "metadata": {
    "vscode": {
     "languageId": "r"
    }
   },
   "outputs": [],
   "source": [
    "source(\"../src/data/polizas_diarias.R\")"
   ]
  },
  {
   "cell_type": "code",
   "execution_count": 24,
   "id": "203edbfe",
   "metadata": {
    "vscode": {
     "languageId": "r"
    }
   },
   "outputs": [],
   "source": [
    "dataframes_mes <- polizas_mensuales(polizas)"
   ]
  },
  {
   "cell_type": "code",
   "execution_count": 25,
   "id": "0f8d50db",
   "metadata": {
    "vscode": {
     "languageId": "r"
    }
   },
   "outputs": [],
   "source": [
    "write.csv(dataframes_mes$PPD, \"../data/processed/polizas_ppd_mes.csv\", row.names = FALSE)\n",
    "write.csv(dataframes_mes$PTH, \"../data/processed/polizas_pth_mes.csv\", row.names = FALSE)\n",
    "write.csv(dataframes_mes$PPH, \"../data/processed/polizas_pph_mes.csv\", row.names = FALSE)\n",
    "write.csv(dataframes_mes$RC, \"../data/processed/polizas_rc_mes.csv\", row.names = FALSE)"
   ]
  }
 ],
 "metadata": {
  "kernelspec": {
   "display_name": "R",
   "language": "R",
   "name": "ir"
  },
  "language_info": {
   "codemirror_mode": "r",
   "file_extension": ".r",
   "mimetype": "text/x-r-source",
   "name": "R",
   "pygments_lexer": "r",
   "version": "4.2.3"
  }
 },
 "nbformat": 4,
 "nbformat_minor": 5
}
