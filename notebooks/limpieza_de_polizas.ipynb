{
 "cells": [
  {
   "cell_type": "markdown",
   "id": "ca093885",
   "metadata": {},
   "source": [
    "<div align=\"center\">\n",
    "\n",
    "# **Limpieza de Polizas**\n",
    "\n",
    "</div>"
   ]
  },
  {
   "cell_type": "markdown",
   "id": "4338d3b1",
   "metadata": {},
   "source": [
    "## Librerias"
   ]
  },
  {
   "cell_type": "code",
   "execution_count": 1,
   "id": "a88c249c",
   "metadata": {
    "vscode": {
     "languageId": "r"
    }
   },
   "outputs": [
    {
     "name": "stderr",
     "output_type": "stream",
     "text": [
      "\n",
      "Attaching package: ‘lubridate’\n",
      "\n",
      "\n",
      "The following objects are masked from ‘package:base’:\n",
      "\n",
      "    date, intersect, setdiff, union\n",
      "\n",
      "\n",
      "\n",
      "Attaching package: ‘dplyr’\n",
      "\n",
      "\n",
      "The following objects are masked from ‘package:stats’:\n",
      "\n",
      "    filter, lag\n",
      "\n",
      "\n",
      "The following objects are masked from ‘package:base’:\n",
      "\n",
      "    intersect, setdiff, setequal, union\n",
      "\n",
      "\n"
     ]
    }
   ],
   "source": [
    "library(readxl)\n",
    "library(lubridate)\n",
    "library(dplyr)\n",
    "library(DT)"
   ]
  },
  {
   "cell_type": "markdown",
   "id": "8ad7cf92",
   "metadata": {},
   "source": [
    "## Datos"
   ]
  },
  {
   "cell_type": "code",
   "execution_count": 2,
   "id": "77fb0207",
   "metadata": {
    "vscode": {
     "languageId": "r"
    }
   },
   "outputs": [],
   "source": [
    "polizas <- read.table(\"../data/input/polizas_v2.txt\", header = TRUE, sep = \"|\")"
   ]
  },
  {
   "cell_type": "markdown",
   "id": "d0e593e5",
   "metadata": {},
   "source": [
    "## Limpieza"
   ]
  },
  {
   "cell_type": "markdown",
   "id": "ac4d45dd",
   "metadata": {},
   "source": [
    "### Columnas"
   ]
  },
  {
   "cell_type": "code",
   "execution_count": 3,
   "id": "99dd9db1",
   "metadata": {
    "vscode": {
     "languageId": "r"
    }
   },
   "outputs": [
    {
     "data": {
      "text/html": [
       "<style>\n",
       ".list-inline {list-style: none; margin:0; padding: 0}\n",
       ".list-inline>li {display: inline-block}\n",
       ".list-inline>li:not(:last-child)::after {content: \"\\00b7\"; padding: 0 .5ex}\n",
       "</style>\n",
       "<ol class=list-inline><li>'FECINICIO'</li><li>'FECFIN'</li><li>'VLRPRISUSCR'</li><li>'VLRASEGU'</li><li>'VLRASEGURC'</li><li>'PTD'</li><li>'PPD'</li><li>'PH'</li><li>'PPH'</li><li>'RC'</li></ol>\n"
      ],
      "text/latex": [
       "\\begin{enumerate*}\n",
       "\\item 'FECINICIO'\n",
       "\\item 'FECFIN'\n",
       "\\item 'VLRPRISUSCR'\n",
       "\\item 'VLRASEGU'\n",
       "\\item 'VLRASEGURC'\n",
       "\\item 'PTD'\n",
       "\\item 'PPD'\n",
       "\\item 'PH'\n",
       "\\item 'PPH'\n",
       "\\item 'RC'\n",
       "\\end{enumerate*}\n"
      ],
      "text/markdown": [
       "1. 'FECINICIO'\n",
       "2. 'FECFIN'\n",
       "3. 'VLRPRISUSCR'\n",
       "4. 'VLRASEGU'\n",
       "5. 'VLRASEGURC'\n",
       "6. 'PTD'\n",
       "7. 'PPD'\n",
       "8. 'PH'\n",
       "9. 'PPH'\n",
       "10. 'RC'\n",
       "\n",
       "\n"
      ],
      "text/plain": [
       " [1] \"FECINICIO\"   \"FECFIN\"      \"VLRPRISUSCR\" \"VLRASEGU\"    \"VLRASEGURC\" \n",
       " [6] \"PTD\"         \"PPD\"         \"PH\"          \"PPH\"         \"RC\"         "
      ]
     },
     "metadata": {},
     "output_type": "display_data"
    }
   ],
   "source": [
    "names(polizas)"
   ]
  },
  {
   "cell_type": "code",
   "execution_count": 4,
   "id": "16d4b182",
   "metadata": {
    "vscode": {
     "languageId": "r"
    }
   },
   "outputs": [],
   "source": [
    "names(polizas) <- c(\n",
    "    \"Fecha_inicio\",\n",
    "    \"Fecha_fin\",\n",
    "    \"Prima\",\n",
    "    \"Valor_asegurado\",\n",
    "    \"Valor_asegurado_rc\",\n",
    "    \"ptd\", \n",
    "    \"ppd\",\n",
    "    \"pth\",\n",
    "    \"pph\",\n",
    "    \"rc\"\n",
    ")"
   ]
  },
  {
   "cell_type": "markdown",
   "id": "34963236",
   "metadata": {},
   "source": [
    "En la data de siniestros no hay ninguno con ptd"
   ]
  },
  {
   "cell_type": "code",
   "execution_count": 5,
   "id": "fd8aae32",
   "metadata": {
    "vscode": {
     "languageId": "r"
    }
   },
   "outputs": [],
   "source": [
    "polizas$ptd <- NULL"
   ]
  },
  {
   "cell_type": "markdown",
   "id": "175a83de",
   "metadata": {},
   "source": [
    "### Duplicados"
   ]
  },
  {
   "cell_type": "code",
   "execution_count": 6,
   "id": "18f8f9d5",
   "metadata": {
    "vscode": {
     "languageId": "r"
    }
   },
   "outputs": [],
   "source": [
    "polizas <- unique(polizas)"
   ]
  },
  {
   "cell_type": "markdown",
   "id": "c0ace3fa",
   "metadata": {},
   "source": [
    "### Valores nulos"
   ]
  },
  {
   "cell_type": "code",
   "execution_count": 7,
   "id": "9a38b734",
   "metadata": {
    "vscode": {
     "languageId": "r"
    }
   },
   "outputs": [
    {
     "data": {
      "text/html": [
       "263"
      ],
      "text/latex": [
       "263"
      ],
      "text/markdown": [
       "263"
      ],
      "text/plain": [
       "[1] 263"
      ]
     },
     "metadata": {},
     "output_type": "display_data"
    }
   ],
   "source": [
    "sum(is.na(polizas))"
   ]
  },
  {
   "cell_type": "code",
   "execution_count": 8,
   "id": "ec6c1368",
   "metadata": {
    "vscode": {
     "languageId": "r"
    }
   },
   "outputs": [
    {
     "data": {
      "text/html": [
       "0.00331582752905919"
      ],
      "text/latex": [
       "0.00331582752905919"
      ],
      "text/markdown": [
       "0.00331582752905919"
      ],
      "text/plain": [
       "[1] 0.003315828"
      ]
     },
     "metadata": {},
     "output_type": "display_data"
    }
   ],
   "source": [
    "100*sum(is.na(polizas))/(nrow(polizas)*ncol(polizas))"
   ]
  },
  {
   "cell_type": "markdown",
   "id": "69437691",
   "metadata": {},
   "source": [
    "Son tan pocos que se pueden eliminar sin problema"
   ]
  },
  {
   "cell_type": "code",
   "execution_count": 9,
   "id": "168a90b4",
   "metadata": {
    "vscode": {
     "languageId": "r"
    }
   },
   "outputs": [],
   "source": [
    "polizas <- na.omit(polizas)"
   ]
  },
  {
   "cell_type": "markdown",
   "id": "cf4d0397",
   "metadata": {},
   "source": [
    "### Seleccion de fechas"
   ]
  },
  {
   "cell_type": "markdown",
   "id": "fc0f42dd",
   "metadata": {},
   "source": [
    "Al igual que con los siniestros, vamos a reducir el analisis a las polizas que tienen exposicion en 2018"
   ]
  },
  {
   "cell_type": "code",
   "execution_count": 10,
   "id": "b5d714e3",
   "metadata": {
    "vscode": {
     "languageId": "r"
    }
   },
   "outputs": [],
   "source": [
    "polizas$Fecha_inicio <- as.Date(polizas$Fecha_inicio)\n",
    "polizas$Fecha_fin <- as.Date(polizas$Fecha_fin)\n",
    "polizas <- polizas[polizas$Fecha_inicio <= as.Date(\"2018-12-31\") & polizas$Fecha_fin >= as.Date(\"2018-01-01\"), ]"
   ]
  },
  {
   "cell_type": "markdown",
   "id": "3aae9d0b",
   "metadata": {},
   "source": [
    "### Prima"
   ]
  },
  {
   "cell_type": "code",
   "execution_count": 11,
   "id": "6956fa46",
   "metadata": {
    "vscode": {
     "languageId": "r"
    }
   },
   "outputs": [],
   "source": [
    "polizas <- na.omit(polizas)"
   ]
  },
  {
   "cell_type": "markdown",
   "id": "ab861b4b",
   "metadata": {},
   "source": [
    "humbral seleccionado de tarifas soat en 2016"
   ]
  },
  {
   "cell_type": "code",
   "execution_count": 12,
   "id": "8ba8f97c",
   "metadata": {
    "vscode": {
     "languageId": "r"
    }
   },
   "outputs": [],
   "source": [
    "h <- 459500"
   ]
  },
  {
   "cell_type": "code",
   "execution_count": 13,
   "id": "cbac3461",
   "metadata": {
    "vscode": {
     "languageId": "r"
    }
   },
   "outputs": [
    {
     "data": {
      "text/html": [
       "18.1954201446"
      ],
      "text/latex": [
       "18.1954201446"
      ],
      "text/markdown": [
       "18.1954201446"
      ],
      "text/plain": [
       "[1] 18.19542"
      ]
     },
     "metadata": {},
     "output_type": "display_data"
    }
   ],
   "source": [
    "nrow(polizas[(polizas$Prima < h), ])*100/nrow(polizas)"
   ]
  },
  {
   "cell_type": "code",
   "execution_count": 14,
   "id": "6eeb8f2b",
   "metadata": {
    "vscode": {
     "languageId": "r"
    }
   },
   "outputs": [],
   "source": [
    "polizas_h <- polizas[(polizas$Prima < h), ]"
   ]
  },
  {
   "cell_type": "code",
   "execution_count": 15,
   "id": "cc886bb8",
   "metadata": {
    "vscode": {
     "languageId": "r"
    }
   },
   "outputs": [
    {
     "data": {
      "text/html": [
       "1.02804917367628"
      ],
      "text/latex": [
       "1.02804917367628"
      ],
      "text/markdown": [
       "1.02804917367628"
      ],
      "text/plain": [
       "[1] 1.028049"
      ]
     },
     "metadata": {},
     "output_type": "display_data"
    }
   ],
   "source": [
    "sum(polizas_h$Prima)*100/sum(polizas$Prima)"
   ]
  },
  {
   "cell_type": "code",
   "execution_count": 16,
   "id": "77de1770",
   "metadata": {
    "vscode": {
     "languageId": "r"
    }
   },
   "outputs": [
    {
     "data": {
      "text/html": [
       "319298"
      ],
      "text/latex": [
       "319298"
      ],
      "text/markdown": [
       "319298"
      ],
      "text/plain": [
       "[1] 319298"
      ]
     },
     "metadata": {},
     "output_type": "display_data"
    }
   ],
   "source": [
    "polizas <- polizas[(polizas$Prima >= h), ]\n",
    "nrow(polizas)"
   ]
  },
  {
   "cell_type": "markdown",
   "id": "ff50b398",
   "metadata": {},
   "source": [
    "## Duracion"
   ]
  },
  {
   "cell_type": "code",
   "execution_count": 17,
   "id": "1404046c",
   "metadata": {
    "vscode": {
     "languageId": "r"
    }
   },
   "outputs": [
    {
     "data": {
      "text/html": [
       "<style>\n",
       ".list-inline {list-style: none; margin:0; padding: 0}\n",
       ".list-inline>li {display: inline-block}\n",
       ".list-inline>li:not(:last-child)::after {content: \"\\00b7\"; padding: 0 .5ex}\n",
       "</style>\n",
       "<ol class=list-inline><li>1</li><li>2</li><li>3</li><li>4</li><li>5</li><li>7</li><li>8</li><li>9</li><li>10</li><li>11</li><li>12</li><li>13</li><li>14</li><li>15</li><li>16</li><li>17</li><li>18</li><li>19</li><li>20</li><li>21</li><li>22</li><li>23</li><li>24</li><li>25</li><li>26</li><li>27</li><li>28</li><li>29</li><li>30</li><li>31</li><li>32</li><li>33</li><li>34</li><li>35</li><li>36</li><li>37</li><li>38</li><li>39</li><li>40</li><li>41</li><li>42</li><li>43</li><li>44</li><li>45</li><li>46</li><li>47</li><li>48</li><li>49</li><li>50</li><li>51</li><li>52</li><li>53</li><li>54</li><li>55</li><li>56</li><li>57</li><li>58</li><li>59</li><li>60</li><li>61</li><li>62</li><li>63</li><li>64</li><li>65</li><li>66</li><li>67</li><li>68</li><li>69</li><li>70</li><li>71</li><li>72</li><li>73</li><li>74</li><li>75</li><li>76</li><li>77</li><li>78</li><li>79</li><li>80</li><li>81</li><li>82</li><li>83</li><li>84</li><li>85</li><li>86</li><li>87</li><li>88</li><li>89</li><li>90</li><li>91</li><li>92</li><li>93</li><li>94</li><li>95</li><li>96</li><li>97</li><li>98</li><li>99</li><li>100</li><li>101</li><li>102</li><li>103</li><li>104</li><li>105</li><li>106</li><li>107</li><li>108</li><li>109</li><li>110</li><li>111</li><li>112</li><li>113</li><li>114</li><li>115</li><li>116</li><li>117</li><li>118</li><li>119</li><li>120</li><li>121</li><li>122</li><li>123</li><li>124</li><li>125</li><li>126</li><li>127</li><li>128</li><li>129</li><li>130</li><li>131</li><li>132</li><li>133</li><li>134</li><li>135</li><li>136</li><li>137</li><li>138</li><li>139</li><li>140</li><li>141</li><li>142</li><li>143</li><li>144</li><li>145</li><li>146</li><li>147</li><li>148</li><li>149</li><li>150</li><li>151</li><li>152</li><li>153</li><li>154</li><li>155</li><li>156</li><li>157</li><li>158</li><li>159</li><li>160</li><li>161</li><li>162</li><li>163</li><li>164</li><li>165</li><li>166</li><li>167</li><li>168</li><li>169</li><li>170</li><li>171</li><li>172</li><li>173</li><li>174</li><li>175</li><li>176</li><li>177</li><li>178</li><li>179</li><li>180</li><li>181</li><li>182</li><li>183</li><li>184</li><li>185</li><li>186</li><li>187</li><li>188</li><li>189</li><li>190</li><li>191</li><li>192</li><li>193</li><li>194</li><li>195</li><li>196</li><li>197</li><li>198</li><li>199</li><li>200</li><li>201</li><li>⋯</li><li>1568</li><li>1569</li><li>1570</li><li>1571</li><li>1572</li><li>1573</li><li>1574</li><li>1575</li><li>1576</li><li>1577</li><li>1578</li><li>1579</li><li>1580</li><li>1581</li><li>1582</li><li>1583</li><li>1584</li><li>1585</li><li>1586</li><li>1587</li><li>1588</li><li>1589</li><li>1590</li><li>1591</li><li>1592</li><li>1593</li><li>1594</li><li>1595</li><li>1596</li><li>1597</li><li>1598</li><li>1599</li><li>1600</li><li>1601</li><li>1602</li><li>1603</li><li>1604</li><li>1605</li><li>1606</li><li>1607</li><li>1608</li><li>1609</li><li>1610</li><li>1611</li><li>1612</li><li>1613</li><li>1614</li><li>1615</li><li>1616</li><li>1617</li><li>1618</li><li>1619</li><li>1620</li><li>1621</li><li>1622</li><li>1623</li><li>1624</li><li>1625</li><li>1626</li><li>1627</li><li>1628</li><li>1629</li><li>1630</li><li>1631</li><li>1632</li><li>1633</li><li>1634</li><li>1635</li><li>1636</li><li>1638</li><li>1639</li><li>1640</li><li>1641</li><li>1642</li><li>1643</li><li>1644</li><li>1645</li><li>1646</li><li>1647</li><li>1648</li><li>1649</li><li>1650</li><li>1651</li><li>1652</li><li>1653</li><li>1654</li><li>1655</li><li>1656</li><li>1657</li><li>1658</li><li>1659</li><li>1660</li><li>1661</li><li>1662</li><li>1663</li><li>1664</li><li>1665</li><li>1666</li><li>1667</li><li>1668</li><li>1669</li><li>1670</li><li>1671</li><li>1672</li><li>1673</li><li>1674</li><li>1675</li><li>1676</li><li>1677</li><li>1678</li><li>1679</li><li>1680</li><li>1681</li><li>1682</li><li>1683</li><li>1684</li><li>1685</li><li>1686</li><li>1687</li><li>1688</li><li>1690</li><li>1692</li><li>1693</li><li>1694</li><li>1695</li><li>1696</li><li>1697</li><li>1698</li><li>1699</li><li>1700</li><li>1701</li><li>1702</li><li>1703</li><li>1704</li><li>1705</li><li>1706</li><li>1707</li><li>1708</li><li>1709</li><li>1710</li><li>1711</li><li>1712</li><li>1713</li><li>1714</li><li>1715</li><li>1716</li><li>1717</li><li>1718</li><li>1720</li><li>1721</li><li>1722</li><li>1724</li><li>1725</li><li>1727</li><li>1728</li><li>1730</li><li>1732</li><li>1733</li><li>1735</li><li>1736</li><li>1737</li><li>1738</li><li>1739</li><li>1740</li><li>1742</li><li>1743</li><li>1744</li><li>1745</li><li>1747</li><li>1748</li><li>1749</li><li>1750</li><li>1752</li><li>1753</li><li>1755</li><li>1757</li><li>1758</li><li>1760</li><li>1765</li><li>1766</li><li>1767</li><li>1770</li><li>1771</li><li>1773</li><li>1774</li><li>1776</li><li>1777</li><li>1779</li><li>1782</li><li>1783</li><li>1786</li><li>1788</li><li>1792</li><li>1794</li><li>1798</li><li>1806</li><li>1807</li><li>1811</li><li>1813</li><li>1827</li></ol>\n"
      ],
      "text/latex": [
       "\\begin{enumerate*}\n",
       "\\item 1\n",
       "\\item 2\n",
       "\\item 3\n",
       "\\item 4\n",
       "\\item 5\n",
       "\\item 7\n",
       "\\item 8\n",
       "\\item 9\n",
       "\\item 10\n",
       "\\item 11\n",
       "\\item 12\n",
       "\\item 13\n",
       "\\item 14\n",
       "\\item 15\n",
       "\\item 16\n",
       "\\item 17\n",
       "\\item 18\n",
       "\\item 19\n",
       "\\item 20\n",
       "\\item 21\n",
       "\\item 22\n",
       "\\item 23\n",
       "\\item 24\n",
       "\\item 25\n",
       "\\item 26\n",
       "\\item 27\n",
       "\\item 28\n",
       "\\item 29\n",
       "\\item 30\n",
       "\\item 31\n",
       "\\item 32\n",
       "\\item 33\n",
       "\\item 34\n",
       "\\item 35\n",
       "\\item 36\n",
       "\\item 37\n",
       "\\item 38\n",
       "\\item 39\n",
       "\\item 40\n",
       "\\item 41\n",
       "\\item 42\n",
       "\\item 43\n",
       "\\item 44\n",
       "\\item 45\n",
       "\\item 46\n",
       "\\item 47\n",
       "\\item 48\n",
       "\\item 49\n",
       "\\item 50\n",
       "\\item 51\n",
       "\\item 52\n",
       "\\item 53\n",
       "\\item 54\n",
       "\\item 55\n",
       "\\item 56\n",
       "\\item 57\n",
       "\\item 58\n",
       "\\item 59\n",
       "\\item 60\n",
       "\\item 61\n",
       "\\item 62\n",
       "\\item 63\n",
       "\\item 64\n",
       "\\item 65\n",
       "\\item 66\n",
       "\\item 67\n",
       "\\item 68\n",
       "\\item 69\n",
       "\\item 70\n",
       "\\item 71\n",
       "\\item 72\n",
       "\\item 73\n",
       "\\item 74\n",
       "\\item 75\n",
       "\\item 76\n",
       "\\item 77\n",
       "\\item 78\n",
       "\\item 79\n",
       "\\item 80\n",
       "\\item 81\n",
       "\\item 82\n",
       "\\item 83\n",
       "\\item 84\n",
       "\\item 85\n",
       "\\item 86\n",
       "\\item 87\n",
       "\\item 88\n",
       "\\item 89\n",
       "\\item 90\n",
       "\\item 91\n",
       "\\item 92\n",
       "\\item 93\n",
       "\\item 94\n",
       "\\item 95\n",
       "\\item 96\n",
       "\\item 97\n",
       "\\item 98\n",
       "\\item 99\n",
       "\\item 100\n",
       "\\item 101\n",
       "\\item 102\n",
       "\\item 103\n",
       "\\item 104\n",
       "\\item 105\n",
       "\\item 106\n",
       "\\item 107\n",
       "\\item 108\n",
       "\\item 109\n",
       "\\item 110\n",
       "\\item 111\n",
       "\\item 112\n",
       "\\item 113\n",
       "\\item 114\n",
       "\\item 115\n",
       "\\item 116\n",
       "\\item 117\n",
       "\\item 118\n",
       "\\item 119\n",
       "\\item 120\n",
       "\\item 121\n",
       "\\item 122\n",
       "\\item 123\n",
       "\\item 124\n",
       "\\item 125\n",
       "\\item 126\n",
       "\\item 127\n",
       "\\item 128\n",
       "\\item 129\n",
       "\\item 130\n",
       "\\item 131\n",
       "\\item 132\n",
       "\\item 133\n",
       "\\item 134\n",
       "\\item 135\n",
       "\\item 136\n",
       "\\item 137\n",
       "\\item 138\n",
       "\\item 139\n",
       "\\item 140\n",
       "\\item 141\n",
       "\\item 142\n",
       "\\item 143\n",
       "\\item 144\n",
       "\\item 145\n",
       "\\item 146\n",
       "\\item 147\n",
       "\\item 148\n",
       "\\item 149\n",
       "\\item 150\n",
       "\\item 151\n",
       "\\item 152\n",
       "\\item 153\n",
       "\\item 154\n",
       "\\item 155\n",
       "\\item 156\n",
       "\\item 157\n",
       "\\item 158\n",
       "\\item 159\n",
       "\\item 160\n",
       "\\item 161\n",
       "\\item 162\n",
       "\\item 163\n",
       "\\item 164\n",
       "\\item 165\n",
       "\\item 166\n",
       "\\item 167\n",
       "\\item 168\n",
       "\\item 169\n",
       "\\item 170\n",
       "\\item 171\n",
       "\\item 172\n",
       "\\item 173\n",
       "\\item 174\n",
       "\\item 175\n",
       "\\item 176\n",
       "\\item 177\n",
       "\\item 178\n",
       "\\item 179\n",
       "\\item 180\n",
       "\\item 181\n",
       "\\item 182\n",
       "\\item 183\n",
       "\\item 184\n",
       "\\item 185\n",
       "\\item 186\n",
       "\\item 187\n",
       "\\item 188\n",
       "\\item 189\n",
       "\\item 190\n",
       "\\item 191\n",
       "\\item 192\n",
       "\\item 193\n",
       "\\item 194\n",
       "\\item 195\n",
       "\\item 196\n",
       "\\item 197\n",
       "\\item 198\n",
       "\\item 199\n",
       "\\item 200\n",
       "\\item 201\n",
       "\\item ⋯\n",
       "\\item 1568\n",
       "\\item 1569\n",
       "\\item 1570\n",
       "\\item 1571\n",
       "\\item 1572\n",
       "\\item 1573\n",
       "\\item 1574\n",
       "\\item 1575\n",
       "\\item 1576\n",
       "\\item 1577\n",
       "\\item 1578\n",
       "\\item 1579\n",
       "\\item 1580\n",
       "\\item 1581\n",
       "\\item 1582\n",
       "\\item 1583\n",
       "\\item 1584\n",
       "\\item 1585\n",
       "\\item 1586\n",
       "\\item 1587\n",
       "\\item 1588\n",
       "\\item 1589\n",
       "\\item 1590\n",
       "\\item 1591\n",
       "\\item 1592\n",
       "\\item 1593\n",
       "\\item 1594\n",
       "\\item 1595\n",
       "\\item 1596\n",
       "\\item 1597\n",
       "\\item 1598\n",
       "\\item 1599\n",
       "\\item 1600\n",
       "\\item 1601\n",
       "\\item 1602\n",
       "\\item 1603\n",
       "\\item 1604\n",
       "\\item 1605\n",
       "\\item 1606\n",
       "\\item 1607\n",
       "\\item 1608\n",
       "\\item 1609\n",
       "\\item 1610\n",
       "\\item 1611\n",
       "\\item 1612\n",
       "\\item 1613\n",
       "\\item 1614\n",
       "\\item 1615\n",
       "\\item 1616\n",
       "\\item 1617\n",
       "\\item 1618\n",
       "\\item 1619\n",
       "\\item 1620\n",
       "\\item 1621\n",
       "\\item 1622\n",
       "\\item 1623\n",
       "\\item 1624\n",
       "\\item 1625\n",
       "\\item 1626\n",
       "\\item 1627\n",
       "\\item 1628\n",
       "\\item 1629\n",
       "\\item 1630\n",
       "\\item 1631\n",
       "\\item 1632\n",
       "\\item 1633\n",
       "\\item 1634\n",
       "\\item 1635\n",
       "\\item 1636\n",
       "\\item 1638\n",
       "\\item 1639\n",
       "\\item 1640\n",
       "\\item 1641\n",
       "\\item 1642\n",
       "\\item 1643\n",
       "\\item 1644\n",
       "\\item 1645\n",
       "\\item 1646\n",
       "\\item 1647\n",
       "\\item 1648\n",
       "\\item 1649\n",
       "\\item 1650\n",
       "\\item 1651\n",
       "\\item 1652\n",
       "\\item 1653\n",
       "\\item 1654\n",
       "\\item 1655\n",
       "\\item 1656\n",
       "\\item 1657\n",
       "\\item 1658\n",
       "\\item 1659\n",
       "\\item 1660\n",
       "\\item 1661\n",
       "\\item 1662\n",
       "\\item 1663\n",
       "\\item 1664\n",
       "\\item 1665\n",
       "\\item 1666\n",
       "\\item 1667\n",
       "\\item 1668\n",
       "\\item 1669\n",
       "\\item 1670\n",
       "\\item 1671\n",
       "\\item 1672\n",
       "\\item 1673\n",
       "\\item 1674\n",
       "\\item 1675\n",
       "\\item 1676\n",
       "\\item 1677\n",
       "\\item 1678\n",
       "\\item 1679\n",
       "\\item 1680\n",
       "\\item 1681\n",
       "\\item 1682\n",
       "\\item 1683\n",
       "\\item 1684\n",
       "\\item 1685\n",
       "\\item 1686\n",
       "\\item 1687\n",
       "\\item 1688\n",
       "\\item 1690\n",
       "\\item 1692\n",
       "\\item 1693\n",
       "\\item 1694\n",
       "\\item 1695\n",
       "\\item 1696\n",
       "\\item 1697\n",
       "\\item 1698\n",
       "\\item 1699\n",
       "\\item 1700\n",
       "\\item 1701\n",
       "\\item 1702\n",
       "\\item 1703\n",
       "\\item 1704\n",
       "\\item 1705\n",
       "\\item 1706\n",
       "\\item 1707\n",
       "\\item 1708\n",
       "\\item 1709\n",
       "\\item 1710\n",
       "\\item 1711\n",
       "\\item 1712\n",
       "\\item 1713\n",
       "\\item 1714\n",
       "\\item 1715\n",
       "\\item 1716\n",
       "\\item 1717\n",
       "\\item 1718\n",
       "\\item 1720\n",
       "\\item 1721\n",
       "\\item 1722\n",
       "\\item 1724\n",
       "\\item 1725\n",
       "\\item 1727\n",
       "\\item 1728\n",
       "\\item 1730\n",
       "\\item 1732\n",
       "\\item 1733\n",
       "\\item 1735\n",
       "\\item 1736\n",
       "\\item 1737\n",
       "\\item 1738\n",
       "\\item 1739\n",
       "\\item 1740\n",
       "\\item 1742\n",
       "\\item 1743\n",
       "\\item 1744\n",
       "\\item 1745\n",
       "\\item 1747\n",
       "\\item 1748\n",
       "\\item 1749\n",
       "\\item 1750\n",
       "\\item 1752\n",
       "\\item 1753\n",
       "\\item 1755\n",
       "\\item 1757\n",
       "\\item 1758\n",
       "\\item 1760\n",
       "\\item 1765\n",
       "\\item 1766\n",
       "\\item 1767\n",
       "\\item 1770\n",
       "\\item 1771\n",
       "\\item 1773\n",
       "\\item 1774\n",
       "\\item 1776\n",
       "\\item 1777\n",
       "\\item 1779\n",
       "\\item 1782\n",
       "\\item 1783\n",
       "\\item 1786\n",
       "\\item 1788\n",
       "\\item 1792\n",
       "\\item 1794\n",
       "\\item 1798\n",
       "\\item 1806\n",
       "\\item 1807\n",
       "\\item 1811\n",
       "\\item 1813\n",
       "\\item 1827\n",
       "\\end{enumerate*}\n"
      ],
      "text/markdown": [
       "1. 1\n",
       "2. 2\n",
       "3. 3\n",
       "4. 4\n",
       "5. 5\n",
       "6. 7\n",
       "7. 8\n",
       "8. 9\n",
       "9. 10\n",
       "10. 11\n",
       "11. 12\n",
       "12. 13\n",
       "13. 14\n",
       "14. 15\n",
       "15. 16\n",
       "16. 17\n",
       "17. 18\n",
       "18. 19\n",
       "19. 20\n",
       "20. 21\n",
       "21. 22\n",
       "22. 23\n",
       "23. 24\n",
       "24. 25\n",
       "25. 26\n",
       "26. 27\n",
       "27. 28\n",
       "28. 29\n",
       "29. 30\n",
       "30. 31\n",
       "31. 32\n",
       "32. 33\n",
       "33. 34\n",
       "34. 35\n",
       "35. 36\n",
       "36. 37\n",
       "37. 38\n",
       "38. 39\n",
       "39. 40\n",
       "40. 41\n",
       "41. 42\n",
       "42. 43\n",
       "43. 44\n",
       "44. 45\n",
       "45. 46\n",
       "46. 47\n",
       "47. 48\n",
       "48. 49\n",
       "49. 50\n",
       "50. 51\n",
       "51. 52\n",
       "52. 53\n",
       "53. 54\n",
       "54. 55\n",
       "55. 56\n",
       "56. 57\n",
       "57. 58\n",
       "58. 59\n",
       "59. 60\n",
       "60. 61\n",
       "61. 62\n",
       "62. 63\n",
       "63. 64\n",
       "64. 65\n",
       "65. 66\n",
       "66. 67\n",
       "67. 68\n",
       "68. 69\n",
       "69. 70\n",
       "70. 71\n",
       "71. 72\n",
       "72. 73\n",
       "73. 74\n",
       "74. 75\n",
       "75. 76\n",
       "76. 77\n",
       "77. 78\n",
       "78. 79\n",
       "79. 80\n",
       "80. 81\n",
       "81. 82\n",
       "82. 83\n",
       "83. 84\n",
       "84. 85\n",
       "85. 86\n",
       "86. 87\n",
       "87. 88\n",
       "88. 89\n",
       "89. 90\n",
       "90. 91\n",
       "91. 92\n",
       "92. 93\n",
       "93. 94\n",
       "94. 95\n",
       "95. 96\n",
       "96. 97\n",
       "97. 98\n",
       "98. 99\n",
       "99. 100\n",
       "100. 101\n",
       "101. 102\n",
       "102. 103\n",
       "103. 104\n",
       "104. 105\n",
       "105. 106\n",
       "106. 107\n",
       "107. 108\n",
       "108. 109\n",
       "109. 110\n",
       "110. 111\n",
       "111. 112\n",
       "112. 113\n",
       "113. 114\n",
       "114. 115\n",
       "115. 116\n",
       "116. 117\n",
       "117. 118\n",
       "118. 119\n",
       "119. 120\n",
       "120. 121\n",
       "121. 122\n",
       "122. 123\n",
       "123. 124\n",
       "124. 125\n",
       "125. 126\n",
       "126. 127\n",
       "127. 128\n",
       "128. 129\n",
       "129. 130\n",
       "130. 131\n",
       "131. 132\n",
       "132. 133\n",
       "133. 134\n",
       "134. 135\n",
       "135. 136\n",
       "136. 137\n",
       "137. 138\n",
       "138. 139\n",
       "139. 140\n",
       "140. 141\n",
       "141. 142\n",
       "142. 143\n",
       "143. 144\n",
       "144. 145\n",
       "145. 146\n",
       "146. 147\n",
       "147. 148\n",
       "148. 149\n",
       "149. 150\n",
       "150. 151\n",
       "151. 152\n",
       "152. 153\n",
       "153. 154\n",
       "154. 155\n",
       "155. 156\n",
       "156. 157\n",
       "157. 158\n",
       "158. 159\n",
       "159. 160\n",
       "160. 161\n",
       "161. 162\n",
       "162. 163\n",
       "163. 164\n",
       "164. 165\n",
       "165. 166\n",
       "166. 167\n",
       "167. 168\n",
       "168. 169\n",
       "169. 170\n",
       "170. 171\n",
       "171. 172\n",
       "172. 173\n",
       "173. 174\n",
       "174. 175\n",
       "175. 176\n",
       "176. 177\n",
       "177. 178\n",
       "178. 179\n",
       "179. 180\n",
       "180. 181\n",
       "181. 182\n",
       "182. 183\n",
       "183. 184\n",
       "184. 185\n",
       "185. 186\n",
       "186. 187\n",
       "187. 188\n",
       "188. 189\n",
       "189. 190\n",
       "190. 191\n",
       "191. 192\n",
       "192. 193\n",
       "193. 194\n",
       "194. 195\n",
       "195. 196\n",
       "196. 197\n",
       "197. 198\n",
       "198. 199\n",
       "199. 200\n",
       "200. 201\n",
       "201. ⋯\n",
       "202. 1568\n",
       "203. 1569\n",
       "204. 1570\n",
       "205. 1571\n",
       "206. 1572\n",
       "207. 1573\n",
       "208. 1574\n",
       "209. 1575\n",
       "210. 1576\n",
       "211. 1577\n",
       "212. 1578\n",
       "213. 1579\n",
       "214. 1580\n",
       "215. 1581\n",
       "216. 1582\n",
       "217. 1583\n",
       "218. 1584\n",
       "219. 1585\n",
       "220. 1586\n",
       "221. 1587\n",
       "222. 1588\n",
       "223. 1589\n",
       "224. 1590\n",
       "225. 1591\n",
       "226. 1592\n",
       "227. 1593\n",
       "228. 1594\n",
       "229. 1595\n",
       "230. 1596\n",
       "231. 1597\n",
       "232. 1598\n",
       "233. 1599\n",
       "234. 1600\n",
       "235. 1601\n",
       "236. 1602\n",
       "237. 1603\n",
       "238. 1604\n",
       "239. 1605\n",
       "240. 1606\n",
       "241. 1607\n",
       "242. 1608\n",
       "243. 1609\n",
       "244. 1610\n",
       "245. 1611\n",
       "246. 1612\n",
       "247. 1613\n",
       "248. 1614\n",
       "249. 1615\n",
       "250. 1616\n",
       "251. 1617\n",
       "252. 1618\n",
       "253. 1619\n",
       "254. 1620\n",
       "255. 1621\n",
       "256. 1622\n",
       "257. 1623\n",
       "258. 1624\n",
       "259. 1625\n",
       "260. 1626\n",
       "261. 1627\n",
       "262. 1628\n",
       "263. 1629\n",
       "264. 1630\n",
       "265. 1631\n",
       "266. 1632\n",
       "267. 1633\n",
       "268. 1634\n",
       "269. 1635\n",
       "270. 1636\n",
       "271. 1638\n",
       "272. 1639\n",
       "273. 1640\n",
       "274. 1641\n",
       "275. 1642\n",
       "276. 1643\n",
       "277. 1644\n",
       "278. 1645\n",
       "279. 1646\n",
       "280. 1647\n",
       "281. 1648\n",
       "282. 1649\n",
       "283. 1650\n",
       "284. 1651\n",
       "285. 1652\n",
       "286. 1653\n",
       "287. 1654\n",
       "288. 1655\n",
       "289. 1656\n",
       "290. 1657\n",
       "291. 1658\n",
       "292. 1659\n",
       "293. 1660\n",
       "294. 1661\n",
       "295. 1662\n",
       "296. 1663\n",
       "297. 1664\n",
       "298. 1665\n",
       "299. 1666\n",
       "300. 1667\n",
       "301. 1668\n",
       "302. 1669\n",
       "303. 1670\n",
       "304. 1671\n",
       "305. 1672\n",
       "306. 1673\n",
       "307. 1674\n",
       "308. 1675\n",
       "309. 1676\n",
       "310. 1677\n",
       "311. 1678\n",
       "312. 1679\n",
       "313. 1680\n",
       "314. 1681\n",
       "315. 1682\n",
       "316. 1683\n",
       "317. 1684\n",
       "318. 1685\n",
       "319. 1686\n",
       "320. 1687\n",
       "321. 1688\n",
       "322. 1690\n",
       "323. 1692\n",
       "324. 1693\n",
       "325. 1694\n",
       "326. 1695\n",
       "327. 1696\n",
       "328. 1697\n",
       "329. 1698\n",
       "330. 1699\n",
       "331. 1700\n",
       "332. 1701\n",
       "333. 1702\n",
       "334. 1703\n",
       "335. 1704\n",
       "336. 1705\n",
       "337. 1706\n",
       "338. 1707\n",
       "339. 1708\n",
       "340. 1709\n",
       "341. 1710\n",
       "342. 1711\n",
       "343. 1712\n",
       "344. 1713\n",
       "345. 1714\n",
       "346. 1715\n",
       "347. 1716\n",
       "348. 1717\n",
       "349. 1718\n",
       "350. 1720\n",
       "351. 1721\n",
       "352. 1722\n",
       "353. 1724\n",
       "354. 1725\n",
       "355. 1727\n",
       "356. 1728\n",
       "357. 1730\n",
       "358. 1732\n",
       "359. 1733\n",
       "360. 1735\n",
       "361. 1736\n",
       "362. 1737\n",
       "363. 1738\n",
       "364. 1739\n",
       "365. 1740\n",
       "366. 1742\n",
       "367. 1743\n",
       "368. 1744\n",
       "369. 1745\n",
       "370. 1747\n",
       "371. 1748\n",
       "372. 1749\n",
       "373. 1750\n",
       "374. 1752\n",
       "375. 1753\n",
       "376. 1755\n",
       "377. 1757\n",
       "378. 1758\n",
       "379. 1760\n",
       "380. 1765\n",
       "381. 1766\n",
       "382. 1767\n",
       "383. 1770\n",
       "384. 1771\n",
       "385. 1773\n",
       "386. 1774\n",
       "387. 1776\n",
       "388. 1777\n",
       "389. 1779\n",
       "390. 1782\n",
       "391. 1783\n",
       "392. 1786\n",
       "393. 1788\n",
       "394. 1792\n",
       "395. 1794\n",
       "396. 1798\n",
       "397. 1806\n",
       "398. 1807\n",
       "399. 1811\n",
       "400. 1813\n",
       "401. 1827\n",
       "\n",
       "\n"
      ],
      "text/plain": [
       "   [1]    1    2    3    4    5    7    8    9   10   11   12   13   14   15\n",
       "  [15]   16   17   18   19   20   21   22   23   24   25   26   27   28   29\n",
       "  [29]   30   31   32   33   34   35   36   37   38   39   40   41   42   43\n",
       "  [43]   44   45   46   47   48   49   50   51   52   53   54   55   56   57\n",
       "  [57]   58   59   60   61   62   63   64   65   66   67   68   69   70   71\n",
       "  [71]   72   73   74   75   76   77   78   79   80   81   82   83   84   85\n",
       "  [85]   86   87   88   89   90   91   92   93   94   95   96   97   98   99\n",
       "  [99]  100  101  102  103  104  105  106  107  108  109  110  111  112  113\n",
       " [113]  114  115  116  117  118  119  120  121  122  123  124  125  126  127\n",
       " [127]  128  129  130  131  132  133  134  135  136  137  138  139  140  141\n",
       " [141]  142  143  144  145  146  147  148  149  150  151  152  153  154  155\n",
       " [155]  156  157  158  159  160  161  162  163  164  165  166  167  168  169\n",
       " [169]  170  171  172  173  174  175  176  177  178  179  180  181  182  183\n",
       " [183]  184  185  186  187  188  189  190  191  192  193  194  195  196  197\n",
       " [197]  198  199  200  201  202  203  204  205  206  207  208  209  210  211\n",
       " [211]  212  213  214  215  216  217  218  219  220  221  222  223  224  225\n",
       " [225]  226  227  228  229  230  231  232  233  234  235  236  237  238  239\n",
       " [239]  240  241  242  243  244  245  246  247  248  249  250  251  252  253\n",
       " [253]  254  255  256  257  258  259  260  261  262  263  264  265  266  267\n",
       " [267]  268  269  270  271  272  273  274  275  276  277  278  279  280  281\n",
       " [281]  282  283  284  285  286  287  288  289  290  291  292  293  294  295\n",
       " [295]  296  297  298  299  300  301  302  303  304  305  306  307  308  309\n",
       " [309]  310  311  312  313  314  315  316  317  318  319  320  321  322  323\n",
       " [323]  324  325  326  327  328  329  330  331  332  333  334  335  336  337\n",
       " [337]  338  339  340  341  342  343  344  345  346  347  348  349  350  351\n",
       " [351]  352  353  354  355  356  357  358  359  360  361  362  363  364  365\n",
       " [365]  366  367  368  369  370  371  372  373  374  375  376  377  378  379\n",
       " [379]  380  381  382  383  384  385  386  387  388  389  390  391  392  393\n",
       " [393]  394  395  396  397  398  399  400  401  402  403  404  405  406  407\n",
       " [407]  408  409  410  411  412  413  414  415  416  417  418  419  420  421\n",
       " [421]  422  423  424  425  426  427  428  429  430  431  432  433  434  435\n",
       " [435]  436  437  438  439  440  441  442  443  444  445  446  447  448  449\n",
       " [449]  450  451  452  453  454  455  456  457  458  459  460  461  462  463\n",
       " [463]  464  465  466  467  468  469  470  471  472  473  474  475  476  477\n",
       " [477]  478  479  480  481  482  483  484  485  486  487  488  489  490  491\n",
       " [491]  492  493  494  495  496  497  498  499  500  501  502  503  504  505\n",
       " [505]  506  507  508  509  510  511  512  513  514  515  516  517  518  519\n",
       " [519]  520  521  522  523  524  525  526  527  528  529  530  531  532  533\n",
       " [533]  534  535  536  537  538  539  540  541  542  543  544  545  546  547\n",
       " [547]  548  549  550  551  552  553  554  555  556  557  558  559  560  561\n",
       " [561]  562  563  564  565  566  567  568  569  570  571  572  573  574  575\n",
       " [575]  576  577  578  579  580  581  582  583  584  585  586  587  588  589\n",
       " [589]  590  591  592  593  594  595  596  597  598  599  600  601  602  603\n",
       " [603]  604  605  606  607  608  609  610  611  612  613  614  615  616  617\n",
       " [617]  618  619  620  621  622  623  624  625  626  627  628  629  630  631\n",
       " [631]  632  633  634  635  636  637  638  639  640  641  642  643  644  645\n",
       " [645]  646  647  648  649  650  651  652  653  654  655  656  657  658  659\n",
       " [659]  660  661  662  663  664  665  666  667  668  669  670  671  672  673\n",
       " [673]  674  675  676  677  678  679  680  681  682  683  684  685  686  687\n",
       " [687]  688  689  690  691  692  693  694  695  696  697  698  699  700  701\n",
       " [701]  702  703  704  705  706  707  708  709  710  711  712  713  714  715\n",
       " [715]  716  717  718  719  720  721  722  723  724  725  726  727  728  729\n",
       " [729]  730  731  732  733  734  735  736  737  738  739  740  741  742  743\n",
       " [743]  744  745  746  747  748  749  750  751  752  753  754  755  756  757\n",
       " [757]  758  759  760  761  762  763  764  765  766  767  768  769  770  771\n",
       " [771]  772  773  774  775  776  777  778  779  780  781  782  783  784  785\n",
       " [785]  786  787  788  789  790  791  792  793  794  795  796  797  798  799\n",
       " [799]  800  801  802  803  804  805  806  807  808  809  810  811  812  813\n",
       " [813]  814  815  816  817  818  819  820  821  822  823  824  825  826  827\n",
       " [827]  828  829  830  831  832  833  834  835  836  837  838  839  840  841\n",
       " [841]  842  843  844  845  846  847  848  849  850  851  852  853  854  855\n",
       " [855]  856  857  858  859  860  861  862  863  864  865  866  867  868  869\n",
       " [869]  870  871  872  873  874  875  876  877  878  879  880  881  882  883\n",
       " [883]  884  885  886  887  888  889  890  891  892  893  894  895  896  897\n",
       " [897]  898  899  900  901  902  903  904  905  906  907  908  909  910  911\n",
       " [911]  912  913  914  915  916  917  918  919  920  921  922  923  924  925\n",
       " [925]  926  927  928  929  930  931  932  933  934  935  936  937  938  939\n",
       " [939]  940  941  942  943  944  945  946  947  948  949  950  951  952  953\n",
       " [953]  954  955  956  957  958  959  960  961  962  963  964  965  966  967\n",
       " [967]  968  969  970  971  972  973  974  975  976  977  978  979  980  981\n",
       " [981]  982  983  984  985  986  987  988  989  990  991  992  993  994  995\n",
       " [995]  996  997  998  999 1000 1001 1002 1003 1004 1005 1006 1007 1008 1009\n",
       "[1009] 1010 1011 1012 1013 1014 1015 1016 1017 1018 1019 1020 1021 1022 1023\n",
       "[1023] 1024 1025 1026 1027 1028 1029 1030 1031 1032 1033 1034 1035 1036 1037\n",
       "[1037] 1038 1039 1040 1041 1042 1043 1044 1045 1046 1047 1048 1049 1050 1051\n",
       "[1051] 1052 1053 1054 1055 1056 1057 1058 1059 1060 1061 1062 1063 1064 1065\n",
       "[1065] 1066 1067 1068 1069 1070 1071 1072 1073 1074 1075 1076 1077 1078 1079\n",
       "[1079] 1080 1081 1082 1083 1084 1085 1086 1087 1088 1089 1090 1091 1092 1093\n",
       "[1093] 1094 1095 1096 1097 1098 1099 1100 1101 1102 1103 1104 1105 1106 1107\n",
       "[1107] 1108 1109 1110 1111 1112 1113 1114 1115 1116 1117 1118 1119 1120 1121\n",
       "[1121] 1122 1123 1124 1125 1126 1127 1128 1129 1130 1131 1132 1133 1134 1135\n",
       "[1135] 1136 1137 1138 1139 1140 1141 1142 1143 1144 1145 1146 1147 1148 1149\n",
       "[1149] 1150 1151 1152 1153 1154 1155 1156 1157 1158 1159 1160 1161 1162 1163\n",
       "[1163] 1164 1165 1166 1167 1168 1169 1170 1171 1172 1173 1174 1175 1176 1177\n",
       "[1177] 1178 1179 1180 1181 1182 1183 1184 1185 1186 1187 1188 1189 1190 1191\n",
       "[1191] 1192 1193 1194 1195 1196 1197 1198 1199 1200 1201 1202 1203 1204 1205\n",
       "[1205] 1206 1207 1208 1209 1210 1211 1212 1213 1214 1215 1216 1217 1218 1219\n",
       "[1219] 1220 1221 1222 1223 1224 1225 1226 1227 1228 1229 1230 1231 1232 1233\n",
       "[1233] 1234 1235 1236 1237 1238 1239 1240 1241 1242 1243 1244 1245 1246 1247\n",
       "[1247] 1248 1249 1250 1251 1252 1253 1254 1255 1256 1257 1258 1259 1260 1261\n",
       "[1261] 1262 1263 1264 1265 1266 1267 1268 1269 1270 1271 1272 1273 1274 1275\n",
       "[1275] 1276 1277 1278 1279 1280 1281 1282 1283 1284 1285 1286 1287 1288 1289\n",
       "[1289] 1290 1291 1292 1293 1294 1295 1296 1297 1298 1299 1300 1301 1302 1303\n",
       "[1303] 1304 1305 1306 1307 1308 1309 1310 1311 1312 1313 1314 1315 1316 1317\n",
       "[1317] 1318 1319 1320 1321 1322 1323 1324 1325 1326 1327 1328 1329 1330 1331\n",
       "[1331] 1332 1333 1334 1335 1336 1337 1338 1339 1340 1341 1342 1343 1344 1345\n",
       "[1345] 1346 1347 1348 1349 1350 1351 1352 1353 1354 1355 1356 1357 1358 1359\n",
       "[1359] 1360 1361 1362 1363 1364 1365 1366 1367 1368 1369 1370 1371 1372 1373\n",
       "[1373] 1374 1375 1376 1377 1378 1379 1380 1381 1382 1383 1384 1385 1386 1387\n",
       "[1387] 1388 1389 1390 1391 1392 1393 1394 1395 1396 1397 1398 1399 1400 1401\n",
       "[1401] 1402 1403 1404 1405 1406 1407 1408 1409 1410 1411 1412 1413 1414 1415\n",
       "[1415] 1416 1417 1419 1420 1421 1422 1424 1425 1426 1427 1428 1429 1430 1431\n",
       "[1429] 1432 1433 1434 1435 1436 1437 1438 1439 1440 1441 1442 1443 1444 1445\n",
       "[1443] 1446 1447 1448 1449 1450 1451 1452 1453 1454 1455 1456 1457 1458 1459\n",
       "[1457] 1460 1461 1462 1463 1464 1465 1467 1468 1469 1470 1471 1472 1473 1475\n",
       "[1471] 1476 1477 1478 1479 1480 1481 1482 1483 1484 1485 1486 1487 1488 1489\n",
       "[1485] 1490 1491 1492 1493 1494 1495 1496 1497 1498 1499 1500 1501 1502 1503\n",
       "[1499] 1504 1505 1506 1507 1508 1509 1510 1511 1512 1513 1514 1515 1516 1517\n",
       "[1513] 1518 1519 1520 1521 1522 1523 1524 1525 1526 1527 1528 1529 1530 1531\n",
       "[1527] 1532 1533 1534 1535 1536 1537 1538 1539 1540 1541 1542 1543 1544 1545\n",
       "[1541] 1546 1547 1548 1549 1550 1551 1552 1553 1554 1555 1556 1557 1558 1559\n",
       "[1555] 1560 1561 1562 1563 1565 1566 1567 1568 1569 1570 1571 1572 1573 1574\n",
       "[1569] 1575 1576 1577 1578 1579 1580 1581 1582 1583 1584 1585 1586 1587 1588\n",
       "[1583] 1589 1590 1591 1592 1593 1594 1595 1596 1597 1598 1599 1600 1601 1602\n",
       "[1597] 1603 1604 1605 1606 1607 1608 1609 1610 1611 1612 1613 1614 1615 1616\n",
       "[1611] 1617 1618 1619 1620 1621 1622 1623 1624 1625 1626 1627 1628 1629 1630\n",
       "[1625] 1631 1632 1633 1634 1635 1636 1638 1639 1640 1641 1642 1643 1644 1645\n",
       "[1639] 1646 1647 1648 1649 1650 1651 1652 1653 1654 1655 1656 1657 1658 1659\n",
       "[1653] 1660 1661 1662 1663 1664 1665 1666 1667 1668 1669 1670 1671 1672 1673\n",
       "[1667] 1674 1675 1676 1677 1678 1679 1680 1681 1682 1683 1684 1685 1686 1687\n",
       "[1681] 1688 1690 1692 1693 1694 1695 1696 1697 1698 1699 1700 1701 1702 1703\n",
       "[1695] 1704 1705 1706 1707 1708 1709 1710 1711 1712 1713 1714 1715 1716 1717\n",
       "[1709] 1718 1720 1721 1722 1724 1725 1727 1728 1730 1732 1733 1735 1736 1737\n",
       "[1723] 1738 1739 1740 1742 1743 1744 1745 1747 1748 1749 1750 1752 1753 1755\n",
       "[1737] 1757 1758 1760 1765 1766 1767 1770 1771 1773 1774 1776 1777 1779 1782\n",
       "[1751] 1783 1786 1788 1792 1794 1798 1806 1807 1811 1813 1827"
      ]
     },
     "metadata": {},
     "output_type": "display_data"
    }
   ],
   "source": [
    "polizas$Duracion <- as.numeric(difftime(polizas$Fecha_fin, polizas$Fecha_inicio, units=\"days\")) + 1\n",
    "sort(unique(polizas$Duracion))"
   ]
  },
  {
   "cell_type": "code",
   "execution_count": 18,
   "id": "12fc297a",
   "metadata": {
    "vscode": {
     "languageId": "r"
    }
   },
   "outputs": [
    {
     "data": {
      "text/html": [
       "0.302851881314634"
      ],
      "text/latex": [
       "0.302851881314634"
      ],
      "text/markdown": [
       "0.302851881314634"
      ],
      "text/plain": [
       "[1] 0.3028519"
      ]
     },
     "metadata": {},
     "output_type": "display_data"
    }
   ],
   "source": [
    "100*sum(polizas$Duracion < 60)/nrow(polizas)"
   ]
  },
  {
   "cell_type": "markdown",
   "id": "7c7eaf48",
   "metadata": {},
   "source": [
    "Vamos a eliminar estos datos suponiendo que fueron seguros adquiridos por pagos mensuales y que despues de dos meses de impago se terminaron. "
   ]
  },
  {
   "cell_type": "code",
   "execution_count": 19,
   "id": "70eec00b",
   "metadata": {
    "vscode": {
     "languageId": "r"
    }
   },
   "outputs": [],
   "source": [
    "polizas <- polizas[polizas$Duracion >= 60,]"
   ]
  },
  {
   "cell_type": "code",
   "execution_count": 20,
   "id": "cd16a889",
   "metadata": {
    "vscode": {
     "languageId": "r"
    }
   },
   "outputs": [
    {
     "data": {
      "text/plain": [
       "  Fecha_inicio          Fecha_fin              Prima          \n",
       " Min.   :2016-01-01   Min.   :2018-01-01   Min.   :   459503  \n",
       " 1st Qu.:2017-03-13   1st Qu.:2018-09-01   1st Qu.:  1086654  \n",
       " Median :2017-11-01   Median :2019-05-01   Median :  1483930  \n",
       " Mean   :2017-10-10   Mean   :2019-05-14   Mean   :  1655916  \n",
       " 3rd Qu.:2018-06-27   3rd Qu.:2019-12-14   3rd Qu.:  1903244  \n",
       " Max.   :2018-12-31   Max.   :2020-12-31   Max.   :424284704  \n",
       " Valor_asegurado     Valor_asegurado_rc       ppd            pth        \n",
       " Min.   :0.000e+00   Min.   :0.000e+00   Min.   :0.00   Min.   :0.0000  \n",
       " 1st Qu.:2.660e+07   1st Qu.:8.000e+08   1st Qu.:1.00   1st Qu.:1.0000  \n",
       " Median :3.730e+07   Median :2.000e+09   Median :1.00   Median :1.0000  \n",
       " Mean   :4.597e+07   Mean   :1.779e+09   Mean   :0.98   Mean   :0.9829  \n",
       " 3rd Qu.:5.485e+07   3rd Qu.:3.000e+09   3rd Qu.:1.00   3rd Qu.:1.0000  \n",
       " Max.   :1.624e+09   Max.   :4.000e+09   Max.   :1.00   Max.   :1.0000  \n",
       "      pph             rc            Duracion     \n",
       " Min.   :0.00   Min.   :0.0000   Min.   :  60.0  \n",
       " 1st Qu.:1.00   1st Qu.:1.0000   1st Qu.: 366.0  \n",
       " Median :1.00   Median :1.0000   Median : 366.0  \n",
       " Mean   :0.98   Mean   :0.7773   Mean   : 581.5  \n",
       " 3rd Qu.:1.00   3rd Qu.:1.0000   3rd Qu.: 732.0  \n",
       " Max.   :1.00   Max.   :1.0000   Max.   :1827.0  "
      ]
     },
     "metadata": {},
     "output_type": "display_data"
    }
   ],
   "source": [
    "summary(polizas)"
   ]
  },
  {
   "cell_type": "markdown",
   "id": "3d7b2ad0",
   "metadata": {},
   "source": [
    "### Dataframes por dia"
   ]
  },
  {
   "cell_type": "code",
   "execution_count": 21,
   "id": "6ee5148f",
   "metadata": {
    "vscode": {
     "languageId": "r"
    }
   },
   "outputs": [],
   "source": [
    "source(\"../src/data/polizas_diarias.R\")"
   ]
  },
  {
   "cell_type": "code",
   "execution_count": 22,
   "id": "203edbfe",
   "metadata": {
    "vscode": {
     "languageId": "r"
    }
   },
   "outputs": [],
   "source": [
    "dataframes_dia <- polizas_diarias(polizas)"
   ]
  },
  {
   "cell_type": "code",
   "execution_count": 23,
   "id": "0f8d50db",
   "metadata": {
    "vscode": {
     "languageId": "r"
    }
   },
   "outputs": [],
   "source": [
    "dataframes_dia$PPD$dia <- yday(dataframes_dia$PPD$Fecha)\n",
    "dataframes_dia$PPD$Fecha <- NULL\n",
    "dataframes_dia$PPH$dia <- yday(dataframes_dia$PPH$Fecha)\n",
    "dataframes_dia$PPH$Fecha <- NULL\n",
    "dataframes_dia$PTH$dia <- yday(dataframes_dia$PTH$Fecha)\n",
    "dataframes_dia$PTH$Fecha <- NULL\n",
    "dataframes_dia$RC$dia <- yday(dataframes_dia$RC$Fecha)\n",
    "dataframes_dia$RC$Fecha <- NULL"
   ]
  },
  {
   "cell_type": "code",
   "execution_count": 24,
   "id": "6bbd226e",
   "metadata": {
    "vscode": {
     "languageId": "r"
    }
   },
   "outputs": [],
   "source": [
    "write.csv(dataframes_dia$PPD, \"../data/processed/polizas_ppd_dia.csv\")\n",
    "write.csv(dataframes_dia$PTH, \"../data/processed/polizas_pth_dia.csv\")\n",
    "write.csv(dataframes_dia$PPH, \"../data/processed/polizas_pph_dia.csv\")\n",
    "write.csv(dataframes_dia$RC, \"../data/processed/polizas_rc_dia.csv\")"
   ]
  }
 ],
 "metadata": {
  "kernelspec": {
   "display_name": "R",
   "language": "R",
   "name": "ir"
  },
  "language_info": {
   "codemirror_mode": "r",
   "file_extension": ".r",
   "mimetype": "text/x-r-source",
   "name": "R",
   "pygments_lexer": "r",
   "version": "4.2.3"
  }
 },
 "nbformat": 4,
 "nbformat_minor": 5
}
