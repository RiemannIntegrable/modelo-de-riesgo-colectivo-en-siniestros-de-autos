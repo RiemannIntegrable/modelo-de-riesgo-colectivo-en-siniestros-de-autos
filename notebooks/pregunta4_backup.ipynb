{
 "cells": [
  {
   "cell_type": "markdown",
   "metadata": {},
   "source": [
    "# Requerimiento de Capital Mensual para el Portafolio\n",
    "\n",
    "## Objetivo\n",
    "Calcular el requerimiento de capital mensual basado en la distribucion de perdida agregada total del modelo de riesgo colectivo."
   ]
  },
  {
   "cell_type": "code",
   "execution_count": 16,
   "metadata": {
    "vscode": {
     "languageId": "r"
    }
   },
   "outputs": [
    {
     "name": "stdout",
     "output_type": "stream",
     "text": [
      "Estructura de datos cargados:\n",
      "Total de observaciones: 200001\n",
      "Rango de perdidas: [ 0 , 2e+09 ]\n",
      "Discretizacion: pasos de $10,000"
     ]
    },
    {
     "data": {
      "text/html": [
       "<table class=\"dataframe\">\n",
       "<caption>A data.table: 10 × 3</caption>\n",
       "<thead>\n",
       "\t<tr><th scope=col>x</th><th scope=col>pmf</th><th scope=col>cdf</th></tr>\n",
       "\t<tr><th scope=col>&lt;dbl&gt;</th><th scope=col>&lt;dbl&gt;</th><th scope=col>&lt;dbl&gt;</th></tr>\n",
       "</thead>\n",
       "<tbody>\n",
       "\t<tr><td>    0</td><td>3.133502e-02</td><td>0.03133502</td></tr>\n",
       "\t<tr><td>10000</td><td>1.079546e-05</td><td>0.03134581</td></tr>\n",
       "\t<tr><td>20000</td><td>1.515316e-05</td><td>0.03136097</td></tr>\n",
       "\t<tr><td>30000</td><td>1.926327e-05</td><td>0.03138023</td></tr>\n",
       "\t<tr><td>40000</td><td>2.324601e-05</td><td>0.03140348</td></tr>\n",
       "\t<tr><td>50000</td><td>2.718288e-05</td><td>0.03143066</td></tr>\n",
       "\t<tr><td>60000</td><td>3.113151e-05</td><td>0.03146179</td></tr>\n",
       "\t<tr><td>70000</td><td>3.513098e-05</td><td>0.03149692</td></tr>\n",
       "\t<tr><td>80000</td><td>3.920554e-05</td><td>0.03153613</td></tr>\n",
       "\t<tr><td>90000</td><td>4.336790e-05</td><td>0.03157950</td></tr>\n",
       "</tbody>\n",
       "</table>\n"
      ],
      "text/latex": [
       "A data.table: 10 × 3\n",
       "\\begin{tabular}{lll}\n",
       " x & pmf & cdf\\\\\n",
       " <dbl> & <dbl> & <dbl>\\\\\n",
       "\\hline\n",
       "\t     0 & 3.133502e-02 & 0.03133502\\\\\n",
       "\t 10000 & 1.079546e-05 & 0.03134581\\\\\n",
       "\t 20000 & 1.515316e-05 & 0.03136097\\\\\n",
       "\t 30000 & 1.926327e-05 & 0.03138023\\\\\n",
       "\t 40000 & 2.324601e-05 & 0.03140348\\\\\n",
       "\t 50000 & 2.718288e-05 & 0.03143066\\\\\n",
       "\t 60000 & 3.113151e-05 & 0.03146179\\\\\n",
       "\t 70000 & 3.513098e-05 & 0.03149692\\\\\n",
       "\t 80000 & 3.920554e-05 & 0.03153613\\\\\n",
       "\t 90000 & 4.336790e-05 & 0.03157950\\\\\n",
       "\\end{tabular}\n"
      ],
      "text/markdown": [
       "\n",
       "A data.table: 10 × 3\n",
       "\n",
       "| x &lt;dbl&gt; | pmf &lt;dbl&gt; | cdf &lt;dbl&gt; |\n",
       "|---|---|---|\n",
       "|     0 | 3.133502e-02 | 0.03133502 |\n",
       "| 10000 | 1.079546e-05 | 0.03134581 |\n",
       "| 20000 | 1.515316e-05 | 0.03136097 |\n",
       "| 30000 | 1.926327e-05 | 0.03138023 |\n",
       "| 40000 | 2.324601e-05 | 0.03140348 |\n",
       "| 50000 | 2.718288e-05 | 0.03143066 |\n",
       "| 60000 | 3.113151e-05 | 0.03146179 |\n",
       "| 70000 | 3.513098e-05 | 0.03149692 |\n",
       "| 80000 | 3.920554e-05 | 0.03153613 |\n",
       "| 90000 | 4.336790e-05 | 0.03157950 |\n",
       "\n"
      ],
      "text/plain": [
       "   x     pmf          cdf       \n",
       "1      0 3.133502e-02 0.03133502\n",
       "2  10000 1.079546e-05 0.03134581\n",
       "3  20000 1.515316e-05 0.03136097\n",
       "4  30000 1.926327e-05 0.03138023\n",
       "5  40000 2.324601e-05 0.03140348\n",
       "6  50000 2.718288e-05 0.03143066\n",
       "7  60000 3.113151e-05 0.03146179\n",
       "8  70000 3.513098e-05 0.03149692\n",
       "9  80000 3.920554e-05 0.03153613\n",
       "10 90000 4.336790e-05 0.03157950"
      ]
     },
     "metadata": {},
     "output_type": "display_data"
    }
   ],
   "source": [
    "# Librerias necesarias\n",
    "library(data.table)\n",
    "library(ggplot2)\n",
    "library(knitr)\n",
    "\n",
    "# Cargar datos de perdida agregada total\n",
    "perdida_total <- fread(\"../data/output/perdida_agregada_total_portafolio.csv\")\n",
    "\n",
    "# Verificar estructura de datos\n",
    "cat(\"Estructura de datos cargados:\")\n",
    "cat(\"\\nTotal de observaciones:\", nrow(perdida_total))\n",
    "cat(\"\\nRango de perdidas: [\", min(perdida_total$x), \",\", max(perdida_total$x), \"]\")\n",
    "cat(\"\\nDiscretizacion: pasos de $10,000\")\n",
    "head(perdida_total, 10)"
   ]
  },
  {
   "cell_type": "code",
   "execution_count": 17,
   "metadata": {
    "vscode": {
     "languageId": "r"
    }
   },
   "outputs": [
    {
     "data": {
      "text/plain": [
       "\n",
       "\n",
       "Table: Estadisticas Descriptivas de la Perdida Agregada\n",
       "\n",
       "|Metrica                  |Valor         |\n",
       "|:------------------------|:-------------|\n",
       "|Perdida Esperada         |$12,719,851   |\n",
       "|Desviacion Estandar      |$10,718,544   |\n",
       "|Varianza                 |$1.148872e+14 |\n",
       "|Coeficiente de Variacion |0.8427        |"
      ]
     },
     "metadata": {},
     "output_type": "display_data"
    },
    {
     "name": "stdout",
     "output_type": "stream",
     "text": [
      "\n",
      "\n",
      "Resumen: La perdida esperada mensual es de $ 12,719,851"
     ]
    }
   ],
   "source": [
    "# Calcular estadisticas basicas\n",
    "perdida_esperada <- sum(perdida_total$x * perdida_total$pmf)\n",
    "segundo_momento <- sum(perdida_total$x^2 * perdida_total$pmf)\n",
    "varianza <- segundo_momento - perdida_esperada^2\n",
    "desviacion_estandar <- sqrt(varianza)\n",
    "cv <- desviacion_estandar / perdida_esperada\n",
    "\n",
    "# Crear tabla de estadisticas descriptivas\n",
    "estadisticas <- data.frame(\n",
    "  Metrica = c(\"Perdida Esperada\", \"Desviacion Estandar\", \"Varianza\", \"Coeficiente de Variacion\"),\n",
    "  Valor = c(\n",
    "    paste0(\"$\", format(perdida_esperada, big.mark=\",\", scientific=FALSE)),\n",
    "    paste0(\"$\", format(desviacion_estandar, big.mark=\",\", scientific=FALSE)),\n",
    "    paste0(\"$\", format(varianza, big.mark=\",\", scientific=TRUE)),\n",
    "    paste0(round(cv, 4))\n",
    "  )\n",
    ")\n",
    "\n",
    "kable(estadisticas, caption = \"Estadisticas Descriptivas de la Perdida Agregada\")\n",
    "cat(\"\\n\\nResumen: La perdida esperada mensual es de $\", format(perdida_esperada, big.mark=\",\", scientific=FALSE))"
   ]
  },
  {
   "cell_type": "code",
   "execution_count": 18,
   "metadata": {
    "vscode": {
     "languageId": "r"
    }
   },
   "outputs": [
    {
     "data": {
      "text/plain": [
       "\n",
       "\n",
       "Table: Value at Risk (VaR) - Perdidas Maximas por Nivel de Confianza\n",
       "\n",
       "|Nivel_Confianza |VaR         |Probabilidad_Exceso |\n",
       "|:---------------|:-----------|:-------------------|\n",
       "|90%             |$24,560,000 |10%                 |\n",
       "|95%             |$30,830,000 |5%                  |\n",
       "|99%             |$52,620,000 |1%                  |\n",
       "|99.5%           |$64,850,000 |0.5%                |\n",
       "|99.9%           |$94,070,000 |0.1%                |"
      ]
     },
     "metadata": {},
     "output_type": "display_data"
    },
    {
     "name": "stdout",
     "output_type": "stream",
     "text": [
      "\n",
      "\n",
      "Nota: VaR representa la perdida maxima esperada en el percentil dado"
     ]
    }
   ],
   "source": [
    "# Funcion para calcular VaR considerando la discretizacion\n",
    "calcular_var <- function(datos, alpha) {\n",
    "  indice <- which(datos$cdf >= alpha)[1]\n",
    "  return(datos$x[indice])\n",
    "}\n",
    "\n",
    "# Calcular VaR para diferentes niveles de confianza\n",
    "var_90 <- calcular_var(perdida_total, 0.90)\n",
    "var_95 <- calcular_var(perdida_total, 0.95)\n",
    "var_99 <- calcular_var(perdida_total, 0.99)\n",
    "var_995 <- calcular_var(perdida_total, 0.995)\n",
    "var_999 <- calcular_var(perdida_total, 0.999)\n",
    "\n",
    "# Crear tabla de VaR\n",
    "tabla_var <- data.frame(\n",
    "  Nivel_Confianza = c(\"90%\", \"95%\", \"99%\", \"99.5%\", \"99.9%\"),\n",
    "  VaR = c(\n",
    "    paste0(\"$\", format(var_90, big.mark=\",\", scientific=FALSE)),\n",
    "    paste0(\"$\", format(var_95, big.mark=\",\", scientific=FALSE)),\n",
    "    paste0(\"$\", format(var_99, big.mark=\",\", scientific=FALSE)),\n",
    "    paste0(\"$\", format(var_995, big.mark=\",\", scientific=FALSE)),\n",
    "    paste0(\"$\", format(var_999, big.mark=\",\", scientific=FALSE))\n",
    "  ),\n",
    "  Probabilidad_Exceso = c(\"10%\", \"5%\", \"1%\", \"0.5%\", \"0.1%\")\n",
    ")\n",
    "\n",
    "kable(tabla_var, caption = \"Value at Risk (VaR) - Perdidas Maximas por Nivel de Confianza\")\n",
    "cat(\"\\n\\nNota: VaR representa la perdida maxima esperada en el percentil dado\")"
   ]
  },
  {
   "cell_type": "code",
   "execution_count": 19,
   "metadata": {
    "vscode": {
     "languageId": "r"
    }
   },
   "outputs": [],
   "source": [
    "# Calcular Solvency Capital Requirement (SCR) - Requerimiento de Capital\\nscr <- var_995 - perdida_esperada\\nscr_porcentaje <- (scr / perdida_esperada) * 100\\nmultiplo_std <- scr / desviacion_estandar\\n\\n# Calcular otros SCR alternativos\\nscr_99 <- var_99 - perdida_esperada\\nscr_999 <- var_999 - perdida_esperada\\n\\n# Tabla de requerimientos de capital\\ntabla_scr <- data.frame(\\n  Nivel_Confianza = c(\\\"99%\\\", \\\"99.5% (Solvencia II)\\\", \\\"99.9%\\\"),\\n  VaR = c(\\n    paste0(\\\"$\\\", format(var_99, big.mark=\\\",\\\", scientific=FALSE)),\\n    paste0(\\\"$\\\", format(var_995, big.mark=\\\",\\\", scientific=FALSE)),\\n    paste0(\\\"$\\\", format(var_999, big.mark=\\\",\\\", scientific=FALSE))\\n  ),\\n  SCR = c(\\n    paste0(\\\"$\\\", format(scr_99, big.mark=\\\",\\\", scientific=FALSE)),\\n    paste0(\\\"$\\\", format(scr, big.mark=\\\",\\\", scientific=FALSE)),\\n    paste0(\\\"$\\\", format(scr_999, big.mark=\\\",\\\", scientific=FALSE))\\n  ),\\n  Porcentaje_Perdida_Esperada = c(\\n    paste0(round((scr_99/perdida_esperada)*100, 1), \\\"%\\\"),\\n    paste0(round(scr_porcentaje, 1), \\\"%\\\"),\\n    paste0(round((scr_999/perdida_esperada)*100, 1), \\\"%\\\")\\n  )\\n)\\n\\nkable(tabla_scr, caption = \\\"Solvency Capital Requirement (SCR) - Requerimiento de Capital\\\")\\ncat(\\\"\\\\n\\\\nSCR = VaR - Perdida Esperada\\\")\\ncat(\\\"\\\\nEl SCR al 99.5% representa\\\", round(multiplo_std, 2), \\\"desviaciones estandar\\\")\\ncat(\\\"\\\\nEste es el capital adicional requerido por encima de la perdida esperada\\\")\""
   ]
  },
  {
   "cell_type": "code",
   "execution_count": 20,
   "metadata": {
    "vscode": {
     "languageId": "r"
    }
   },
   "outputs": [
    {
     "data": {
      "text/plain": [
       "\n",
       "\n",
       "Table: Tail Conditional Expectation (TCE) - Perdida Esperada en la Cola\n",
       "\n",
       "|Nivel |VaR         |TCE          |Prob_Exceso |\n",
       "|:-----|:-----------|:------------|:-----------|\n",
       "|99%   |$52,620,000 |$70,509,879  |1%          |\n",
       "|99.5% |$64,850,000 |$83,022,982  |0.5%        |\n",
       "|99.9% |$94,070,000 |$112,475,643 |0.1%        |"
      ]
     },
     "metadata": {},
     "output_type": "display_data"
    },
    {
     "name": "stdout",
     "output_type": "stream",
     "text": [
      "\n",
      "\n",
      "TCE: Perdida esperada dado que se excede el VaR"
     ]
    }
   ],
   "source": [
    "# Calcular Tail Conditional Expectation (TCE)\n",
    "calcular_tce <- function(datos, var_level) {\n",
    "  tail_data <- datos[x > var_level]\n",
    "  prob_tail <- sum(tail_data$pmf)\n",
    "  if(prob_tail > 0) {\n",
    "    tail_data$pmf_norm <- tail_data$pmf / prob_tail\n",
    "    tce <- sum(tail_data$x * tail_data$pmf_norm)\n",
    "  } else {\n",
    "    tce <- var_level\n",
    "  }\n",
    "  return(list(tce = tce, prob_tail = prob_tail))\n",
    "}\n",
    "\n",
    "# TCE para diferentes niveles\n",
    "resultado_tce_995 <- calcular_tce(perdida_total, var_995)\n",
    "resultado_tce_99 <- calcular_tce(perdida_total, var_99)\n",
    "resultado_tce_999 <- calcular_tce(perdida_total, var_999)\n",
    "\n",
    "# Tabla de TCE\n",
    "tabla_tce <- data.frame(\n",
    "  Nivel = c(\"99%\", \"99.5%\", \"99.9%\"),\n",
    "  VaR = c(\n",
    "    paste0(\"$\", format(var_99, big.mark=\",\", scientific=FALSE)),\n",
    "    paste0(\"$\", format(var_995, big.mark=\",\", scientific=FALSE)),\n",
    "    paste0(\"$\", format(var_999, big.mark=\",\", scientific=FALSE))\n",
    "  ),\n",
    "  TCE = c(\n",
    "    paste0(\"$\", format(resultado_tce_99$tce, big.mark=\",\", scientific=FALSE)),\n",
    "    paste0(\"$\", format(resultado_tce_995$tce, big.mark=\",\", scientific=FALSE)),\n",
    "    paste0(\"$\", format(resultado_tce_999$tce, big.mark=\",\", scientific=FALSE))\n",
    "  ),\n",
    "  Prob_Exceso = c(\n",
    "    paste0(round(resultado_tce_99$prob_tail * 100, 3), \"%\"),\n",
    "    paste0(round(resultado_tce_995$prob_tail * 100, 3), \"%\"),\n",
    "    paste0(round(resultado_tce_999$prob_tail * 100, 3), \"%\")\n",
    "  )\n",
    ")\n",
    "\n",
    "kable(tabla_tce, caption = \"Tail Conditional Expectation (TCE) - Perdida Esperada en la Cola\")\n",
    "cat(\"\\n\\nTCE: Perdida esperada dado que se excede el VaR\")"
   ]
  },
  {
   "cell_type": "code",
   "execution_count": 21,
   "metadata": {
    "vscode": {
     "languageId": "r"
    }
   },
   "outputs": [],
   "source": [
    "# Analisis del SCR como requerimiento de capital\\n# El SCR representa el capital adicional necesario para eventos extremos\\n\\n# Comparar SCR con metricas de riesgo\\ntabla_analisis <- data.frame(\\n  Metrica = c(\\n    \\\"Perdida Esperada\\\",\\n    \\\"Desviacion Estandar\\\", \\n    \\\"SCR (99.5%)\\\",\\n    \\\"SCR como % de Perdida Esperada\\\",\\n    \\\"SCR en multiplos de σ\\\"\\n  ),\\n  Valor = c(\\n    paste0(\\\"$\\\", format(perdida_esperada, big.mark=\\\",\\\", scientific=FALSE)),\\n    paste0(\\\"$\\\", format(desviacion_estandar, big.mark=\\\",\\\", scientific=FALSE)),\\n    paste0(\\\"$\\\", format(scr, big.mark=\\\",\\\", scientific=FALSE)),\\n    paste0(round(scr_porcentaje, 1), \\\"%\\\"),\\n    paste0(round(multiplo_std, 2), \\\" σ\\\")\\n  )\\n)\\n\\nkable(tabla_analisis, caption = \\\"Analisis del Solvency Capital Requirement (SCR)\\\")\\ncat(\\\"\\\\n\\\\nEl SCR es el capital adicional requerido para absorber perdidas extremas\\\")\\ncat(\\\"\\\\ncon 99.5% de confianza, por encima de la perdida esperada.\\\")\""
   ]
  },
  {
   "cell_type": "code",
   "execution_count": 22,
   "metadata": {
    "vscode": {
     "languageId": "r"
    }
   },
   "outputs": [
    {
     "name": "stdout",
     "output_type": "stream",
     "text": [
      "\n",
      "\n",
      "Grafico: Muestra la distribucion de perdidas con las principales metricas de riesgo"
     ]
    },
    {
     "data": {
      "image/png": "[encoded data removed]",
      "text/plain": [
       "plot without title"
      ]
     },
     "metadata": {
      "image/png": {
       "height": 420,
       "width": 420
      }
     },
     "output_type": "display_data"
    }
   ],
   "source": [
    "# Visualizacion de la distribucion con metricas de riesgo\n",
    "# Filtrar datos para visualizacion (hasta percentil 99.9)\n",
    "datos_plot <- perdida_total[cdf <= 0.999]\n",
    "\n",
    "p1 <- ggplot(datos_plot, aes(x = x/1e6, y = pmf)) +\n",
    "  geom_line(color = \"steelblue\", size = 0.8) +\n",
    "  geom_vline(xintercept = perdida_esperada/1e6, color = \"green\", linetype = \"dashed\", size = 1) +\n",
    "  geom_vline(xintercept = var_995/1e6, color = \"red\", linetype = \"dashed\", size = 1) +\n",
    "  geom_vline(xintercept = resultado_tce_995$tce/1e6, color = \"orange\", linetype = \"dashed\", size = 1) +\n",
    "  labs(\n",
    "    title = \"Distribucion de Perdida Agregada Total - Portafolio\",\n",
    "    x = \"Perdida (Millones $)\",\n",
    "    y = \"Densidad de Probabilidad\",\n",
    "    caption = \"Verde: Perdida Esperada | Rojo: VaR 99.5% | Naranja: TCE 99.5%\"\n",
    "  ) +\n",
    "  theme_minimal() +\n",
    "  theme(plot.title = element_text(hjust = 0.5))\n",
    "\n",
    "print(p1)\n",
    "\n",
    "cat(\"\\n\\nGrafico: Muestra la distribucion de perdidas con las principales metricas de riesgo\")"
   ]
  },
  {
   "cell_type": "markdown",
   "metadata": {},
   "source": [
    "## Respuesta: Requerimiento de Capital Mensual\n",
    "\n",
    "### Resultado Principal"
   ]
  },
  {
   "cell_type": "code",
   "execution_count": null,
   "metadata": {
    "vscode": {
     "languageId": "r"
    }
   },
   "outputs": [],
   "source": "# RESPUESTA FINAL - Requerimiento de Capital Mensual\\ncat(\\\"======================================================\\\")\\ncat(\\\"\\\\n       REQUERIMIENTO DE CAPITAL MENSUAL\\\")\\ncat(\\\"\\\\n======================================================\\\")\\ncat(\\\"\\\\n\\\")\\ncat(\\\"\\\\nSegun las regulaciones de Solvencia II (VaR 99.5%):\\\")\\ncat(\\\"\\\\n\\\")\\ncat(\\\"\\\\n• PERDIDA ESPERADA:\\\")\\ncat(\\\"\\\\n  $\\\", format(perdida_esperada, big.mark=\\\",\\\", scientific=FALSE))\\ncat(\\\"\\\\n\\\")\\ncat(\\\"\\\\n• SOLVENCY CAPITAL REQUIREMENT (SCR):\\\")\\ncat(\\\"\\\\n  $\\\", format(scr, big.mark=\\\",\\\", scientific=FALSE))\\ncat(\\\"\\\\n  (\\\", round(scr_porcentaje, 1), \\\"% adicional sobre perdida esperada)\\\")\\ncat(\\\"\\\\n\\\")\\ncat(\\\"\\\\n======================================================\\\")\\ncat(\\\"\\\\n\\\")\\ncat(\\\"\\\\nEl REQUERIMIENTO DE CAPITAL MENSUAL para el nuevo\\\")\\ncat(\\\"\\\\nportafolio de seguros es de:\\\")\\ncat(\\\"\\\\n\\\")\\ncat(\\\"\\\\n        $\\\", format(scr, big.mark=\\\",\\\", scientific=FALSE))\\ncat(\\\"\\\\n\\\")\\ncat(\\\"\\\\n======================================================\\\")\\ncat(\\\"\\\\n\\\")\\ncat(\\\"\\\\nNota: Este es el capital adicional requerido por encima\\\")\\ncat(\\\"\\\\nde la perdida esperada para cubrir eventos extremos\\\")\\ncat(\\\"\\\\ncon 99.5% de confianza segun regulaciones de solvencia.\\\")\\n\\n# Tabla final resumen simplificada\\nrespuesta_final <- data.frame(\\n  Concepto = c(\\\"Perdida Esperada\\\", \\\"Requerimiento de Capital (SCR)\\\"),\\n  Monto = c(\\n    paste0(\\\"$\\\", format(perdida_esperada, big.mark=\\\",\\\", scientific=FALSE)),\\n    paste0(\\\"$\\\", format(scr, big.mark=\\\",\\\", scientific=FALSE))\\n  ),\\n  Descripcion = c(\\n    \\\"Perdidas esperadas del portafolio\\\",\\n    \\\"Capital adicional para eventos extremos\\\"\\n  )\\n)\\n\\ncat(\\\"\\\\n\\\\nRESUMEN:\\\")\\nkable(respuesta_final)\""
  }
 ],
 "metadata": {
  "kernelspec": {
   "display_name": "R",
   "language": "R",
   "name": "ir"
  },
  "language_info": {
   "codemirror_mode": "r",
   "file_extension": ".r",
   "mimetype": "text/x-r-source",
   "name": "R",
   "pygments_lexer": "r",
   "version": "4.2.3"
  }
 },
 "nbformat": 4,
 "nbformat_minor": 4
}