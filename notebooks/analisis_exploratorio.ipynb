{
 "cells": [
  {
   "cell_type": "markdown",
   "id": "9387ffa7",
   "metadata": {},
   "source": [
    "<div align=\"center\">\n",
    "\n",
    "# **Analisis Exploratorio**\n",
    "\n",
    "</div>"
   ]
  },
  {
   "cell_type": "markdown",
   "id": "06c223f0",
   "metadata": {},
   "source": [
    "## Librerias"
   ]
  },
  {
   "cell_type": "code",
   "execution_count": 6,
   "id": "80ac1e19",
   "metadata": {
    "vscode": {
     "languageId": "r"
    }
   },
   "outputs": [],
   "source": [
    "library(readxl)"
   ]
  },
  {
   "cell_type": "markdown",
   "id": "0a362a1e",
   "metadata": {},
   "source": [
    "## Exploracion del portafolio historico"
   ]
  },
  {
   "cell_type": "code",
   "execution_count": 7,
   "id": "e5e63d92",
   "metadata": {
    "vscode": {
     "languageId": "r"
    }
   },
   "outputs": [],
   "source": [
    "portafolio_historico <- read.table(\"../data/input/polizas_v2.txt\", header = TRUE, sep = \"|\")"
   ]
  },
  {
   "cell_type": "code",
   "execution_count": 8,
   "id": "9247475e",
   "metadata": {
    "vscode": {
     "languageId": "r"
    }
   },
   "outputs": [
    {
     "data": {
      "text/html": [
       "<style>\n",
       ".list-inline {list-style: none; margin:0; padding: 0}\n",
       ".list-inline>li {display: inline-block}\n",
       ".list-inline>li:not(:last-child)::after {content: \"\\00b7\"; padding: 0 .5ex}\n",
       "</style>\n",
       "<ol class=list-inline><li>'FECINICIO'</li><li>'FECFIN'</li><li>'VLRPRISUSCR'</li><li>'VLRASEGU'</li><li>'VLRASEGURC'</li><li>'PTD'</li><li>'PPD'</li><li>'PH'</li><li>'PPH'</li><li>'RC'</li></ol>\n"
      ],
      "text/latex": [
       "\\begin{enumerate*}\n",
       "\\item 'FECINICIO'\n",
       "\\item 'FECFIN'\n",
       "\\item 'VLRPRISUSCR'\n",
       "\\item 'VLRASEGU'\n",
       "\\item 'VLRASEGURC'\n",
       "\\item 'PTD'\n",
       "\\item 'PPD'\n",
       "\\item 'PH'\n",
       "\\item 'PPH'\n",
       "\\item 'RC'\n",
       "\\end{enumerate*}\n"
      ],
      "text/markdown": [
       "1. 'FECINICIO'\n",
       "2. 'FECFIN'\n",
       "3. 'VLRPRISUSCR'\n",
       "4. 'VLRASEGU'\n",
       "5. 'VLRASEGURC'\n",
       "6. 'PTD'\n",
       "7. 'PPD'\n",
       "8. 'PH'\n",
       "9. 'PPH'\n",
       "10. 'RC'\n",
       "\n",
       "\n"
      ],
      "text/plain": [
       " [1] \"FECINICIO\"   \"FECFIN\"      \"VLRPRISUSCR\" \"VLRASEGU\"    \"VLRASEGURC\" \n",
       " [6] \"PTD\"         \"PPD\"         \"PH\"          \"PPH\"         \"RC\"         "
      ]
     },
     "metadata": {},
     "output_type": "display_data"
    }
   ],
   "source": [
    "colnames(portafolio_historico)"
   ]
  },
  {
   "cell_type": "code",
   "execution_count": 9,
   "id": "4583d4f0",
   "metadata": {
    "vscode": {
     "languageId": "r"
    }
   },
   "outputs": [],
   "source": [
    "portafolio_historico$FECINICIO <- as.Date(portafolio_historico$FECINICIO)\n",
    "portafolio_historico$FECFIN <- as.Date(portafolio_historico$FECFIN)"
   ]
  },
  {
   "cell_type": "code",
   "execution_count": 10,
   "id": "726064a1",
   "metadata": {
    "vscode": {
     "languageId": "r"
    }
   },
   "outputs": [
    {
     "data": {
      "text/plain": [
       "   FECINICIO              FECFIN            VLRPRISUSCR       \n",
       " Min.   :2016-01-01   Min.   :2016-01-01   Min.   :        0  \n",
       " 1st Qu.:2016-12-12   1st Qu.:2017-10-13   1st Qu.:        0  \n",
       " Median :2017-12-29   Median :2018-12-01   Median :   713862  \n",
       " Mean   :2018-02-01   Mean   :2018-11-23   Mean   :   987171  \n",
       " 3rd Qu.:2019-03-02   3rd Qu.:2020-01-10   3rd Qu.:  1452751  \n",
       " Max.   :2020-12-31   Max.   :2020-12-31   Max.   :575847420  \n",
       "                                           NA's   :3853       \n",
       "    VLRASEGU           VLRASEGURC            PTD              PPD        \n",
       " Min.   :0.000e+00   Min.   :0.00e+00   Min.   :0.0000   Min.   :0.0000  \n",
       " 1st Qu.:2.500e+07   1st Qu.:8.00e+08   1st Qu.:1.0000   1st Qu.:1.0000  \n",
       " Median :3.590e+07   Median :2.00e+09   Median :1.0000   Median :1.0000  \n",
       " Mean   :4.510e+07   Mean   :1.85e+09   Mean   :0.9782   Mean   :0.9719  \n",
       " 3rd Qu.:5.150e+07   3rd Qu.:3.00e+09   3rd Qu.:1.0000   3rd Qu.:1.0000  \n",
       " Max.   :1.321e+10   Max.   :8.00e+09   Max.   :1.0000   Max.   :1.0000  \n",
       "                                                                         \n",
       "       PH              PPH              RC        \n",
       " Min.   :0.0000   Min.   :0.000   Min.   :0.0000  \n",
       " 1st Qu.:1.0000   1st Qu.:1.000   1st Qu.:0.0000  \n",
       " Median :1.0000   Median :1.000   Median :1.0000  \n",
       " Mean   :0.9781   Mean   :0.972   Mean   :0.6562  \n",
       " 3rd Qu.:1.0000   3rd Qu.:1.000   3rd Qu.:1.0000  \n",
       " Max.   :1.0000   Max.   :1.000   Max.   :1.0000  \n",
       "                                                  "
      ]
     },
     "metadata": {},
     "output_type": "display_data"
    }
   ],
   "source": [
    "summary(portafolio_historico)"
   ]
  },
  {
   "cell_type": "markdown",
   "id": "f087c37c",
   "metadata": {},
   "source": [
    "## Exploracion de siniestralidad historica"
   ]
  },
  {
   "cell_type": "code",
   "execution_count": 16,
   "id": "2cdd4244",
   "metadata": {
    "vscode": {
     "languageId": "r"
    }
   },
   "outputs": [],
   "source": [
    "siniestros <- read_excel(\"../data/input/Siniestros_Hist.xlsx\")"
   ]
  },
  {
   "cell_type": "code",
   "execution_count": 17,
   "id": "3d1c34f6",
   "metadata": {
    "vscode": {
     "languageId": "r"
    }
   },
   "outputs": [
    {
     "data": {
      "text/html": [
       "<style>\n",
       ".list-inline {list-style: none; margin:0; padding: 0}\n",
       ".list-inline>li {display: inline-block}\n",
       ".list-inline>li:not(:last-child)::after {content: \"\\00b7\"; padding: 0 .5ex}\n",
       "</style>\n",
       "<ol class=list-inline><li>'FECHASIN'</li><li>'VLRPRIMAPAG'</li><li>'VLRPRISUSCR'</li><li>'VLRASEGU'</li><li>'VLRASEGU_ORIG'</li><li>'VLRPAGADO.'</li><li>'VLRSININCUR'</li><li>'VLRDEDUCIBLE'</li><li>'VLRRECOBRO'</li><li>'VLRRSVACONSTIAMP'</li><li>'VLRRSVAPAGAMP'</li><li>'FECPAGOAMP'</li><li>'ESTADO_FINAL'</li><li>'COBERTURA_FINAL'</li></ol>\n"
      ],
      "text/latex": [
       "\\begin{enumerate*}\n",
       "\\item 'FECHASIN'\n",
       "\\item 'VLRPRIMAPAG'\n",
       "\\item 'VLRPRISUSCR'\n",
       "\\item 'VLRASEGU'\n",
       "\\item 'VLRASEGU\\_ORIG'\n",
       "\\item 'VLRPAGADO.'\n",
       "\\item 'VLRSININCUR'\n",
       "\\item 'VLRDEDUCIBLE'\n",
       "\\item 'VLRRECOBRO'\n",
       "\\item 'VLRRSVACONSTIAMP'\n",
       "\\item 'VLRRSVAPAGAMP'\n",
       "\\item 'FECPAGOAMP'\n",
       "\\item 'ESTADO\\_FINAL'\n",
       "\\item 'COBERTURA\\_FINAL'\n",
       "\\end{enumerate*}\n"
      ],
      "text/markdown": [
       "1. 'FECHASIN'\n",
       "2. 'VLRPRIMAPAG'\n",
       "3. 'VLRPRISUSCR'\n",
       "4. 'VLRASEGU'\n",
       "5. 'VLRASEGU_ORIG'\n",
       "6. 'VLRPAGADO.'\n",
       "7. 'VLRSININCUR'\n",
       "8. 'VLRDEDUCIBLE'\n",
       "9. 'VLRRECOBRO'\n",
       "10. 'VLRRSVACONSTIAMP'\n",
       "11. 'VLRRSVAPAGAMP'\n",
       "12. 'FECPAGOAMP'\n",
       "13. 'ESTADO_FINAL'\n",
       "14. 'COBERTURA_FINAL'\n",
       "\n",
       "\n"
      ],
      "text/plain": [
       " [1] \"FECHASIN\"         \"VLRPRIMAPAG\"      \"VLRPRISUSCR\"      \"VLRASEGU\"        \n",
       " [5] \"VLRASEGU_ORIG\"    \"VLRPAGADO.\"       \"VLRSININCUR\"      \"VLRDEDUCIBLE\"    \n",
       " [9] \"VLRRECOBRO\"       \"VLRRSVACONSTIAMP\" \"VLRRSVAPAGAMP\"    \"FECPAGOAMP\"      \n",
       "[13] \"ESTADO_FINAL\"     \"COBERTURA_FINAL\" "
      ]
     },
     "metadata": {},
     "output_type": "display_data"
    }
   ],
   "source": [
    "colnames(siniestros)"
   ]
  },
  {
   "cell_type": "code",
   "execution_count": 19,
   "id": "61c367be",
   "metadata": {
    "vscode": {
     "languageId": "r"
    }
   },
   "outputs": [],
   "source": [
    "siniestros$FECHASIN <- as.Date(siniestros$FECHASIN, origin = \"2000-01-01\")\n",
    "siniestros$FECPAGOAMP <- as.Date(siniestros$FECPAGOAMP, origin = \"2000-01-01\")"
   ]
  },
  {
   "cell_type": "code",
   "execution_count": 20,
   "id": "8be757ee",
   "metadata": {
    "vscode": {
     "languageId": "r"
    }
   },
   "outputs": [
    {
     "data": {
      "text/plain": [
       "    FECHASIN           VLRPRIMAPAG        VLRPRISUSCR          VLRASEGU        \n",
       " Min.   :2017-01-01   Min.   :       0   Min.   :       0   Min.   :0.000e+00  \n",
       " 1st Qu.:2018-03-07   1st Qu.:  917158   1st Qu.:  927284   1st Qu.:4.255e+07  \n",
       " Median :2018-06-15   Median : 1466609   Median : 1451522   Median :1.000e+09  \n",
       " Mean   :2018-05-18   Mean   : 2186841   Mean   : 3295173   Mean   :1.299e+09  \n",
       " 3rd Qu.:2018-09-24   3rd Qu.: 2642228   3rd Qu.: 2680950   3rd Qu.:3.000e+09  \n",
       " Max.   :2018-12-31   Max.   :39357718   Max.   :76149265   Max.   :4.000e+09  \n",
       "                                                                               \n",
       " VLRASEGU_ORIG         VLRPAGADO.         VLRSININCUR         VLRDEDUCIBLE     \n",
       " Min.   :0.000e+00   Min.   :        0   Min.   :        0   Min.   :       0  \n",
       " 1st Qu.:4.255e+07   1st Qu.:   440029   1st Qu.:   976482   1st Qu.:  260466  \n",
       " Median :1.000e+09   Median :  1877471   Median :  2277511   Median : 1032000  \n",
       " Mean   :1.299e+09   Mean   :  3596041   Mean   :  4090189   Mean   : 1269842  \n",
       " 3rd Qu.:3.000e+09   3rd Qu.:  4128428   3rd Qu.:  4474290   3rd Qu.: 1562484  \n",
       " Max.   :4.000e+09   Max.   :602493160   Max.   :606891947   Max.   :58200000  \n",
       "                                                                               \n",
       "   VLRRECOBRO        VLRRSVACONSTIAMP    VLRRSVAPAGAMP      \n",
       " Min.   :        0   Min.   :0.000e+00   Min.   :        0  \n",
       " 1st Qu.:        0   1st Qu.:2.098e+06   1st Qu.:        0  \n",
       " Median :        0   Median :2.098e+06   Median :        0  \n",
       " Mean   :    87098   Mean   :1.246e+08   Mean   :   620331  \n",
       " 3rd Qu.:        0   3rd Qu.:2.755e+06   3rd Qu.:        0  \n",
       " Max.   :142238208   Max.   :4.000e+09   Max.   :177548094  \n",
       "                                                            \n",
       "   FECPAGOAMP          ESTADO_FINAL       COBERTURA_FINAL   \n",
       " Min.   :57223-11-28   Length:23363       Length:23363      \n",
       " 1st Qu.:57252-05-25   Class :character   Class :character  \n",
       " Median :57253-06-06   Mode  :character   Mode  :character  \n",
       " Mean   :57255-09-10                                        \n",
       " 3rd Qu.:57254-04-11                                        \n",
       " Max.   :57334-06-22                                        \n",
       " NA's   :5603                                               "
      ]
     },
     "metadata": {},
     "output_type": "display_data"
    }
   ],
   "source": [
    "summary(siniestros)"
   ]
  },
  {
   "cell_type": "code",
   "execution_count": 22,
   "id": "ba2fd12b",
   "metadata": {
    "vscode": {
     "languageId": "r"
    }
   },
   "outputs": [
    {
     "data": {
      "text/html": [
       "<style>\n",
       ".list-inline {list-style: none; margin:0; padding: 0}\n",
       ".list-inline>li {display: inline-block}\n",
       ".list-inline>li:not(:last-child)::after {content: \"\\00b7\"; padding: 0 .5ex}\n",
       "</style>\n",
       "<ol class=list-inline><li>'PTH'</li><li>'PPD'</li><li>'RC BIENES'</li><li>'PPH'</li><li>'RC PERS'</li></ol>\n"
      ],
      "text/latex": [
       "\\begin{enumerate*}\n",
       "\\item 'PTH'\n",
       "\\item 'PPD'\n",
       "\\item 'RC BIENES'\n",
       "\\item 'PPH'\n",
       "\\item 'RC PERS'\n",
       "\\end{enumerate*}\n"
      ],
      "text/markdown": [
       "1. 'PTH'\n",
       "2. 'PPD'\n",
       "3. 'RC BIENES'\n",
       "4. 'PPH'\n",
       "5. 'RC PERS'\n",
       "\n",
       "\n"
      ],
      "text/plain": [
       "[1] \"PTH\"       \"PPD\"       \"RC BIENES\" \"PPH\"       \"RC PERS\"  "
      ]
     },
     "metadata": {},
     "output_type": "display_data"
    }
   ],
   "source": [
    "unique(siniestros$COBERTURA_FINAL)"
   ]
  },
  {
   "cell_type": "markdown",
   "id": "82443e06",
   "metadata": {},
   "source": [
    "## Exploracion del nuevo portafolio"
   ]
  },
  {
   "cell_type": "code",
   "execution_count": 23,
   "id": "1cb0ec4d",
   "metadata": {
    "vscode": {
     "languageId": "r"
    }
   },
   "outputs": [],
   "source": [
    "vigentes <- read_excel(\"../data/input/Grupo_P11.xlsx\")"
   ]
  },
  {
   "cell_type": "code",
   "execution_count": 24,
   "id": "ed05ac01",
   "metadata": {
    "vscode": {
     "languageId": "r"
    }
   },
   "outputs": [
    {
     "data": {
      "text/html": [
       "<style>\n",
       ".list-inline {list-style: none; margin:0; padding: 0}\n",
       ".list-inline>li {display: inline-block}\n",
       ".list-inline>li:not(:last-child)::after {content: \"\\00b7\"; padding: 0 .5ex}\n",
       "</style>\n",
       "<ol class=list-inline><li>'FECINICIO'</li><li>'FECFIN'</li><li>'VLRPRISUSCR'</li><li>'VLRASEGU'</li><li>'VLRASEGURC'</li><li>'PTD'</li><li>'PPD'</li><li>'PH'</li><li>'PPH'</li><li>'RC'</li></ol>\n"
      ],
      "text/latex": [
       "\\begin{enumerate*}\n",
       "\\item 'FECINICIO'\n",
       "\\item 'FECFIN'\n",
       "\\item 'VLRPRISUSCR'\n",
       "\\item 'VLRASEGU'\n",
       "\\item 'VLRASEGURC'\n",
       "\\item 'PTD'\n",
       "\\item 'PPD'\n",
       "\\item 'PH'\n",
       "\\item 'PPH'\n",
       "\\item 'RC'\n",
       "\\end{enumerate*}\n"
      ],
      "text/markdown": [
       "1. 'FECINICIO'\n",
       "2. 'FECFIN'\n",
       "3. 'VLRPRISUSCR'\n",
       "4. 'VLRASEGU'\n",
       "5. 'VLRASEGURC'\n",
       "6. 'PTD'\n",
       "7. 'PPD'\n",
       "8. 'PH'\n",
       "9. 'PPH'\n",
       "10. 'RC'\n",
       "\n",
       "\n"
      ],
      "text/plain": [
       " [1] \"FECINICIO\"   \"FECFIN\"      \"VLRPRISUSCR\" \"VLRASEGU\"    \"VLRASEGURC\" \n",
       " [6] \"PTD\"         \"PPD\"         \"PH\"          \"PPH\"         \"RC\"         "
      ]
     },
     "metadata": {},
     "output_type": "display_data"
    }
   ],
   "source": [
    "colnames(vigentes)"
   ]
  },
  {
   "cell_type": "code",
   "execution_count": 25,
   "id": "86294234",
   "metadata": {
    "vscode": {
     "languageId": "r"
    }
   },
   "outputs": [],
   "source": [
    "vigentes$FECINICIO <- as.Date(vigentes$FECINICIO)\n",
    "vigentes$FECFIN <- as.Date(vigentes$FECFIN)"
   ]
  },
  {
   "cell_type": "code",
   "execution_count": 26,
   "id": "bdc35364",
   "metadata": {
    "vscode": {
     "languageId": "r"
    }
   },
   "outputs": [
    {
     "data": {
      "text/plain": [
       "   FECINICIO              FECFIN            VLRPRISUSCR     \n",
       " Min.   :2019-01-08   Min.   :2019-01-08   Min.   :      0  \n",
       " 1st Qu.:2019-01-08   1st Qu.:2019-08-06   1st Qu.:  38725  \n",
       " Median :2019-01-08   Median :2020-01-08   Median :1088310  \n",
       " Mean   :2019-01-08   Mean   :2019-10-24   Mean   :1076763  \n",
       " 3rd Qu.:2019-01-08   3rd Qu.:2020-01-08   3rd Qu.:1571440  \n",
       " Max.   :2019-01-09   Max.   :2020-12-29   Max.   :4212917  \n",
       "    VLRASEGU           VLRASEGURC            PTD            PPD        \n",
       " Min.   :  3200000   Min.   :0.00e+00   Min.   :0.00   Min.   :0.0000  \n",
       " 1st Qu.: 30775000   1st Qu.:1.20e+09   1st Qu.:1.00   1st Qu.:1.0000  \n",
       " Median : 42600000   Median :2.00e+09   Median :1.00   Median :1.0000  \n",
       " Mean   : 53531158   Mean   :1.97e+09   Mean   :0.99   Mean   :0.9833  \n",
       " 3rd Qu.: 63886250   3rd Qu.:3.00e+09   3rd Qu.:1.00   3rd Qu.:1.0000  \n",
       " Max.   :245000000   Max.   :4.00e+09   Max.   :1.00   Max.   :1.0000  \n",
       "       PH            PPH               RC        \n",
       " Min.   :0.00   Min.   :0.0000   Min.   :0.0000  \n",
       " 1st Qu.:1.00   1st Qu.:1.0000   1st Qu.:1.0000  \n",
       " Median :1.00   Median :1.0000   Median :1.0000  \n",
       " Mean   :0.99   Mean   :0.9833   Mean   :0.7633  \n",
       " 3rd Qu.:1.00   3rd Qu.:1.0000   3rd Qu.:1.0000  \n",
       " Max.   :1.00   Max.   :1.0000   Max.   :1.0000  "
      ]
     },
     "metadata": {},
     "output_type": "display_data"
    }
   ],
   "source": [
    "summary(vigentes)"
   ]
  }
 ],
 "metadata": {
  "kernelspec": {
   "display_name": "R",
   "language": "R",
   "name": "ir"
  },
  "language_info": {
   "codemirror_mode": "r",
   "file_extension": ".r",
   "mimetype": "text/x-r-source",
   "name": "R",
   "pygments_lexer": "r",
   "version": "4.2.3"
  }
 },
 "nbformat": 4,
 "nbformat_minor": 5
}
