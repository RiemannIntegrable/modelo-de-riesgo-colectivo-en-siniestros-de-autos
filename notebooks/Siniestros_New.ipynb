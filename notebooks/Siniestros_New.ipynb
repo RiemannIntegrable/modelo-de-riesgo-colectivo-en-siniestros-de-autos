{
 "cells": [
  {
   "cell_type": "markdown",
   "id": "9f7e05c6",
   "metadata": {},
   "source": [
    "<div align = \"center\">\n",
    "\n",
    "# **Exploración de datos (Base siniestros)**\n",
    "\n",
    "</div>"
   ]
  },
  {
   "cell_type": "markdown",
   "id": "69896923",
   "metadata": {},
   "source": [
    "## Librerias"
   ]
  },
  {
   "cell_type": "code",
   "execution_count": 26,
   "id": "e81c2fb3",
   "metadata": {
    "vscode": {
     "languageId": "r"
    }
   },
   "outputs": [],
   "source": [
    "library(readxl)\n",
    "library(dplyr)"
   ]
  },
  {
   "cell_type": "markdown",
   "id": "1f42221f",
   "metadata": {},
   "source": [
    "## Data"
   ]
  },
  {
   "cell_type": "code",
   "execution_count": 27,
   "id": "77de3905",
   "metadata": {
    "vscode": {
     "languageId": "r"
    }
   },
   "outputs": [],
   "source": [
    "Siniestros <- read_excel(\"../data/input/Siniestros_Hist.xlsx\")"
   ]
  },
  {
   "cell_type": "code",
   "execution_count": 28,
   "id": "57243604",
   "metadata": {
    "vscode": {
     "languageId": "r"
    }
   },
   "outputs": [
    {
     "data": {
      "text/html": [
       "<style>\n",
       ".list-inline {list-style: none; margin:0; padding: 0}\n",
       ".list-inline>li {display: inline-block}\n",
       ".list-inline>li:not(:last-child)::after {content: \"\\00b7\"; padding: 0 .5ex}\n",
       "</style>\n",
       "<ol class=list-inline><li>'FECHASIN'</li><li>'VLRPRIMAPAG'</li><li>'VLRPRISUSCR'</li><li>'VLRASEGU'</li><li>'VLRASEGU_ORIG'</li><li>'VLRPAGADO.'</li><li>'VLRSININCUR'</li><li>'VLRDEDUCIBLE'</li><li>'VLRRECOBRO'</li><li>'VLRRSVACONSTIAMP'</li><li>'VLRRSVAPAGAMP'</li><li>'FECPAGOAMP'</li><li>'ESTADO_FINAL'</li><li>'COBERTURA_FINAL'</li></ol>\n"
      ],
      "text/latex": [
       "\\begin{enumerate*}\n",
       "\\item 'FECHASIN'\n",
       "\\item 'VLRPRIMAPAG'\n",
       "\\item 'VLRPRISUSCR'\n",
       "\\item 'VLRASEGU'\n",
       "\\item 'VLRASEGU\\_ORIG'\n",
       "\\item 'VLRPAGADO.'\n",
       "\\item 'VLRSININCUR'\n",
       "\\item 'VLRDEDUCIBLE'\n",
       "\\item 'VLRRECOBRO'\n",
       "\\item 'VLRRSVACONSTIAMP'\n",
       "\\item 'VLRRSVAPAGAMP'\n",
       "\\item 'FECPAGOAMP'\n",
       "\\item 'ESTADO\\_FINAL'\n",
       "\\item 'COBERTURA\\_FINAL'\n",
       "\\end{enumerate*}\n"
      ],
      "text/markdown": [
       "1. 'FECHASIN'\n",
       "2. 'VLRPRIMAPAG'\n",
       "3. 'VLRPRISUSCR'\n",
       "4. 'VLRASEGU'\n",
       "5. 'VLRASEGU_ORIG'\n",
       "6. 'VLRPAGADO.'\n",
       "7. 'VLRSININCUR'\n",
       "8. 'VLRDEDUCIBLE'\n",
       "9. 'VLRRECOBRO'\n",
       "10. 'VLRRSVACONSTIAMP'\n",
       "11. 'VLRRSVAPAGAMP'\n",
       "12. 'FECPAGOAMP'\n",
       "13. 'ESTADO_FINAL'\n",
       "14. 'COBERTURA_FINAL'\n",
       "\n",
       "\n"
      ],
      "text/plain": [
       " [1] \"FECHASIN\"         \"VLRPRIMAPAG\"      \"VLRPRISUSCR\"      \"VLRASEGU\"        \n",
       " [5] \"VLRASEGU_ORIG\"    \"VLRPAGADO.\"       \"VLRSININCUR\"      \"VLRDEDUCIBLE\"    \n",
       " [9] \"VLRRECOBRO\"       \"VLRRSVACONSTIAMP\" \"VLRRSVAPAGAMP\"    \"FECPAGOAMP\"      \n",
       "[13] \"ESTADO_FINAL\"     \"COBERTURA_FINAL\" "
      ]
     },
     "metadata": {},
     "output_type": "display_data"
    }
   ],
   "source": [
    "# Ver nombres actuales del dataframe Siniestros\n",
    "names(Siniestros)"
   ]
  },
  {
   "cell_type": "code",
   "execution_count": null,
   "id": "ea4afd46",
   "metadata": {
    "vscode": {
     "languageId": "r"
    }
   },
   "outputs": [],
   "source": [
    "# Método directo para renombrar columnas\n",
    "names(Siniestros) <- c(\n",
    "  \"Fecha_siniestro\",\n",
    "  \"Prima_efectivamente_pagada_hasta_fecha_siniestro\",\n",
    "  \"Prima_suscrita_incluida_cobertura_responsabilidad_civil\",\n",
    "  \"Asegurado_otras_coberturas_distintas_responsabilidad_civil\",\n",
    "  \"Asegurado_original\",\n",
    "  \"Efectivamente_pagado_por_siniestro\",\n",
    "  \"Siniestro_incurrido\",\n",
    "  \"Deducible\",\n",
    "  \"Recobro_obtenido\",\n",
    "  \"Reserva_constituida_para_amparo\",\n",
    "  \"Reserva_pagada_para_amparo\",\n",
    "  \"Fecha_pagbho_amparo\",\n",
    "  \"Estado_final_siniestro\",\n",
    "  \"Cobertura_final_aplicada\"\n",
    ")"
   ]
  },
  {
   "cell_type": "code",
   "execution_count": 30,
   "id": "01f005ee",
   "metadata": {
    "vscode": {
     "languageId": "r"
    }
   },
   "outputs": [
    {
     "data": {
      "text/html": [
       "<style>\n",
       ".list-inline {list-style: none; margin:0; padding: 0}\n",
       ".list-inline>li {display: inline-block}\n",
       ".list-inline>li:not(:last-child)::after {content: \"\\00b7\"; padding: 0 .5ex}\n",
       "</style>\n",
       "<ol class=list-inline><li>'PTH'</li><li>'PPD'</li><li>'RC BIENES'</li><li>'PPH'</li><li>'RC PERS'</li></ol>\n"
      ],
      "text/latex": [
       "\\begin{enumerate*}\n",
       "\\item 'PTH'\n",
       "\\item 'PPD'\n",
       "\\item 'RC BIENES'\n",
       "\\item 'PPH'\n",
       "\\item 'RC PERS'\n",
       "\\end{enumerate*}\n"
      ],
      "text/markdown": [
       "1. 'PTH'\n",
       "2. 'PPD'\n",
       "3. 'RC BIENES'\n",
       "4. 'PPH'\n",
       "5. 'RC PERS'\n",
       "\n",
       "\n"
      ],
      "text/plain": [
       "[1] \"PTH\"       \"PPD\"       \"RC BIENES\" \"PPH\"       \"RC PERS\"  "
      ]
     },
     "metadata": {},
     "output_type": "display_data"
    }
   ],
   "source": [
    "unique(Siniestros$Cobertura_final_aplicada)"
   ]
  },
  {
   "cell_type": "code",
   "execution_count": 31,
   "id": "058c22d1",
   "metadata": {
    "vscode": {
     "languageId": "r"
    }
   },
   "outputs": [],
   "source": [
    "# Cambiar los niveles de la columna Cobertura_final_aplicada\n",
    "Siniestros$Cobertura_final_aplicada <- factor(Siniestros$Cobertura_final_aplicada, \n",
    "                                           levels = c(\"PTH\", \"PPD\", \"RC BIENES\", \"PPH\", \"RC PERS\"),\n",
    "                                           labels = c(\"Perdida_total_hurto\", \n",
    "                                                     \"Perdida_parcial_danos\",\n",
    "                                                     \"Responsabilidad_civil_bienes\",\n",
    "                                                     \"Perdida_parcial_hurto\",\n",
    "                                                     \"Responsabilidad_civil_personas\"))"
   ]
  },
  {
   "cell_type": "code",
   "execution_count": 35,
   "id": "5fec080d",
   "metadata": {
    "vscode": {
     "languageId": "r"
    }
   },
   "outputs": [
    {
     "data": {
      "text/html": [
       "<style>\n",
       ".list-inline {list-style: none; margin:0; padding: 0}\n",
       ".list-inline>li {display: inline-block}\n",
       ".list-inline>li:not(:last-child)::after {content: \"\\00b7\"; padding: 0 .5ex}\n",
       "</style>\n",
       "<ol class=list-inline><li>'Perdida_total_hurto'</li><li>'Perdida_parcial_danos'</li><li>'Responsabilidad_civil_bienes'</li><li>'Perdida_parcial_hurto'</li><li>'Responsabilidad_civil_personas'</li></ol>\n"
      ],
      "text/latex": [
       "\\begin{enumerate*}\n",
       "\\item 'Perdida\\_total\\_hurto'\n",
       "\\item 'Perdida\\_parcial\\_danos'\n",
       "\\item 'Responsabilidad\\_civil\\_bienes'\n",
       "\\item 'Perdida\\_parcial\\_hurto'\n",
       "\\item 'Responsabilidad\\_civil\\_personas'\n",
       "\\end{enumerate*}\n"
      ],
      "text/markdown": [
       "1. 'Perdida_total_hurto'\n",
       "2. 'Perdida_parcial_danos'\n",
       "3. 'Responsabilidad_civil_bienes'\n",
       "4. 'Perdida_parcial_hurto'\n",
       "5. 'Responsabilidad_civil_personas'\n",
       "\n",
       "\n"
      ],
      "text/plain": [
       "[1] \"Perdida_total_hurto\"            \"Perdida_parcial_danos\"         \n",
       "[3] \"Responsabilidad_civil_bienes\"   \"Perdida_parcial_hurto\"         \n",
       "[5] \"Responsabilidad_civil_personas\""
      ]
     },
     "metadata": {},
     "output_type": "display_data"
    }
   ],
   "source": [
    "# Verificar los cambios\n",
    "levels(Siniestros$Cobertura_final_aplicada)"
   ]
  },
  {
   "cell_type": "code",
   "execution_count": 33,
   "id": "77865f59",
   "metadata": {
    "vscode": {
     "languageId": "r"
    }
   },
   "outputs": [
    {
     "data": {
      "text/html": [
       "<table class=\"dataframe\">\n",
       "<caption>A tibble: 6 × 14</caption>\n",
       "<thead>\n",
       "\t<tr><th scope=col>Fecha_siniestro</th><th scope=col>Prima_efectivamente_pagada_hasta_fecha_siniestro</th><th scope=col>Prima_suscrita_incluida_cobertura_responsabilidad_civil</th><th scope=col>Asegurado_otras_coberturas_distintas_responsabilidad_civil</th><th scope=col>Asegurado_original</th><th scope=col>Efectivamente_pagado_por_siniestro</th><th scope=col>Siniestro_incurrido</th><th scope=col>Deducible</th><th scope=col>Recobro_obtenido</th><th scope=col>Reserva_constituida_para_amparo</th><th scope=col>Reserva_pagada_para_amparo</th><th scope=col>Fecha_pago_amparo</th><th scope=col>Estado_final_siniestro</th><th scope=col>Cobertura_final_aplicada</th></tr>\n",
       "\t<tr><th scope=col>&lt;dttm&gt;</th><th scope=col>&lt;dbl&gt;</th><th scope=col>&lt;dbl&gt;</th><th scope=col>&lt;dbl&gt;</th><th scope=col>&lt;dbl&gt;</th><th scope=col>&lt;dbl&gt;</th><th scope=col>&lt;dbl&gt;</th><th scope=col>&lt;dbl&gt;</th><th scope=col>&lt;dbl&gt;</th><th scope=col>&lt;dbl&gt;</th><th scope=col>&lt;dbl&gt;</th><th scope=col>&lt;dbl&gt;</th><th scope=col>&lt;chr&gt;</th><th scope=col>&lt;fct&gt;</th></tr>\n",
       "</thead>\n",
       "<tbody>\n",
       "\t<tr><td>2017-01-01</td><td> 300000</td><td>  300000</td><td>4.350e+06</td><td>4.350e+06</td><td>      0</td><td>3262500</td><td>870000</td><td>      0</td><td>4.350e+06</td><td>3480000</td><td>20171220</td><td>Pagado </td><td>Perdida_total_hurto  </td></tr>\n",
       "\t<tr><td>2017-01-01</td><td>5543164</td><td>16639492</td><td>8.400e+07</td><td>8.400e+07</td><td>4601532</td><td>4601532</td><td>737717</td><td>      0</td><td>8.400e+07</td><td>      0</td><td>20170215</td><td>Pagado </td><td>Perdida_parcial_danos</td></tr>\n",
       "\t<tr><td>2017-01-01</td><td>1072019</td><td> 1072019</td><td>5.255e+07</td><td>5.255e+07</td><td>3375620</td><td>3375620</td><td>737717</td><td> 375909</td><td>5.255e+07</td><td>      0</td><td>20170131</td><td>Pagado </td><td>Perdida_parcial_danos</td></tr>\n",
       "\t<tr><td>2017-01-01</td><td> 958821</td><td>  958821</td><td>3.449e+07</td><td>3.449e+07</td><td>3600357</td><td>3600357</td><td>737717</td><td>      0</td><td>3.449e+07</td><td>      0</td><td>20170131</td><td>Pagado </td><td>Perdida_parcial_danos</td></tr>\n",
       "\t<tr><td>2017-01-01</td><td> 714176</td><td> 3398721</td><td>2.000e+09</td><td>2.000e+09</td><td>      0</td><td>2175223</td><td>     0</td><td>1241379</td><td>2.000e+09</td><td>2175223</td><td>      NA</td><td>Avisado</td><td>Perdida_parcial_danos</td></tr>\n",
       "\t<tr><td>2017-01-01</td><td>1681845</td><td> 5193649</td><td>1.500e+09</td><td>1.500e+09</td><td>1569899</td><td>1569899</td><td>737717</td><td>      0</td><td>1.500e+09</td><td>      0</td><td>20170213</td><td>Pagado </td><td>Perdida_parcial_danos</td></tr>\n",
       "</tbody>\n",
       "</table>\n"
      ],
      "text/latex": [
       "A tibble: 6 × 14\n",
       "\\begin{tabular}{llllllllllllll}\n",
       " Fecha\\_siniestro & Prima\\_efectivamente\\_pagada\\_hasta\\_fecha\\_siniestro & Prima\\_suscrita\\_incluida\\_cobertura\\_responsabilidad\\_civil & Asegurado\\_otras\\_coberturas\\_distintas\\_responsabilidad\\_civil & Asegurado\\_original & Efectivamente\\_pagado\\_por\\_siniestro & Siniestro\\_incurrido & Deducible & Recobro\\_obtenido & Reserva\\_constituida\\_para\\_amparo & Reserva\\_pagada\\_para\\_amparo & Fecha\\_pago\\_amparo & Estado\\_final\\_siniestro & Cobertura\\_final\\_aplicada\\\\\n",
       " <dttm> & <dbl> & <dbl> & <dbl> & <dbl> & <dbl> & <dbl> & <dbl> & <dbl> & <dbl> & <dbl> & <dbl> & <chr> & <fct>\\\\\n",
       "\\hline\n",
       "\t 2017-01-01 &  300000 &   300000 & 4.350e+06 & 4.350e+06 &       0 & 3262500 & 870000 &       0 & 4.350e+06 & 3480000 & 20171220 & Pagado  & Perdida\\_total\\_hurto  \\\\\n",
       "\t 2017-01-01 & 5543164 & 16639492 & 8.400e+07 & 8.400e+07 & 4601532 & 4601532 & 737717 &       0 & 8.400e+07 &       0 & 20170215 & Pagado  & Perdida\\_parcial\\_danos\\\\\n",
       "\t 2017-01-01 & 1072019 &  1072019 & 5.255e+07 & 5.255e+07 & 3375620 & 3375620 & 737717 &  375909 & 5.255e+07 &       0 & 20170131 & Pagado  & Perdida\\_parcial\\_danos\\\\\n",
       "\t 2017-01-01 &  958821 &   958821 & 3.449e+07 & 3.449e+07 & 3600357 & 3600357 & 737717 &       0 & 3.449e+07 &       0 & 20170131 & Pagado  & Perdida\\_parcial\\_danos\\\\\n",
       "\t 2017-01-01 &  714176 &  3398721 & 2.000e+09 & 2.000e+09 &       0 & 2175223 &      0 & 1241379 & 2.000e+09 & 2175223 &       NA & Avisado & Perdida\\_parcial\\_danos\\\\\n",
       "\t 2017-01-01 & 1681845 &  5193649 & 1.500e+09 & 1.500e+09 & 1569899 & 1569899 & 737717 &       0 & 1.500e+09 &       0 & 20170213 & Pagado  & Perdida\\_parcial\\_danos\\\\\n",
       "\\end{tabular}\n"
      ],
      "text/markdown": [
       "\n",
       "A tibble: 6 × 14\n",
       "\n",
       "| Fecha_siniestro &lt;dttm&gt; | Prima_efectivamente_pagada_hasta_fecha_siniestro &lt;dbl&gt; | Prima_suscrita_incluida_cobertura_responsabilidad_civil &lt;dbl&gt; | Asegurado_otras_coberturas_distintas_responsabilidad_civil &lt;dbl&gt; | Asegurado_original &lt;dbl&gt; | Efectivamente_pagado_por_siniestro &lt;dbl&gt; | Siniestro_incurrido &lt;dbl&gt; | Deducible &lt;dbl&gt; | Recobro_obtenido &lt;dbl&gt; | Reserva_constituida_para_amparo &lt;dbl&gt; | Reserva_pagada_para_amparo &lt;dbl&gt; | Fecha_pago_amparo &lt;dbl&gt; | Estado_final_siniestro &lt;chr&gt; | Cobertura_final_aplicada &lt;fct&gt; |\n",
       "|---|---|---|---|---|---|---|---|---|---|---|---|---|---|\n",
       "| 2017-01-01 |  300000 |   300000 | 4.350e+06 | 4.350e+06 |       0 | 3262500 | 870000 |       0 | 4.350e+06 | 3480000 | 20171220 | Pagado  | Perdida_total_hurto   |\n",
       "| 2017-01-01 | 5543164 | 16639492 | 8.400e+07 | 8.400e+07 | 4601532 | 4601532 | 737717 |       0 | 8.400e+07 |       0 | 20170215 | Pagado  | Perdida_parcial_danos |\n",
       "| 2017-01-01 | 1072019 |  1072019 | 5.255e+07 | 5.255e+07 | 3375620 | 3375620 | 737717 |  375909 | 5.255e+07 |       0 | 20170131 | Pagado  | Perdida_parcial_danos |\n",
       "| 2017-01-01 |  958821 |   958821 | 3.449e+07 | 3.449e+07 | 3600357 | 3600357 | 737717 |       0 | 3.449e+07 |       0 | 20170131 | Pagado  | Perdida_parcial_danos |\n",
       "| 2017-01-01 |  714176 |  3398721 | 2.000e+09 | 2.000e+09 |       0 | 2175223 |      0 | 1241379 | 2.000e+09 | 2175223 |       NA | Avisado | Perdida_parcial_danos |\n",
       "| 2017-01-01 | 1681845 |  5193649 | 1.500e+09 | 1.500e+09 | 1569899 | 1569899 | 737717 |       0 | 1.500e+09 |       0 | 20170213 | Pagado  | Perdida_parcial_danos |\n",
       "\n"
      ],
      "text/plain": [
       "  Fecha_siniestro Prima_efectivamente_pagada_hasta_fecha_siniestro\n",
       "1 2017-01-01       300000                                         \n",
       "2 2017-01-01      5543164                                         \n",
       "3 2017-01-01      1072019                                         \n",
       "4 2017-01-01       958821                                         \n",
       "5 2017-01-01       714176                                         \n",
       "6 2017-01-01      1681845                                         \n",
       "  Prima_suscrita_incluida_cobertura_responsabilidad_civil\n",
       "1   300000                                               \n",
       "2 16639492                                               \n",
       "3  1072019                                               \n",
       "4   958821                                               \n",
       "5  3398721                                               \n",
       "6  5193649                                               \n",
       "  Asegurado_otras_coberturas_distintas_responsabilidad_civil Asegurado_original\n",
       "1 4.350e+06                                                  4.350e+06         \n",
       "2 8.400e+07                                                  8.400e+07         \n",
       "3 5.255e+07                                                  5.255e+07         \n",
       "4 3.449e+07                                                  3.449e+07         \n",
       "5 2.000e+09                                                  2.000e+09         \n",
       "6 1.500e+09                                                  1.500e+09         \n",
       "  Efectivamente_pagado_por_siniestro Siniestro_incurrido Deducible\n",
       "1       0                            3262500             870000   \n",
       "2 4601532                            4601532             737717   \n",
       "3 3375620                            3375620             737717   \n",
       "4 3600357                            3600357             737717   \n",
       "5       0                            2175223                  0   \n",
       "6 1569899                            1569899             737717   \n",
       "  Recobro_obtenido Reserva_constituida_para_amparo Reserva_pagada_para_amparo\n",
       "1       0          4.350e+06                       3480000                   \n",
       "2       0          8.400e+07                             0                   \n",
       "3  375909          5.255e+07                             0                   \n",
       "4       0          3.449e+07                             0                   \n",
       "5 1241379          2.000e+09                       2175223                   \n",
       "6       0          1.500e+09                             0                   \n",
       "  Fecha_pago_amparo Estado_final_siniestro Cobertura_final_aplicada\n",
       "1 20171220          Pagado                 Perdida_total_hurto     \n",
       "2 20170215          Pagado                 Perdida_parcial_danos   \n",
       "3 20170131          Pagado                 Perdida_parcial_danos   \n",
       "4 20170131          Pagado                 Perdida_parcial_danos   \n",
       "5       NA          Avisado                Perdida_parcial_danos   \n",
       "6 20170213          Pagado                 Perdida_parcial_danos   "
      ]
     },
     "metadata": {},
     "output_type": "display_data"
    }
   ],
   "source": [
    "head(Siniestros)"
   ]
  },
  {
   "cell_type": "code",
   "execution_count": 34,
   "id": "lcq3co8cdr",
   "metadata": {
    "vscode": {
     "languageId": "r"
    }
   },
   "outputs": [
    {
     "name": "stdout",
     "output_type": "stream",
     "text": [
      "[1] \"Tipos de cobertura únicos:\"\n",
      "[1] Perdida_total_hurto            Perdida_parcial_danos         \n",
      "[3] Responsabilidad_civil_bienes   Perdida_parcial_hurto         \n",
      "[5] Responsabilidad_civil_personas\n",
      "5 Levels: Perdida_total_hurto ... Responsabilidad_civil_personas\n"
     ]
    }
   ],
   "source": [
    "# Primero corregir el problema de variables - usar Siniestros consistentemente\n",
    "# Crear columnas de fecha\n",
    "Siniestros$Año <- format(Siniestros$Fecha_siniestro, \"%Y\")\n",
    "Siniestros$Mes <- format(Siniestros$Fecha_siniestro, \"%m\")\n",
    "Siniestros$Día <- format(Siniestros$Fecha_siniestro, \"%d\")\n",
    "\n",
    "# Verificar los tipos de cobertura únicos\n",
    "print(\"Tipos de cobertura únicos:\")\n",
    "print(unique(Siniestros$Cobertura_final_aplicada))"
   ]
  },
  {
   "cell_type": "code",
   "execution_count": 36,
   "id": "x35jsnjm02",
   "metadata": {
    "vscode": {
     "languageId": "r"
    }
   },
   "outputs": [
    {
     "name": "stdout",
     "output_type": "stream",
     "text": [
      "[1] \"Tabla 1: Cantidad de siniestros por fecha y tipo de cobertura\"\n"
     ]
    },
    {
     "data": {
      "text/html": [
       "<table class=\"dataframe\">\n",
       "<caption>A tibble: 6 × 8</caption>\n",
       "<thead>\n",
       "\t<tr><th scope=col>Año</th><th scope=col>Mes</th><th scope=col>Día</th><th scope=col>Perdida_total_hurto</th><th scope=col>Perdida_parcial_danos</th><th scope=col>Responsabilidad_civil_bienes</th><th scope=col>Perdida_parcial_hurto</th><th scope=col>Responsabilidad_civil_personas</th></tr>\n",
       "\t<tr><th scope=col>&lt;chr&gt;</th><th scope=col>&lt;chr&gt;</th><th scope=col>&lt;chr&gt;</th><th scope=col>&lt;int&gt;</th><th scope=col>&lt;int&gt;</th><th scope=col>&lt;int&gt;</th><th scope=col>&lt;int&gt;</th><th scope=col>&lt;int&gt;</th></tr>\n",
       "</thead>\n",
       "<tbody>\n",
       "\t<tr><td>2017</td><td>01</td><td>01</td><td>1</td><td>52</td><td> 2</td><td>0</td><td>0</td></tr>\n",
       "\t<tr><td>2017</td><td>01</td><td>02</td><td>0</td><td>59</td><td> 4</td><td>1</td><td>0</td></tr>\n",
       "\t<tr><td>2017</td><td>01</td><td>03</td><td>2</td><td>55</td><td> 9</td><td>7</td><td>0</td></tr>\n",
       "\t<tr><td>2017</td><td>01</td><td>04</td><td>0</td><td>33</td><td> 6</td><td>6</td><td>0</td></tr>\n",
       "\t<tr><td>2017</td><td>01</td><td>05</td><td>1</td><td>51</td><td>12</td><td>4</td><td>0</td></tr>\n",
       "\t<tr><td>2017</td><td>01</td><td>06</td><td>2</td><td>48</td><td> 8</td><td>2</td><td>0</td></tr>\n",
       "</tbody>\n",
       "</table>\n"
      ],
      "text/latex": [
       "A tibble: 6 × 8\n",
       "\\begin{tabular}{llllllll}\n",
       " Año & Mes & Día & Perdida\\_total\\_hurto & Perdida\\_parcial\\_danos & Responsabilidad\\_civil\\_bienes & Perdida\\_parcial\\_hurto & Responsabilidad\\_civil\\_personas\\\\\n",
       " <chr> & <chr> & <chr> & <int> & <int> & <int> & <int> & <int>\\\\\n",
       "\\hline\n",
       "\t 2017 & 01 & 01 & 1 & 52 &  2 & 0 & 0\\\\\n",
       "\t 2017 & 01 & 02 & 0 & 59 &  4 & 1 & 0\\\\\n",
       "\t 2017 & 01 & 03 & 2 & 55 &  9 & 7 & 0\\\\\n",
       "\t 2017 & 01 & 04 & 0 & 33 &  6 & 6 & 0\\\\\n",
       "\t 2017 & 01 & 05 & 1 & 51 & 12 & 4 & 0\\\\\n",
       "\t 2017 & 01 & 06 & 2 & 48 &  8 & 2 & 0\\\\\n",
       "\\end{tabular}\n"
      ],
      "text/markdown": [
       "\n",
       "A tibble: 6 × 8\n",
       "\n",
       "| Año &lt;chr&gt; | Mes &lt;chr&gt; | Día &lt;chr&gt; | Perdida_total_hurto &lt;int&gt; | Perdida_parcial_danos &lt;int&gt; | Responsabilidad_civil_bienes &lt;int&gt; | Perdida_parcial_hurto &lt;int&gt; | Responsabilidad_civil_personas &lt;int&gt; |\n",
       "|---|---|---|---|---|---|---|---|\n",
       "| 2017 | 01 | 01 | 1 | 52 |  2 | 0 | 0 |\n",
       "| 2017 | 01 | 02 | 0 | 59 |  4 | 1 | 0 |\n",
       "| 2017 | 01 | 03 | 2 | 55 |  9 | 7 | 0 |\n",
       "| 2017 | 01 | 04 | 0 | 33 |  6 | 6 | 0 |\n",
       "| 2017 | 01 | 05 | 1 | 51 | 12 | 4 | 0 |\n",
       "| 2017 | 01 | 06 | 2 | 48 |  8 | 2 | 0 |\n",
       "\n"
      ],
      "text/plain": [
       "  Año  Mes Día Perdida_total_hurto Perdida_parcial_danos\n",
       "1 2017 01  01  1                   52                   \n",
       "2 2017 01  02  0                   59                   \n",
       "3 2017 01  03  2                   55                   \n",
       "4 2017 01  04  0                   33                   \n",
       "5 2017 01  05  1                   51                   \n",
       "6 2017 01  06  2                   48                   \n",
       "  Responsabilidad_civil_bienes Perdida_parcial_hurto\n",
       "1  2                           0                    \n",
       "2  4                           1                    \n",
       "3  9                           7                    \n",
       "4  6                           6                    \n",
       "5 12                           4                    \n",
       "6  8                           2                    \n",
       "  Responsabilidad_civil_personas\n",
       "1 0                             \n",
       "2 0                             \n",
       "3 0                             \n",
       "4 0                             \n",
       "5 0                             \n",
       "6 0                             "
      ]
     },
     "metadata": {},
     "output_type": "display_data"
    }
   ],
   "source": [
    "# Tabla 1: Cantidad de siniestros por fecha y tipo de cobertura\n",
    "library(tidyr)\n",
    "\n",
    "tabla_cantidad <- Siniestros %>%\n",
    "  filter(!is.na(Cobertura_final_aplicada)) %>%  # Excluir NA\n",
    "  group_by(Año, Mes, Día, Cobertura_final_aplicada) %>%\n",
    "  summarise(Cantidad_siniestros = n(), .groups = 'drop') %>%\n",
    "  pivot_wider(names_from = Cobertura_final_aplicada, \n",
    "              values_from = Cantidad_siniestros, \n",
    "              values_fill = 0)\n",
    "\n",
    "print(\"Tabla 1: Cantidad de siniestros por fecha y tipo de cobertura\")\n",
    "head(tabla_cantidad)"
   ]
  },
  {
   "cell_type": "code",
   "execution_count": 37,
   "id": "nj51dv22lx",
   "metadata": {
    "vscode": {
     "languageId": "r"
    }
   },
   "outputs": [
    {
     "name": "stdout",
     "output_type": "stream",
     "text": [
      "[1] \"Tabla 2: Valor efectivamente pagado por fecha y tipo de cobertura\"\n"
     ]
    },
    {
     "data": {
      "text/html": [
       "<table class=\"dataframe\">\n",
       "<caption>A tibble: 6 × 8</caption>\n",
       "<thead>\n",
       "\t<tr><th scope=col>Año</th><th scope=col>Mes</th><th scope=col>Día</th><th scope=col>Perdida_total_hurto</th><th scope=col>Perdida_parcial_danos</th><th scope=col>Responsabilidad_civil_bienes</th><th scope=col>Perdida_parcial_hurto</th><th scope=col>Responsabilidad_civil_personas</th></tr>\n",
       "\t<tr><th scope=col>&lt;chr&gt;</th><th scope=col>&lt;chr&gt;</th><th scope=col>&lt;chr&gt;</th><th scope=col>&lt;dbl&gt;</th><th scope=col>&lt;dbl&gt;</th><th scope=col>&lt;dbl&gt;</th><th scope=col>&lt;dbl&gt;</th><th scope=col>&lt;dbl&gt;</th></tr>\n",
       "</thead>\n",
       "<tbody>\n",
       "\t<tr><td>2017</td><td>01</td><td>01</td><td>      0</td><td>133517846</td><td>  797543</td><td>      0</td><td>0</td></tr>\n",
       "\t<tr><td>2017</td><td>01</td><td>02</td><td>      0</td><td>169847277</td><td> 3368686</td><td>5264237</td><td>0</td></tr>\n",
       "\t<tr><td>2017</td><td>01</td><td>03</td><td>3562500</td><td>171924150</td><td> 8986920</td><td>6710874</td><td>0</td></tr>\n",
       "\t<tr><td>2017</td><td>01</td><td>04</td><td>      0</td><td> 72116936</td><td> 5534291</td><td>8304611</td><td>0</td></tr>\n",
       "\t<tr><td>2017</td><td>01</td><td>05</td><td>      0</td><td>163020188</td><td>18795563</td><td>8977343</td><td>0</td></tr>\n",
       "\t<tr><td>2017</td><td>01</td><td>06</td><td>3292500</td><td>129012714</td><td>11878226</td><td>1866013</td><td>0</td></tr>\n",
       "</tbody>\n",
       "</table>\n"
      ],
      "text/latex": [
       "A tibble: 6 × 8\n",
       "\\begin{tabular}{llllllll}\n",
       " Año & Mes & Día & Perdida\\_total\\_hurto & Perdida\\_parcial\\_danos & Responsabilidad\\_civil\\_bienes & Perdida\\_parcial\\_hurto & Responsabilidad\\_civil\\_personas\\\\\n",
       " <chr> & <chr> & <chr> & <dbl> & <dbl> & <dbl> & <dbl> & <dbl>\\\\\n",
       "\\hline\n",
       "\t 2017 & 01 & 01 &       0 & 133517846 &   797543 &       0 & 0\\\\\n",
       "\t 2017 & 01 & 02 &       0 & 169847277 &  3368686 & 5264237 & 0\\\\\n",
       "\t 2017 & 01 & 03 & 3562500 & 171924150 &  8986920 & 6710874 & 0\\\\\n",
       "\t 2017 & 01 & 04 &       0 &  72116936 &  5534291 & 8304611 & 0\\\\\n",
       "\t 2017 & 01 & 05 &       0 & 163020188 & 18795563 & 8977343 & 0\\\\\n",
       "\t 2017 & 01 & 06 & 3292500 & 129012714 & 11878226 & 1866013 & 0\\\\\n",
       "\\end{tabular}\n"
      ],
      "text/markdown": [
       "\n",
       "A tibble: 6 × 8\n",
       "\n",
       "| Año &lt;chr&gt; | Mes &lt;chr&gt; | Día &lt;chr&gt; | Perdida_total_hurto &lt;dbl&gt; | Perdida_parcial_danos &lt;dbl&gt; | Responsabilidad_civil_bienes &lt;dbl&gt; | Perdida_parcial_hurto &lt;dbl&gt; | Responsabilidad_civil_personas &lt;dbl&gt; |\n",
       "|---|---|---|---|---|---|---|---|\n",
       "| 2017 | 01 | 01 |       0 | 133517846 |   797543 |       0 | 0 |\n",
       "| 2017 | 01 | 02 |       0 | 169847277 |  3368686 | 5264237 | 0 |\n",
       "| 2017 | 01 | 03 | 3562500 | 171924150 |  8986920 | 6710874 | 0 |\n",
       "| 2017 | 01 | 04 |       0 |  72116936 |  5534291 | 8304611 | 0 |\n",
       "| 2017 | 01 | 05 |       0 | 163020188 | 18795563 | 8977343 | 0 |\n",
       "| 2017 | 01 | 06 | 3292500 | 129012714 | 11878226 | 1866013 | 0 |\n",
       "\n"
      ],
      "text/plain": [
       "  Año  Mes Día Perdida_total_hurto Perdida_parcial_danos\n",
       "1 2017 01  01        0             133517846            \n",
       "2 2017 01  02        0             169847277            \n",
       "3 2017 01  03  3562500             171924150            \n",
       "4 2017 01  04        0              72116936            \n",
       "5 2017 01  05        0             163020188            \n",
       "6 2017 01  06  3292500             129012714            \n",
       "  Responsabilidad_civil_bienes Perdida_parcial_hurto\n",
       "1   797543                           0              \n",
       "2  3368686                     5264237              \n",
       "3  8986920                     6710874              \n",
       "4  5534291                     8304611              \n",
       "5 18795563                     8977343              \n",
       "6 11878226                     1866013              \n",
       "  Responsabilidad_civil_personas\n",
       "1 0                             \n",
       "2 0                             \n",
       "3 0                             \n",
       "4 0                             \n",
       "5 0                             \n",
       "6 0                             "
      ]
     },
     "metadata": {},
     "output_type": "display_data"
    }
   ],
   "source": [
    "# Tabla 2: Valor efectivamente pagado por fecha y tipo de cobertura\n",
    "tabla_valor <- Siniestros %>%\n",
    "  filter(!is.na(Cobertura_final_aplicada)) %>%  # Excluir NA\n",
    "  group_by(Año, Mes, Día, Cobertura_final_aplicada) %>%\n",
    "  summarise(Valor_pagado = sum(Efectivamente_pagado_por_siniestro, na.rm = TRUE), .groups = 'drop') %>%\n",
    "  pivot_wider(names_from = Cobertura_final_aplicada, \n",
    "              values_from = Valor_pagado, \n",
    "              values_fill = 0)\n",
    "\n",
    "print(\"Tabla 2: Valor efectivamente pagado por fecha y tipo de cobertura\")\n",
    "head(tabla_valor)"
   ]
  },
  {
   "cell_type": "code",
   "execution_count": 38,
   "id": "uze5t5ziai",
   "metadata": {
    "vscode": {
     "languageId": "r"
    }
   },
   "outputs": [
    {
     "name": "stdout",
     "output_type": "stream",
     "text": [
      "[1] \"Dimensiones tabla cantidad: 396 x 8\"\n",
      "[1] \"Dimensiones tabla valor: 396 x 8\"\n",
      "[1] \"\\nResumen tabla cantidad:\"\n"
     ]
    },
    {
     "data": {
      "text/plain": [
       "     Año                Mes                Día            Perdida_total_hurto\n",
       " Length:396         Length:396         Length:396         Min.   :0.00       \n",
       " Class :character   Class :character   Class :character   1st Qu.:1.00       \n",
       " Mode  :character   Mode  :character   Mode  :character   Median :1.00       \n",
       "                                                          Mean   :1.71       \n",
       "                                                          3rd Qu.:3.00       \n",
       "                                                          Max.   :7.00       \n",
       " Perdida_parcial_danos Responsabilidad_civil_bienes Perdida_parcial_hurto\n",
       " Min.   :24.00         Min.   : 1.000               Min.   :0.000        \n",
       " 1st Qu.:40.00         1st Qu.: 6.000               1st Qu.:1.000        \n",
       " Median :45.00         Median : 8.000               Median :2.000        \n",
       " Mean   :45.52         Mean   : 8.553               Mean   :2.101        \n",
       " 3rd Qu.:51.00         3rd Qu.:11.000               3rd Qu.:3.000        \n",
       " Max.   :74.00         Max.   :19.000               Max.   :7.000        \n",
       " Responsabilidad_civil_personas\n",
       " Min.   :0.000                 \n",
       " 1st Qu.:0.000                 \n",
       " Median :1.000                 \n",
       " Mean   :1.111                 \n",
       " 3rd Qu.:2.000                 \n",
       " Max.   :7.000                 "
      ]
     },
     "metadata": {},
     "output_type": "display_data"
    },
    {
     "name": "stdout",
     "output_type": "stream",
     "text": [
      "[1] \"\\nResumen tabla valor:\"\n"
     ]
    },
    {
     "data": {
      "text/plain": [
       "     Año                Mes                Día            Perdida_total_hurto\n",
       " Length:396         Length:396         Length:396         Min.   :        0  \n",
       " Class :character   Class :character   Class :character   1st Qu.:        0  \n",
       " Mode  :character   Mode  :character   Mode  :character   Median :  9896861  \n",
       "                                                          Mean   : 31005042  \n",
       "                                                          3rd Qu.: 47476943  \n",
       "                                                          Max.   :315926592  \n",
       " Perdida_parcial_danos Responsabilidad_civil_bienes Perdida_parcial_hurto\n",
       " Min.   : 72116936     Min.   :       0             Min.   :       0     \n",
       " 1st Qu.:124432916     1st Qu.: 6781886             1st Qu.:  243151     \n",
       " Median :153200075     Median :10929142             Median : 2216796     \n",
       " Mean   :158797212     Mean   :12442331             Mean   : 3522130     \n",
       " 3rd Qu.:185072905     3rd Qu.:16439194             3rd Qu.: 5161655     \n",
       " Max.   :420952384     Max.   :64028713             Max.   :31651742     \n",
       " Responsabilidad_civil_personas\n",
       " Min.   :        0             \n",
       " 1st Qu.:        0             \n",
       " Median :    75000             \n",
       " Mean   :  6390650             \n",
       " 3rd Qu.:  2606070             \n",
       " Max.   :604287411             "
      ]
     },
     "metadata": {},
     "output_type": "display_data"
    }
   ],
   "source": [
    "# Verificar las dimensiones de las tablas\n",
    "print(paste(\"Dimensiones tabla cantidad:\", dim(tabla_cantidad)[1], \"x\", dim(tabla_cantidad)[2]))\n",
    "print(paste(\"Dimensiones tabla valor:\", dim(tabla_valor)[1], \"x\", dim(tabla_valor)[2]))\n",
    "\n",
    "# Mostrar resumen de las tablas\n",
    "print(\"\\nResumen tabla cantidad:\")\n",
    "summary(tabla_cantidad)\n",
    "\n",
    "print(\"\\nResumen tabla valor:\")\n",
    "summary(tabla_valor)"
   ]
  },
  {
   "cell_type": "code",
   "execution_count": 39,
   "id": "zl4ipx5s01d",
   "metadata": {
    "vscode": {
     "languageId": "r"
    }
   },
   "outputs": [
    {
     "name": "stdout",
     "output_type": "stream",
     "text": [
      "[1] \"Tablas guardadas exitosamente:\"\n",
      "[1] \"- tabla_cantidad.csv en data/processed/\"\n",
      "[1] \"- tabla_valor.csv en data/processed/\"\n"
     ]
    }
   ],
   "source": [
    "# Guardar las tablas pivoteadas como archivos CSV\n",
    "write.csv(tabla_cantidad, \"../data/processed/tabla_cantidad.csv\", row.names = FALSE)\n",
    "write.csv(tabla_valor, \"../data/processed/tabla_valor.csv\", row.names = FALSE)\n",
    "\n",
    "print(\"Tablas guardadas exitosamente:\")\n",
    "print(\"- tabla_cantidad.csv en data/processed/\")\n",
    "print(\"- tabla_valor.csv en data/processed/\")"
   ]
  }
 ],
 "metadata": {
  "language_info": {
   "name": "python"
  }
 },
 "nbformat": 4,
 "nbformat_minor": 5
}
