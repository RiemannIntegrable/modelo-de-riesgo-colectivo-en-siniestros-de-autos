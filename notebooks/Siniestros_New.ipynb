{
 "cells": [
  {
   "cell_type": "markdown",
   "id": "9f7e05c6",
   "metadata": {},
   "source": [
    "<div align = \"center\">\n",
    "\n",
    "# **Exploración de datos (Base siniestros)**\n",
    "\n",
    "</div>"
   ]
  },
  {
   "cell_type": "markdown",
   "id": "69896923",
   "metadata": {},
   "source": [
    "## Librerias"
   ]
  },
  {
   "cell_type": "code",
   "execution_count": 17,
   "id": "e81c2fb3",
   "metadata": {
    "vscode": {
     "languageId": "r"
    }
   },
   "outputs": [],
   "source": [
    "library(readxl)\n",
    "library(dplyr)\n",
    "library(tidyr)"
   ]
  },
  {
   "cell_type": "markdown",
   "id": "1f42221f",
   "metadata": {},
   "source": [
    "## Data"
   ]
  },
  {
   "cell_type": "code",
   "execution_count": 18,
   "id": "77de3905",
   "metadata": {
    "vscode": {
     "languageId": "r"
    }
   },
   "outputs": [],
   "source": [
    "Siniestros <- read_excel(\"../data/input/Siniestros_Hist.xlsx\")"
   ]
  },
  {
   "cell_type": "code",
   "execution_count": 19,
   "id": "57243604",
   "metadata": {
    "vscode": {
     "languageId": "r"
    }
   },
   "outputs": [
    {
     "data": {
      "text/html": [
       "<style>\n",
       ".list-inline {list-style: none; margin:0; padding: 0}\n",
       ".list-inline>li {display: inline-block}\n",
       ".list-inline>li:not(:last-child)::after {content: \"\\00b7\"; padding: 0 .5ex}\n",
       "</style>\n",
       "<ol class=list-inline><li>'FECHASIN'</li><li>'VLRPRIMAPAG'</li><li>'VLRPRISUSCR'</li><li>'VLRASEGU'</li><li>'VLRASEGU_ORIG'</li><li>'VLRPAGADO.'</li><li>'VLRSININCUR'</li><li>'VLRDEDUCIBLE'</li><li>'VLRRECOBRO'</li><li>'VLRRSVACONSTIAMP'</li><li>'VLRRSVAPAGAMP'</li><li>'FECPAGOAMP'</li><li>'ESTADO_FINAL'</li><li>'COBERTURA_FINAL'</li></ol>\n"
      ],
      "text/latex": [
       "\\begin{enumerate*}\n",
       "\\item 'FECHASIN'\n",
       "\\item 'VLRPRIMAPAG'\n",
       "\\item 'VLRPRISUSCR'\n",
       "\\item 'VLRASEGU'\n",
       "\\item 'VLRASEGU\\_ORIG'\n",
       "\\item 'VLRPAGADO.'\n",
       "\\item 'VLRSININCUR'\n",
       "\\item 'VLRDEDUCIBLE'\n",
       "\\item 'VLRRECOBRO'\n",
       "\\item 'VLRRSVACONSTIAMP'\n",
       "\\item 'VLRRSVAPAGAMP'\n",
       "\\item 'FECPAGOAMP'\n",
       "\\item 'ESTADO\\_FINAL'\n",
       "\\item 'COBERTURA\\_FINAL'\n",
       "\\end{enumerate*}\n"
      ],
      "text/markdown": [
       "1. 'FECHASIN'\n",
       "2. 'VLRPRIMAPAG'\n",
       "3. 'VLRPRISUSCR'\n",
       "4. 'VLRASEGU'\n",
       "5. 'VLRASEGU_ORIG'\n",
       "6. 'VLRPAGADO.'\n",
       "7. 'VLRSININCUR'\n",
       "8. 'VLRDEDUCIBLE'\n",
       "9. 'VLRRECOBRO'\n",
       "10. 'VLRRSVACONSTIAMP'\n",
       "11. 'VLRRSVAPAGAMP'\n",
       "12. 'FECPAGOAMP'\n",
       "13. 'ESTADO_FINAL'\n",
       "14. 'COBERTURA_FINAL'\n",
       "\n",
       "\n"
      ],
      "text/plain": [
       " [1] \"FECHASIN\"         \"VLRPRIMAPAG\"      \"VLRPRISUSCR\"      \"VLRASEGU\"        \n",
       " [5] \"VLRASEGU_ORIG\"    \"VLRPAGADO.\"       \"VLRSININCUR\"      \"VLRDEDUCIBLE\"    \n",
       " [9] \"VLRRECOBRO\"       \"VLRRSVACONSTIAMP\" \"VLRRSVAPAGAMP\"    \"FECPAGOAMP\"      \n",
       "[13] \"ESTADO_FINAL\"     \"COBERTURA_FINAL\" "
      ]
     },
     "metadata": {},
     "output_type": "display_data"
    }
   ],
   "source": [
    "# Ver nombres actuales del dataframe Siniestros\n",
    "names(Siniestros)"
   ]
  },
  {
   "cell_type": "code",
   "execution_count": 20,
   "id": "ea4afd46",
   "metadata": {
    "vscode": {
     "languageId": "r"
    }
   },
   "outputs": [],
   "source": [
    "# Método directo para renombrar columnas\n",
    "names(Siniestros) <- c(\n",
    "  \"Fecha_siniestro\",\n",
    "  \"Prima_efectivamente_pagada_hasta_fecha_siniestro\",\n",
    "  \"Prima_suscrita_incluida_cobertura_responsabilidad_civil\",\n",
    "  \"Asegurado_otras_coberturas_distintas_responsabilidad_civil\",\n",
    "  \"Asegurado_original\",\n",
    "  \"Efectivamente_pagado_por_siniestro\",\n",
    "  \"Siniestro_incurrido\",\n",
    "  \"Deducible\",\n",
    "  \"Recobro_obtenido\",\n",
    "  \"Reserva_constituida_para_amparo\",\n",
    "  \"Reserva_pagada_para_amparo\",\n",
    "  \"Fecha_pago_amparo\",\n",
    "  \"Estado_final_siniestro\",\n",
    "  \"Cobertura_final_aplicada\"\n",
    ")"
   ]
  },
  {
   "cell_type": "code",
   "execution_count": 21,
   "id": "cb32bf6d",
   "metadata": {
    "vscode": {
     "languageId": "r"
    }
   },
   "outputs": [
    {
     "data": {
      "text/html": [
       "<table class=\"dataframe\">\n",
       "<caption>A tibble: 6 × 14</caption>\n",
       "<thead>\n",
       "\t<tr><th scope=col>Fecha_siniestro</th><th scope=col>Prima_efectivamente_pagada_hasta_fecha_siniestro</th><th scope=col>Prima_suscrita_incluida_cobertura_responsabilidad_civil</th><th scope=col>Asegurado_otras_coberturas_distintas_responsabilidad_civil</th><th scope=col>Asegurado_original</th><th scope=col>Efectivamente_pagado_por_siniestro</th><th scope=col>Siniestro_incurrido</th><th scope=col>Deducible</th><th scope=col>Recobro_obtenido</th><th scope=col>Reserva_constituida_para_amparo</th><th scope=col>Reserva_pagada_para_amparo</th><th scope=col>Fecha_pago_amparo</th><th scope=col>Estado_final_siniestro</th><th scope=col>Cobertura_final_aplicada</th></tr>\n",
       "\t<tr><th scope=col>&lt;dttm&gt;</th><th scope=col>&lt;dbl&gt;</th><th scope=col>&lt;dbl&gt;</th><th scope=col>&lt;dbl&gt;</th><th scope=col>&lt;dbl&gt;</th><th scope=col>&lt;dbl&gt;</th><th scope=col>&lt;dbl&gt;</th><th scope=col>&lt;dbl&gt;</th><th scope=col>&lt;dbl&gt;</th><th scope=col>&lt;dbl&gt;</th><th scope=col>&lt;dbl&gt;</th><th scope=col>&lt;dbl&gt;</th><th scope=col>&lt;chr&gt;</th><th scope=col>&lt;chr&gt;</th></tr>\n",
       "</thead>\n",
       "<tbody>\n",
       "\t<tr><td>2017-01-01</td><td> 300000</td><td>  300000</td><td>4.350e+06</td><td>4.350e+06</td><td>      0</td><td>3262500</td><td>870000</td><td>      0</td><td>4.350e+06</td><td>3480000</td><td>20171220</td><td>Pagado </td><td>PTH</td></tr>\n",
       "\t<tr><td>2017-01-01</td><td>5543164</td><td>16639492</td><td>8.400e+07</td><td>8.400e+07</td><td>4601532</td><td>4601532</td><td>737717</td><td>      0</td><td>8.400e+07</td><td>      0</td><td>20170215</td><td>Pagado </td><td>PPD</td></tr>\n",
       "\t<tr><td>2017-01-01</td><td>1072019</td><td> 1072019</td><td>5.255e+07</td><td>5.255e+07</td><td>3375620</td><td>3375620</td><td>737717</td><td> 375909</td><td>5.255e+07</td><td>      0</td><td>20170131</td><td>Pagado </td><td>PPD</td></tr>\n",
       "\t<tr><td>2017-01-01</td><td> 958821</td><td>  958821</td><td>3.449e+07</td><td>3.449e+07</td><td>3600357</td><td>3600357</td><td>737717</td><td>      0</td><td>3.449e+07</td><td>      0</td><td>20170131</td><td>Pagado </td><td>PPD</td></tr>\n",
       "\t<tr><td>2017-01-01</td><td> 714176</td><td> 3398721</td><td>2.000e+09</td><td>2.000e+09</td><td>      0</td><td>2175223</td><td>     0</td><td>1241379</td><td>2.000e+09</td><td>2175223</td><td>      NA</td><td>Avisado</td><td>PPD</td></tr>\n",
       "\t<tr><td>2017-01-01</td><td>1681845</td><td> 5193649</td><td>1.500e+09</td><td>1.500e+09</td><td>1569899</td><td>1569899</td><td>737717</td><td>      0</td><td>1.500e+09</td><td>      0</td><td>20170213</td><td>Pagado </td><td>PPD</td></tr>\n",
       "</tbody>\n",
       "</table>\n"
      ],
      "text/latex": [
       "A tibble: 6 × 14\n",
       "\\begin{tabular}{llllllllllllll}\n",
       " Fecha\\_siniestro & Prima\\_efectivamente\\_pagada\\_hasta\\_fecha\\_siniestro & Prima\\_suscrita\\_incluida\\_cobertura\\_responsabilidad\\_civil & Asegurado\\_otras\\_coberturas\\_distintas\\_responsabilidad\\_civil & Asegurado\\_original & Efectivamente\\_pagado\\_por\\_siniestro & Siniestro\\_incurrido & Deducible & Recobro\\_obtenido & Reserva\\_constituida\\_para\\_amparo & Reserva\\_pagada\\_para\\_amparo & Fecha\\_pago\\_amparo & Estado\\_final\\_siniestro & Cobertura\\_final\\_aplicada\\\\\n",
       " <dttm> & <dbl> & <dbl> & <dbl> & <dbl> & <dbl> & <dbl> & <dbl> & <dbl> & <dbl> & <dbl> & <dbl> & <chr> & <chr>\\\\\n",
       "\\hline\n",
       "\t 2017-01-01 &  300000 &   300000 & 4.350e+06 & 4.350e+06 &       0 & 3262500 & 870000 &       0 & 4.350e+06 & 3480000 & 20171220 & Pagado  & PTH\\\\\n",
       "\t 2017-01-01 & 5543164 & 16639492 & 8.400e+07 & 8.400e+07 & 4601532 & 4601532 & 737717 &       0 & 8.400e+07 &       0 & 20170215 & Pagado  & PPD\\\\\n",
       "\t 2017-01-01 & 1072019 &  1072019 & 5.255e+07 & 5.255e+07 & 3375620 & 3375620 & 737717 &  375909 & 5.255e+07 &       0 & 20170131 & Pagado  & PPD\\\\\n",
       "\t 2017-01-01 &  958821 &   958821 & 3.449e+07 & 3.449e+07 & 3600357 & 3600357 & 737717 &       0 & 3.449e+07 &       0 & 20170131 & Pagado  & PPD\\\\\n",
       "\t 2017-01-01 &  714176 &  3398721 & 2.000e+09 & 2.000e+09 &       0 & 2175223 &      0 & 1241379 & 2.000e+09 & 2175223 &       NA & Avisado & PPD\\\\\n",
       "\t 2017-01-01 & 1681845 &  5193649 & 1.500e+09 & 1.500e+09 & 1569899 & 1569899 & 737717 &       0 & 1.500e+09 &       0 & 20170213 & Pagado  & PPD\\\\\n",
       "\\end{tabular}\n"
      ],
      "text/markdown": [
       "\n",
       "A tibble: 6 × 14\n",
       "\n",
       "| Fecha_siniestro &lt;dttm&gt; | Prima_efectivamente_pagada_hasta_fecha_siniestro &lt;dbl&gt; | Prima_suscrita_incluida_cobertura_responsabilidad_civil &lt;dbl&gt; | Asegurado_otras_coberturas_distintas_responsabilidad_civil &lt;dbl&gt; | Asegurado_original &lt;dbl&gt; | Efectivamente_pagado_por_siniestro &lt;dbl&gt; | Siniestro_incurrido &lt;dbl&gt; | Deducible &lt;dbl&gt; | Recobro_obtenido &lt;dbl&gt; | Reserva_constituida_para_amparo &lt;dbl&gt; | Reserva_pagada_para_amparo &lt;dbl&gt; | Fecha_pago_amparo &lt;dbl&gt; | Estado_final_siniestro &lt;chr&gt; | Cobertura_final_aplicada &lt;chr&gt; |\n",
       "|---|---|---|---|---|---|---|---|---|---|---|---|---|---|\n",
       "| 2017-01-01 |  300000 |   300000 | 4.350e+06 | 4.350e+06 |       0 | 3262500 | 870000 |       0 | 4.350e+06 | 3480000 | 20171220 | Pagado  | PTH |\n",
       "| 2017-01-01 | 5543164 | 16639492 | 8.400e+07 | 8.400e+07 | 4601532 | 4601532 | 737717 |       0 | 8.400e+07 |       0 | 20170215 | Pagado  | PPD |\n",
       "| 2017-01-01 | 1072019 |  1072019 | 5.255e+07 | 5.255e+07 | 3375620 | 3375620 | 737717 |  375909 | 5.255e+07 |       0 | 20170131 | Pagado  | PPD |\n",
       "| 2017-01-01 |  958821 |   958821 | 3.449e+07 | 3.449e+07 | 3600357 | 3600357 | 737717 |       0 | 3.449e+07 |       0 | 20170131 | Pagado  | PPD |\n",
       "| 2017-01-01 |  714176 |  3398721 | 2.000e+09 | 2.000e+09 |       0 | 2175223 |      0 | 1241379 | 2.000e+09 | 2175223 |       NA | Avisado | PPD |\n",
       "| 2017-01-01 | 1681845 |  5193649 | 1.500e+09 | 1.500e+09 | 1569899 | 1569899 | 737717 |       0 | 1.500e+09 |       0 | 20170213 | Pagado  | PPD |\n",
       "\n"
      ],
      "text/plain": [
       "  Fecha_siniestro Prima_efectivamente_pagada_hasta_fecha_siniestro\n",
       "1 2017-01-01       300000                                         \n",
       "2 2017-01-01      5543164                                         \n",
       "3 2017-01-01      1072019                                         \n",
       "4 2017-01-01       958821                                         \n",
       "5 2017-01-01       714176                                         \n",
       "6 2017-01-01      1681845                                         \n",
       "  Prima_suscrita_incluida_cobertura_responsabilidad_civil\n",
       "1   300000                                               \n",
       "2 16639492                                               \n",
       "3  1072019                                               \n",
       "4   958821                                               \n",
       "5  3398721                                               \n",
       "6  5193649                                               \n",
       "  Asegurado_otras_coberturas_distintas_responsabilidad_civil Asegurado_original\n",
       "1 4.350e+06                                                  4.350e+06         \n",
       "2 8.400e+07                                                  8.400e+07         \n",
       "3 5.255e+07                                                  5.255e+07         \n",
       "4 3.449e+07                                                  3.449e+07         \n",
       "5 2.000e+09                                                  2.000e+09         \n",
       "6 1.500e+09                                                  1.500e+09         \n",
       "  Efectivamente_pagado_por_siniestro Siniestro_incurrido Deducible\n",
       "1       0                            3262500             870000   \n",
       "2 4601532                            4601532             737717   \n",
       "3 3375620                            3375620             737717   \n",
       "4 3600357                            3600357             737717   \n",
       "5       0                            2175223                  0   \n",
       "6 1569899                            1569899             737717   \n",
       "  Recobro_obtenido Reserva_constituida_para_amparo Reserva_pagada_para_amparo\n",
       "1       0          4.350e+06                       3480000                   \n",
       "2       0          8.400e+07                             0                   \n",
       "3  375909          5.255e+07                             0                   \n",
       "4       0          3.449e+07                             0                   \n",
       "5 1241379          2.000e+09                       2175223                   \n",
       "6       0          1.500e+09                             0                   \n",
       "  Fecha_pago_amparo Estado_final_siniestro Cobertura_final_aplicada\n",
       "1 20171220          Pagado                 PTH                     \n",
       "2 20170215          Pagado                 PPD                     \n",
       "3 20170131          Pagado                 PPD                     \n",
       "4 20170131          Pagado                 PPD                     \n",
       "5       NA          Avisado                PPD                     \n",
       "6 20170213          Pagado                 PPD                     "
      ]
     },
     "metadata": {},
     "output_type": "display_data"
    }
   ],
   "source": [
    "head(Siniestros)"
   ]
  },
  {
   "cell_type": "code",
   "execution_count": 22,
   "id": "01f005ee",
   "metadata": {
    "vscode": {
     "languageId": "r"
    }
   },
   "outputs": [
    {
     "data": {
      "text/html": [
       "<style>\n",
       ".list-inline {list-style: none; margin:0; padding: 0}\n",
       ".list-inline>li {display: inline-block}\n",
       ".list-inline>li:not(:last-child)::after {content: \"\\00b7\"; padding: 0 .5ex}\n",
       "</style>\n",
       "<ol class=list-inline><li>'PTH'</li><li>'PPD'</li><li>'RC BIENES'</li><li>'PPH'</li><li>'RC PERS'</li></ol>\n"
      ],
      "text/latex": [
       "\\begin{enumerate*}\n",
       "\\item 'PTH'\n",
       "\\item 'PPD'\n",
       "\\item 'RC BIENES'\n",
       "\\item 'PPH'\n",
       "\\item 'RC PERS'\n",
       "\\end{enumerate*}\n"
      ],
      "text/markdown": [
       "1. 'PTH'\n",
       "2. 'PPD'\n",
       "3. 'RC BIENES'\n",
       "4. 'PPH'\n",
       "5. 'RC PERS'\n",
       "\n",
       "\n"
      ],
      "text/plain": [
       "[1] \"PTH\"       \"PPD\"       \"RC BIENES\" \"PPH\"       \"RC PERS\"  "
      ]
     },
     "metadata": {},
     "output_type": "display_data"
    }
   ],
   "source": [
    "unique(Siniestros$Cobertura_final_aplicada)"
   ]
  },
  {
   "cell_type": "code",
   "execution_count": 23,
   "id": "058c22d1",
   "metadata": {
    "vscode": {
     "languageId": "r"
    }
   },
   "outputs": [],
   "source": [
    "# Cambiar los niveles de la columna Cobertura_final_aplicada\n",
    "# No se tiene en cuenta la cobertura de responsabilidad civil por separado, por lo que se agrupan en una sola cobertura\n",
    "\n",
    "Siniestros$Cobertura_final_aplicada <- factor(Siniestros$Cobertura_final_aplicada, \n",
    "                                           levels = c(\"PTH\", \"PPD\", \"RC BIENES\", \"PPH\", \"RC PERS\"),\n",
    "                                           labels = c(\"Perdida_total_hurto\", \n",
    "                                                     \"Perdida_parcial_danos\",\n",
    "                                                     \"Responsabilidad_civil\",\n",
    "                                                     \"Perdida_parcial_hurto\",\n",
    "                                                     \"Responsabilidad_civil\"))"
   ]
  },
  {
   "cell_type": "code",
   "execution_count": 24,
   "id": "5fec080d",
   "metadata": {
    "vscode": {
     "languageId": "r"
    }
   },
   "outputs": [
    {
     "data": {
      "text/html": [
       "<style>\n",
       ".list-inline {list-style: none; margin:0; padding: 0}\n",
       ".list-inline>li {display: inline-block}\n",
       ".list-inline>li:not(:last-child)::after {content: \"\\00b7\"; padding: 0 .5ex}\n",
       "</style>\n",
       "<ol class=list-inline><li>Perdida_total_hurto</li><li>Perdida_parcial_danos</li><li>Responsabilidad_civil</li><li>Perdida_parcial_hurto</li></ol>\n",
       "\n",
       "<details>\n",
       "\t<summary style=display:list-item;cursor:pointer>\n",
       "\t\t<strong>Levels</strong>:\n",
       "\t</summary>\n",
       "\t<style>\n",
       "\t.list-inline {list-style: none; margin:0; padding: 0}\n",
       "\t.list-inline>li {display: inline-block}\n",
       "\t.list-inline>li:not(:last-child)::after {content: \"\\00b7\"; padding: 0 .5ex}\n",
       "\t</style>\n",
       "\t<ol class=list-inline><li>'Perdida_total_hurto'</li><li>'Perdida_parcial_danos'</li><li>'Responsabilidad_civil'</li><li>'Perdida_parcial_hurto'</li></ol>\n",
       "</details>"
      ],
      "text/latex": [
       "\\begin{enumerate*}\n",
       "\\item Perdida\\_total\\_hurto\n",
       "\\item Perdida\\_parcial\\_danos\n",
       "\\item Responsabilidad\\_civil\n",
       "\\item Perdida\\_parcial\\_hurto\n",
       "\\end{enumerate*}\n",
       "\n",
       "\\emph{Levels}: \\begin{enumerate*}\n",
       "\\item 'Perdida\\_total\\_hurto'\n",
       "\\item 'Perdida\\_parcial\\_danos'\n",
       "\\item 'Responsabilidad\\_civil'\n",
       "\\item 'Perdida\\_parcial\\_hurto'\n",
       "\\end{enumerate*}\n"
      ],
      "text/markdown": [
       "1. Perdida_total_hurto\n",
       "2. Perdida_parcial_danos\n",
       "3. Responsabilidad_civil\n",
       "4. Perdida_parcial_hurto\n",
       "\n",
       "\n",
       "\n",
       "**Levels**: 1. 'Perdida_total_hurto'\n",
       "2. 'Perdida_parcial_danos'\n",
       "3. 'Responsabilidad_civil'\n",
       "4. 'Perdida_parcial_hurto'\n",
       "\n",
       "\n"
      ],
      "text/plain": [
       "[1] Perdida_total_hurto   Perdida_parcial_danos Responsabilidad_civil\n",
       "[4] Perdida_parcial_hurto\n",
       "4 Levels: Perdida_total_hurto Perdida_parcial_danos ... Perdida_parcial_hurto"
      ]
     },
     "metadata": {},
     "output_type": "display_data"
    }
   ],
   "source": [
    "# Verigficar los cambios\n",
    "unique(Siniestros$Cobertura_final_aplicada)"
   ]
  },
  {
   "cell_type": "code",
   "execution_count": 25,
   "id": "lcq3co8cdr",
   "metadata": {
    "vscode": {
     "languageId": "r"
    }
   },
   "outputs": [
    {
     "data": {
      "text/html": [
       "<table class=\"dataframe\">\n",
       "<caption>A tibble: 6 × 18</caption>\n",
       "<thead>\n",
       "\t<tr><th scope=col>Fecha_siniestro</th><th scope=col>Prima_efectivamente_pagada_hasta_fecha_siniestro</th><th scope=col>Prima_suscrita_incluida_cobertura_responsabilidad_civil</th><th scope=col>Asegurado_otras_coberturas_distintas_responsabilidad_civil</th><th scope=col>Asegurado_original</th><th scope=col>Efectivamente_pagado_por_siniestro</th><th scope=col>Siniestro_incurrido</th><th scope=col>Deducible</th><th scope=col>Recobro_obtenido</th><th scope=col>Reserva_constituida_para_amparo</th><th scope=col>Reserva_pagada_para_amparo</th><th scope=col>Fecha_pago_amparo</th><th scope=col>Estado_final_siniestro</th><th scope=col>Cobertura_final_aplicada</th><th scope=col>Año</th><th scope=col>Mes</th><th scope=col>Día</th><th scope=col>Periodo</th></tr>\n",
       "\t<tr><th scope=col>&lt;dttm&gt;</th><th scope=col>&lt;dbl&gt;</th><th scope=col>&lt;dbl&gt;</th><th scope=col>&lt;dbl&gt;</th><th scope=col>&lt;dbl&gt;</th><th scope=col>&lt;dbl&gt;</th><th scope=col>&lt;dbl&gt;</th><th scope=col>&lt;dbl&gt;</th><th scope=col>&lt;dbl&gt;</th><th scope=col>&lt;dbl&gt;</th><th scope=col>&lt;dbl&gt;</th><th scope=col>&lt;dbl&gt;</th><th scope=col>&lt;chr&gt;</th><th scope=col>&lt;fct&gt;</th><th scope=col>&lt;chr&gt;</th><th scope=col>&lt;chr&gt;</th><th scope=col>&lt;chr&gt;</th><th scope=col>&lt;dbl&gt;</th></tr>\n",
       "</thead>\n",
       "<tbody>\n",
       "\t<tr><td>2017-01-01</td><td> 300000</td><td>  300000</td><td>4.350e+06</td><td>4.350e+06</td><td>      0</td><td>3262500</td><td>870000</td><td>      0</td><td>4.350e+06</td><td>3480000</td><td>20171220</td><td>Pagado </td><td>Perdida_total_hurto  </td><td>2017</td><td>01</td><td>01</td><td>201701</td></tr>\n",
       "\t<tr><td>2017-01-01</td><td>5543164</td><td>16639492</td><td>8.400e+07</td><td>8.400e+07</td><td>4601532</td><td>4601532</td><td>737717</td><td>      0</td><td>8.400e+07</td><td>      0</td><td>20170215</td><td>Pagado </td><td>Perdida_parcial_danos</td><td>2017</td><td>01</td><td>01</td><td>201701</td></tr>\n",
       "\t<tr><td>2017-01-01</td><td>1072019</td><td> 1072019</td><td>5.255e+07</td><td>5.255e+07</td><td>3375620</td><td>3375620</td><td>737717</td><td> 375909</td><td>5.255e+07</td><td>      0</td><td>20170131</td><td>Pagado </td><td>Perdida_parcial_danos</td><td>2017</td><td>01</td><td>01</td><td>201701</td></tr>\n",
       "\t<tr><td>2017-01-01</td><td> 958821</td><td>  958821</td><td>3.449e+07</td><td>3.449e+07</td><td>3600357</td><td>3600357</td><td>737717</td><td>      0</td><td>3.449e+07</td><td>      0</td><td>20170131</td><td>Pagado </td><td>Perdida_parcial_danos</td><td>2017</td><td>01</td><td>01</td><td>201701</td></tr>\n",
       "\t<tr><td>2017-01-01</td><td> 714176</td><td> 3398721</td><td>2.000e+09</td><td>2.000e+09</td><td>      0</td><td>2175223</td><td>     0</td><td>1241379</td><td>2.000e+09</td><td>2175223</td><td>      NA</td><td>Avisado</td><td>Perdida_parcial_danos</td><td>2017</td><td>01</td><td>01</td><td>201701</td></tr>\n",
       "\t<tr><td>2017-01-01</td><td>1681845</td><td> 5193649</td><td>1.500e+09</td><td>1.500e+09</td><td>1569899</td><td>1569899</td><td>737717</td><td>      0</td><td>1.500e+09</td><td>      0</td><td>20170213</td><td>Pagado </td><td>Perdida_parcial_danos</td><td>2017</td><td>01</td><td>01</td><td>201701</td></tr>\n",
       "</tbody>\n",
       "</table>\n"
      ],
      "text/latex": [
       "A tibble: 6 × 18\n",
       "\\begin{tabular}{llllllllllllllllll}\n",
       " Fecha\\_siniestro & Prima\\_efectivamente\\_pagada\\_hasta\\_fecha\\_siniestro & Prima\\_suscrita\\_incluida\\_cobertura\\_responsabilidad\\_civil & Asegurado\\_otras\\_coberturas\\_distintas\\_responsabilidad\\_civil & Asegurado\\_original & Efectivamente\\_pagado\\_por\\_siniestro & Siniestro\\_incurrido & Deducible & Recobro\\_obtenido & Reserva\\_constituida\\_para\\_amparo & Reserva\\_pagada\\_para\\_amparo & Fecha\\_pago\\_amparo & Estado\\_final\\_siniestro & Cobertura\\_final\\_aplicada & Año & Mes & Día & Periodo\\\\\n",
       " <dttm> & <dbl> & <dbl> & <dbl> & <dbl> & <dbl> & <dbl> & <dbl> & <dbl> & <dbl> & <dbl> & <dbl> & <chr> & <fct> & <chr> & <chr> & <chr> & <dbl>\\\\\n",
       "\\hline\n",
       "\t 2017-01-01 &  300000 &   300000 & 4.350e+06 & 4.350e+06 &       0 & 3262500 & 870000 &       0 & 4.350e+06 & 3480000 & 20171220 & Pagado  & Perdida\\_total\\_hurto   & 2017 & 01 & 01 & 201701\\\\\n",
       "\t 2017-01-01 & 5543164 & 16639492 & 8.400e+07 & 8.400e+07 & 4601532 & 4601532 & 737717 &       0 & 8.400e+07 &       0 & 20170215 & Pagado  & Perdida\\_parcial\\_danos & 2017 & 01 & 01 & 201701\\\\\n",
       "\t 2017-01-01 & 1072019 &  1072019 & 5.255e+07 & 5.255e+07 & 3375620 & 3375620 & 737717 &  375909 & 5.255e+07 &       0 & 20170131 & Pagado  & Perdida\\_parcial\\_danos & 2017 & 01 & 01 & 201701\\\\\n",
       "\t 2017-01-01 &  958821 &   958821 & 3.449e+07 & 3.449e+07 & 3600357 & 3600357 & 737717 &       0 & 3.449e+07 &       0 & 20170131 & Pagado  & Perdida\\_parcial\\_danos & 2017 & 01 & 01 & 201701\\\\\n",
       "\t 2017-01-01 &  714176 &  3398721 & 2.000e+09 & 2.000e+09 &       0 & 2175223 &      0 & 1241379 & 2.000e+09 & 2175223 &       NA & Avisado & Perdida\\_parcial\\_danos & 2017 & 01 & 01 & 201701\\\\\n",
       "\t 2017-01-01 & 1681845 &  5193649 & 1.500e+09 & 1.500e+09 & 1569899 & 1569899 & 737717 &       0 & 1.500e+09 &       0 & 20170213 & Pagado  & Perdida\\_parcial\\_danos & 2017 & 01 & 01 & 201701\\\\\n",
       "\\end{tabular}\n"
      ],
      "text/markdown": [
       "\n",
       "A tibble: 6 × 18\n",
       "\n",
       "| Fecha_siniestro &lt;dttm&gt; | Prima_efectivamente_pagada_hasta_fecha_siniestro &lt;dbl&gt; | Prima_suscrita_incluida_cobertura_responsabilidad_civil &lt;dbl&gt; | Asegurado_otras_coberturas_distintas_responsabilidad_civil &lt;dbl&gt; | Asegurado_original &lt;dbl&gt; | Efectivamente_pagado_por_siniestro &lt;dbl&gt; | Siniestro_incurrido &lt;dbl&gt; | Deducible &lt;dbl&gt; | Recobro_obtenido &lt;dbl&gt; | Reserva_constituida_para_amparo &lt;dbl&gt; | Reserva_pagada_para_amparo &lt;dbl&gt; | Fecha_pago_amparo &lt;dbl&gt; | Estado_final_siniestro &lt;chr&gt; | Cobertura_final_aplicada &lt;fct&gt; | Año &lt;chr&gt; | Mes &lt;chr&gt; | Día &lt;chr&gt; | Periodo &lt;dbl&gt; |\n",
       "|---|---|---|---|---|---|---|---|---|---|---|---|---|---|---|---|---|---|\n",
       "| 2017-01-01 |  300000 |   300000 | 4.350e+06 | 4.350e+06 |       0 | 3262500 | 870000 |       0 | 4.350e+06 | 3480000 | 20171220 | Pagado  | Perdida_total_hurto   | 2017 | 01 | 01 | 201701 |\n",
       "| 2017-01-01 | 5543164 | 16639492 | 8.400e+07 | 8.400e+07 | 4601532 | 4601532 | 737717 |       0 | 8.400e+07 |       0 | 20170215 | Pagado  | Perdida_parcial_danos | 2017 | 01 | 01 | 201701 |\n",
       "| 2017-01-01 | 1072019 |  1072019 | 5.255e+07 | 5.255e+07 | 3375620 | 3375620 | 737717 |  375909 | 5.255e+07 |       0 | 20170131 | Pagado  | Perdida_parcial_danos | 2017 | 01 | 01 | 201701 |\n",
       "| 2017-01-01 |  958821 |   958821 | 3.449e+07 | 3.449e+07 | 3600357 | 3600357 | 737717 |       0 | 3.449e+07 |       0 | 20170131 | Pagado  | Perdida_parcial_danos | 2017 | 01 | 01 | 201701 |\n",
       "| 2017-01-01 |  714176 |  3398721 | 2.000e+09 | 2.000e+09 |       0 | 2175223 |      0 | 1241379 | 2.000e+09 | 2175223 |       NA | Avisado | Perdida_parcial_danos | 2017 | 01 | 01 | 201701 |\n",
       "| 2017-01-01 | 1681845 |  5193649 | 1.500e+09 | 1.500e+09 | 1569899 | 1569899 | 737717 |       0 | 1.500e+09 |       0 | 20170213 | Pagado  | Perdida_parcial_danos | 2017 | 01 | 01 | 201701 |\n",
       "\n"
      ],
      "text/plain": [
       "  Fecha_siniestro Prima_efectivamente_pagada_hasta_fecha_siniestro\n",
       "1 2017-01-01       300000                                         \n",
       "2 2017-01-01      5543164                                         \n",
       "3 2017-01-01      1072019                                         \n",
       "4 2017-01-01       958821                                         \n",
       "5 2017-01-01       714176                                         \n",
       "6 2017-01-01      1681845                                         \n",
       "  Prima_suscrita_incluida_cobertura_responsabilidad_civil\n",
       "1   300000                                               \n",
       "2 16639492                                               \n",
       "3  1072019                                               \n",
       "4   958821                                               \n",
       "5  3398721                                               \n",
       "6  5193649                                               \n",
       "  Asegurado_otras_coberturas_distintas_responsabilidad_civil Asegurado_original\n",
       "1 4.350e+06                                                  4.350e+06         \n",
       "2 8.400e+07                                                  8.400e+07         \n",
       "3 5.255e+07                                                  5.255e+07         \n",
       "4 3.449e+07                                                  3.449e+07         \n",
       "5 2.000e+09                                                  2.000e+09         \n",
       "6 1.500e+09                                                  1.500e+09         \n",
       "  Efectivamente_pagado_por_siniestro Siniestro_incurrido Deducible\n",
       "1       0                            3262500             870000   \n",
       "2 4601532                            4601532             737717   \n",
       "3 3375620                            3375620             737717   \n",
       "4 3600357                            3600357             737717   \n",
       "5       0                            2175223                  0   \n",
       "6 1569899                            1569899             737717   \n",
       "  Recobro_obtenido Reserva_constituida_para_amparo Reserva_pagada_para_amparo\n",
       "1       0          4.350e+06                       3480000                   \n",
       "2       0          8.400e+07                             0                   \n",
       "3  375909          5.255e+07                             0                   \n",
       "4       0          3.449e+07                             0                   \n",
       "5 1241379          2.000e+09                       2175223                   \n",
       "6       0          1.500e+09                             0                   \n",
       "  Fecha_pago_amparo Estado_final_siniestro Cobertura_final_aplicada Año  Mes\n",
       "1 20171220          Pagado                 Perdida_total_hurto      2017 01 \n",
       "2 20170215          Pagado                 Perdida_parcial_danos    2017 01 \n",
       "3 20170131          Pagado                 Perdida_parcial_danos    2017 01 \n",
       "4 20170131          Pagado                 Perdida_parcial_danos    2017 01 \n",
       "5       NA          Avisado                Perdida_parcial_danos    2017 01 \n",
       "6 20170213          Pagado                 Perdida_parcial_danos    2017 01 \n",
       "  Día Periodo\n",
       "1 01  201701 \n",
       "2 01  201701 \n",
       "3 01  201701 \n",
       "4 01  201701 \n",
       "5 01  201701 \n",
       "6 01  201701 "
      ]
     },
     "metadata": {},
     "output_type": "display_data"
    }
   ],
   "source": [
    "# Primero corregir el problema de variables - usar Siniestros consistentemente\n",
    "# Crear columnas de fecha\n",
    "Siniestros$Año <- format(Siniestros$Fecha_siniestro, \"%Y\")\n",
    "Siniestros$Mes <- format(Siniestros$Fecha_siniestro, \"%m\")\n",
    "Siniestros$Día <- format(Siniestros$Fecha_siniestro, \"%d\")\n",
    "Siniestros$Periodo <- as.numeric(format(Siniestros$Fecha_siniestro, \"%Y\")) * 100 + as.numeric(format(Siniestros$Fecha_siniestro, \"%m\"))\n",
    "\n",
    "# Verificar los tipos de cobertura únicos\n",
    "head(Siniestros)"
   ]
  },
  {
   "cell_type": "code",
   "execution_count": 26,
   "id": "82eece14",
   "metadata": {
    "vscode": {
     "languageId": "r"
    }
   },
   "outputs": [],
   "source": [
    "## Limpieza de los datos con los que se trabajan inicialmente\n",
    "\n",
    "### 1. en las celdas anteriores, se renomnraron tanto las columnas, como el contenido de la columna Cobertura_final_aplicada\n",
    "### 2. se crearon las variables Año, Mes, Día y Periodo, que sirven para identificar los siniestros por año y mes, y hacer el cruce con los datos de IPC_Update por Periodo de acción.\n",
    "### 3. ahora, vamos a filtrar las columnas que noc coinciden según los dataframes de polizas vendidad y polizas siniestradas, que son solamente 2018"
   ]
  },
  {
   "cell_type": "code",
   "execution_count": 27,
   "id": "6fb90f11",
   "metadata": {
    "vscode": {
     "languageId": "r"
    }
   },
   "outputs": [
    {
     "name": "stdout",
     "output_type": "stream",
     "text": [
      "[1] \"2018-01-01 UTC\"\n",
      "[1] \"2018-12-31 UTC\"\n"
     ]
    }
   ],
   "source": [
    "# Filtrar los datos para incluir solo los siniestros de 2018\n",
    "Siniestros <- Siniestros %>%\n",
    "    filter(format(Fecha_siniestro, \"%Y\") == \"2018\")\n",
    "\n",
    "# Verificar los resultados\n",
    "print(min(Siniestros$Fecha_siniestro))\n",
    "print(max(Siniestros$Fecha_siniestro))"
   ]
  },
  {
   "cell_type": "code",
   "execution_count": 28,
   "id": "c94c46da",
   "metadata": {
    "vscode": {
     "languageId": "r"
    }
   },
   "outputs": [],
   "source": [
    "IPC_Update <- read.csv2(\"../data/input/IPC_Update.csv\", stringsAsFactors = FALSE)"
   ]
  },
  {
   "cell_type": "code",
   "execution_count": 29,
   "id": "fa068d32",
   "metadata": {
    "vscode": {
     "languageId": "r"
    }
   },
   "outputs": [
    {
     "name": "stdout",
     "output_type": "stream",
     "text": [
      "   Anio        Mes Mes_Num    Key Variacion Variacion_unidad IPCS_Update\n",
      "1  2018      Enero       1 201801      0.63           1.0063    1.031721\n",
      "2  2018    Febrero       2 201802      0.71           1.0071    1.025262\n",
      "3  2018      Marzo       3 201803      0.24           1.0024    1.018034\n",
      "4  2018      Abril       4 201804      0.46           1.0046    1.015597\n",
      "5  2018       Mayo       5 201805      0.25           1.0025    1.010946\n",
      "6  2018      Junio       6 201806      0.15           1.0015    1.008425\n",
      "7  2018      Julio       7 201807     -0.13           0.9987    1.006915\n",
      "8  2018     Agosto       8 201808      0.12           1.0012    1.008226\n",
      "9  2018 Septiembre       9 201809      0.16           1.0016    1.007017\n",
      "10 2018    Octubre      10 201810      0.12           1.0012    1.005409\n",
      "11 2018  Noviembre      11 201811      0.12           1.0012    1.004204\n",
      "12 2018  Diciembre      12 201812      0.30           1.0030    1.003000\n",
      "13 2019      Enero       1 201901      0.60           1.0000    1.000000\n"
     ]
    }
   ],
   "source": [
    "print(IPC_Update)"
   ]
  },
  {
   "cell_type": "code",
   "execution_count": 30,
   "id": "74cf562d",
   "metadata": {
    "vscode": {
     "languageId": "r"
    }
   },
   "outputs": [
    {
     "data": {
      "text/html": [
       "<table class=\"dataframe\">\n",
       "<caption>A tibble: 6 × 7</caption>\n",
       "<thead>\n",
       "\t<tr><th scope=col>Fecha_siniestro</th><th scope=col>Año</th><th scope=col>Mes</th><th scope=col>Día</th><th scope=col>Periodo</th><th scope=col>Siniestro_incurrido</th><th scope=col>Cobertura_final_aplicada</th></tr>\n",
       "\t<tr><th scope=col>&lt;dttm&gt;</th><th scope=col>&lt;chr&gt;</th><th scope=col>&lt;chr&gt;</th><th scope=col>&lt;chr&gt;</th><th scope=col>&lt;dbl&gt;</th><th scope=col>&lt;dbl&gt;</th><th scope=col>&lt;fct&gt;</th></tr>\n",
       "</thead>\n",
       "<tbody>\n",
       "\t<tr><td>2018-01-01</td><td>2018</td><td>01</td><td>01</td><td>201801</td><td>1735248</td><td>Perdida_parcial_danos</td></tr>\n",
       "\t<tr><td>2018-01-01</td><td>2018</td><td>01</td><td>01</td><td>201801</td><td>1601730</td><td>Perdida_parcial_danos</td></tr>\n",
       "\t<tr><td>2018-01-01</td><td>2018</td><td>01</td><td>01</td><td>201801</td><td> 747874</td><td>Perdida_parcial_danos</td></tr>\n",
       "\t<tr><td>2018-01-01</td><td>2018</td><td>01</td><td>01</td><td>201801</td><td>5555977</td><td>Perdida_parcial_danos</td></tr>\n",
       "\t<tr><td>2018-01-01</td><td>2018</td><td>01</td><td>01</td><td>201801</td><td>3400985</td><td>Perdida_parcial_danos</td></tr>\n",
       "\t<tr><td>2018-01-01</td><td>2018</td><td>01</td><td>01</td><td>201801</td><td>3727847</td><td>Perdida_parcial_danos</td></tr>\n",
       "</tbody>\n",
       "</table>\n"
      ],
      "text/latex": [
       "A tibble: 6 × 7\n",
       "\\begin{tabular}{lllllll}\n",
       " Fecha\\_siniestro & Año & Mes & Día & Periodo & Siniestro\\_incurrido & Cobertura\\_final\\_aplicada\\\\\n",
       " <dttm> & <chr> & <chr> & <chr> & <dbl> & <dbl> & <fct>\\\\\n",
       "\\hline\n",
       "\t 2018-01-01 & 2018 & 01 & 01 & 201801 & 1735248 & Perdida\\_parcial\\_danos\\\\\n",
       "\t 2018-01-01 & 2018 & 01 & 01 & 201801 & 1601730 & Perdida\\_parcial\\_danos\\\\\n",
       "\t 2018-01-01 & 2018 & 01 & 01 & 201801 &  747874 & Perdida\\_parcial\\_danos\\\\\n",
       "\t 2018-01-01 & 2018 & 01 & 01 & 201801 & 5555977 & Perdida\\_parcial\\_danos\\\\\n",
       "\t 2018-01-01 & 2018 & 01 & 01 & 201801 & 3400985 & Perdida\\_parcial\\_danos\\\\\n",
       "\t 2018-01-01 & 2018 & 01 & 01 & 201801 & 3727847 & Perdida\\_parcial\\_danos\\\\\n",
       "\\end{tabular}\n"
      ],
      "text/markdown": [
       "\n",
       "A tibble: 6 × 7\n",
       "\n",
       "| Fecha_siniestro &lt;dttm&gt; | Año &lt;chr&gt; | Mes &lt;chr&gt; | Día &lt;chr&gt; | Periodo &lt;dbl&gt; | Siniestro_incurrido &lt;dbl&gt; | Cobertura_final_aplicada &lt;fct&gt; |\n",
       "|---|---|---|---|---|---|---|\n",
       "| 2018-01-01 | 2018 | 01 | 01 | 201801 | 1735248 | Perdida_parcial_danos |\n",
       "| 2018-01-01 | 2018 | 01 | 01 | 201801 | 1601730 | Perdida_parcial_danos |\n",
       "| 2018-01-01 | 2018 | 01 | 01 | 201801 |  747874 | Perdida_parcial_danos |\n",
       "| 2018-01-01 | 2018 | 01 | 01 | 201801 | 5555977 | Perdida_parcial_danos |\n",
       "| 2018-01-01 | 2018 | 01 | 01 | 201801 | 3400985 | Perdida_parcial_danos |\n",
       "| 2018-01-01 | 2018 | 01 | 01 | 201801 | 3727847 | Perdida_parcial_danos |\n",
       "\n"
      ],
      "text/plain": [
       "  Fecha_siniestro Año  Mes Día Periodo Siniestro_incurrido\n",
       "1 2018-01-01      2018 01  01  201801  1735248            \n",
       "2 2018-01-01      2018 01  01  201801  1601730            \n",
       "3 2018-01-01      2018 01  01  201801   747874            \n",
       "4 2018-01-01      2018 01  01  201801  5555977            \n",
       "5 2018-01-01      2018 01  01  201801  3400985            \n",
       "6 2018-01-01      2018 01  01  201801  3727847            \n",
       "  Cobertura_final_aplicada\n",
       "1 Perdida_parcial_danos   \n",
       "2 Perdida_parcial_danos   \n",
       "3 Perdida_parcial_danos   \n",
       "4 Perdida_parcial_danos   \n",
       "5 Perdida_parcial_danos   \n",
       "6 Perdida_parcial_danos   "
      ]
     },
     "metadata": {},
     "output_type": "display_data"
    }
   ],
   "source": [
    "Siniestros <- Siniestros %>%\n",
    "select(Fecha_siniestro, Año, Mes, Día, Periodo, Siniestro_incurrido, Cobertura_final_aplicada)\n",
    "head(Siniestros)"
   ]
  },
  {
   "cell_type": "code",
   "execution_count": 31,
   "id": "1f603c45",
   "metadata": {
    "vscode": {
     "languageId": "r"
    }
   },
   "outputs": [
    {
     "data": {
      "text/html": [
       "<table class=\"dataframe\">\n",
       "<caption>A tibble: 6 × 9</caption>\n",
       "<thead>\n",
       "\t<tr><th scope=col>Fecha_siniestro</th><th scope=col>Año</th><th scope=col>Mes</th><th scope=col>Día</th><th scope=col>Periodo</th><th scope=col>Siniestro_incurrido</th><th scope=col>Cobertura_final_aplicada</th><th scope=col>IPCS_Update</th><th scope=col>Siniestro_incurrido_update</th></tr>\n",
       "\t<tr><th scope=col>&lt;dttm&gt;</th><th scope=col>&lt;chr&gt;</th><th scope=col>&lt;chr&gt;</th><th scope=col>&lt;chr&gt;</th><th scope=col>&lt;dbl&gt;</th><th scope=col>&lt;dbl&gt;</th><th scope=col>&lt;fct&gt;</th><th scope=col>&lt;dbl&gt;</th><th scope=col>&lt;dbl&gt;</th></tr>\n",
       "</thead>\n",
       "<tbody>\n",
       "\t<tr><td>2018-01-01</td><td>2018</td><td>01</td><td>01</td><td>201801</td><td>1735248</td><td>Perdida_parcial_danos</td><td>1.031721</td><td>1790292.6</td></tr>\n",
       "\t<tr><td>2018-01-01</td><td>2018</td><td>01</td><td>01</td><td>201801</td><td>1601730</td><td>Perdida_parcial_danos</td><td>1.031721</td><td>1652539.2</td></tr>\n",
       "\t<tr><td>2018-01-01</td><td>2018</td><td>01</td><td>01</td><td>201801</td><td> 747874</td><td>Perdida_parcial_danos</td><td>1.031721</td><td> 771597.6</td></tr>\n",
       "\t<tr><td>2018-01-01</td><td>2018</td><td>01</td><td>01</td><td>201801</td><td>5555977</td><td>Perdida_parcial_danos</td><td>1.031721</td><td>5732220.6</td></tr>\n",
       "\t<tr><td>2018-01-01</td><td>2018</td><td>01</td><td>01</td><td>201801</td><td>3400985</td><td>Perdida_parcial_danos</td><td>1.031721</td><td>3508869.2</td></tr>\n",
       "\t<tr><td>2018-01-01</td><td>2018</td><td>01</td><td>01</td><td>201801</td><td>3727847</td><td>Perdida_parcial_danos</td><td>1.031721</td><td>3846099.7</td></tr>\n",
       "</tbody>\n",
       "</table>\n"
      ],
      "text/latex": [
       "A tibble: 6 × 9\n",
       "\\begin{tabular}{lllllllll}\n",
       " Fecha\\_siniestro & Año & Mes & Día & Periodo & Siniestro\\_incurrido & Cobertura\\_final\\_aplicada & IPCS\\_Update & Siniestro\\_incurrido\\_update\\\\\n",
       " <dttm> & <chr> & <chr> & <chr> & <dbl> & <dbl> & <fct> & <dbl> & <dbl>\\\\\n",
       "\\hline\n",
       "\t 2018-01-01 & 2018 & 01 & 01 & 201801 & 1735248 & Perdida\\_parcial\\_danos & 1.031721 & 1790292.6\\\\\n",
       "\t 2018-01-01 & 2018 & 01 & 01 & 201801 & 1601730 & Perdida\\_parcial\\_danos & 1.031721 & 1652539.2\\\\\n",
       "\t 2018-01-01 & 2018 & 01 & 01 & 201801 &  747874 & Perdida\\_parcial\\_danos & 1.031721 &  771597.6\\\\\n",
       "\t 2018-01-01 & 2018 & 01 & 01 & 201801 & 5555977 & Perdida\\_parcial\\_danos & 1.031721 & 5732220.6\\\\\n",
       "\t 2018-01-01 & 2018 & 01 & 01 & 201801 & 3400985 & Perdida\\_parcial\\_danos & 1.031721 & 3508869.2\\\\\n",
       "\t 2018-01-01 & 2018 & 01 & 01 & 201801 & 3727847 & Perdida\\_parcial\\_danos & 1.031721 & 3846099.7\\\\\n",
       "\\end{tabular}\n"
      ],
      "text/markdown": [
       "\n",
       "A tibble: 6 × 9\n",
       "\n",
       "| Fecha_siniestro &lt;dttm&gt; | Año &lt;chr&gt; | Mes &lt;chr&gt; | Día &lt;chr&gt; | Periodo &lt;dbl&gt; | Siniestro_incurrido &lt;dbl&gt; | Cobertura_final_aplicada &lt;fct&gt; | IPCS_Update &lt;dbl&gt; | Siniestro_incurrido_update &lt;dbl&gt; |\n",
       "|---|---|---|---|---|---|---|---|---|\n",
       "| 2018-01-01 | 2018 | 01 | 01 | 201801 | 1735248 | Perdida_parcial_danos | 1.031721 | 1790292.6 |\n",
       "| 2018-01-01 | 2018 | 01 | 01 | 201801 | 1601730 | Perdida_parcial_danos | 1.031721 | 1652539.2 |\n",
       "| 2018-01-01 | 2018 | 01 | 01 | 201801 |  747874 | Perdida_parcial_danos | 1.031721 |  771597.6 |\n",
       "| 2018-01-01 | 2018 | 01 | 01 | 201801 | 5555977 | Perdida_parcial_danos | 1.031721 | 5732220.6 |\n",
       "| 2018-01-01 | 2018 | 01 | 01 | 201801 | 3400985 | Perdida_parcial_danos | 1.031721 | 3508869.2 |\n",
       "| 2018-01-01 | 2018 | 01 | 01 | 201801 | 3727847 | Perdida_parcial_danos | 1.031721 | 3846099.7 |\n",
       "\n"
      ],
      "text/plain": [
       "  Fecha_siniestro Año  Mes Día Periodo Siniestro_incurrido\n",
       "1 2018-01-01      2018 01  01  201801  1735248            \n",
       "2 2018-01-01      2018 01  01  201801  1601730            \n",
       "3 2018-01-01      2018 01  01  201801   747874            \n",
       "4 2018-01-01      2018 01  01  201801  5555977            \n",
       "5 2018-01-01      2018 01  01  201801  3400985            \n",
       "6 2018-01-01      2018 01  01  201801  3727847            \n",
       "  Cobertura_final_aplicada IPCS_Update Siniestro_incurrido_update\n",
       "1 Perdida_parcial_danos    1.031721    1790292.6                 \n",
       "2 Perdida_parcial_danos    1.031721    1652539.2                 \n",
       "3 Perdida_parcial_danos    1.031721     771597.6                 \n",
       "4 Perdida_parcial_danos    1.031721    5732220.6                 \n",
       "5 Perdida_parcial_danos    1.031721    3508869.2                 \n",
       "6 Perdida_parcial_danos    1.031721    3846099.7                 "
      ]
     },
     "metadata": {},
     "output_type": "display_data"
    }
   ],
   "source": [
    "Siniestros <- Siniestros %>%\n",
    "left_join(IPC_Update %>% select(Key, IPCS_Update), by = c(\"Periodo\" = \"Key\")) %>%\n",
    "mutate(Siniestro_incurrido_update = Siniestro_incurrido * IPCS_Update)\n",
    "head(Siniestros)"
   ]
  },
  {
   "cell_type": "code",
   "execution_count": 32,
   "id": "e8923081",
   "metadata": {
    "vscode": {
     "languageId": "r"
    }
   },
   "outputs": [
    {
     "data": {
      "text/html": [
       "<table class=\"dataframe\">\n",
       "<caption>A tibble: 6 × 6</caption>\n",
       "<thead>\n",
       "\t<tr><th scope=col>Año</th><th scope=col>Mes</th><th scope=col>Día</th><th scope=col>Periodo</th><th scope=col>Cantidad_siniestros</th><th scope=col>Valor_siniestro_incurrido_update</th></tr>\n",
       "\t<tr><th scope=col>&lt;chr&gt;</th><th scope=col>&lt;chr&gt;</th><th scope=col>&lt;chr&gt;</th><th scope=col>&lt;dbl&gt;</th><th scope=col>&lt;int&gt;</th><th scope=col>&lt;dbl&gt;</th></tr>\n",
       "</thead>\n",
       "<tbody>\n",
       "\t<tr><td>2018</td><td>01</td><td>01</td><td>201801</td><td>59</td><td>231334801</td></tr>\n",
       "\t<tr><td>2018</td><td>01</td><td>02</td><td>201801</td><td>64</td><td>237311818</td></tr>\n",
       "\t<tr><td>2018</td><td>01</td><td>03</td><td>201801</td><td>52</td><td>211603698</td></tr>\n",
       "\t<tr><td>2018</td><td>01</td><td>04</td><td>201801</td><td>62</td><td>289397034</td></tr>\n",
       "\t<tr><td>2018</td><td>01</td><td>05</td><td>201801</td><td>39</td><td>185970337</td></tr>\n",
       "\t<tr><td>2018</td><td>01</td><td>06</td><td>201801</td><td>56</td><td>221639483</td></tr>\n",
       "</tbody>\n",
       "</table>\n"
      ],
      "text/latex": [
       "A tibble: 6 × 6\n",
       "\\begin{tabular}{llllll}\n",
       " Año & Mes & Día & Periodo & Cantidad\\_siniestros & Valor\\_siniestro\\_incurrido\\_update\\\\\n",
       " <chr> & <chr> & <chr> & <dbl> & <int> & <dbl>\\\\\n",
       "\\hline\n",
       "\t 2018 & 01 & 01 & 201801 & 59 & 231334801\\\\\n",
       "\t 2018 & 01 & 02 & 201801 & 64 & 237311818\\\\\n",
       "\t 2018 & 01 & 03 & 201801 & 52 & 211603698\\\\\n",
       "\t 2018 & 01 & 04 & 201801 & 62 & 289397034\\\\\n",
       "\t 2018 & 01 & 05 & 201801 & 39 & 185970337\\\\\n",
       "\t 2018 & 01 & 06 & 201801 & 56 & 221639483\\\\\n",
       "\\end{tabular}\n"
      ],
      "text/markdown": [
       "\n",
       "A tibble: 6 × 6\n",
       "\n",
       "| Año &lt;chr&gt; | Mes &lt;chr&gt; | Día &lt;chr&gt; | Periodo &lt;dbl&gt; | Cantidad_siniestros &lt;int&gt; | Valor_siniestro_incurrido_update &lt;dbl&gt; |\n",
       "|---|---|---|---|---|---|\n",
       "| 2018 | 01 | 01 | 201801 | 59 | 231334801 |\n",
       "| 2018 | 01 | 02 | 201801 | 64 | 237311818 |\n",
       "| 2018 | 01 | 03 | 201801 | 52 | 211603698 |\n",
       "| 2018 | 01 | 04 | 201801 | 62 | 289397034 |\n",
       "| 2018 | 01 | 05 | 201801 | 39 | 185970337 |\n",
       "| 2018 | 01 | 06 | 201801 | 56 | 221639483 |\n",
       "\n"
      ],
      "text/plain": [
       "  Año  Mes Día Periodo Cantidad_siniestros Valor_siniestro_incurrido_update\n",
       "1 2018 01  01  201801  59                  231334801                       \n",
       "2 2018 01  02  201801  64                  237311818                       \n",
       "3 2018 01  03  201801  52                  211603698                       \n",
       "4 2018 01  04  201801  62                  289397034                       \n",
       "5 2018 01  05  201801  39                  185970337                       \n",
       "6 2018 01  06  201801  56                  221639483                       "
      ]
     },
     "metadata": {},
     "output_type": "display_data"
    }
   ],
   "source": [
    "#Perdida parcial por daños\n",
    "\n",
    "Siniestros_ppd <- Siniestros %>%\n",
    "filter(Cobertura_final_aplicada == \"Perdida_parcial_danos\") %>%\n",
    "group_by(Año, Mes, Día, Periodo) %>%\n",
    "summarise(\n",
    "    Cantidad_siniestros = n(),\n",
    "    Valor_siniestro_incurrido_update = sum(Siniestro_incurrido_update, na.rm = TRUE),\n",
    "    .groups = 'drop'\n",
    ")\n",
    "\n",
    "head(Siniestros_ppd)"
   ]
  },
  {
   "cell_type": "code",
   "execution_count": 33,
   "id": "b7f774cb",
   "metadata": {
    "vscode": {
     "languageId": "r"
    }
   },
   "outputs": [
    {
     "data": {
      "text/html": [
       "<table class=\"dataframe\">\n",
       "<caption>A tibble: 6 × 6</caption>\n",
       "<thead>\n",
       "\t<tr><th scope=col>Año</th><th scope=col>Mes</th><th scope=col>Día</th><th scope=col>Periodo</th><th scope=col>Cantidad_siniestros</th><th scope=col>Valor_siniestro_incurrido_update</th></tr>\n",
       "\t<tr><th scope=col>&lt;chr&gt;</th><th scope=col>&lt;chr&gt;</th><th scope=col>&lt;chr&gt;</th><th scope=col>&lt;dbl&gt;</th><th scope=col>&lt;int&gt;</th><th scope=col>&lt;dbl&gt;</th></tr>\n",
       "</thead>\n",
       "<tbody>\n",
       "\t<tr><td>2018</td><td>01</td><td>01</td><td>201801</td><td>1</td><td>      0</td></tr>\n",
       "\t<tr><td>2018</td><td>01</td><td>03</td><td>201801</td><td>1</td><td>3300683</td></tr>\n",
       "\t<tr><td>2018</td><td>01</td><td>04</td><td>201801</td><td>1</td><td>      0</td></tr>\n",
       "\t<tr><td>2018</td><td>01</td><td>05</td><td>201801</td><td>2</td><td>7580062</td></tr>\n",
       "\t<tr><td>2018</td><td>01</td><td>06</td><td>201801</td><td>1</td><td>5076069</td></tr>\n",
       "\t<tr><td>2018</td><td>01</td><td>07</td><td>201801</td><td>2</td><td>6116045</td></tr>\n",
       "</tbody>\n",
       "</table>\n"
      ],
      "text/latex": [
       "A tibble: 6 × 6\n",
       "\\begin{tabular}{llllll}\n",
       " Año & Mes & Día & Periodo & Cantidad\\_siniestros & Valor\\_siniestro\\_incurrido\\_update\\\\\n",
       " <chr> & <chr> & <chr> & <dbl> & <int> & <dbl>\\\\\n",
       "\\hline\n",
       "\t 2018 & 01 & 01 & 201801 & 1 &       0\\\\\n",
       "\t 2018 & 01 & 03 & 201801 & 1 & 3300683\\\\\n",
       "\t 2018 & 01 & 04 & 201801 & 1 &       0\\\\\n",
       "\t 2018 & 01 & 05 & 201801 & 2 & 7580062\\\\\n",
       "\t 2018 & 01 & 06 & 201801 & 1 & 5076069\\\\\n",
       "\t 2018 & 01 & 07 & 201801 & 2 & 6116045\\\\\n",
       "\\end{tabular}\n"
      ],
      "text/markdown": [
       "\n",
       "A tibble: 6 × 6\n",
       "\n",
       "| Año &lt;chr&gt; | Mes &lt;chr&gt; | Día &lt;chr&gt; | Periodo &lt;dbl&gt; | Cantidad_siniestros &lt;int&gt; | Valor_siniestro_incurrido_update &lt;dbl&gt; |\n",
       "|---|---|---|---|---|---|\n",
       "| 2018 | 01 | 01 | 201801 | 1 |       0 |\n",
       "| 2018 | 01 | 03 | 201801 | 1 | 3300683 |\n",
       "| 2018 | 01 | 04 | 201801 | 1 |       0 |\n",
       "| 2018 | 01 | 05 | 201801 | 2 | 7580062 |\n",
       "| 2018 | 01 | 06 | 201801 | 1 | 5076069 |\n",
       "| 2018 | 01 | 07 | 201801 | 2 | 6116045 |\n",
       "\n"
      ],
      "text/plain": [
       "  Año  Mes Día Periodo Cantidad_siniestros Valor_siniestro_incurrido_update\n",
       "1 2018 01  01  201801  1                         0                         \n",
       "2 2018 01  03  201801  1                   3300683                         \n",
       "3 2018 01  04  201801  1                         0                         \n",
       "4 2018 01  05  201801  2                   7580062                         \n",
       "5 2018 01  06  201801  1                   5076069                         \n",
       "6 2018 01  07  201801  2                   6116045                         "
      ]
     },
     "metadata": {},
     "output_type": "display_data"
    }
   ],
   "source": [
    "# Pérdida total por hurto\n",
    "\n",
    "Siniestros_pth <- Siniestros %>%\n",
    "filter(Cobertura_final_aplicada == \"Perdida_total_hurto\") %>%\n",
    "group_by(Año, Mes, Día, Periodo) %>%\n",
    "summarise(\n",
    "    Cantidad_siniestros = n(),\n",
    "    Valor_siniestro_incurrido_update = sum(Siniestro_incurrido_update, na.rm = TRUE),\n",
    "    .groups = 'drop'\n",
    ")\n",
    "\n",
    "head(Siniestros_pth)"
   ]
  },
  {
   "cell_type": "code",
   "execution_count": 34,
   "id": "2be047f2",
   "metadata": {
    "vscode": {
     "languageId": "r"
    }
   },
   "outputs": [
    {
     "data": {
      "text/html": [
       "<table class=\"dataframe\">\n",
       "<caption>A tibble: 6 × 6</caption>\n",
       "<thead>\n",
       "\t<tr><th scope=col>Año</th><th scope=col>Mes</th><th scope=col>Día</th><th scope=col>Periodo</th><th scope=col>Cantidad_siniestros</th><th scope=col>Valor_siniestro_incurrido_update</th></tr>\n",
       "\t<tr><th scope=col>&lt;chr&gt;</th><th scope=col>&lt;chr&gt;</th><th scope=col>&lt;chr&gt;</th><th scope=col>&lt;dbl&gt;</th><th scope=col>&lt;int&gt;</th><th scope=col>&lt;dbl&gt;</th></tr>\n",
       "</thead>\n",
       "<tbody>\n",
       "\t<tr><td>2018</td><td>01</td><td>01</td><td>201801</td><td>1</td><td>1462347.5</td></tr>\n",
       "\t<tr><td>2018</td><td>01</td><td>02</td><td>201801</td><td>2</td><td>7327703.5</td></tr>\n",
       "\t<tr><td>2018</td><td>01</td><td>04</td><td>201801</td><td>3</td><td> 477045.3</td></tr>\n",
       "\t<tr><td>2018</td><td>01</td><td>05</td><td>201801</td><td>2</td><td>2176136.8</td></tr>\n",
       "\t<tr><td>2018</td><td>01</td><td>06</td><td>201801</td><td>1</td><td>4661773.5</td></tr>\n",
       "\t<tr><td>2018</td><td>01</td><td>08</td><td>201801</td><td>2</td><td>5522289.0</td></tr>\n",
       "</tbody>\n",
       "</table>\n"
      ],
      "text/latex": [
       "A tibble: 6 × 6\n",
       "\\begin{tabular}{llllll}\n",
       " Año & Mes & Día & Periodo & Cantidad\\_siniestros & Valor\\_siniestro\\_incurrido\\_update\\\\\n",
       " <chr> & <chr> & <chr> & <dbl> & <int> & <dbl>\\\\\n",
       "\\hline\n",
       "\t 2018 & 01 & 01 & 201801 & 1 & 1462347.5\\\\\n",
       "\t 2018 & 01 & 02 & 201801 & 2 & 7327703.5\\\\\n",
       "\t 2018 & 01 & 04 & 201801 & 3 &  477045.3\\\\\n",
       "\t 2018 & 01 & 05 & 201801 & 2 & 2176136.8\\\\\n",
       "\t 2018 & 01 & 06 & 201801 & 1 & 4661773.5\\\\\n",
       "\t 2018 & 01 & 08 & 201801 & 2 & 5522289.0\\\\\n",
       "\\end{tabular}\n"
      ],
      "text/markdown": [
       "\n",
       "A tibble: 6 × 6\n",
       "\n",
       "| Año &lt;chr&gt; | Mes &lt;chr&gt; | Día &lt;chr&gt; | Periodo &lt;dbl&gt; | Cantidad_siniestros &lt;int&gt; | Valor_siniestro_incurrido_update &lt;dbl&gt; |\n",
       "|---|---|---|---|---|---|\n",
       "| 2018 | 01 | 01 | 201801 | 1 | 1462347.5 |\n",
       "| 2018 | 01 | 02 | 201801 | 2 | 7327703.5 |\n",
       "| 2018 | 01 | 04 | 201801 | 3 |  477045.3 |\n",
       "| 2018 | 01 | 05 | 201801 | 2 | 2176136.8 |\n",
       "| 2018 | 01 | 06 | 201801 | 1 | 4661773.5 |\n",
       "| 2018 | 01 | 08 | 201801 | 2 | 5522289.0 |\n",
       "\n"
      ],
      "text/plain": [
       "  Año  Mes Día Periodo Cantidad_siniestros Valor_siniestro_incurrido_update\n",
       "1 2018 01  01  201801  1                   1462347.5                       \n",
       "2 2018 01  02  201801  2                   7327703.5                       \n",
       "3 2018 01  04  201801  3                    477045.3                       \n",
       "4 2018 01  05  201801  2                   2176136.8                       \n",
       "5 2018 01  06  201801  1                   4661773.5                       \n",
       "6 2018 01  08  201801  2                   5522289.0                       "
      ]
     },
     "metadata": {},
     "output_type": "display_data"
    }
   ],
   "source": [
    "# Pérdida parcial por hurto\n",
    "Siniestros_pph <- Siniestros %>%\n",
    "filter(Cobertura_final_aplicada == \"Perdida_parcial_hurto\") %>%\n",
    "group_by(Año, Mes, Día, Periodo) %>%\n",
    "summarise(\n",
    "    Cantidad_siniestros = n(),\n",
    "    Valor_siniestro_incurrido_update = sum(Siniestro_incurrido_update, na.rm = TRUE),\n",
    "    .groups = 'drop'\n",
    ")\n",
    "\n",
    "head(Siniestros_pph)"
   ]
  },
  {
   "cell_type": "code",
   "execution_count": 35,
   "id": "0f46d144",
   "metadata": {
    "vscode": {
     "languageId": "r"
    }
   },
   "outputs": [
    {
     "data": {
      "text/html": [
       "<table class=\"dataframe\">\n",
       "<caption>A tibble: 6 × 6</caption>\n",
       "<thead>\n",
       "\t<tr><th scope=col>Año</th><th scope=col>Mes</th><th scope=col>Día</th><th scope=col>Periodo</th><th scope=col>Cantidad_siniestros</th><th scope=col>Valor_siniestro_incurrido_update</th></tr>\n",
       "\t<tr><th scope=col>&lt;chr&gt;</th><th scope=col>&lt;chr&gt;</th><th scope=col>&lt;chr&gt;</th><th scope=col>&lt;dbl&gt;</th><th scope=col>&lt;int&gt;</th><th scope=col>&lt;dbl&gt;</th></tr>\n",
       "</thead>\n",
       "<tbody>\n",
       "\t<tr><td>2018</td><td>01</td><td>01</td><td>201801</td><td> 1</td><td> 6699343</td></tr>\n",
       "\t<tr><td>2018</td><td>01</td><td>02</td><td>201801</td><td>11</td><td>26066327</td></tr>\n",
       "\t<tr><td>2018</td><td>01</td><td>03</td><td>201801</td><td>16</td><td>32570303</td></tr>\n",
       "\t<tr><td>2018</td><td>01</td><td>04</td><td>201801</td><td> 7</td><td>14809207</td></tr>\n",
       "\t<tr><td>2018</td><td>01</td><td>05</td><td>201801</td><td>16</td><td>92102331</td></tr>\n",
       "\t<tr><td>2018</td><td>01</td><td>06</td><td>201801</td><td> 8</td><td>11120532</td></tr>\n",
       "</tbody>\n",
       "</table>\n"
      ],
      "text/latex": [
       "A tibble: 6 × 6\n",
       "\\begin{tabular}{llllll}\n",
       " Año & Mes & Día & Periodo & Cantidad\\_siniestros & Valor\\_siniestro\\_incurrido\\_update\\\\\n",
       " <chr> & <chr> & <chr> & <dbl> & <int> & <dbl>\\\\\n",
       "\\hline\n",
       "\t 2018 & 01 & 01 & 201801 &  1 &  6699343\\\\\n",
       "\t 2018 & 01 & 02 & 201801 & 11 & 26066327\\\\\n",
       "\t 2018 & 01 & 03 & 201801 & 16 & 32570303\\\\\n",
       "\t 2018 & 01 & 04 & 201801 &  7 & 14809207\\\\\n",
       "\t 2018 & 01 & 05 & 201801 & 16 & 92102331\\\\\n",
       "\t 2018 & 01 & 06 & 201801 &  8 & 11120532\\\\\n",
       "\\end{tabular}\n"
      ],
      "text/markdown": [
       "\n",
       "A tibble: 6 × 6\n",
       "\n",
       "| Año &lt;chr&gt; | Mes &lt;chr&gt; | Día &lt;chr&gt; | Periodo &lt;dbl&gt; | Cantidad_siniestros &lt;int&gt; | Valor_siniestro_incurrido_update &lt;dbl&gt; |\n",
       "|---|---|---|---|---|---|\n",
       "| 2018 | 01 | 01 | 201801 |  1 |  6699343 |\n",
       "| 2018 | 01 | 02 | 201801 | 11 | 26066327 |\n",
       "| 2018 | 01 | 03 | 201801 | 16 | 32570303 |\n",
       "| 2018 | 01 | 04 | 201801 |  7 | 14809207 |\n",
       "| 2018 | 01 | 05 | 201801 | 16 | 92102331 |\n",
       "| 2018 | 01 | 06 | 201801 |  8 | 11120532 |\n",
       "\n"
      ],
      "text/plain": [
       "  Año  Mes Día Periodo Cantidad_siniestros Valor_siniestro_incurrido_update\n",
       "1 2018 01  01  201801   1                   6699343                        \n",
       "2 2018 01  02  201801  11                  26066327                        \n",
       "3 2018 01  03  201801  16                  32570303                        \n",
       "4 2018 01  04  201801   7                  14809207                        \n",
       "5 2018 01  05  201801  16                  92102331                        \n",
       "6 2018 01  06  201801   8                  11120532                        "
      ]
     },
     "metadata": {},
     "output_type": "display_data"
    }
   ],
   "source": [
    "# Responsabilidad civil\n",
    "Siniestros_rcb <- Siniestros %>%\n",
    "  filter(Cobertura_final_aplicada == \"Responsabilidad_civil\") %>%\n",
    "  group_by(Año, Mes, Día, Periodo) %>%\n",
    "  summarise(\n",
    "    Cantidad_siniestros = n(),\n",
    "    Valor_siniestro_incurrido_update = sum(Siniestro_incurrido_update, na.rm = TRUE),\n",
    "    .groups = 'drop'\n",
    "  )\n",
    "\n",
    "head(Siniestros_rcb)"
   ]
  },
  {
   "cell_type": "code",
   "execution_count": 37,
   "id": "zl4ipx5s01d",
   "metadata": {
    "vscode": {
     "languageId": "r"
    }
   },
   "outputs": [],
   "source": [
    "# Guardar las tablas pivoteadas como archivos CSV\n",
    "write.csv(Siniestros_pth, \"../data/processed/Siniestros_pth.csv\", row.names = FALSE)\n",
    "write.csv(Siniestros_ppd, \"../data/processed/Siniestros_ppd.csv\", row.names = FALSE)\n",
    "write.csv(Siniestros_rcb, \"../data/processed/Siniestros_rcb.csv\", row.names = FALSE)\n",
    "write.csv(Siniestros_pph, \"../data/processed/Siniestros_pph.csv\", row.names = FALSE)"
   ]
  }
 ],
 "metadata": {
  "kernelspec": {
   "display_name": "R",
   "language": "R",
   "name": "ir"
  },
  "language_info": {
   "name": "R"
  }
 },
 "nbformat": 4,
 "nbformat_minor": 5
}
