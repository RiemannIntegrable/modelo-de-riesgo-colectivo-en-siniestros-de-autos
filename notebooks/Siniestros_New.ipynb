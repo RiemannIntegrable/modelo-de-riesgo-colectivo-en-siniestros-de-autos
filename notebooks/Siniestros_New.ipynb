{
 "cells": [
  {
   "cell_type": "markdown",
   "id": "9f7e05c6",
   "metadata": {},
   "source": [
    "<div align = \"center\">\n",
    "\n",
    "# **Exploración de datos (Base siniestros)**\n",
    "\n",
    "</div>"
   ]
  },
  {
   "cell_type": "markdown",
   "id": "69896923",
   "metadata": {},
   "source": [
    "## Librerias"
   ]
  },
  {
   "cell_type": "code",
   "execution_count": null,
   "id": "e81c2fb3",
   "metadata": {
    "vscode": {
     "languageId": "r"
    }
   },
   "outputs": [],
   "source": [
    "library(readxl)\n",
    "library(dplyr)"
   ]
  },
  {
   "cell_type": "markdown",
   "id": "1f42221f",
   "metadata": {},
   "source": [
    "## Data"
   ]
  },
  {
   "cell_type": "code",
   "execution_count": null,
   "id": "77de3905",
   "metadata": {
    "vscode": {
     "languageId": "r"
    }
   },
   "outputs": [],
   "source": [
    "Siniestros <- read_excel(\"../data/input/Siniestros_Hist.xlsx\")"
   ]
  },
  {
   "cell_type": "code",
   "execution_count": null,
   "id": "57243604",
   "metadata": {
    "vscode": {
     "languageId": "r"
    }
   },
   "outputs": [],
   "source": [
    "# Ver nombres actuales del dataframe Siniestros\n",
    "names(Siniestros)"
   ]
  },
  {
   "cell_type": "code",
   "execution_count": null,
   "id": "ea4afd46",
   "metadata": {
    "vscode": {
     "languageId": "r"
    }
   },
   "outputs": [],
   "source": [
    "# Método directo para renombrar columnas\n",
    "names(Siniestros) <- c(\n",
    "  \"Fecha_siniestro\",\n",
    "  \"Prima_efectivamente_pagada_hasta_fecha_siniestro\",\n",
    "  \"Prima_suscrita_incluida_cobertura_responsabilidad_civil\",\n",
    "  \"Asegurado_otras_coberturas_distintas_responsabilidad_civil\",\n",
    "  \"Asegurado_original\",\n",
    "  \"Efectivamente_pagado_por_siniestro\",\n",
    "  \"Siniestro_incurrido\",\n",
    "  \"Deducible\",\n",
    "  \"Recobro_obtenido\",\n",
    "  \"Reserva_constituida_para_amparo\",\n",
    "  \"Reserva_pagada_para_amparo\",\n",
    "  \"Fecha_pago_amparo\",\n",
    "  \"Estado_final_siniestro\",\n",
    "  \"Cobertura_final_aplicada\"\n",
    ")"
   ]
  },
  {
   "cell_type": "code",
   "execution_count": null,
   "id": "01f005ee",
   "metadata": {
    "vscode": {
     "languageId": "r"
    }
   },
   "outputs": [],
   "source": [
    "unique(Siniestros$Cobertura_final_aplicada)"
   ]
  },
  {
   "cell_type": "code",
   "execution_count": null,
   "id": "058c22d1",
   "metadata": {
    "vscode": {
     "languageId": "r"
    }
   },
   "outputs": [],
   "source": [
    "# Cambiar los niveles de la columna Cobertura_final_aplicada\n",
    "Siniestros$Cobertura_final_aplicada <- factor(Siniestros$Cobertura_final_aplicada, \n",
    "                                           levels = c(\"PTH\", \"PPD\", \"RC BIENES\", \"PPH\", \"RC PERS\"),\n",
    "                                           labels = c(\"Perdida_total_hurto\", \n",
    "                                                     \"Perdida_parcial_danos\",\n",
    "                                                     \"Responsabilidad_civil_bienes\",\n",
    "                                                     \"Perdida_parcial_hurto\",\n",
    "                                                     \"Responsabilidad_civil_personas\"))"
   ]
  },
  {
   "cell_type": "code",
   "execution_count": null,
   "id": "5fec080d",
   "metadata": {
    "vscode": {
     "languageId": "r"
    }
   },
   "outputs": [],
   "source": [
    "# Verigficar los cambios\n",
    "levels(Siniestros$Cobertura_final_aplicada)"
   ]
  },
  {
   "cell_type": "code",
   "execution_count": null,
   "id": "77865f59",
   "metadata": {
    "vscode": {
     "languageId": "r"
    }
   },
   "outputs": [],
   "source": [
    "head(Siniestros)"
   ]
  },
  {
   "cell_type": "code",
   "execution_count": null,
   "id": "lcq3co8cdr",
   "metadata": {
    "vscode": {
     "languageId": "r"
    }
   },
   "outputs": [],
   "source": [
    "# Primero corregir el problema de variables - usar Siniestros consistentemente\n",
    "# Crear columnas de fecha\n",
    "Siniestros$Año <- format(Siniestros$Fecha_siniestro, \"%Y\")\n",
    "Siniestros$Mes <- format(Siniestros$Fecha_siniestro, \"%m\")\n",
    "Siniestros$Día <- format(Siniestros$Fecha_siniestro, \"%d\")\n",
    "\n",
    "# Verificar los tipos de cobertura únicos\n",
    "print(\"Tipos de cobertura únicos:\")\n",
    "print(unique(Siniestros$Cobertura_final_aplicada))"
   ]
  },
  {
   "cell_type": "code",
   "execution_count": null,
   "id": "82eece14",
   "metadata": {
    "vscode": {
     "languageId": "r"
    }
   },
   "outputs": [],
   "source": [
    "## Limpieza de los datos con los que se trabajan inicialmente\n",
    "\n",
    "### 1. en las celdas anteriores, se renomnraron tanto las columnas, como el contenido de la columna Cobertura_final_aplicada\n",
    "### 2. ahora, vamos a filtrar las columnas que noc coinciden según los dataframes de polizas vendidad y polizas siniestradas, que son solamente 2018\n"
   ]
  },
  {
   "cell_type": "code",
   "execution_count": 42,
   "id": "6fb90f11",
   "metadata": {
    "vscode": {
     "languageId": "r"
    }
   },
   "outputs": [
    {
     "name": "stdout",
     "output_type": "stream",
     "text": [
      "[1] \"2018-01-01 UTC\"\n"
     ]
    },
    {
     "name": "stdout",
     "output_type": "stream",
     "text": [
      "[1] \"2018-12-31 UTC\"\n"
     ]
    }
   ],
   "source": [
    "# Filtrar los datos para incluir solo los siniestros de 2018\n",
    "Siniestros <- Siniestros %>%\n",
    "    filter(format(Fecha_siniestro, \"%Y\") == \"2018\")\n",
    "\n",
    "# Verificar los resultados\n",
    "print(min(Siniestros$Fecha_siniestro))\n",
    "print(max(Siniestros$Fecha_siniestro))"
   ]
  },
  {
   "cell_type": "code",
   "execution_count": null,
   "id": "x35jsnjm02",
   "metadata": {
    "vscode": {
     "languageId": "r"
    }
   },
   "outputs": [],
   "source": [
    "# Tabla 1: Cantidad de siniestros por fecha y tipo de cobertura\n",
    "\n",
    "## Fecha de siniestro\n",
    "## Siniestro incurrido\n",
    "\n",
    "library(tidyr)\n",
    "\n",
    "tabla_cantidad <- Siniestros %>%\n",
    "  filter(!is.na(Cobertura_final_aplicada)) %>%  # Excluir NA\n",
    "  group_by(Año, Mes, Día, Cobertura_final_aplicada, Siniestro_incurrido) %>%\n",
    "  summarise(Cantidad_siniestros = n(), .groups = 'drop') %>%\n",
    "  pivot_wider(names_from = Cobertura_final_aplicada, \n",
    "              values_from = Cantidad_siniestros, \n",
    "              values_fill = 0)\n",
    "\n",
    "print(\"Tabla 1: Cantidad de siniestros por fecha y tipo de cobertura\")\n",
    "head(tabla_cantidad)"
   ]
  },
  {
   "cell_type": "code",
   "execution_count": null,
   "id": "nj51dv22lx",
   "metadata": {
    "vscode": {
     "languageId": "r"
    }
   },
   "outputs": [],
   "source": [
    "# Tabla 2: Valor efectivamente pagado por fecha y tipo de cobertura\n",
    "tabla_valor <- Siniestros %>%\n",
    "  filter(!is.na(Cobertura_final_aplicada)) %>%  # Excluir NA\n",
    "  group_by(Año, Mes, Día, Cobertura_final_aplicada) %>%\n",
    "  summarise(Valor_pagado = sum(Efectivamente_pagado_por_siniestro, na.rm = TRUE), .groups = 'drop') %>%\n",
    "  pivot_wider(names_from = Cobertura_final_aplicada, \n",
    "              values_from = Valor_pagado, \n",
    "              values_fill = 0)\n",
    "\n",
    "print(\"Tabla 2: Valor efectivamente pagado por fecha y tipo de cobertura\")\n",
    "head(tabla_valor)"
   ]
  },
  {
   "cell_type": "code",
   "execution_count": null,
   "id": "uze5t5ziai",
   "metadata": {
    "vscode": {
     "languageId": "r"
    }
   },
   "outputs": [],
   "source": [
    "# Verificar las dimensiones de las tablas\n",
    "print(paste(\"Dimensiones tabla cantidad:\", dim(tabla_cantidad)[1], \"x\", dim(tabla_cantidad)[2]))\n",
    "print(paste(\"Dimensiones tabla valor:\", dim(tabla_valor)[1], \"x\", dim(tabla_valor)[2]))\n",
    "\n",
    "# Mostrar resumen de las tablas\n",
    "print(\"\\nResumen tabla cantidad:\")\n",
    "summary(tabla_cantidad)\n",
    "\n",
    "print(\"\\nResumen tabla valor:\")\n",
    "summary(tabla_valor)"
   ]
  },
  {
   "cell_type": "code",
   "execution_count": null,
   "id": "zl4ipx5s01d",
   "metadata": {
    "vscode": {
     "languageId": "r"
    }
   },
   "outputs": [],
   "source": [
    "# Guardar las tablas pivoteadas como archivos CSV\n",
    "write.csv(tabla_cantidad, \"../data/processed/tabla_cantidad.csv\", row.names = FALSE)\n",
    "write.csv(tabla_valor, \"../data/processed/tabla_valor.csv\", row.names = FALSE)\n",
    "\n",
    "print(\"Tablas guardadas exitosamente:\")\n",
    "print(\"- tabla_cantidad.csv en data/processed/\")\n",
    "print(\"- tabla_valor.csv en data/processed/\")"
   ]
  }
 ],
 "metadata": {
  "language_info": {
   "name": "python"
  }
 },
 "nbformat": 4,
 "nbformat_minor": 5
}
