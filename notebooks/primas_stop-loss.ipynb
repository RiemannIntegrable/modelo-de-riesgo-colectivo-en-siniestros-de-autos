{
 "cells": [
  {
   "cell_type": "markdown",
   "id": "be5acd90",
   "metadata": {},
   "source": [
    "<div align = \"center\">\n",
    "\n",
    "# **Primas Stop-Loss**\n",
    "\n",
    "</div>"
   ]
  },
  {
   "cell_type": "markdown",
   "id": "58aa8f55",
   "metadata": {},
   "source": [
    "## Data"
   ]
  },
  {
   "cell_type": "code",
   "execution_count": 207,
   "id": "6968624f",
   "metadata": {
    "vscode": {
     "languageId": "r"
    }
   },
   "outputs": [],
   "source": [
    "severidad_individual <- read.csv(\"../data/processed/severidad_completa.csv\")$x\n",
    "cdf_agregada <- read.csv(\"../data/output/perdida_agregada_total_portafolio.csv\")$cdf\n",
    "pmf_agregada <- read.csv(\"../data/output/perdida_agregada_total_portafolio.csv\")$pmf"
   ]
  },
  {
   "cell_type": "markdown",
   "id": "e192648d",
   "metadata": {},
   "source": [
    "## Ajuste de la severidad individual"
   ]
  },
  {
   "cell_type": "code",
   "execution_count": 208,
   "id": "t24q4ics1xi",
   "metadata": {
    "vscode": {
     "languageId": "r"
    }
   },
   "outputs": [],
   "source": [
    "source(\"../src/utils/Excluir_outliers.R\")\n",
    "source(\"../src/utils/Estimadores_severidad.R\")"
   ]
  },
  {
   "cell_type": "markdown",
   "id": "39oolcbaf23",
   "metadata": {},
   "source": [
    "### Limpieza de outliers en severidad individual"
   ]
  },
  {
   "cell_type": "code",
   "execution_count": 209,
   "id": "3czjyw9qley",
   "metadata": {
    "vscode": {
     "languageId": "r"
    }
   },
   "outputs": [
    {
     "name": "stdout",
     "output_type": "stream",
     "text": [
      "═══════════════════════════════════════════════════════════════════════════\n",
      "                    DETECCIÓN DE OUTLIERS - MÉTODO COMBINADO                \n",
      "═══════════════════════════════════════════════════════════════════════════\n",
      "Datos originales: 19532 | Datos positivos: 19532\n",
      "Método 1 - Percentiles: 2.0% cada extremo (268393.66 - 24458579.82)\n",
      "Método 2 - Z-score robusto: Threshold 3.5 | Mediana: 2573896.95 | MAD: 2183564.8292\n",
      "───────────────────────────────────────────────────────────────────────────\n",
      "Outliers por percentiles: 782 (4.0%)\n",
      "Outliers por Z-score: 1093 (5.8%)\n",
      "Outliers totales: 1875 (9.6%)\n",
      "Datos limpios: 17657 (90.4%)\n",
      "───────────────────────────────────────────────────────────────────────────\n",
      "ESTADÍSTICAS DE OUTLIERS:\n",
      "Rango outliers: [1724.49, 611088620.27]\n",
      "Media outliers: 19094967.67 | Mediana outliers: 13445592.32\n",
      "Z-score máximo: 10.02 | Z-score mínimo: 3.50\n",
      "\n",
      "ESTADÍSTICAS DE DATOS LIMPIOS:\n",
      "Rango limpios: [268395.44, 10215859.93]\n",
      "Media limpios: 3046729.02 | Mediana limpios: 2398752.87\n",
      "Z-score máximo limpios: 3.50\n",
      "\n",
      "PRIMEROS 10 OUTLIERS: 1724.49, 3430.26, 3941.68, 5907.67, 9412.64, 14352.09, 14637, 16161.21, 19868, 20491.29...\n",
      "ÚLTIMOS 10 OUTLIERS: 132981651.23, 133522009.24, 144602866.1, 155444224.85, 164123564.7, 174294589.43, 191503401.28, 227138847.24, 274869246.85, 611088620.27\n",
      "───────────────────────────────────────────────────────────────────────────\n",
      "ESTADÍSTICAS ROBUSTAS:\n",
      "Media tradicional: 4587300.77 | Mediana robusta: 2573896.95\n",
      "SD tradicional: 9574726.86 | MAD robusto: 2183564.8292\n",
      "Ratio SD/MAD: 4.38 (>1.5 indica presencia de outliers)\n",
      "═══════════════════════════════════════════════════════════════════════════\n",
      "Datos originales: 19532 \n"
     ]
    },
    {
     "name": "stdout",
     "output_type": "stream",
     "text": [
      "Datos después de limpieza: 17657 \n",
      "Outliers removidos: 1875 \n",
      "Porcentaje de outliers: 9.6 %\n"
     ]
    }
   ],
   "source": [
    "resultado_limpieza <- Excluir_outliers(severidad_individual, \n",
    "                                       threshold = 3.5, \n",
    "                                       percentil_corte = 2.0, \n",
    "                                       silencioso = FALSE)\n",
    "\n",
    "severidad_limpia <- resultado_limpieza$datos_limpios\n",
    "\n",
    "cat(\"Datos originales:\", length(severidad_individual), \"\\n\")\n",
    "cat(\"Datos después de limpieza:\", length(severidad_limpia), \"\\n\")\n",
    "cat(\"Outliers removidos:\", resultado_limpieza$estadisticas$n_outliers, \"\\n\")\n",
    "cat(\"Porcentaje de outliers:\", round(resultado_limpieza$estadisticas$porcentaje_outliers, 2), \"%\\n\")"
   ]
  },
  {
   "cell_type": "markdown",
   "id": "xu7slcwghqs",
   "metadata": {},
   "source": [
    "### Ajuste de distribuciones a la severidad limpia"
   ]
  },
  {
   "cell_type": "code",
   "execution_count": 210,
   "id": "77hvspql7bc",
   "metadata": {
    "vscode": {
     "languageId": "r"
    }
   },
   "outputs": [
    {
     "name": "stdout",
     "output_type": "stream",
     "text": [
      "═══════════════════════════════════════════════════════════════════════════\n",
      "                           ESTIMADORES DE SEVERIDAD                         \n",
      "═══════════════════════════════════════════════════════════════════════════\n",
      "N = 17657 | Media = 3046729.02 | Mediana = 2398752.87 | CV = 0.7277\n",
      "───────────────────────────────────────────────────────────────────────────\n",
      "\n",
      "1. AJUSTE DE DISTRIBUCIONES:\n",
      "───────────────────────────────────────────────────────────────────────────\n",
      "Normal      : μ=3046729.02, σ=2216890.60 | AIC=566107.01 | BIC=566122.57\n",
      "Gamma       : α=1.8742, β=0.0000 | AIC=559092.68 | BIC=559108.24\n",
      "Weibull     : k=1.4279, λ=3354934.89 | AIC=559364.36 | BIC=559379.92\n",
      "Lognormal   : μ=14.6397, σ=0.8103 | AIC=559670.58 | BIC=559686.14\n",
      "\n",
      "2. PRUEBAS DE BONDAD DE AJUSTE (Kolmogorov-Smirnov):\n",
      "───────────────────────────────────────────────────────────────────────────\n",
      "Normal      : D=0.1160 | p-valor=0.0000 | Mal ajuste\n",
      "Gamma       : D=0.0267 | p-valor=0.0000 | Mal ajuste\n",
      "Weibull     : D=0.0384 | p-valor=0.0000 | Mal ajuste\n",
      "Lognormal   : D=0.0466 | p-valor=0.0000 | Mal ajuste\n",
      "\n",
      "3. PRUEBA ANDERSON-DARLING (Normal):\n",
      "───────────────────────────────────────────────────────────────────────────\n",
      "Normal       : A²=503.3496 | p-valor=0.0000 | Mal ajuste\n",
      "\n",
      "4. RESUMEN Y RECOMENDACIÓN:\n",
      "═══════════════════════════════════════════════════════════════════════════\n",
      "MEJOR DISTRIBUCIÓN (AIC y BIC): Gamma\n",
      "PARÁMETROS RECOMENDADOS: α=1.8742, β=0.0000\n",
      "CONCLUSIÓN: El ajuste puede no ser óptimo (rechaza hipótesis nula).\n",
      "═══════════════════════════════════════════════════════════════════════════\n",
      "\n",
      "=== RESUMEN DEL AJUSTE ===\n",
      "Mejor distribución: gamma \n",
      "Parámetros estimados:\n",
      "$shape\n",
      "   shape \n",
      "1.874214 \n",
      "\n",
      "$rate\n",
      "        rate \n",
      "6.151562e-07 \n",
      "\n"
     ]
    }
   ],
   "source": [
    "resultado_ajuste <- Estimadores_severidad(severidad_limpia)\n",
    "\n",
    "mejor_distribucion <- resultado_ajuste$mejor_distribucion_aic\n",
    "parametros_mejor <- resultado_ajuste$ajustes[[mejor_distribucion]]$parametros\n",
    "\n",
    "cat(\"\\n=== RESUMEN DEL AJUSTE ===\\n\")\n",
    "cat(\"Mejor distribución:\", mejor_distribucion, \"\\n\")\n",
    "cat(\"Parámetros estimados:\\n\")\n",
    "print(parametros_mejor)"
   ]
  },
  {
   "cell_type": "code",
   "execution_count": 211,
   "id": "2xah0w4ueui",
   "metadata": {
    "vscode": {
     "languageId": "r"
    }
   },
   "outputs": [
    {
     "name": "stderr",
     "output_type": "stream",
     "text": [
      "Warning message in (function (s, units = \"user\", cex = NULL, font = NULL, vfont = NULL, :\n",
      "“conversion failure on 'Gamma(α=1.874, β=6e-07)' in 'mbcsToSbcs': dot substituted for <ce>”\n",
      "Warning message in (function (s, units = \"user\", cex = NULL, font = NULL, vfont = NULL, :\n",
      "“conversion failure on 'Gamma(α=1.874, β=6e-07)' in 'mbcsToSbcs': dot substituted for <b1>”\n",
      "Warning message in (function (s, units = \"user\", cex = NULL, font = NULL, vfont = NULL, :\n",
      "“conversion failure on 'Gamma(α=1.874, β=6e-07)' in 'mbcsToSbcs': dot substituted for <ce>”\n",
      "Warning message in (function (s, units = \"user\", cex = NULL, font = NULL, vfont = NULL, :\n",
      "“conversion failure on 'Gamma(α=1.874, β=6e-07)' in 'mbcsToSbcs': dot substituted for <b2>”\n",
      "Warning message in text.default(x, y, ...):\n",
      "“conversion failure on 'Gamma(α=1.874, β=6e-07)' in 'mbcsToSbcs': dot substituted for <ce>”\n",
      "Warning message in text.default(x, y, ...):\n",
      "“conversion failure on 'Gamma(α=1.874, β=6e-07)' in 'mbcsToSbcs': dot substituted for <b1>”\n",
      "Warning message in text.default(x, y, ...):\n",
      "“conversion failure on 'Gamma(α=1.874, β=6e-07)' in 'mbcsToSbcs': dot substituted for <ce>”\n",
      "Warning message in text.default(x, y, ...):\n",
      "“conversion failure on 'Gamma(α=1.874, β=6e-07)' in 'mbcsToSbcs': dot substituted for <b2>”\n"
     ]
    },
    {
     "data": {
      "image/png": "[encoded data removed]",
      "text/plain": [
       "Plot with title “Distribución de Severidad Individual (Datos Limpios)”"
      ]
     },
     "metadata": {
      "image/png": {
       "height": 420,
       "width": 420
      }
     },
     "output_type": "display_data"
    }
   ],
   "source": [
    "hist(severidad_limpia/1e6, \n",
    "     breaks = 50, \n",
    "     prob = TRUE,\n",
    "     main = \"Distribución de Severidad Individual (Datos Limpios)\",\n",
    "     xlab = \"Severidad (Millones COP)\",\n",
    "     ylab = \"Densidad\",\n",
    "     col = \"lightblue\",\n",
    "     border = \"white\")\n",
    "\n",
    "shape_param <- parametros_mejor$shape\n",
    "rate_param <- parametros_mejor$rate\n",
    "\n",
    "x_vals <- seq(min(severidad_limpia), max(severidad_limpia), length.out = 1000)\n",
    "y_vals <- dgamma(x_vals, shape = shape_param, rate = rate_param)\n",
    "\n",
    "lines(x_vals/1e6, y_vals*1e6, col = \"red\", lwd = 2)\n",
    "\n",
    "legend(\"topright\", \n",
    "       legend = c(\"Datos observados\", \n",
    "                  paste0(\"Gamma(α=\", round(shape_param, 3), \", β=\", round(rate_param, 7), \")\")),\n",
    "       col = c(\"lightblue\", \"red\"),\n",
    "       lty = c(1, 1),\n",
    "       lwd = c(10, 2),\n",
    "       cex = 0.8)"
   ]
  },
  {
   "cell_type": "code",
   "execution_count": 212,
   "id": "dlji77hi8ua",
   "metadata": {
    "vscode": {
     "languageId": "r"
    }
   },
   "outputs": [
    {
     "data": {
      "text/html": [
       "<strong>pdf:</strong> 2"
      ],
      "text/latex": [
       "\\textbf{pdf:} 2"
      ],
      "text/markdown": [
       "**pdf:** 2"
      ],
      "text/plain": [
       "pdf \n",
       "  2 "
      ]
     },
     "metadata": {},
     "output_type": "display_data"
    }
   ],
   "source": [
    "png(\"../images/ajuste_gamma_severidad_individual.png\", width = 800, height = 600, res = 100)\n",
    "hist(severidad_limpia/1e6, \n",
    "     breaks = 50, \n",
    "     prob = TRUE,\n",
    "     main = \"Distribución de Severidad Individual (Datos Limpios)\",\n",
    "     xlab = \"Severidad (Millones COP)\",\n",
    "     ylab = \"Densidad\",\n",
    "     col = \"lightblue\",\n",
    "     border = \"white\")\n",
    "\n",
    "shape_param <- parametros_mejor$shape\n",
    "rate_param <- parametros_mejor$rate\n",
    "\n",
    "x_vals <- seq(min(severidad_limpia), max(severidad_limpia), length.out = 1000)\n",
    "y_vals <- dgamma(x_vals, shape = shape_param, rate = rate_param)\n",
    "\n",
    "lines(x_vals/1e6, y_vals*1e6, col = \"red\", lwd = 2)\n",
    "\n",
    "legend(\"topright\", \n",
    "       legend = c(\"Datos observados\", \n",
    "                  paste0(\"Gamma(α=\", round(shape_param, 3), \", β=\", round(rate_param, 7), \")\")),\n",
    "       col = c(\"lightblue\", \"red\"),\n",
    "       lty = c(1, 1),\n",
    "       lwd = c(10, 2),\n",
    "       cex = 0.8)\n",
    "dev.off()"
   ]
  },
  {
   "cell_type": "markdown",
   "id": "e6tgji5iapu",
   "metadata": {},
   "source": [
    "## Cálculo de Prima Stop-Loss\n",
    "\n",
    "Para una póliza stop-loss con deducible d, la prima se calcula como:\n",
    "**Prima Stop-Loss = E[max(X - d, 0)]**\n",
    "\n",
    "Donde X sigue una distribución Gamma con los parámetros estimados."
   ]
  },
  {
   "cell_type": "code",
   "execution_count": 213,
   "id": "our16pqpm6e",
   "metadata": {
    "vscode": {
     "languageId": "r"
    }
   },
   "outputs": [
    {
     "name": "stdout",
     "output_type": "stream",
     "text": [
      "Parámetros Gamma:\n",
      "Shape (α): 1.874214 \n",
      "Rate (β): 6.151562e-07 \n",
      "Media de la distribución: 3046728 \n",
      "\n",
      "Calculando primas stop-loss para 200 niveles de deducible...\n",
      "Rango: 50,000 a 1e+07 COP\n",
      "\n",
      "PRIMERAS 10 PRIMAS STOP-LOSS:\n",
      "=============================\n",
      "   deducible deducible_millones prima_stop_loss prima_millones\n",
      "1      50000               0.05         2994976       2.994976\n",
      "2     100000               0.10         2945063       2.945063\n",
      "3     150000               0.15         2895283       2.895283\n",
      "4     200000               0.20         2845685       2.845685\n",
      "5     250000               0.25         2796315       2.796315\n",
      "6     300000               0.30         2747214       2.747214\n",
      "7     350000               0.35         2698420       2.698420\n",
      "8     400000               0.40         2649964       2.649964\n",
      "9     450000               0.45         2601879       2.601879\n",
      "10    500000               0.50         2554192       2.554192\n",
      "   ratio_prima_deducible\n",
      "1              59.899513\n",
      "2              29.450632\n",
      "3              19.301884\n",
      "4              14.228424\n",
      "5              11.185261\n",
      "6               9.157381\n",
      "7               7.709770\n",
      "8               6.624911\n",
      "9               5.781953\n",
      "10              5.108383\n",
      "\n",
      "ÚLTIMAS 10 PRIMAS STOP-LOSS:\n",
      "============================\n",
      "    deducible deducible_millones prima_stop_loss prima_millones\n",
      "191   9550000               9.55        29056.91     0.02905691\n",
      "192   9600000               9.60        28273.33     0.02827333\n",
      "193   9650000               9.65        27510.52     0.02751052\n",
      "194   9700000               9.70        26767.93     0.02676793\n",
      "195   9750000               9.75        26045.04     0.02604504\n",
      "196   9800000               9.80        25341.34     0.02534134\n",
      "197   9850000               9.85        24656.34     0.02465634\n",
      "198   9900000               9.90        23989.54     0.02398954\n",
      "199   9950000               9.95        23340.48     0.02334048\n",
      "200  10000000              10.00        22708.69     0.02270869\n",
      "    ratio_prima_deducible\n",
      "191           0.003042609\n",
      "192           0.002945139\n",
      "193           0.002850831\n",
      "194           0.002759580\n",
      "195           0.002671286\n",
      "196           0.002585851\n",
      "197           0.002503181\n",
      "198           0.002423186\n",
      "199           0.002345777\n",
      "200           0.002270869\n"
     ]
    }
   ],
   "source": [
    "source(\"../src/utils/Prima_stop_loss.R\")\n",
    "\n",
    "parametros_gamma <- list(\n",
    "  shape = parametros_mejor$shape,\n",
    "  rate = parametros_mejor$rate\n",
    ")\n",
    "\n",
    "cat(\"Parámetros Gamma:\\n\")\n",
    "cat(\"Shape (α):\", parametros_gamma$shape, \"\\n\")\n",
    "cat(\"Rate (β):\", parametros_gamma$rate, \"\\n\")\n",
    "cat(\"Media de la distribución:\", parametros_gamma$shape/parametros_gamma$rate, \"\\n\\n\")\n",
    "\n",
    "resultado_primas <- Prima_stop_loss_multiple(\"gamma\", parametros_gamma, \n",
    "                                            desde = 50000, hasta = 10000000, paso = 50000)\n",
    "\n",
    "cat(\"PRIMERAS 10 PRIMAS STOP-LOSS:\\n\")\n",
    "cat(\"=============================\\n\")\n",
    "print(head(resultado_primas, 10))\n",
    "\n",
    "cat(\"\\nÚLTIMAS 10 PRIMAS STOP-LOSS:\\n\")\n",
    "cat(\"============================\\n\")\n",
    "print(tail(resultado_primas, 10))"
   ]
  },
  {
   "cell_type": "code",
   "execution_count": 214,
   "id": "91vv01tgibl",
   "metadata": {
    "vscode": {
     "languageId": "r"
    }
   },
   "outputs": [
    {
     "name": "stdout",
     "output_type": "stream",
     "text": [
      "TABLA DE PRIMAS STOP-LOSS:\n",
      "==========================\n",
      "Variable 'tabla_primas' creada con columnas:\n",
      "- d: Deducible en COP\n",
      "- pi_X_d: Prima stop-loss π_X(d) en COP\n",
      "\n",
      "Primeras 10 filas:\n",
      "        d  pi_X_d\n",
      "1   50000 2994976\n",
      "2  100000 2945063\n",
      "3  150000 2895283\n",
      "4  200000 2845685\n",
      "5  250000 2796315\n",
      "6  300000 2747214\n",
      "7  350000 2698420\n",
      "8  400000 2649964\n",
      "9  450000 2601879\n",
      "10 500000 2554192\n",
      "\n",
      "Últimas 10 filas:\n",
      "           d   pi_X_d\n",
      "191  9550000 29056.91\n",
      "192  9600000 28273.33\n",
      "193  9650000 27510.52\n",
      "194  9700000 26767.93\n",
      "195  9750000 26045.04\n",
      "196  9800000 25341.34\n",
      "197  9850000 24656.34\n",
      "198  9900000 23989.54\n",
      "199  9950000 23340.48\n",
      "200 10000000 22708.69\n",
      "\n",
      "Dimensiones de la tabla: 200 filas x 2 columnas\n"
     ]
    }
   ],
   "source": [
    "# Crear tabla simplificada con d y π_X(d)\n",
    "tabla_primas <- data.frame(\n",
    "  d = resultado_primas$deducible,\n",
    "  pi_X_d = resultado_primas$prima_stop_loss\n",
    ")\n",
    "\n",
    "cat(\"TABLA DE PRIMAS STOP-LOSS:\\n\")\n",
    "cat(\"==========================\\n\")\n",
    "cat(\"Variable 'tabla_primas' creada con columnas:\\n\")\n",
    "cat(\"- d: Deducible en COP\\n\") \n",
    "cat(\"- pi_X_d: Prima stop-loss π_X(d) en COP\\n\\n\")\n",
    "\n",
    "cat(\"Primeras 10 filas:\\n\")\n",
    "print(head(tabla_primas, 10))\n",
    "\n",
    "cat(\"\\nÚltimas 10 filas:\\n\")\n",
    "print(tail(tabla_primas, 10))\n",
    "\n",
    "cat(\"\\nDimensiones de la tabla:\", nrow(tabla_primas), \"filas x\", ncol(tabla_primas), \"columnas\\n\")"
   ]
  },
  {
   "cell_type": "markdown",
   "id": "32ef6145",
   "metadata": {},
   "source": [
    "## Primas Stop Loss X"
   ]
  },
  {
   "cell_type": "code",
   "execution_count": 215,
   "id": "df690dda",
   "metadata": {
    "vscode": {
     "languageId": "r"
    }
   },
   "outputs": [],
   "source": [
    "write.csv(tabla_primas, \"../data/output/primas_sl_X.csv\")"
   ]
  },
  {
   "cell_type": "markdown",
   "id": "857f4274",
   "metadata": {},
   "source": [
    "## Primas Stop Loss S"
   ]
  },
  {
   "cell_type": "code",
   "execution_count": 216,
   "id": "92b39289",
   "metadata": {
    "vscode": {
     "languageId": "r"
    }
   },
   "outputs": [
    {
     "name": "stdout",
     "output_type": "stream",
     "text": [
      "Calculando primas stop-loss discretas para 301 niveles de deducible...\n",
      "Rango deducibles: 0 a 3e+08 \n",
      "Rango valores: 0 a 2e+09 \n",
      "Paso valores: 10000 \n",
      "\n",
      "PRIMAS STOP-LOSS PÉRDIDA AGREGADA S:\n",
      "===================================\n",
      "Primeras 10 filas:\n",
      "       d   pi_X_d deducible_millones prima_millones ratio_prima_deducible\n",
      "1  0e+00 12714886                  0      12.714886                   Inf\n",
      "2  1e+06 11752979                  1      11.752979            11.7529786\n",
      "3  2e+06 10818373                  2      10.818373             5.4091865\n",
      "4  3e+06  9920234                  3       9.920234             3.3067446\n",
      "5  4e+06  9064353                  4       9.064353             2.2660882\n",
      "6  5e+06  8255142                  5       8.255142             1.6510284\n",
      "7  6e+06  7495730                  6       7.495730             1.2492883\n",
      "8  7e+06  6788025                  7       6.788025             0.9697178\n",
      "9  8e+06  6132816                  8       6.132816             0.7666019\n",
      "10 9e+06  5529898                  9       5.529898             0.6144331\n",
      "\n",
      "Últimas 10 filas:\n",
      "           d    pi_X_d deducible_millones prima_millones ratio_prima_deducible\n",
      "292 2.91e+08 0.2103262                291   2.103262e-07          7.227703e-10\n",
      "293 2.92e+08 0.1986367                292   1.986367e-07          6.802628e-10\n",
      "294 2.93e+08 0.1875974                293   1.875974e-07          6.402642e-10\n",
      "295 2.94e+08 0.1771720                294   1.771720e-07          6.026259e-10\n",
      "296 2.95e+08 0.1673264                295   1.673264e-07          5.672082e-10\n",
      "297 2.96e+08 0.1580284                296   1.580284e-07          5.338797e-10\n",
      "298 2.97e+08 0.1492474                297   1.492474e-07          5.025167e-10\n",
      "299 2.98e+08 0.1409548                298   1.409548e-07          4.730028e-10\n",
      "300 2.99e+08 0.1331234                299   1.331234e-07          4.452288e-10\n",
      "301 3.00e+08 0.1257275                300   1.257275e-07          4.190916e-10\n",
      "\n",
      "TABLA SIMPLIFICADA PARA S:\n",
      "==========================\n",
      "Variable 'tabla_primas_S_simple' creada con columnas:\n",
      "- d: Deducible en COP (múltiplos de 1,000,000)\n",
      "- pi_S_d: Prima stop-loss π_S(d) en COP\n",
      "\n",
      "Dimensiones: 301 filas x 2 columnas\n",
      "Rango de deducibles: desde 0 M hasta 300 M\n",
      "\n",
      "Verificación de valores altos de deducibles:\n",
      "d = 50 M -> π_S(d) = 199531.2 COP\n",
      "d = 100 M -> π_S(d) = 11489.05 COP\n",
      "d = 150 M -> π_S(d) = 664.4986 COP\n",
      "d = 200 M -> π_S(d) = 38.26915 COP\n",
      "d = 250 M -> π_S(d) = 2.19491 COP\n"
     ]
    }
   ],
   "source": [
    "tabla_primas_S <- Prima_stop_loss_discreta_multiple(\n",
    "  pmf = pmf_agregada,\n",
    "  desde = 0,\n",
    "  hasta = 300000000,  # Extendido hasta 300M para cubrir deducibles de 250M\n",
    "  paso_deducibles = 1000000,  # Mantener paso de 1M para precisión\n",
    "  paso_valores = 10000\n",
    ")\n",
    "\n",
    "cat(\"PRIMAS STOP-LOSS PÉRDIDA AGREGADA S:\\n\")\n",
    "cat(\"===================================\\n\")\n",
    "cat(\"Primeras 10 filas:\\n\")\n",
    "print(head(tabla_primas_S, 10))\n",
    "\n",
    "cat(\"\\nÚltimas 10 filas:\\n\")\n",
    "print(tail(tabla_primas_S, 10))\n",
    "\n",
    "# Crear tabla simplificada para S\n",
    "tabla_primas_S_simple <- data.frame(\n",
    "  d = tabla_primas_S$d,\n",
    "  pi_S_d = tabla_primas_S$pi_X_d\n",
    ")\n",
    "\n",
    "cat(\"\\nTABLA SIMPLIFICADA PARA S:\\n\")\n",
    "cat(\"==========================\\n\")\n",
    "cat(\"Variable 'tabla_primas_S_simple' creada con columnas:\\n\")\n",
    "cat(\"- d: Deducible en COP (múltiplos de 1,000,000)\\n\") \n",
    "cat(\"- pi_S_d: Prima stop-loss π_S(d) en COP\\n\\n\")\n",
    "\n",
    "cat(\"Dimensiones:\", nrow(tabla_primas_S_simple), \"filas x\", ncol(tabla_primas_S_simple), \"columnas\\n\")\n",
    "cat(\"Rango de deducibles: desde\", min(tabla_primas_S_simple$d)/1e6, \"M hasta\", max(tabla_primas_S_simple$d)/1e6, \"M\\n\")\n",
    "\n",
    "# Verificar algunos valores altos\n",
    "cat(\"\\nVerificación de valores altos de deducibles:\\n\")\n",
    "valores_verificar <- c(50e6, 100e6, 150e6, 200e6, 250e6)\n",
    "for(d_val in valores_verificar) {\n",
    "  pi_val <- tabla_primas_S_simple$pi_S_d[tabla_primas_S_simple$d == d_val]\n",
    "  if(length(pi_val) > 0) {\n",
    "    cat(\"d =\", d_val/1e6, \"M -> π_S(d) =\", pi_val, \"COP\\n\")\n",
    "  } else {\n",
    "    cat(\"d =\", d_val/1e6, \"M -> NO ENCONTRADO\\n\")\n",
    "  }\n",
    "}\n",
    "\n",
    "# Exportar tabla de S\n",
    "write.csv(tabla_primas_S_simple, \"../data/output/primas_sl_S.csv\", row.names = FALSE)"
   ]
  },
  {
   "cell_type": "code",
   "id": "jpa703ga2s",
   "source": "png(\"../images/primas_stop_loss_S.png\", width = 800, height = 600, res = 100)\nplot(tabla_primas_S_simple$d/1e6, tabla_primas_S_simple$pi_S_d/1e6,\n     type = \"l\",\n     main = \"Prima Stop-Loss para Pérdida Agregada S\",\n     xlab = \"Deducible (Millones COP)\",\n     ylab = \"Prima Stop-Loss (Millones COP)\",\n     col = \"blue\",\n     lwd = 2)\ngrid()\ndev.off()",
   "metadata": {},
   "execution_count": null,
   "outputs": []
  },
  {
   "cell_type": "markdown",
   "id": "cb758bce",
   "metadata": {},
   "source": [
    "## Tablas de probabilidad de solvencia\n",
    "\n",
    "Vamos a realizar la siguiente tabla: $[F_S(\\text{recaudo} + (1+\\theta)\\pi_S(d))]_{(\\theta \\in \\{0.05, 0.1, 0.2\\}, d \\in 1000000\\N)}$ pues $F_S(\\text{recaudo} + (1+\\theta)\\pi_S(d)) = Pr(\\text{Reclamos menores a los costos para retencion }d \\text{ y sobrecosto } \\theta \\text{ a la prima stop-loss pura})$"
   ]
  },
  {
   "cell_type": "code",
   "execution_count": 217,
   "id": "de543d0f",
   "metadata": {
    "vscode": {
     "languageId": "r"
    }
   },
   "outputs": [
    {
     "name": "stdout",
     "output_type": "stream",
     "text": [
      "Recaudo total: 319732758 COP\n",
      "Deducibles normales (millones): 0, 5, 10, 15, 20, 25, 30, 35, 40, 45, 50 \n",
      "Deducibles ilógicos (millones): 100, 150, 200, 250 \n",
      "Total de columnas: 15 \n",
      "\n",
      "INFORMACIÓN DE DISCRETIZACIÓN:\n",
      "==============================\n",
      "Paso de discretización: 10000 COP\n",
      "Longitud del vector CDF: 200001 \n",
      "Rango máximo cubierto: 2e+09 COP ( 2000 M)\n",
      "\n",
      "θ = 0.05 , d = 0 M:\n",
      "  π_S(d) = 12714886 COP\n",
      "  (1+θ)π_S(d) = 13350631 COP\n",
      "  Valor a evaluar = 306382127 COP ( 306.3821 M)\n",
      "θ = 0.05 , d = 5 M:\n",
      "  π_S(d) = 8255142 COP\n",
      "  (1+θ)π_S(d) = 8667899 COP\n",
      "  Valor a evaluar = 311064859 COP ( 311.0649 M)\n",
      "θ = 0.05 , d = 10 M:\n",
      "  π_S(d) = 4978220 COP\n",
      "  (1+θ)π_S(d) = 5227131 COP\n",
      "  Valor a evaluar = 314505627 COP ( 314.5056 M)\n",
      "θ = 0.05 , d = 100 M:\n",
      "  π_S(d) = 11489.05 COP\n",
      "  (1+θ)π_S(d) = 12063.5 COP\n",
      "  Valor a evaluar = 319720695 COP ( 319.7207 M)\n",
      "θ = 0.05 , d = 150 M:\n",
      "  π_S(d) = 664.4986 COP\n",
      "  (1+θ)π_S(d) = 697.7235 COP\n",
      "  Valor a evaluar = 319732060 COP ( 319.7321 M)\n",
      "θ = 0.05 , d = 200 M:\n",
      "  π_S(d) = 38.26915 COP\n",
      "  (1+θ)π_S(d) = 40.1826 COP\n",
      "  Valor a evaluar = 319732718 COP ( 319.7327 M)\n",
      "θ = 0.05 , d = 250 M:\n",
      "  π_S(d) = 2.19491 COP\n",
      "  (1+θ)π_S(d) = 2.304656 COP\n",
      "  Valor a evaluar = 319732756 COP ( 319.7328 M)\n",
      "\n",
      "TABLA DE PROBABILIDAD DE SOLVENCIA (COMPLETA)\n",
      "=============================================\n",
      "F_S(recaudo - (1+θ)π_S(d))\n",
      "\n",
      "       d=0M d=5M d=10M d=15M d=20M d=25M d=30M d=35M d=40M d=45M d=50M d=100M\n",
      "θ=0.05    1    1     1     1     1     1     1     1     1     1     1      1\n",
      "θ=0.1     1    1     1     1     1     1     1     1     1     1     1      1\n",
      "θ=0.2     1    1     1     1     1     1     1     1     1     1     1      1\n",
      "       d=150M d=200M d=250M\n",
      "θ=0.05      1      1      1\n",
      "θ=0.1       1      1      1\n",
      "θ=0.2       1      1      1\n",
      "\n",
      "\n",
      "TABLA EN FORMATO DATA FRAME:\n",
      "============================\n",
      "       d=0M d=5M d=10M d=15M d=20M d=25M d=30M d=35M d=40M d=45M d=50M d=100M\n",
      "θ=0.05    1    1     1     1     1     1     1     1     1     1     1      1\n",
      "θ=0.1     1    1     1     1     1     1     1     1     1     1     1      1\n",
      "θ=0.2     1    1     1     1     1     1     1     1     1     1     1      1\n",
      "       d=150M d=200M d=250M\n",
      "θ=0.05      1      1      1\n",
      "θ=0.1       1      1      1\n",
      "θ=0.2       1      1      1\n"
     ]
    }
   ],
   "source": [
    "# Definir parámetros\n",
    "theta_values <- c(0.05, 0.1, 0.2)\n",
    "\n",
    "# Incluir valores \"ilógicos\" de deducibles muy altos\n",
    "d_values_normales <- seq(0, 50e6, by = 5e6)  # 0 a 50M en pasos de 5M\n",
    "d_values_ilogicos <- c(100e6, 150e6, 200e6, 250e6)  # Valores ilógicamente altos\n",
    "d_values <- c(d_values_normales, d_values_ilogicos)\n",
    "\n",
    "# Usar el recaudo ya definido\n",
    "recaudo <- 319732758\n",
    "\n",
    "cat(\"Recaudo total:\", recaudo, \"COP\\n\")\n",
    "cat(\"Deducibles normales (millones):\", paste(d_values_normales/1e6, collapse = \", \"), \"\\n\")\n",
    "cat(\"Deducibles ilógicos (millones):\", paste(d_values_ilogicos/1e6, collapse = \", \"), \"\\n\")\n",
    "cat(\"Total de columnas:\", length(d_values), \"\\n\\n\")\n",
    "\n",
    "# Inicializar la tabla de resultados\n",
    "tabla_solvencia <- matrix(NA, nrow = length(theta_values), ncol = length(d_values))\n",
    "rownames(tabla_solvencia) <- paste0(\"θ=\", theta_values)\n",
    "colnames(tabla_solvencia) <- paste0(\"d=\", d_values/1e6, \"M\")\n",
    "\n",
    "# Función para evaluar CDF considerando la discretización de 10,000\n",
    "evaluar_cdf_discretizada <- function(valor, paso = 10000) {\n",
    "  # Verificar que el valor esté en el rango válido\n",
    "  if (valor < 0) return(0)\n",
    "  \n",
    "  # Calcular el índice correspondiente al valor discretizado\n",
    "  # Los valores van de 0, 10000, 20000, ... hasta (length(cdf_agregada)-1)*10000\n",
    "  indice <- floor(valor / paso) + 1\n",
    "  \n",
    "  # Verificar límites del vector\n",
    "  if (indice > length(cdf_agregada)) {\n",
    "    return(1)  # Si el valor está por encima del rango, probabilidad = 1\n",
    "  }\n",
    "  \n",
    "  # Asegurar que el índice sea válido\n",
    "  indice <- max(1, indice)\n",
    "  \n",
    "  # Para mejorar la precisión, hacer interpolación lineal entre puntos adyacentes\n",
    "  if (indice < length(cdf_agregada)) {\n",
    "    valor_inferior <- (indice - 1) * paso\n",
    "    valor_superior <- indice * paso\n",
    "    \n",
    "    # Interpolación lineal\n",
    "    peso <- (valor - valor_inferior) / paso\n",
    "    cdf_interpolada <- cdf_agregada[indice] * (1 - peso) + cdf_agregada[indice + 1] * peso\n",
    "    \n",
    "    return(cdf_interpolada)\n",
    "  } else {\n",
    "    return(cdf_agregada[indice])\n",
    "  }\n",
    "}\n",
    "\n",
    "# Mostrar información sobre la discretización\n",
    "cat(\"INFORMACIÓN DE DISCRETIZACIÓN:\\n\")\n",
    "cat(\"==============================\\n\")\n",
    "cat(\"Paso de discretización:\", 10000, \"COP\\n\")\n",
    "cat(\"Longitud del vector CDF:\", length(cdf_agregada), \"\\n\")\n",
    "cat(\"Rango máximo cubierto:\", (length(cdf_agregada)-1) * 10000, \"COP (\", ((length(cdf_agregada)-1) * 10000)/1e6, \"M)\\n\\n\")\n",
    "\n",
    "# Calcular las probabilidades para cada combinación de θ y d\n",
    "for (i in 1:length(theta_values)) {\n",
    "  theta <- theta_values[i]\n",
    "  \n",
    "  for (j in 1:length(d_values)) {\n",
    "    d <- d_values[j]\n",
    "    \n",
    "    # Encontrar π_S(d) en la tabla\n",
    "    pi_S_d <- tabla_primas_S_simple$pi_S_d[tabla_primas_S_simple$d == d]\n",
    "    \n",
    "    # Verificar si encontramos el valor\n",
    "    if(length(pi_S_d) == 0) {\n",
    "      cat(\"WARNING: No se encontró π_S(d) para d =\", d/1e6, \"M\\n\")\n",
    "      pi_S_d <- 0  # Usar 0 como valor por defecto\n",
    "    }\n",
    "    \n",
    "    # Calcular el valor donde evaluar F_S\n",
    "    valor_evaluacion <- recaudo - (1 + theta) * pi_S_d\n",
    "    \n",
    "    # Mostrar detalles del cálculo para verificación (solo algunos casos)\n",
    "    if (i == 1 && (j <= 3 || j > length(d_values_normales))) {  # Primeros casos y casos ilógicos\n",
    "      cat(\"θ =\", theta, \", d =\", d/1e6, \"M:\\n\")\n",
    "      cat(\"  π_S(d) =\", pi_S_d, \"COP\\n\")\n",
    "      cat(\"  (1+θ)π_S(d) =\", (1 + theta) * pi_S_d, \"COP\\n\")\n",
    "      cat(\"  Valor a evaluar =\", valor_evaluacion, \"COP (\", valor_evaluacion/1e6, \"M)\\n\")\n",
    "    }\n",
    "    \n",
    "    # Calcular F_S(recaudo - (1+θ)π_S(d)) con discretización correcta\n",
    "    prob_solvencia <- evaluar_cdf_discretizada(valor_evaluacion)\n",
    "    \n",
    "    # Guardar en la tabla\n",
    "    tabla_solvencia[i, j] <- prob_solvencia\n",
    "  }\n",
    "}\n",
    "\n",
    "# Mostrar la tabla\n",
    "cat(\"\\nTABLA DE PROBABILIDAD DE SOLVENCIA (COMPLETA)\\n\")\n",
    "cat(\"=============================================\\n\")\n",
    "cat(\"F_S(recaudo - (1+θ)π_S(d))\\n\\n\")\n",
    "\n",
    "print(round(tabla_solvencia, 4))\n",
    "\n",
    "# Convertir a data frame para mejor visualización\n",
    "df_solvencia <- as.data.frame(tabla_solvencia)\n",
    "\n",
    "cat(\"\\n\\nTABLA EN FORMATO DATA FRAME:\\n\")\n",
    "cat(\"============================\\n\")\n",
    "print(df_solvencia)"
   ]
  },
  {
   "cell_type": "code",
   "execution_count": 218,
   "id": "7245d8yqohr",
   "metadata": {
    "vscode": {
     "languageId": "r"
    }
   },
   "outputs": [],
   "source": [
    "# Exportar tabla de solvencia\n",
    "write.csv(df_solvencia, \"../data/output/tabla_solvencia.csv\", row.names = TRUE)"
   ]
  }
 ],
 "metadata": {
  "kernelspec": {
   "display_name": "R",
   "language": "R",
   "name": "ir"
  },
  "language_info": {
   "codemirror_mode": "r",
   "file_extension": ".r",
   "mimetype": "text/x-r-source",
   "name": "R",
   "pygments_lexer": "r",
   "version": "4.2.3"
  }
 },
 "nbformat": 4,
 "nbformat_minor": 5
}