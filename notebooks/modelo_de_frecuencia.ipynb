{
 "cells": [
  {
   "cell_type": "markdown",
   "id": "a867510d",
   "metadata": {},
   "source": [
    "<div align=\"center\">\n",
    "\n",
    "# **Modelo de Frecuencia**\n",
    "\n",
    "</div>"
   ]
  },
  {
   "cell_type": "markdown",
   "id": "9f7aadbe",
   "metadata": {},
   "source": [
    "## Librerias"
   ]
  },
  {
   "cell_type": "code",
   "execution_count": 182,
   "id": "c3660e8c",
   "metadata": {
    "vscode": {
     "languageId": "r"
    }
   },
   "outputs": [],
   "source": [
    "library(readxl)"
   ]
  },
  {
   "cell_type": "code",
   "execution_count": 183,
   "id": "285880a5",
   "metadata": {
    "vscode": {
     "languageId": "r"
    }
   },
   "outputs": [],
   "source": [
    "source(\"../src/utils/test_sobredispersion.R\")"
   ]
  },
  {
   "cell_type": "markdown",
   "id": "5f079426",
   "metadata": {},
   "source": [
    "## Data"
   ]
  },
  {
   "cell_type": "markdown",
   "id": "940d0fe5",
   "metadata": {
    "vscode": {
     "languageId": "r"
    }
   },
   "source": [
    "### Data Historica"
   ]
  },
  {
   "cell_type": "code",
   "execution_count": 184,
   "id": "4034587f",
   "metadata": {
    "vscode": {
     "languageId": "r"
    }
   },
   "outputs": [],
   "source": [
    "siniestros_ppd <- read.csv(\"../data/processed/siniestros_ppd_dia.csv\")\n",
    "siniestros_pph <- read.csv(\"../data/processed/siniestros_pph_dia.csv\")\n",
    "siniestros_pth <- read.csv(\"../data/processed/siniestros_pth_dia.csv\")\n",
    "siniestros_rc <- read.csv(\"../data/processed/siniestros_rc_dia.csv\")\n",
    "polizas_ppd <- read.csv(\"../data/processed/polizas_ppd_dia.csv\")\n",
    "polizas_pph <- read.csv(\"../data/processed/polizas_pph_dia.csv\")\n",
    "polizas_pth <- read.csv(\"../data/processed/polizas_pth_dia.csv\")\n",
    "polizas_rc <- read.csv(\"../data/processed/polizas_rc_dia.csv\")"
   ]
  },
  {
   "cell_type": "code",
   "execution_count": 185,
   "id": "2b64fc68",
   "metadata": {
    "vscode": {
     "languageId": "r"
    }
   },
   "outputs": [],
   "source": [
    "siniestros_pph$X <- NULL\n",
    "siniestros_pth$X <- NULL\n",
    "siniestros_ppd$X <- NULL\n",
    "siniestros_rc$X <- NULL"
   ]
  },
  {
   "cell_type": "code",
   "execution_count": 186,
   "id": "d138d674",
   "metadata": {
    "vscode": {
     "languageId": "r"
    }
   },
   "outputs": [],
   "source": [
    "polizas_pph$X <- NULL\n",
    "polizas_pth$X <- NULL\n",
    "polizas_ppd$X <- NULL\n",
    "polizas_rc$X <- NULL"
   ]
  },
  {
   "cell_type": "code",
   "execution_count": 187,
   "id": "6a17a435",
   "metadata": {
    "vscode": {
     "languageId": "r"
    }
   },
   "outputs": [
    {
     "data": {
      "text/html": [
       "<style>\n",
       ".list-inline {list-style: none; margin:0; padding: 0}\n",
       ".list-inline>li {display: inline-block}\n",
       ".list-inline>li:not(:last-child)::after {content: \"\\00b7\"; padding: 0 .5ex}\n",
       "</style>\n",
       "<ol class=list-inline><li>'Numero_polizas'</li><li>'Exposicion'</li><li>'dia'</li></ol>\n"
      ],
      "text/latex": [
       "\\begin{enumerate*}\n",
       "\\item 'Numero\\_polizas'\n",
       "\\item 'Exposicion'\n",
       "\\item 'dia'\n",
       "\\end{enumerate*}\n"
      ],
      "text/markdown": [
       "1. 'Numero_polizas'\n",
       "2. 'Exposicion'\n",
       "3. 'dia'\n",
       "\n",
       "\n"
      ],
      "text/plain": [
       "[1] \"Numero_polizas\" \"Exposicion\"     \"dia\"           "
      ]
     },
     "metadata": {},
     "output_type": "display_data"
    }
   ],
   "source": [
    "colnames(polizas_ppd)"
   ]
  },
  {
   "cell_type": "code",
   "execution_count": 188,
   "id": "66359f34",
   "metadata": {
    "vscode": {
     "languageId": "r"
    }
   },
   "outputs": [
    {
     "data": {
      "text/html": [
       "<style>\n",
       ".list-inline {list-style: none; margin:0; padding: 0}\n",
       ".list-inline>li {display: inline-block}\n",
       ".list-inline>li:not(:last-child)::after {content: \"\\00b7\"; padding: 0 .5ex}\n",
       "</style>\n",
       "<ol class=list-inline><li>'dia'</li><li>'severidad'</li><li>'siniestros'</li></ol>\n"
      ],
      "text/latex": [
       "\\begin{enumerate*}\n",
       "\\item 'dia'\n",
       "\\item 'severidad'\n",
       "\\item 'siniestros'\n",
       "\\end{enumerate*}\n"
      ],
      "text/markdown": [
       "1. 'dia'\n",
       "2. 'severidad'\n",
       "3. 'siniestros'\n",
       "\n",
       "\n"
      ],
      "text/plain": [
       "[1] \"dia\"        \"severidad\"  \"siniestros\""
      ]
     },
     "metadata": {},
     "output_type": "display_data"
    }
   ],
   "source": [
    "colnames(siniestros_ppd)"
   ]
  },
  {
   "cell_type": "markdown",
   "id": "664ae655",
   "metadata": {},
   "source": [
    "### Nuevas polizas"
   ]
  },
  {
   "cell_type": "code",
   "execution_count": 189,
   "id": "3e71e767",
   "metadata": {
    "vscode": {
     "languageId": "r"
    }
   },
   "outputs": [],
   "source": [
    "vigentes <- read_excel(\"../data/input/Grupo_P11.xlsx\")"
   ]
  },
  {
   "cell_type": "markdown",
   "id": "6a9cef07",
   "metadata": {},
   "source": [
    "## Merge de las tablas por dia"
   ]
  },
  {
   "cell_type": "code",
   "execution_count": 190,
   "id": "9eafd4e5",
   "metadata": {
    "vscode": {
     "languageId": "r"
    }
   },
   "outputs": [],
   "source": [
    "ppd <- merge(polizas_ppd, siniestros_ppd, by.x = \"dia\", by.y = \"dia\")\n",
    "pph <- merge(polizas_pph, siniestros_pph, by.x = \"dia\", by.y = \"dia\")\n",
    "pth <- merge(polizas_pth, siniestros_pth, by.x = \"dia\", by.y = \"dia\")\n",
    "rc <- merge(polizas_rc, siniestros_rc, by.x = \"dia\", by.y = \"dia\")"
   ]
  },
  {
   "cell_type": "code",
   "execution_count": 191,
   "id": "5042714e",
   "metadata": {
    "vscode": {
     "languageId": "r"
    }
   },
   "outputs": [],
   "source": [
    "ppd$X <- NULL\n",
    "pph$X <- NULL\n",
    "pth$X <- NULL\n",
    "rc$X <- NULL"
   ]
  },
  {
   "cell_type": "code",
   "execution_count": 192,
   "id": "6bbec9b4",
   "metadata": {
    "vscode": {
     "languageId": "r"
    }
   },
   "outputs": [
    {
     "data": {
      "text/html": [
       "<table class=\"dataframe\">\n",
       "<caption>A data.frame: 6 × 5</caption>\n",
       "<thead>\n",
       "\t<tr><th></th><th scope=col>dia</th><th scope=col>Numero_polizas</th><th scope=col>Exposicion</th><th scope=col>severidad</th><th scope=col>siniestros</th></tr>\n",
       "\t<tr><th></th><th scope=col>&lt;int&gt;</th><th scope=col>&lt;int&gt;</th><th scope=col>&lt;int&gt;</th><th scope=col>&lt;dbl&gt;</th><th scope=col>&lt;int&gt;</th></tr>\n",
       "</thead>\n",
       "<tbody>\n",
       "\t<tr><th scope=row>1</th><td>1</td><td>177601</td><td>72163668</td><td>231334801</td><td>54</td></tr>\n",
       "\t<tr><th scope=row>2</th><td>2</td><td>176631</td><td>72082191</td><td>237311818</td><td>57</td></tr>\n",
       "\t<tr><th scope=row>3</th><td>3</td><td>176626</td><td>72009339</td><td>211603698</td><td>47</td></tr>\n",
       "\t<tr><th scope=row>4</th><td>4</td><td>176661</td><td>71949054</td><td>289397034</td><td>58</td></tr>\n",
       "\t<tr><th scope=row>5</th><td>5</td><td>176650</td><td>71882392</td><td>185970337</td><td>34</td></tr>\n",
       "\t<tr><th scope=row>6</th><td>6</td><td>176480</td><td>71760771</td><td>221639483</td><td>53</td></tr>\n",
       "</tbody>\n",
       "</table>\n"
      ],
      "text/latex": [
       "A data.frame: 6 × 5\n",
       "\\begin{tabular}{r|lllll}\n",
       "  & dia & Numero\\_polizas & Exposicion & severidad & siniestros\\\\\n",
       "  & <int> & <int> & <int> & <dbl> & <int>\\\\\n",
       "\\hline\n",
       "\t1 & 1 & 177601 & 72163668 & 231334801 & 54\\\\\n",
       "\t2 & 2 & 176631 & 72082191 & 237311818 & 57\\\\\n",
       "\t3 & 3 & 176626 & 72009339 & 211603698 & 47\\\\\n",
       "\t4 & 4 & 176661 & 71949054 & 289397034 & 58\\\\\n",
       "\t5 & 5 & 176650 & 71882392 & 185970337 & 34\\\\\n",
       "\t6 & 6 & 176480 & 71760771 & 221639483 & 53\\\\\n",
       "\\end{tabular}\n"
      ],
      "text/markdown": [
       "\n",
       "A data.frame: 6 × 5\n",
       "\n",
       "| <!--/--> | dia &lt;int&gt; | Numero_polizas &lt;int&gt; | Exposicion &lt;int&gt; | severidad &lt;dbl&gt; | siniestros &lt;int&gt; |\n",
       "|---|---|---|---|---|---|\n",
       "| 1 | 1 | 177601 | 72163668 | 231334801 | 54 |\n",
       "| 2 | 2 | 176631 | 72082191 | 237311818 | 57 |\n",
       "| 3 | 3 | 176626 | 72009339 | 211603698 | 47 |\n",
       "| 4 | 4 | 176661 | 71949054 | 289397034 | 58 |\n",
       "| 5 | 5 | 176650 | 71882392 | 185970337 | 34 |\n",
       "| 6 | 6 | 176480 | 71760771 | 221639483 | 53 |\n",
       "\n"
      ],
      "text/plain": [
       "  dia Numero_polizas Exposicion severidad siniestros\n",
       "1 1   177601         72163668   231334801 54        \n",
       "2 2   176631         72082191   237311818 57        \n",
       "3 3   176626         72009339   211603698 47        \n",
       "4 4   176661         71949054   289397034 58        \n",
       "5 5   176650         71882392   185970337 34        \n",
       "6 6   176480         71760771   221639483 53        "
      ]
     },
     "metadata": {},
     "output_type": "display_data"
    }
   ],
   "source": [
    "head(ppd)"
   ]
  },
  {
   "cell_type": "markdown",
   "id": "de78012e",
   "metadata": {},
   "source": [
    "## Dispersiones"
   ]
  },
  {
   "cell_type": "code",
   "execution_count": 193,
   "id": "4602d0bf",
   "metadata": {
    "vscode": {
     "languageId": "r"
    }
   },
   "outputs": [
    {
     "data": {
      "text/html": [
       "0.609658054670842"
      ],
      "text/latex": [
       "0.609658054670842"
      ],
      "text/markdown": [
       "0.609658054670842"
      ],
      "text/plain": [
       "[1] 0.6096581"
      ]
     },
     "metadata": {},
     "output_type": "display_data"
    }
   ],
   "source": [
    "var(pph$siniestros) / mean(pph$siniestros)"
   ]
  },
  {
   "cell_type": "code",
   "execution_count": 194,
   "id": "48e83e55",
   "metadata": {
    "vscode": {
     "languageId": "r"
    }
   },
   "outputs": [
    {
     "data": {
      "text/html": [
       "0.560104814936128"
      ],
      "text/latex": [
       "0.560104814936128"
      ],
      "text/markdown": [
       "0.560104814936128"
      ],
      "text/plain": [
       "[1] 0.5601048"
      ]
     },
     "metadata": {},
     "output_type": "display_data"
    }
   ],
   "source": [
    "var(pth$siniestros) / mean(pth$siniestros)"
   ]
  },
  {
   "cell_type": "code",
   "execution_count": 195,
   "id": "c62832d3",
   "metadata": {
    "vscode": {
     "languageId": "r"
    }
   },
   "outputs": [
    {
     "data": {
      "text/html": [
       "1.31875549468819"
      ],
      "text/latex": [
       "1.31875549468819"
      ],
      "text/markdown": [
       "1.31875549468819"
      ],
      "text/plain": [
       "[1] 1.318755"
      ]
     },
     "metadata": {},
     "output_type": "display_data"
    }
   ],
   "source": [
    "var(ppd$siniestros) / mean(ppd$siniestros)"
   ]
  },
  {
   "cell_type": "code",
   "execution_count": 196,
   "id": "7f422e01",
   "metadata": {
    "vscode": {
     "languageId": "r"
    }
   },
   "outputs": [
    {
     "data": {
      "text/html": [
       "1.24913706862977"
      ],
      "text/latex": [
       "1.24913706862977"
      ],
      "text/markdown": [
       "1.24913706862977"
      ],
      "text/plain": [
       "[1] 1.249137"
      ]
     },
     "metadata": {},
     "output_type": "display_data"
    }
   ],
   "source": [
    "var(rc$siniestros) / mean(rc$siniestros)"
   ]
  },
  {
   "cell_type": "markdown",
   "id": "9dafdf49",
   "metadata": {},
   "source": [
    "## Merge de tablas por semana"
   ]
  },
  {
   "cell_type": "code",
   "execution_count": 197,
   "id": "43170957",
   "metadata": {
    "vscode": {
     "languageId": "r"
    }
   },
   "outputs": [],
   "source": [
    "siniestros_ppd_semana <- read.csv(\"../data/processed/siniestros_ppd_semana.csv\")\n",
    "siniestros_pph_semana <- read.csv(\"../data/processed/siniestros_pph_semana.csv\")\n",
    "siniestros_pth_semana <- read.csv(\"../data/processed/siniestros_pth_semana.csv\")\n",
    "siniestros_rc_semana <- read.csv(\"../data/processed/siniestros_rc_semana.csv\")\n",
    "polizas_ppd_semana <- read.csv(\"../data/processed/polizas_ppd_semana.csv\")\n",
    "polizas_pph_semana <- read.csv(\"../data/processed/polizas_pph_semana.csv\")\n",
    "polizas_pth_semana <- read.csv(\"../data/processed/polizas_pth_semana.csv\")\n",
    "polizas_rc_semana <- read.csv(\"../data/processed/polizas_rc_semana.csv\")"
   ]
  },
  {
   "cell_type": "code",
   "execution_count": 198,
   "id": "149a2444",
   "metadata": {
    "vscode": {
     "languageId": "r"
    }
   },
   "outputs": [],
   "source": [
    "ppd_semana <- merge(polizas_ppd_semana, siniestros_ppd_semana, by.x = \"Semana\", by.y = \"semana\")\n",
    "pph_semana <- merge(polizas_pph_semana, siniestros_pph_semana, by.x = \"Semana\", by.y = \"semana\")\n",
    "pth_semana <- merge(polizas_pth_semana, siniestros_pth_semana, by.x = \"Semana\", by.y = \"semana\")\n",
    "rc_semana <- merge(polizas_rc_semana, siniestros_rc_semana, by.x = \"Semana\", by.y = \"semana\")"
   ]
  },
  {
   "cell_type": "code",
   "execution_count": 199,
   "id": "860b03d4",
   "metadata": {
    "vscode": {
     "languageId": "r"
    }
   },
   "outputs": [],
   "source": [
    "ppd_semana$X <- NULL\n",
    "pph_semana$X <- NULL\n",
    "pth_semana$X <- NULL\n",
    "rc_semana$X <- NULL"
   ]
  },
  {
   "cell_type": "markdown",
   "id": "65717e57",
   "metadata": {},
   "source": [
    "## Dispersiones semanales"
   ]
  },
  {
   "cell_type": "code",
   "execution_count": 200,
   "id": "df77c3c7",
   "metadata": {
    "vscode": {
     "languageId": "r"
    }
   },
   "outputs": [],
   "source": [
    "D_ppd <- var(ppd_semana$siniestros)/mean(ppd_semana$siniestros)"
   ]
  },
  {
   "cell_type": "code",
   "execution_count": 201,
   "id": "8e6c52fc",
   "metadata": {
    "vscode": {
     "languageId": "r"
    }
   },
   "outputs": [],
   "source": [
    "D_pph <- var(pph_semana$siniestros)/mean(pph_semana$siniestros)"
   ]
  },
  {
   "cell_type": "code",
   "execution_count": 202,
   "id": "3f828959",
   "metadata": {
    "vscode": {
     "languageId": "r"
    }
   },
   "outputs": [],
   "source": [
    "D_pth <- var(pth_semana$siniestros)/mean(pth_semana$siniestros)"
   ]
  },
  {
   "cell_type": "code",
   "execution_count": 203,
   "id": "c8b6554e",
   "metadata": {
    "vscode": {
     "languageId": "r"
    }
   },
   "outputs": [],
   "source": [
    "D_rc <- var(rc_semana$siniestros)/mean(rc_semana$siniestros)"
   ]
  },
  {
   "cell_type": "markdown",
   "id": "557032b6",
   "metadata": {},
   "source": [
    "## Test de sobredispersiones"
   ]
  },
  {
   "cell_type": "code",
   "execution_count": 204,
   "id": "9a9b1084",
   "metadata": {
    "vscode": {
     "languageId": "r"
    }
   },
   "outputs": [
    {
     "name": "stdout",
     "output_type": "stream",
     "text": [
      "═══════════════════════════════════════════════════════════════\n",
      "                    TESTS DE SOBREDISPERSIÓN                    \n",
      "═══════════════════════════════════════════════════════════════\n",
      "N = 53 | Media = 283.717 | Varianza = 1592.784\n",
      "───────────────────────────────────────────────────────────────\n",
      "Sobredispersión (Var/Media) |    5.614 |        - | Sobredispersión\n",
      "Test Cameron-Trivedi      |    1.131 |    0.129 | No sobredispersión\n",
      "Test Índice Dispersión  |  291.927 |   <2e-16 | Sobredispersión\n",
      "Test Cociente Var/Media   |    5.614 |        - | Sobredispersión\n",
      "═══════════════════════════════════════════════════════════════\n",
      "CONCLUSIÓN: Evidencia FUERTE de sobredispersión\n",
      "═══════════════════════════════════════════════════════════════\n"
     ]
    }
   ],
   "source": [
    "test_sobredispersion(ppd_semana$siniestros)"
   ]
  },
  {
   "cell_type": "code",
   "execution_count": 205,
   "id": "18c3c9f0",
   "metadata": {
    "vscode": {
     "languageId": "r"
    }
   },
   "outputs": [
    {
     "name": "stdout",
     "output_type": "stream",
     "text": [
      "═══════════════════════════════════════════════════════════════\n",
      "                    TESTS DE SOBREDISPERSIÓN                    \n",
      "═══════════════════════════════════════════════════════════════\n",
      "N = 52 | Media = 12.096 | Varianza = 11.422\n",
      "───────────────────────────────────────────────────────────────\n",
      "Sobredispersión (Var/Media) |    0.944 |        - | Equidispersión\n",
      "Test Cameron-Trivedi      |   -0.392 |    0.653 | No sobredispersión\n",
      "Test Índice Dispersión  |   48.157 |    0.587 | No sobredispersión\n",
      "Test Cociente Var/Media   |    0.944 |        - | Equidispersión\n",
      "═══════════════════════════════════════════════════════════════\n",
      "CONCLUSIÓN: Evidencia DÉBIL o NULA de sobredispersión\n",
      "═══════════════════════════════════════════════════════════════\n"
     ]
    }
   ],
   "source": [
    "test_sobredispersion(pph_semana$siniestros)"
   ]
  },
  {
   "cell_type": "code",
   "execution_count": 206,
   "id": "0bc2176f",
   "metadata": {
    "vscode": {
     "languageId": "r"
    }
   },
   "outputs": [
    {
     "name": "stdout",
     "output_type": "stream",
     "text": [
      "═══════════════════════════════════════════════════════════════\n",
      "                    TESTS DE SOBREDISPERSIÓN                    \n",
      "═══════════════════════════════════════════════════════════════\n",
      "N = 53 | Media = 9.377 | Varianza = 13.855\n",
      "───────────────────────────────────────────────────────────────\n",
      "Sobredispersión (Var/Media) |    1.477 |        - | Sobredispersión\n",
      "Test Cameron-Trivedi      |    1.724 |   0.0424 | Sobredispersión\n",
      "Test Índice Dispersión  |   76.829 |   0.0142 | Sobredispersión\n",
      "Test Cociente Var/Media   |    1.477 |        - | Sobredispersión\n",
      "═══════════════════════════════════════════════════════════════\n",
      "CONCLUSIÓN: Evidencia FUERTE de sobredispersión\n",
      "═══════════════════════════════════════════════════════════════\n"
     ]
    }
   ],
   "source": [
    "test_sobredispersion(pth_semana$siniestros)"
   ]
  },
  {
   "cell_type": "code",
   "execution_count": 207,
   "id": "e25909df",
   "metadata": {
    "vscode": {
     "languageId": "r"
    }
   },
   "outputs": [
    {
     "name": "stdout",
     "output_type": "stream",
     "text": [
      "═══════════════════════════════════════════════════════════════\n",
      "                    TESTS DE SOBREDISPERSIÓN                    \n",
      "═══════════════════════════════════════════════════════════════\n",
      "N = 53 | Media = 54.302 | Varianza = 128.676\n",
      "───────────────────────────────────────────────────────────────\n",
      "Sobredispersión (Var/Media) |     2.37 |        - | Sobredispersión\n",
      "Test Cameron-Trivedi      |    1.523 |   0.0639 | No sobredispersión\n",
      "Test Índice Dispersión  |  123.222 | 1.03e-07 | Sobredispersión\n",
      "Test Cociente Var/Media   |     2.37 |        - | Sobredispersión\n",
      "═══════════════════════════════════════════════════════════════\n",
      "CONCLUSIÓN: Evidencia FUERTE de sobredispersión\n",
      "═══════════════════════════════════════════════════════════════\n"
     ]
    }
   ],
   "source": [
    "test_sobredispersion(rc_semana$siniestros)"
   ]
  },
  {
   "cell_type": "markdown",
   "id": "4cb13ddb",
   "metadata": {
    "vscode": {
     "languageId": "r"
    }
   },
   "source": [
    "Sin duda hay un patron. A pesar de cambiar las ventanas temporales de agrupacion de datos las perdidas por hurto tienen una sobredispersion mas pequeña que las perdidas por daños o responzabilidad civil. Como conclusion $N_{PPD}$, $N_{PTH}$ y $N_{RC}$ son binomial negativas y $N_{PPH}$ es poisson."
   ]
  },
  {
   "cell_type": "markdown",
   "id": "398209b5",
   "metadata": {},
   "source": [
    "## Exposiciones viejas"
   ]
  },
  {
   "cell_type": "code",
   "execution_count": 208,
   "id": "1186b1f6",
   "metadata": {
    "vscode": {
     "languageId": "r"
    }
   },
   "outputs": [],
   "source": [
    "exposiciones_viejas <- read.csv(\"../data/processed/exposiciones_viejas_por_cobertura.csv\")"
   ]
  },
  {
   "cell_type": "markdown",
   "id": "1df2fcb0",
   "metadata": {},
   "source": [
    "## Encontrando los $\\lambda_j$"
   ]
  },
  {
   "cell_type": "code",
   "execution_count": 209,
   "id": "05858ee4",
   "metadata": {
    "vscode": {
     "languageId": "r"
    }
   },
   "outputs": [
    {
     "data": {
      "text/html": [
       "0.00126461588825759"
      ],
      "text/latex": [
       "0.00126461588825759"
      ],
      "text/markdown": [
       "0.00126461588825759"
      ],
      "text/plain": [
       "[1] 0.001264616"
      ]
     },
     "metadata": {},
     "output_type": "display_data"
    }
   ],
   "source": [
    "l_pph <- sum(pph_semana$siniestros)/exposiciones_viejas$pph\n",
    "l_pph"
   ]
  },
  {
   "cell_type": "code",
   "execution_count": 210,
   "id": "5f4ae96a",
   "metadata": {
    "vscode": {
     "languageId": "r"
    }
   },
   "outputs": [
    {
     "data": {
      "text/html": [
       "0.00126130672464456"
      ],
      "text/latex": [
       "0.00126130672464456"
      ],
      "text/markdown": [
       "0.00126130672464456"
      ],
      "text/plain": [
       "[1] 0.001261307"
      ]
     },
     "metadata": {},
     "output_type": "display_data"
    }
   ],
   "source": [
    "l_pth <- sum(pph_semana$siniestros)/exposiciones_viejas$pth\n",
    "l_pth"
   ]
  },
  {
   "cell_type": "code",
   "execution_count": 211,
   "id": "bec7cffb",
   "metadata": {
    "vscode": {
     "languageId": "r"
    }
   },
   "outputs": [
    {
     "data": {
      "text/html": [
       "0.0302306690758939"
      ],
      "text/latex": [
       "0.0302306690758939"
      ],
      "text/markdown": [
       "0.0302306690758939"
      ],
      "text/plain": [
       "[1] 0.03023067"
      ]
     },
     "metadata": {},
     "output_type": "display_data"
    }
   ],
   "source": [
    "l_ppd <- sum(ppd_semana$siniestros)/exposiciones_viejas$ppd\n",
    "l_ppd"
   ]
  },
  {
   "cell_type": "code",
   "execution_count": 212,
   "id": "efb60b3b",
   "metadata": {
    "vscode": {
     "languageId": "r"
    }
   },
   "outputs": [
    {
     "data": {
      "text/html": [
       "0.00681027854873637"
      ],
      "text/latex": [
       "0.00681027854873637"
      ],
      "text/markdown": [
       "0.00681027854873637"
      ],
      "text/plain": [
       "[1] 0.006810279"
      ]
     },
     "metadata": {},
     "output_type": "display_data"
    }
   ],
   "source": [
    "l_rc <- sum(rc_semana$siniestros)/exposiciones_viejas$rc\n",
    "l_rc"
   ]
  },
  {
   "cell_type": "code",
   "execution_count": 213,
   "id": "0c14b590",
   "metadata": {
    "vscode": {
     "languageId": "r"
    }
   },
   "outputs": [],
   "source": [
    "l <- data.frame(\n",
    "    ppd = c(l_ppd),\n",
    "    pph = c(l_pph),\n",
    "    pth = c(l_pth),\n",
    "    rc = c(l_rc)\n",
    ")\n",
    "\n",
    "write.csv(l, \"../data/processed/les_por_cobertura.csv\")"
   ]
  },
  {
   "cell_type": "markdown",
   "id": "2a17cd61",
   "metadata": {},
   "source": [
    "## Modelando las $N_j^{(nuevo)}$\n",
    "\n",
    "- Para las poisson es facil, su parametro es la intensidad por la exposicion\n",
    "\n",
    "- Para las binomiales negativas es mas complejo, debemos valernos de que $p = \\frac{1}{D}$ y $r = \\lambda \\times E \\times p$."
   ]
  },
  {
   "cell_type": "code",
   "execution_count": 214,
   "id": "2cdb2e9b",
   "metadata": {
    "vscode": {
     "languageId": "r"
    }
   },
   "outputs": [],
   "source": [
    "exposiciones_nuevas <- read.csv(\"../data/processed/exposiciones_nuevas_por_cobertura.csv\")"
   ]
  },
  {
   "cell_type": "markdown",
   "id": "97f5c448",
   "metadata": {},
   "source": [
    "### $N_{pph}^{(nuevo)}$"
   ]
  },
  {
   "cell_type": "code",
   "execution_count": 215,
   "id": "08291469",
   "metadata": {
    "vscode": {
     "languageId": "r"
    }
   },
   "outputs": [
    {
     "data": {
      "text/html": [
       "0.340826108339143"
      ],
      "text/latex": [
       "0.340826108339143"
      ],
      "text/markdown": [
       "0.340826108339143"
      ],
      "text/plain": [
       "[1] 0.3408261"
      ]
     },
     "metadata": {},
     "output_type": "display_data"
    }
   ],
   "source": [
    "p_pph <- l_pph * exposiciones_nuevas$pph\n",
    "p_pph"
   ]
  },
  {
   "cell_type": "markdown",
   "id": "b09eccfc",
   "metadata": {},
   "source": [
    "$\\Rightarrow N_{pph}^{(nuevo)} \\sim \\mathcal{P}(0.340826108339143)$"
   ]
  },
  {
   "cell_type": "markdown",
   "id": "201db3a3",
   "metadata": {},
   "source": [
    "### $N_{ppd}^{(nuevo)}$"
   ]
  },
  {
   "cell_type": "code",
   "execution_count": 217,
   "id": "3d8e7272",
   "metadata": {
    "vscode": {
     "languageId": "r"
    }
   },
   "outputs": [
    {
     "data": {
      "text/html": [
       "0.178126492125224"
      ],
      "text/latex": [
       "0.178126492125224"
      ],
      "text/markdown": [
       "0.178126492125224"
      ],
      "text/plain": [
       "[1] 0.1781265"
      ]
     },
     "metadata": {},
     "output_type": "display_data"
    },
    {
     "data": {
      "text/html": [
       "1.45127761435981"
      ],
      "text/latex": [
       "1.45127761435981"
      ],
      "text/markdown": [
       "1.45127761435981"
      ],
      "text/plain": [
       "[1] 1.451278"
      ]
     },
     "metadata": {},
     "output_type": "display_data"
    }
   ],
   "source": [
    "p_ppd <- 1/D_ppd\n",
    "p_ppd\n",
    "r_ppd <- l_ppd * exposiciones_nuevas$ppd * p_ppd\n",
    "r_ppd"
   ]
  },
  {
   "cell_type": "markdown",
   "id": "e26b4d1f",
   "metadata": {},
   "source": [
    "$\\Rightarrow N_{ppd}^{(nuevo)} \\sim \\mathcal{BN}(1.45127761435981,0.178126492125224)$"
   ]
  },
  {
   "cell_type": "markdown",
   "id": "538c07da",
   "metadata": {
    "vscode": {
     "languageId": "r"
    }
   },
   "source": [
    "### $N_{pth}^{(nuevo)}$"
   ]
  },
  {
   "cell_type": "code",
   "execution_count": 218,
   "id": "851352db",
   "metadata": {
    "vscode": {
     "languageId": "r"
    }
   },
   "outputs": [
    {
     "data": {
      "text/html": [
       "0.676827990781479"
      ],
      "text/latex": [
       "0.676827990781479"
      ],
      "text/markdown": [
       "0.676827990781479"
      ],
      "text/plain": [
       "[1] 0.676828"
      ]
     },
     "metadata": {},
     "output_type": "display_data"
    },
    {
     "data": {
      "text/html": [
       "0.231789073305598"
      ],
      "text/latex": [
       "0.231789073305598"
      ],
      "text/markdown": [
       "0.231789073305598"
      ],
      "text/plain": [
       "[1] 0.2317891"
      ]
     },
     "metadata": {},
     "output_type": "display_data"
    }
   ],
   "source": [
    "p_pth <- 1/D_pth\n",
    "p_pth\n",
    "r_pth <- l_pth * exposiciones_nuevas$pth * p_pth\n",
    "r_pth"
   ]
  },
  {
   "cell_type": "markdown",
   "id": "9eb7ae39",
   "metadata": {},
   "source": [
    "$\\Rightarrow N_{pth}^{(nuevo)} \\sim \\mathcal{BN}(0.231789073305598,0.676827990781479)$"
   ]
  },
  {
   "cell_type": "markdown",
   "id": "a1171a35",
   "metadata": {},
   "source": [
    "### $N_{rc}^{(nuevo)}$"
   ]
  },
  {
   "cell_type": "code",
   "execution_count": 219,
   "id": "93f88a2c",
   "metadata": {
    "vscode": {
     "languageId": "r"
    }
   },
   "outputs": [
    {
     "data": {
      "text/html": [
       "0.422003654492544"
      ],
      "text/latex": [
       "0.422003654492544"
      ],
      "text/markdown": [
       "0.422003654492544"
      ],
      "text/plain": [
       "[1] 0.4220037"
      ]
     },
     "metadata": {},
     "output_type": "display_data"
    },
    {
     "data": {
      "text/html": [
       "0.591689811483642"
      ],
      "text/latex": [
       "0.591689811483642"
      ],
      "text/markdown": [
       "0.591689811483642"
      ],
      "text/plain": [
       "[1] 0.5916898"
      ]
     },
     "metadata": {},
     "output_type": "display_data"
    }
   ],
   "source": [
    "p_rc <- 1/D_rc\n",
    "p_rc\n",
    "r_rc <- l_rc * exposiciones_nuevas$rc * p_rc\n",
    "r_rc"
   ]
  },
  {
   "cell_type": "markdown",
   "id": "151f7203",
   "metadata": {},
   "source": [
    "$\\Rightarrow N_{rc}^{(nuevo)} \\sim \\mathcal{BN}(0.591689811483642,0.422003654492544)$"
   ]
  }
 ],
 "metadata": {
  "kernelspec": {
   "display_name": "R",
   "language": "R",
   "name": "ir"
  },
  "language_info": {
   "codemirror_mode": "r",
   "file_extension": ".r",
   "mimetype": "text/x-r-source",
   "name": "R",
   "pygments_lexer": "r",
   "version": "4.2.3"
  }
 },
 "nbformat": 4,
 "nbformat_minor": 5
}
