{
 "cells": [
  {
   "cell_type": "markdown",
   "id": "a867510d",
   "metadata": {},
   "source": [
    "<div align=\"center\">\n",
    "\n",
    "# **Modelo de Frecuencia**\n",
    "\n",
    "</div>"
   ]
  },
  {
   "cell_type": "markdown",
   "id": "9f7aadbe",
   "metadata": {},
   "source": [
    "## Librerias"
   ]
  },
  {
   "cell_type": "code",
   "execution_count": 1,
   "id": "39b1b67f",
   "metadata": {
    "vscode": {
     "languageId": "r"
    }
   },
   "outputs": [],
   "source": [
    "source(\"../src/utils/Estimadores_frecuencia.R\")\n",
    "source(\"../src/utils/test_independencia.R\")"
   ]
  },
  {
   "cell_type": "code",
   "execution_count": 2,
   "id": "c3660e8c",
   "metadata": {
    "vscode": {
     "languageId": "r"
    }
   },
   "outputs": [
    {
     "name": "stderr",
     "output_type": "stream",
     "text": [
      "\n",
      "Attaching package: ‘dplyr’\n",
      "\n",
      "\n",
      "The following objects are masked from ‘package:stats’:\n",
      "\n",
      "    filter, lag\n",
      "\n",
      "\n",
      "The following objects are masked from ‘package:base’:\n",
      "\n",
      "    intersect, setdiff, setequal, union\n",
      "\n",
      "\n",
      "\n",
      "Attaching package: ‘gridExtra’\n",
      "\n",
      "\n",
      "The following object is masked from ‘package:dplyr’:\n",
      "\n",
      "    combine\n",
      "\n",
      "\n"
     ]
    }
   ],
   "source": [
    "library(readxl)\n",
    "library(ggplot2)\n",
    "library(dplyr)\n",
    "library(gridExtra)"
   ]
  },
  {
   "cell_type": "markdown",
   "id": "5f079426",
   "metadata": {},
   "source": [
    "## Data"
   ]
  },
  {
   "cell_type": "markdown",
   "id": "940d0fe5",
   "metadata": {
    "vscode": {
     "languageId": "r"
    }
   },
   "source": [
    "### Data Historica"
   ]
  },
  {
   "cell_type": "code",
   "execution_count": 3,
   "id": "4034587f",
   "metadata": {
    "vscode": {
     "languageId": "r"
    }
   },
   "outputs": [],
   "source": [
    "siniestros_ppd <- read.csv(\"../data/processed/siniestros_ppd_mes.csv\")\n",
    "siniestros_pph <- read.csv(\"../data/processed/siniestros_pph_mes.csv\")\n",
    "siniestros_pth <- read.csv(\"../data/processed/siniestros_pth_mes.csv\")\n",
    "siniestros_rc <- read.csv(\"../data/processed/siniestros_rc_mes.csv\")\n",
    "polizas_ppd <- read.csv(\"../data/processed/polizas_ppd_mes.csv\")\n",
    "polizas_pph <- read.csv(\"../data/processed/polizas_pph_mes.csv\")\n",
    "polizas_pth <- read.csv(\"../data/processed/polizas_pth_mes.csv\")\n",
    "polizas_rc <- read.csv(\"../data/processed/polizas_rc_mes.csv\")"
   ]
  },
  {
   "cell_type": "code",
   "execution_count": 4,
   "id": "2b64fc68",
   "metadata": {
    "vscode": {
     "languageId": "r"
    }
   },
   "outputs": [],
   "source": [
    "siniestros_pph$X <- NULL\n",
    "siniestros_pth$X <- NULL\n",
    "siniestros_ppd$X <- NULL\n",
    "siniestros_rc$X <- NULL"
   ]
  },
  {
   "cell_type": "code",
   "execution_count": 5,
   "id": "d138d674",
   "metadata": {
    "vscode": {
     "languageId": "r"
    }
   },
   "outputs": [],
   "source": [
    "polizas_pph$X <- NULL\n",
    "polizas_pth$X <- NULL\n",
    "polizas_ppd$X <- NULL\n",
    "polizas_rc$X <- NULL"
   ]
  },
  {
   "cell_type": "code",
   "execution_count": 6,
   "id": "6a17a435",
   "metadata": {
    "vscode": {
     "languageId": "r"
    }
   },
   "outputs": [
    {
     "data": {
      "text/html": [
       "<style>\n",
       ".list-inline {list-style: none; margin:0; padding: 0}\n",
       ".list-inline>li {display: inline-block}\n",
       ".list-inline>li:not(:last-child)::after {content: \"\\00b7\"; padding: 0 .5ex}\n",
       "</style>\n",
       "<ol class=list-inline><li>'Mes'</li><li>'Numero_polizas'</li></ol>\n"
      ],
      "text/latex": [
       "\\begin{enumerate*}\n",
       "\\item 'Mes'\n",
       "\\item 'Numero\\_polizas'\n",
       "\\end{enumerate*}\n"
      ],
      "text/markdown": [
       "1. 'Mes'\n",
       "2. 'Numero_polizas'\n",
       "\n",
       "\n"
      ],
      "text/plain": [
       "[1] \"Mes\"            \"Numero_polizas\""
      ]
     },
     "metadata": {},
     "output_type": "display_data"
    }
   ],
   "source": [
    "colnames(polizas_ppd)"
   ]
  },
  {
   "cell_type": "code",
   "execution_count": 7,
   "id": "66359f34",
   "metadata": {
    "vscode": {
     "languageId": "r"
    }
   },
   "outputs": [
    {
     "data": {
      "text/html": [
       "<style>\n",
       ".list-inline {list-style: none; margin:0; padding: 0}\n",
       ".list-inline>li {display: inline-block}\n",
       ".list-inline>li:not(:last-child)::after {content: \"\\00b7\"; padding: 0 .5ex}\n",
       "</style>\n",
       "<ol class=list-inline><li>'mes'</li><li>'severidad'</li><li>'siniestros'</li></ol>\n"
      ],
      "text/latex": [
       "\\begin{enumerate*}\n",
       "\\item 'mes'\n",
       "\\item 'severidad'\n",
       "\\item 'siniestros'\n",
       "\\end{enumerate*}\n"
      ],
      "text/markdown": [
       "1. 'mes'\n",
       "2. 'severidad'\n",
       "3. 'siniestros'\n",
       "\n",
       "\n"
      ],
      "text/plain": [
       "[1] \"mes\"        \"severidad\"  \"siniestros\""
      ]
     },
     "metadata": {},
     "output_type": "display_data"
    }
   ],
   "source": [
    "colnames(siniestros_ppd)"
   ]
  },
  {
   "cell_type": "markdown",
   "id": "664ae655",
   "metadata": {},
   "source": [
    "### Nuevas polizas"
   ]
  },
  {
   "cell_type": "code",
   "execution_count": 8,
   "id": "3e71e767",
   "metadata": {
    "vscode": {
     "languageId": "r"
    }
   },
   "outputs": [],
   "source": [
    "vigentes_ppd <- read.csv(\"../data/processed/vigentes_ppd_mes.csv\")\n",
    "vigentes_pph <- read.csv(\"../data/processed/vigentes_pph_mes.csv\")\n",
    "vigentes_pth <- read.csv(\"../data/processed/vigentes_pth_mes.csv\")\n",
    "vigentes_rc <- read.csv(\"../data/processed/vigentes_rc_mes.csv\")"
   ]
  },
  {
   "cell_type": "markdown",
   "id": "6a9cef07",
   "metadata": {},
   "source": [
    "## Merge de las tablas por mes"
   ]
  },
  {
   "cell_type": "code",
   "execution_count": 9,
   "id": "9eafd4e5",
   "metadata": {
    "vscode": {
     "languageId": "r"
    }
   },
   "outputs": [],
   "source": [
    "ppd <- merge(polizas_ppd, siniestros_ppd, by.x = \"Mes\", by.y = \"mes\")\n",
    "pph <- merge(polizas_pph, siniestros_pph, by.x = \"Mes\", by.y = \"mes\")\n",
    "pth <- merge(polizas_pth, siniestros_pth, by.x = \"Mes\", by.y = \"mes\")\n",
    "rc <- merge(polizas_rc, siniestros_rc, by.x = \"Mes\", by.y = \"mes\")"
   ]
  },
  {
   "cell_type": "code",
   "execution_count": 10,
   "id": "31672acb",
   "metadata": {
    "vscode": {
     "languageId": "r"
    }
   },
   "outputs": [
    {
     "data": {
      "text/html": [
       "<style>\n",
       ".list-inline {list-style: none; margin:0; padding: 0}\n",
       ".list-inline>li {display: inline-block}\n",
       ".list-inline>li:not(:last-child)::after {content: \"\\00b7\"; padding: 0 .5ex}\n",
       "</style>\n",
       "<ol class=list-inline><li>'Mes'</li><li>'Numero_polizas'</li><li>'severidad'</li><li>'siniestros'</li></ol>\n"
      ],
      "text/latex": [
       "\\begin{enumerate*}\n",
       "\\item 'Mes'\n",
       "\\item 'Numero\\_polizas'\n",
       "\\item 'severidad'\n",
       "\\item 'siniestros'\n",
       "\\end{enumerate*}\n"
      ],
      "text/markdown": [
       "1. 'Mes'\n",
       "2. 'Numero_polizas'\n",
       "3. 'severidad'\n",
       "4. 'siniestros'\n",
       "\n",
       "\n"
      ],
      "text/plain": [
       "[1] \"Mes\"            \"Numero_polizas\" \"severidad\"      \"siniestros\"    "
      ]
     },
     "metadata": {},
     "output_type": "display_data"
    },
    {
     "data": {
      "text/html": [
       "<table class=\"dataframe\">\n",
       "<caption>A data.frame: 6 × 4</caption>\n",
       "<thead>\n",
       "\t<tr><th></th><th scope=col>Mes</th><th scope=col>Numero_polizas</th><th scope=col>severidad</th><th scope=col>siniestros</th></tr>\n",
       "\t<tr><th></th><th scope=col>&lt;int&gt;</th><th scope=col>&lt;int&gt;</th><th scope=col>&lt;dbl&gt;</th><th scope=col>&lt;int&gt;</th></tr>\n",
       "</thead>\n",
       "<tbody>\n",
       "\t<tr><th scope=row>1</th><td>1</td><td>123731</td><td>5655050524</td><td>1335</td></tr>\n",
       "\t<tr><th scope=row>2</th><td>2</td><td>125121</td><td>4492536847</td><td>1141</td></tr>\n",
       "\t<tr><th scope=row>3</th><td>3</td><td>128410</td><td>5471179256</td><td>1216</td></tr>\n",
       "\t<tr><th scope=row>4</th><td>4</td><td>129515</td><td>6004526331</td><td>1320</td></tr>\n",
       "\t<tr><th scope=row>5</th><td>5</td><td>130411</td><td>5402695646</td><td>1185</td></tr>\n",
       "\t<tr><th scope=row>6</th><td>6</td><td>132402</td><td>5333035136</td><td>1212</td></tr>\n",
       "</tbody>\n",
       "</table>\n"
      ],
      "text/latex": [
       "A data.frame: 6 × 4\n",
       "\\begin{tabular}{r|llll}\n",
       "  & Mes & Numero\\_polizas & severidad & siniestros\\\\\n",
       "  & <int> & <int> & <dbl> & <int>\\\\\n",
       "\\hline\n",
       "\t1 & 1 & 123731 & 5655050524 & 1335\\\\\n",
       "\t2 & 2 & 125121 & 4492536847 & 1141\\\\\n",
       "\t3 & 3 & 128410 & 5471179256 & 1216\\\\\n",
       "\t4 & 4 & 129515 & 6004526331 & 1320\\\\\n",
       "\t5 & 5 & 130411 & 5402695646 & 1185\\\\\n",
       "\t6 & 6 & 132402 & 5333035136 & 1212\\\\\n",
       "\\end{tabular}\n"
      ],
      "text/markdown": [
       "\n",
       "A data.frame: 6 × 4\n",
       "\n",
       "| <!--/--> | Mes &lt;int&gt; | Numero_polizas &lt;int&gt; | severidad &lt;dbl&gt; | siniestros &lt;int&gt; |\n",
       "|---|---|---|---|---|\n",
       "| 1 | 1 | 123731 | 5655050524 | 1335 |\n",
       "| 2 | 2 | 125121 | 4492536847 | 1141 |\n",
       "| 3 | 3 | 128410 | 5471179256 | 1216 |\n",
       "| 4 | 4 | 129515 | 6004526331 | 1320 |\n",
       "| 5 | 5 | 130411 | 5402695646 | 1185 |\n",
       "| 6 | 6 | 132402 | 5333035136 | 1212 |\n",
       "\n"
      ],
      "text/plain": [
       "  Mes Numero_polizas severidad  siniestros\n",
       "1 1   123731         5655050524 1335      \n",
       "2 2   125121         4492536847 1141      \n",
       "3 3   128410         5471179256 1216      \n",
       "4 4   129515         6004526331 1320      \n",
       "5 5   130411         5402695646 1185      \n",
       "6 6   132402         5333035136 1212      "
      ]
     },
     "metadata": {},
     "output_type": "display_data"
    }
   ],
   "source": [
    "colnames(ppd)\n",
    "head(ppd)"
   ]
  },
  {
   "cell_type": "code",
   "execution_count": 11,
   "id": "729ebe7c",
   "metadata": {
    "vscode": {
     "languageId": "r"
    }
   },
   "outputs": [],
   "source": [
    "# Calcular tasa de siniestros por mes\n",
    "ppd$tasa <- ppd$siniestros / ppd$Numero_polizas\n",
    "pph$tasa <- pph$siniestros / pph$Numero_polizas\n",
    "pth$tasa <- pth$siniestros / pth$Numero_polizas\n",
    "rc$tasa <- rc$siniestros / rc$Numero_polizas"
   ]
  },
  {
   "cell_type": "code",
   "execution_count": 12,
   "id": "5042714e",
   "metadata": {
    "vscode": {
     "languageId": "r"
    }
   },
   "outputs": [],
   "source": [
    "ppd$X <- NULL\n",
    "pph$X <- NULL\n",
    "pth$X <- NULL\n",
    "rc$X <- NULL"
   ]
  },
  {
   "cell_type": "code",
   "execution_count": 13,
   "id": "55b309d0",
   "metadata": {
    "vscode": {
     "languageId": "r"
    }
   },
   "outputs": [
    {
     "data": {
      "text/html": [
       "<style>\n",
       ".list-inline {list-style: none; margin:0; padding: 0}\n",
       ".list-inline>li {display: inline-block}\n",
       ".list-inline>li:not(:last-child)::after {content: \"\\00b7\"; padding: 0 .5ex}\n",
       "</style>\n",
       "<ol class=list-inline><li>'Mes'</li><li>'Numero_polizas'</li><li>'severidad'</li><li>'siniestros'</li><li>'tasa'</li></ol>\n"
      ],
      "text/latex": [
       "\\begin{enumerate*}\n",
       "\\item 'Mes'\n",
       "\\item 'Numero\\_polizas'\n",
       "\\item 'severidad'\n",
       "\\item 'siniestros'\n",
       "\\item 'tasa'\n",
       "\\end{enumerate*}\n"
      ],
      "text/markdown": [
       "1. 'Mes'\n",
       "2. 'Numero_polizas'\n",
       "3. 'severidad'\n",
       "4. 'siniestros'\n",
       "5. 'tasa'\n",
       "\n",
       "\n"
      ],
      "text/plain": [
       "[1] \"Mes\"            \"Numero_polizas\" \"severidad\"      \"siniestros\"    \n",
       "[5] \"tasa\"          "
      ]
     },
     "metadata": {},
     "output_type": "display_data"
    }
   ],
   "source": [
    "names(ppd)"
   ]
  },
  {
   "cell_type": "markdown",
   "id": "b38e4635",
   "metadata": {},
   "source": [
    "## Test de independencia"
   ]
  },
  {
   "cell_type": "code",
   "execution_count": 14,
   "id": "dfb1209f",
   "metadata": {
    "vscode": {
     "languageId": "r"
    }
   },
   "outputs": [],
   "source": [
    "conteo <- ppd[,c(\"Mes\",\"siniestros\")] %>%\n",
    "    rename(siniestros_ppd = siniestros) %>%\n",
    "    full_join(pph[,c(\"Mes\",\"siniestros\")] %>% rename(siniestros_pph = siniestros), by = \"Mes\") %>%\n",
    "    full_join(pth[,c(\"Mes\",\"siniestros\")] %>% rename(siniestros_pth = siniestros), by = \"Mes\") %>%\n",
    "    full_join(rc[,c(\"Mes\",\"siniestros\")] %>% rename(siniestros_rc = siniestros), by = \"Mes\")\n",
    "    \n",
    "conteo$Mes <- NULL"
   ]
  },
  {
   "cell_type": "code",
   "execution_count": 15,
   "id": "f2fca3ac",
   "metadata": {
    "vscode": {
     "languageId": "r"
    }
   },
   "outputs": [
    {
     "name": "stderr",
     "output_type": "stream",
     "text": [
      "Warning message in cor.test.default(data[, i], data[, j], method = \"spearman\"):\n",
      "“Cannot compute exact p-value with ties”\n",
      "Warning message in cor.test.default(data[, i], data[, j], method = \"spearman\"):\n",
      "“Cannot compute exact p-value with ties”\n",
      "Warning message in cor.test.default(data[, i], data[, j], method = \"spearman\"):\n",
      "“Cannot compute exact p-value with ties”\n",
      "Warning message in cor.test.default(data[, i], data[, j], method = \"spearman\"):\n",
      "“Cannot compute exact p-value with ties”\n",
      "Warning message in cor.test.default(data[, i], data[, j], method = \"spearman\"):\n",
      "“Cannot compute exact p-value with ties”\n",
      "Warning message in cor.test.default(data[, i], data[, j], method = \"kendall\"):\n",
      "“Cannot compute exact p-value with ties”\n",
      "Warning message in cor.test.default(data[, i], data[, j], method = \"kendall\"):\n",
      "“Cannot compute exact p-value with ties”\n",
      "Warning message in cor.test.default(data[, i], data[, j], method = \"kendall\"):\n",
      "“Cannot compute exact p-value with ties”\n",
      "Warning message in cor.test.default(data[, i], data[, j], method = \"kendall\"):\n",
      "“Cannot compute exact p-value with ties”\n",
      "Warning message in cor.test.default(data[, i], data[, j], method = \"kendall\"):\n",
      "“Cannot compute exact p-value with ties”\n"
     ]
    },
    {
     "name": "stdout",
     "output_type": "stream",
     "text": [
      "\n",
      "================================================================================ \n",
      "               TESTS DE INDEPENDENCIA PARA VARIABLES DE CONTEO\n",
      "================================================================================ \n",
      "Nivel de significancia: 0.05 \n",
      "Variables analizadas: siniestros_ppd, siniestros_pph, siniestros_pth, siniestros_rc \n",
      "Número de observaciones: 12 \n",
      "-------------------------------------------------------------------------------- \n",
      "\n",
      "\n",
      "                             Test                                          Estadistico    p_valor     Conclusion   \n",
      "---------------------------  -------------------------------------------  ------------  ---------  ----------------\n",
      "rho                          Spearman: siniestros_ppd vs siniestros_pph        -0.0351   0.913792   Independientes \n",
      "rho1                         Spearman: siniestros_ppd vs siniestros_pth         0.2872   0.365374   Independientes \n",
      "rho2                         Spearman: siniestros_ppd vs siniestros_rc         -0.1399   0.667151   Independientes \n",
      "rho3                         Spearman: siniestros_pph vs siniestros_pth        -0.2777   0.382201   Independientes \n",
      "rho4                         Spearman: siniestros_pph vs siniestros_rc          0.3439   0.273772   Independientes \n",
      "rho5                         Spearman: siniestros_pth vs siniestros_rc         -0.3433   0.274671   Independientes \n",
      "tau                          Kendall: siniestros_ppd vs siniestros_pph         -0.0308   0.890403   Independientes \n",
      "tau1                         Kendall: siniestros_ppd vs siniestros_pth          0.2595   0.242612   Independientes \n",
      "tau2                         Kendall: siniestros_ppd vs siniestros_rc          -0.0909   0.737306   Independientes \n",
      "tau3                         Kendall: siniestros_pph vs siniestros_pth         -0.2016   0.369328   Independientes \n",
      "tau4                         Kendall: siniestros_pph vs siniestros_rc           0.2154   0.334764   Independientes \n",
      "tau5                         Kendall: siniestros_pth vs siniestros_rc          -0.2595   0.242612   Independientes \n",
      "Kruskal-Wallis chi-squared   Kruskal-Wallis                                    40.1214   0.000000    Dependientes  \n",
      "Friedman chi-squared         Friedman                                          32.8000   0.000000    Dependientes  \n",
      "\n",
      "-------------------------------------------------------------------------------- \n",
      "CONCLUSIÓN GENERAL:\n",
      "-------------------------------------------------------------------------------- \n",
      "EVIDENCIA DE INDEPENDENCIA entre las variables.\n",
      "14.3% de los tests indican dependencia.\n",
      "\n",
      "NOTAS:\n",
      "- Spearman y Kendall miden dependencia monotónica\n",
      "- Chi-cuadrado evalúa independencia categórica\n",
      "- Kruskal-Wallis compara distribuciones entre grupos\n",
      "- Friedman evalúa diferencias en medidas repetidas\n",
      "================================================================================ \n"
     ]
    }
   ],
   "source": [
    "test_independencia(conteo)"
   ]
  },
  {
   "cell_type": "code",
   "execution_count": 16,
   "id": "6859d0a9",
   "metadata": {
    "vscode": {
     "languageId": "r"
    }
   },
   "outputs": [],
   "source": [
    "severidad <- ppd[,c(\"Mes\",\"severidad\")] %>%\n",
    "    rename(severidad_ppd = severidad) %>%\n",
    "    full_join(pph[,c(\"Mes\",\"severidad\")] %>% rename(severidad_pph = severidad), by = \"Mes\") %>%\n",
    "    full_join(pth[,c(\"Mes\",\"severidad\")] %>% rename(severidad_pth = severidad), by = \"Mes\") %>%\n",
    "    full_join(rc[,c(\"Mes\",\"severidad\")] %>% rename(severidad_rc = severidad), by = \"Mes\")\n",
    "    \n",
    "severidad$Mes <- NULL"
   ]
  },
  {
   "cell_type": "code",
   "execution_count": 17,
   "id": "787a2641",
   "metadata": {
    "vscode": {
     "languageId": "r"
    }
   },
   "outputs": [
    {
     "name": "stderr",
     "output_type": "stream",
     "text": [
      "Loading required package: carData\n",
      "\n",
      "\n",
      "Attaching package: ‘car’\n",
      "\n",
      "\n",
      "The following object is masked from ‘package:dplyr’:\n",
      "\n",
      "    recode\n",
      "\n",
      "\n"
     ]
    },
    {
     "name": "stdout",
     "output_type": "stream",
     "text": [
      "\n",
      "================================================================================ \n",
      "               TESTS DE INDEPENDENCIA PARA VARIABLES DE SEVERIDAD\n",
      "================================================================================ \n",
      "Nivel de significancia: 0.05 \n",
      "Variables analizadas: severidad_ppd, severidad_pph, severidad_pth, severidad_rc \n",
      "Número de observaciones: 12 \n",
      "-------------------------------------------------------------------------------- \n",
      "\n",
      "\n",
      "                             Test                                                  Estadistico    p_valor          Conclusion         \n",
      "---------------------------  ---------------------------------------------------  ------------  ---------  ---------------------------\n",
      "cor                          Pearson: severidad_ppd vs severidad_pph                   -0.0284   0.930212        Independientes       \n",
      "cor1                         Pearson: severidad_ppd vs severidad_pth                    0.1339   0.678164        Independientes       \n",
      "cor2                         Pearson: severidad_ppd vs severidad_rc                     0.1333   0.679514        Independientes       \n",
      "cor3                         Pearson: severidad_pph vs severidad_pth                   -0.1958   0.541947        Independientes       \n",
      "cor4                         Pearson: severidad_pph vs severidad_rc                     0.0517   0.873104        Independientes       \n",
      "cor5                         Pearson: severidad_pth vs severidad_rc                    -0.3173   0.314886        Independientes       \n",
      "rho                          Spearman: severidad_ppd vs severidad_pph                  -0.0559   0.868980        Independientes       \n",
      "rho1                         Spearman: severidad_ppd vs severidad_pth                   0.0490   0.886335        Independientes       \n",
      "rho2                         Spearman: severidad_ppd vs severidad_rc                    0.1469   0.651073        Independientes       \n",
      "rho3                         Spearman: severidad_pph vs severidad_pth                  -0.0699   0.834447        Independientes       \n",
      "rho4                         Spearman: severidad_pph vs severidad_rc                    0.1259   0.699712        Independientes       \n",
      "rho5                         Spearman: severidad_pth vs severidad_rc                   -0.3287   0.297385        Independientes       \n",
      "tau                          Kendall: severidad_ppd vs severidad_pph                   -0.0303   0.946559        Independientes       \n",
      "tau1                         Kendall: severidad_ppd vs severidad_pth                   -0.0303   0.946559        Independientes       \n",
      "tau2                         Kendall: severidad_ppd vs severidad_rc                     0.0606   0.840588        Independientes       \n",
      "tau3                         Kendall: severidad_pph vs severidad_pth                   -0.0303   0.946559        Independientes       \n",
      "tau4                         Kendall: severidad_pph vs severidad_rc                     0.1818   0.459024        Independientes       \n",
      "tau5                         Kendall: severidad_pth vs severidad_rc                    -0.1818   0.459024        Independientes       \n",
      "D                            Kolmogorov-Smirnov: severidad_ppd vs severidad_pph         1.0000   0.000001   Distribuciones diferentes \n",
      "D1                           Kolmogorov-Smirnov: severidad_ppd vs severidad_pth         1.0000   0.000001   Distribuciones diferentes \n",
      "D2                           Kolmogorov-Smirnov: severidad_ppd vs severidad_rc          1.0000   0.000001   Distribuciones diferentes \n",
      "D3                           Kolmogorov-Smirnov: severidad_pph vs severidad_pth         1.0000   0.000001   Distribuciones diferentes \n",
      "D4                           Kolmogorov-Smirnov: severidad_pph vs severidad_rc          1.0000   0.000001   Distribuciones diferentes \n",
      "D5                           Kolmogorov-Smirnov: severidad_pth vs severidad_rc          0.4167   0.255775   Distribuciones similares  \n",
      "W                            Wilcoxon: severidad_ppd vs severidad_pph                 144.0000   0.000001      Medianas diferentes    \n",
      "W1                           Wilcoxon: severidad_ppd vs severidad_pth                 144.0000   0.000001      Medianas diferentes    \n",
      "W2                           Wilcoxon: severidad_ppd vs severidad_rc                  144.0000   0.000001      Medianas diferentes    \n",
      "W3                           Wilcoxon: severidad_pph vs severidad_pth                   0.0000   0.000001      Medianas diferentes    \n",
      "W4                           Wilcoxon: severidad_pph vs severidad_rc                    0.0000   0.000001      Medianas diferentes    \n",
      "W5                           Wilcoxon: severidad_pth vs severidad_rc                  104.0000   0.068361      Medianas similares     \n",
      "A                            Anderson-Darling: severidad_ppd                            0.5815   0.102461            Normal           \n",
      "A1                           Anderson-Darling: severidad_pph                            0.5654   0.113090            Normal           \n",
      "A2                           Anderson-Darling: severidad_pth                            0.7157   0.045036           No normal         \n",
      "A3                           Anderson-Darling: severidad_rc                             0.7006   0.049393           No normal         \n",
      "1                            Levene (homogeneidad varianzas)                            3.6481   0.019599     Varianzas diferentes    \n",
      "11                           ANOVA (comparación medias)                               986.2575   0.000000       Medias diferentes     \n",
      "Kruskal-Wallis chi-squared   Kruskal-Wallis                                            40.5442   0.000000   Distribuciones diferentes \n",
      "\n",
      "-------------------------------------------------------------------------------- \n",
      "CONCLUSIÓN GENERAL:\n",
      "-------------------------------------------------------------------------------- \n",
      "EVIDENCIA MIXTA sobre la independencia de las variables de severidad.\n",
      "40.5% de los tests indican dependencia o diferencias significativas.\n",
      "Se recomienda análisis adicional.\n",
      "\n",
      "NOTAS:\n",
      "- Pearson mide dependencia lineal\n",
      "- Spearman y Kendall miden dependencia monotónica\n",
      "- Kolmogorov-Smirnov compara distribuciones completas\n",
      "- Wilcoxon compara medianas (no paramétrico)\n",
      "- Anderson-Darling evalúa normalidad individual\n",
      "- Levene evalúa homogeneidad de varianzas\n",
      "- ANOVA compara medias (paramétrico)\n",
      "- Kruskal-Wallis compara distribuciones (no paramétrico)\n",
      "================================================================================ \n"
     ]
    }
   ],
   "source": [
    "test_independencia_severidad(severidad)"
   ]
  },
  {
   "cell_type": "markdown",
   "id": "88f67e46",
   "metadata": {},
   "source": [
    "## Estimando las distribuciones de frecuencia $N^{(c)}$"
   ]
  },
  {
   "cell_type": "markdown",
   "id": "0de0ece6",
   "metadata": {},
   "source": [
    "### $N^{(ppd)}$"
   ]
  },
  {
   "cell_type": "code",
   "execution_count": 18,
   "id": "6988ffd0",
   "metadata": {
    "vscode": {
     "languageId": "r"
    }
   },
   "outputs": [
    {
     "name": "stderr",
     "output_type": "stream",
     "text": [
      "\n",
      "Attaching package: ‘MASS’\n",
      "\n",
      "\n",
      "The following object is masked from ‘package:dplyr’:\n",
      "\n",
      "    select\n",
      "\n",
      "\n",
      "Loading required package: lmtest\n",
      "\n",
      "Loading required package: zoo\n",
      "\n",
      "\n",
      "Attaching package: ‘zoo’\n",
      "\n",
      "\n",
      "The following objects are masked from ‘package:base’:\n",
      "\n",
      "    as.Date, as.Date.numeric\n",
      "\n",
      "\n",
      "Loading required package: sandwich\n",
      "\n",
      "Loading required package: survival\n",
      "\n",
      "Warning message in chisq.test(freq_obs, p = freq_esp/sum(freq_esp)):\n",
      "“Chi-squared approximation may be incorrect”\n",
      "Warning message in chisq.test(freq_obs, p = freq_esp/sum(freq_esp)):\n",
      "“Chi-squared approximation may be incorrect”\n"
     ]
    },
    {
     "name": "stdout",
     "output_type": "stream",
     "text": [
      "═══════════════════════════════════════════════════════════════════════════\n",
      "                           ESTIMADORES DE FRECUENCIA                        \n",
      "═══════════════════════════════════════════════════════════════════════════\n",
      "N = 12 | Media = 1255.3333 | Varianza = 4420.7879 | Índice Sobredispersión = 3.5216\n",
      "───────────────────────────────────────────────────────────────────────────\n",
      "\n",
      "1. AJUSTE DE DISTRIBUCIONES:\n",
      "───────────────────────────────────────────────────────────────────────────\n",
      "Poisson:           λ = 1255.3333 | AIC = 148.49 | LogLik = -73.24\n",
      "Binomial Negativa: size = 497.8318, μ = 1255.3333 | AIC = 137.81 | LogLik = -66.91\n",
      "\n",
      "2. PRUEBAS DE BONDAD DE AJUSTE:\n",
      "───────────────────────────────────────────────────────────────────────────\n",
      "Poisson:           χ² = 0.0000 | p-valor = 1.0000 | Buen ajuste\n",
      "Binomial Negativa: χ² = 0.0000 | p-valor = 1.0000 | Buen ajuste\n",
      "\n",
      "3. PRUEBAS DE SOBREDISPERSIÓN:\n",
      "───────────────────────────────────────────────────────────────────────────\n",
      "Cameron-Trivedi:   z = 2.4548 | p-valor = 0.0070 | Sobredispersión\n",
      "Índice Var/Media:  3.5216 | Sobredispersión\n",
      "\n",
      "4. RESUMEN Y RECOMENDACIÓN:\n",
      "═══════════════════════════════════════════════════════════════════════════\n",
      "MEJOR POR AIC: Binomial Negativa (size = 497.8318, μ = 1255.3333)\n",
      "DISTRIBUCIÓN RECOMENDADA: Binomial Negativa (size = 497.8318, μ = 1255.3333)\n",
      "\n",
      "CRITERIOS DE DECISIÓN:\n",
      "• Sobredispersión significativa detectada → Binomial Negativa recomendada\n",
      "• Poisson: Buen ajuste (p-valor > 0.05)\n",
      "• Binomial Negativa: Buen ajuste (p-valor > 0.05)\n",
      "CONCLUSIÓN: Binomial Negativa es la distribución recomendada.\n",
      "═══════════════════════════════════════════════════════════════════════════\n"
     ]
    }
   ],
   "source": [
    "resultado_ppd <- Estimadores_frecuencia(ppd$siniestros)\n",
    "sobredispersion_ppd <- resultado_ppd$estadisticas_descriptivas$indice_sobredispersion"
   ]
  },
  {
   "cell_type": "markdown",
   "id": "db5c5681",
   "metadata": {},
   "source": [
    "### $N^{(pph)}$"
   ]
  },
  {
   "cell_type": "code",
   "execution_count": 19,
   "id": "2b18c048",
   "metadata": {
    "vscode": {
     "languageId": "r"
    }
   },
   "outputs": [
    {
     "name": "stderr",
     "output_type": "stream",
     "text": [
      "Warning message in chisq.test(freq_obs, p = freq_esp/sum(freq_esp)):\n",
      "“Chi-squared approximation may be incorrect”\n",
      "Warning message in chisq.test(freq_obs, p = freq_esp/sum(freq_esp)):\n",
      "“Chi-squared approximation may be incorrect”\n"
     ]
    },
    {
     "name": "stdout",
     "output_type": "stream",
     "text": [
      "═══════════════════════════════════════════════════════════════════════════\n",
      "                           ESTIMADORES DE FRECUENCIA                        \n",
      "═══════════════════════════════════════════════════════════════════════════\n",
      "N = 12 | Media = 52.7500 | Varianza = 52.5682 | Índice Sobredispersión = 0.9966\n",
      "───────────────────────────────────────────────────────────────────────────\n",
      "\n",
      "1. AJUSTE DE DISTRIBUCIONES:\n",
      "───────────────────────────────────────────────────────────────────────────\n",
      "Poisson:           λ = 52.7500 | AIC = 82.57 | LogLik = -40.28\n",
      "Binomial Negativa: size = 299.5902, μ = 52.7500 | AIC = 84.87 | LogLik = -40.44\n",
      "\n",
      "2. PRUEBAS DE BONDAD DE AJUSTE:\n",
      "───────────────────────────────────────────────────────────────────────────\n",
      "Poisson:           χ² = 1.3333 | p-valor = 0.9982 | Buen ajuste\n",
      "Binomial Negativa: χ² = 1.3333 | p-valor = 0.9982 | Buen ajuste\n",
      "\n",
      "3. PRUEBAS DE SOBREDISPERSIÓN:\n",
      "───────────────────────────────────────────────────────────────────────────\n",
      "Cameron-Trivedi:   z = -0.3060 | p-valor = 0.6202 | No sobredispersión\n",
      "Índice Var/Media:  0.9966 | Equidispersión\n",
      "\n",
      "4. RESUMEN Y RECOMENDACIÓN:\n",
      "═══════════════════════════════════════════════════════════════════════════\n",
      "MEJOR POR AIC: Poisson (λ = 52.7500)\n",
      "DISTRIBUCIÓN RECOMENDADA: Poisson (λ = 52.7500)\n",
      "\n",
      "CRITERIOS DE DECISIÓN:\n",
      "• No hay sobredispersión significativa → Poisson preferible por simplicidad\n",
      "• Poisson: Buen ajuste (p-valor > 0.05)\n",
      "• Binomial Negativa: Buen ajuste (p-valor > 0.05)\n",
      "CONCLUSIÓN: Poisson es la distribución recomendada.\n",
      "═══════════════════════════════════════════════════════════════════════════\n",
      "Índice de sobredispersión PPH: 0.9965532"
     ]
    }
   ],
   "source": [
    "resultado_pph <- Estimadores_frecuencia(pph$siniestros)\n",
    "sobredispersion_pph <- resultado_pph$estadisticas_descriptivas$indice_sobredispersion\n",
    "cat(\"Índice de sobredispersión PPH:\", sobredispersion_pph)"
   ]
  },
  {
   "cell_type": "markdown",
   "id": "10f619a0",
   "metadata": {},
   "source": [
    "### $N^{(pth)}$"
   ]
  },
  {
   "cell_type": "code",
   "execution_count": 20,
   "id": "0711ec62",
   "metadata": {
    "vscode": {
     "languageId": "r"
    }
   },
   "outputs": [
    {
     "name": "stderr",
     "output_type": "stream",
     "text": [
      "Warning message in chisq.test(freq_obs, p = freq_esp/sum(freq_esp)):\n",
      "“Chi-squared approximation may be incorrect”\n",
      "Warning message in chisq.test(freq_obs, p = freq_esp/sum(freq_esp)):\n",
      "“Chi-squared approximation may be incorrect”\n"
     ]
    },
    {
     "name": "stdout",
     "output_type": "stream",
     "text": [
      "═══════════════════════════════════════════════════════════════════════════\n",
      "                           ESTIMADORES DE FRECUENCIA                        \n",
      "═══════════════════════════════════════════════════════════════════════════\n",
      "N = 12 | Media = 48.0000 | Varianza = 88.1818 | Índice Sobredispersión = 1.8371\n",
      "───────────────────────────────────────────────────────────────────────────\n",
      "\n",
      "1. AJUSTE DE DISTRIBUCIONES:\n",
      "───────────────────────────────────────────────────────────────────────────\n",
      "Poisson:           λ = 48.0000 | AIC = 90.47 | LogLik = -44.23\n",
      "Binomial Negativa: size = 70.5587, μ = 48.0000 | AIC = 90.53 | LogLik = -43.26\n",
      "\n",
      "2. PRUEBAS DE BONDAD DE AJUSTE:\n",
      "───────────────────────────────────────────────────────────────────────────\n",
      "Poisson:           χ² = 0.8333 | p-valor = 0.9999 | Buen ajuste\n",
      "Binomial Negativa: χ² = 0.8333 | p-valor = 0.9999 | Buen ajuste\n",
      "\n",
      "3. PRUEBAS DE SOBREDISPERSIÓN:\n",
      "───────────────────────────────────────────────────────────────────────────\n",
      "Cameron-Trivedi:   z = 1.3884 | p-valor = 0.0825 | No sobredispersión\n",
      "Índice Var/Media:  1.8371 | Sobredispersión\n",
      "\n",
      "4. RESUMEN Y RECOMENDACIÓN:\n",
      "═══════════════════════════════════════════════════════════════════════════\n",
      "MEJOR POR AIC: Poisson (λ = 48.0000)\n",
      "DISTRIBUCIÓN RECOMENDADA: Binomial Negativa (size = 70.5587, μ = 48.0000)\n",
      "\n",
      "CRITERIOS DE DECISIÓN:\n",
      "• Poisson: Buen ajuste (p-valor > 0.05)\n",
      "• Binomial Negativa: Buen ajuste (p-valor > 0.05)\n",
      "CONCLUSIÓN: Binomial Negativa es la distribución recomendada.\n",
      "═══════════════════════════════════════════════════════════════════════════\n",
      "Índice de sobredispersión PTH: 1.837121"
     ]
    }
   ],
   "source": [
    "resultado_pth <- Estimadores_frecuencia(pth$siniestros)\n",
    "sobredispersion_pth <- resultado_pth$estadisticas_descriptivas$indice_sobredispersion\n",
    "cat(\"Índice de sobredispersión PTH:\", sobredispersion_pth)"
   ]
  },
  {
   "cell_type": "markdown",
   "id": "130f0a04",
   "metadata": {},
   "source": [
    "### $N^{(rc)}$"
   ]
  },
  {
   "cell_type": "code",
   "execution_count": 21,
   "id": "c9996b28",
   "metadata": {
    "vscode": {
     "languageId": "r"
    }
   },
   "outputs": [
    {
     "name": "stderr",
     "output_type": "stream",
     "text": [
      "Warning message in chisq.test(freq_obs, p = freq_esp/sum(freq_esp)):\n",
      "“Chi-squared approximation may be incorrect”\n",
      "Warning message in chisq.test(freq_obs, p = freq_esp/sum(freq_esp)):\n",
      "“Chi-squared approximation may be incorrect”\n"
     ]
    },
    {
     "name": "stdout",
     "output_type": "stream",
     "text": [
      "═══════════════════════════════════════════════════════════════════════════\n",
      "                           ESTIMADORES DE FRECUENCIA                        \n",
      "═══════════════════════════════════════════════════════════════════════════\n",
      "N = 12 | Media = 271.5833 | Varianza = 623.7197 | Índice Sobredispersión = 2.2966\n",
      "───────────────────────────────────────────────────────────────────────────\n",
      "\n",
      "1. AJUSTE DE DISTRIBUCIONES:\n",
      "───────────────────────────────────────────────────────────────────────────\n",
      "Poisson:           λ = 271.5833 | AIC = 116.11 | LogLik = -57.06\n",
      "Binomial Negativa: size = 253.8759, μ = 271.5833 | AIC = 113.90 | LogLik = -54.95\n",
      "\n",
      "2. PRUEBAS DE BONDAD DE AJUSTE:\n",
      "───────────────────────────────────────────────────────────────────────────\n",
      "Poisson:           χ² = 0.0000 | p-valor = 1.0000 | Buen ajuste\n",
      "Binomial Negativa: χ² = 0.0000 | p-valor = 1.0000 | Buen ajuste\n",
      "\n",
      "3. PRUEBAS DE SOBREDISPERSIÓN:\n",
      "───────────────────────────────────────────────────────────────────────────\n",
      "Cameron-Trivedi:   z = 1.4936 | p-valor = 0.0676 | No sobredispersión\n",
      "Índice Var/Media:  2.2966 | Sobredispersión\n",
      "\n",
      "4. RESUMEN Y RECOMENDACIÓN:\n",
      "═══════════════════════════════════════════════════════════════════════════\n",
      "MEJOR POR AIC: Binomial Negativa (size = 253.8759, μ = 271.5833)\n",
      "DISTRIBUCIÓN RECOMENDADA: Binomial Negativa (size = 253.8759, μ = 271.5833)\n",
      "\n",
      "CRITERIOS DE DECISIÓN:\n",
      "• Poisson: Buen ajuste (p-valor > 0.05)\n",
      "• Binomial Negativa: Buen ajuste (p-valor > 0.05)\n",
      "CONCLUSIÓN: Binomial Negativa es la distribución recomendada.\n",
      "═══════════════════════════════════════════════════════════════════════════\n"
     ]
    }
   ],
   "source": [
    "resultado_rc <- Estimadores_frecuencia(rc$siniestros)\n",
    "sobredispersion_rc <- resultado_rc$estadisticas_descriptivas$indice_sobredispersion"
   ]
  },
  {
   "cell_type": "markdown",
   "id": "696dddc9",
   "metadata": {},
   "source": [
    "## Estimando los $\\lambda_c$"
   ]
  },
  {
   "cell_type": "markdown",
   "id": "95469555",
   "metadata": {},
   "source": [
    "### $\\lambda_{ppd}$"
   ]
  },
  {
   "cell_type": "code",
   "execution_count": 22,
   "id": "abd8408c",
   "metadata": {
    "vscode": {
     "languageId": "r"
    }
   },
   "outputs": [],
   "source": [
    "l_ppd <- mean(ppd$tasa)"
   ]
  },
  {
   "cell_type": "code",
   "execution_count": 23,
   "id": "3f6a4ab8",
   "metadata": {
    "vscode": {
     "languageId": "r"
    }
   },
   "outputs": [
    {
     "data": {
      "text/html": [
       "0.00940757576855509"
      ],
      "text/latex": [
       "0.00940757576855509"
      ],
      "text/markdown": [
       "0.00940757576855509"
      ],
      "text/plain": [
       "[1] 0.009407576"
      ]
     },
     "metadata": {},
     "output_type": "display_data"
    }
   ],
   "source": [
    "l_ppd"
   ]
  },
  {
   "cell_type": "markdown",
   "id": "54106106",
   "metadata": {},
   "source": [
    "### $\\lambda_{pph}$"
   ]
  },
  {
   "cell_type": "code",
   "execution_count": 24,
   "id": "349d8985",
   "metadata": {
    "vscode": {
     "languageId": "r"
    }
   },
   "outputs": [
    {
     "data": {
      "text/html": [
       "0.000396310264690898"
      ],
      "text/latex": [
       "0.000396310264690898"
      ],
      "text/markdown": [
       "0.000396310264690898"
      ],
      "text/plain": [
       "[1] 0.0003963103"
      ]
     },
     "metadata": {},
     "output_type": "display_data"
    }
   ],
   "source": [
    "l_pph <- mean(pph$tasa)\n",
    "l_pph"
   ]
  },
  {
   "cell_type": "markdown",
   "id": "b18cb588",
   "metadata": {},
   "source": [
    "### $\\lambda_{pth}$"
   ]
  },
  {
   "cell_type": "code",
   "execution_count": 25,
   "id": "ed2f3ccf",
   "metadata": {
    "vscode": {
     "languageId": "r"
    }
   },
   "outputs": [
    {
     "data": {
      "text/html": [
       "0.000358177189975321"
      ],
      "text/latex": [
       "0.000358177189975321"
      ],
      "text/markdown": [
       "0.000358177189975321"
      ],
      "text/plain": [
       "[1] 0.0003581772"
      ]
     },
     "metadata": {},
     "output_type": "display_data"
    }
   ],
   "source": [
    "l_pth <- mean(pth$tasa)\n",
    "l_pth"
   ]
  },
  {
   "cell_type": "markdown",
   "id": "a6814ed6",
   "metadata": {
    "vscode": {
     "languageId": "r"
    }
   },
   "source": [
    "### $\\lambda_{rc}$"
   ]
  },
  {
   "cell_type": "code",
   "execution_count": 26,
   "id": "a8c9aec6",
   "metadata": {
    "vscode": {
     "languageId": "r"
    }
   },
   "outputs": [
    {
     "data": {
      "text/html": [
       "0.00240067271270998"
      ],
      "text/latex": [
       "0.00240067271270998"
      ],
      "text/markdown": [
       "0.00240067271270998"
      ],
      "text/plain": [
       "[1] 0.002400673"
      ]
     },
     "metadata": {},
     "output_type": "display_data"
    }
   ],
   "source": [
    "l_rc <- mean(rc$tasa)\n",
    "l_rc"
   ]
  },
  {
   "cell_type": "markdown",
   "id": "679077d6",
   "metadata": {},
   "source": [
    "## Distribuciones de conteo para nuevas pólizas $N^{(c)}$"
   ]
  },
  {
   "cell_type": "markdown",
   "id": "56d1d87b",
   "metadata": {},
   "source": [
    "### $N^{(ppd)}$ - Binomial Negativa"
   ]
  },
  {
   "cell_type": "code",
   "execution_count": 27,
   "id": "fd5faf01",
   "metadata": {
    "vscode": {
     "languageId": "r"
    }
   },
   "outputs": [
    {
     "name": "stdout",
     "output_type": "stream",
     "text": [
      "Parámetros históricos - size: 497.8318 , mu: 1255.333 \n",
      "Parámetros nuevas pólizas - size: 497.8318 , mu: 2.718789 \n",
      "Probability parameter (p): 0.9945684 \n"
     ]
    }
   ],
   "source": [
    "# Cálculos para PPD (Binomial Negativa)\n",
    "# Parámetros históricos del ajuste\n",
    "size_hist_ppd <- resultado_ppd$ajustes$binomial_negativa$parametros$size\n",
    "mu_hist_ppd <- resultado_ppd$ajustes$binomial_negativa$parametros$mu\n",
    "\n",
    "# Para nuevas pólizas\n",
    "mu_nuevas_ppd <- l_ppd * mean(vigentes_ppd$polizas_activas)\n",
    "size_nuevas_ppd <- size_hist_ppd  # El parámetro size se mantiene\n",
    "\n",
    "# Parámetro de probabilidad para referencia\n",
    "prob_ppd <- size_nuevas_ppd / (size_nuevas_ppd + mu_nuevas_ppd)\n",
    "\n",
    "cat(\"Parámetros históricos - size:\", size_hist_ppd, \", mu:\", mu_hist_ppd, \"\\n\")\n",
    "cat(\"Parámetros nuevas pólizas - size:\", size_nuevas_ppd, \", mu:\", mu_nuevas_ppd, \"\\n\")\n",
    "cat(\"Probability parameter (p):\", prob_ppd, \"\\n\")"
   ]
  },
  {
   "cell_type": "markdown",
   "id": "b0e3e679",
   "metadata": {
    "vscode": {
     "languageId": "r"
    }
   },
   "source": [
    "### Visualización PPD - Ajuste Histórico vs Nuevas Pólizas"
   ]
  },
  {
   "cell_type": "code",
   "execution_count": 28,
   "id": "3434c5aa",
   "metadata": {
    "vscode": {
     "languageId": "r"
    }
   },
   "outputs": [
    {
     "name": "stderr",
     "output_type": "stream",
     "text": [
      "Warning message:\n",
      "“\u001b[1m\u001b[22mUsing `size` aesthetic for lines was deprecated in ggplot2 3.4.0.\n",
      "\u001b[36mℹ\u001b[39m Please use `linewidth` instead.”\n",
      "Warning message:\n",
      "“\u001b[1m\u001b[22mThe dot-dot notation (`..density..`) was deprecated in ggplot2 3.4.0.\n",
      "\u001b[36mℹ\u001b[39m Please use `after_stat(density)` instead.”\n"
     ]
    },
    {
     "data": {
      "image/png": "[encoded data removed]",
      "text/plain": [
       "plot without title"
      ]
     },
     "metadata": {
      "image/png": {
       "height": 420,
       "width": 420
      }
     },
     "output_type": "display_data"
    }
   ],
   "source": [
    "# Gráfico PPD - Solo Binomial Negativa (distribución recomendada)\n",
    "max_val <- max(ppd$siniestros)\n",
    "x_vals <- 0:max_val\n",
    "\n",
    "# Distribuciones Binomial Negativa (histórica y nuevas pólizas)\n",
    "nbinom_hist <- dnbinom(x_vals, size = size_hist_ppd, mu = mu_hist_ppd)\n",
    "nbinom_nuevas <- dnbinom(x_vals, size = size_nuevas_ppd, mu = mu_nuevas_ppd)\n",
    "\n",
    "# Preparar datos para ggplot\n",
    "df_hist <- data.frame(\n",
    "  x = x_vals,\n",
    "  BN_Historica = nbinom_hist,\n",
    "  BN_Nuevas = nbinom_nuevas\n",
    ")\n",
    "\n",
    "# Gráfico\n",
    "p_ppd <- ggplot() +\n",
    "  geom_histogram(data = data.frame(siniestros = ppd$siniestros), \n",
    "                 aes(x = siniestros, y = ..density..), \n",
    "                 bins = 15, alpha = 0.7, fill = \"lightblue\", color = \"black\") +\n",
    "  geom_line(data = df_hist, aes(x = x, y = BN_Historica, color = \"BN Histórica\"), size = 1.2) +\n",
    "  geom_line(data = df_hist, aes(x = x, y = BN_Nuevas, color = \"BN Nuevas Pólizas\"), size = 1.2, linetype = \"dashed\") +\n",
    "  scale_color_manual(values = c(\"BN Histórica\" = \"red\", \"BN Nuevas Pólizas\" = \"darkgreen\")) +\n",
    "  labs(title = \"PPD: Distribución Binomial Negativa\", \n",
    "       x = \"Número de Siniestros\", y = \"Densidad\", color = \"Distribución\") +\n",
    "  theme_minimal()\n",
    "\n",
    "print(p_ppd)"
   ]
  },
  {
   "cell_type": "markdown",
   "id": "75f1f4eb",
   "metadata": {},
   "source": [
    "### $N^{(pph)}$ - Poisson"
   ]
  },
  {
   "cell_type": "code",
   "execution_count": 29,
   "id": "65bccbe2",
   "metadata": {
    "vscode": {
     "languageId": "r"
    }
   },
   "outputs": [
    {
     "name": "stdout",
     "output_type": "stream",
     "text": [
      "Parámetro lambda para nuevas pólizas PPH: 0.1145337 \n"
     ]
    }
   ],
   "source": [
    "# Cálculos para PPH (Poisson)\n",
    "mu_nuevas_pph <- l_pph * mean(vigentes_pph$polizas_activas)\n",
    "\n",
    "cat(\"Parámetro lambda para nuevas pólizas PPH:\", mu_nuevas_pph, \"\\n\")"
   ]
  },
  {
   "cell_type": "markdown",
   "id": "52ad2e94",
   "metadata": {},
   "source": [
    "### Visualización PPH - Ajuste Histórico vs Nuevas Pólizas"
   ]
  },
  {
   "cell_type": "code",
   "execution_count": 30,
   "id": "iwh9f77tb8f",
   "metadata": {
    "vscode": {
     "languageId": "r"
    }
   },
   "outputs": [
    {
     "data": {
      "image/png": "[encoded data removed]",
      "text/plain": [
       "plot without title"
      ]
     },
     "metadata": {
      "image/png": {
       "height": 420,
       "width": 420
      }
     },
     "output_type": "display_data"
    }
   ],
   "source": [
    "# Gráfico PPH - Solo Poisson (distribución recomendada)\n",
    "max_val_pph <- max(pph$siniestros)\n",
    "x_vals_pph <- 0:max_val_pph\n",
    "\n",
    "# Distribuciones Poisson (histórica y nuevas pólizas)\n",
    "poisson_hist_pph <- dpois(x_vals_pph, lambda = resultado_pph$ajustes$poisson$parametros$lambda)\n",
    "poisson_nuevas_pph <- dpois(x_vals_pph, lambda = mu_nuevas_pph)\n",
    "\n",
    "# Preparar datos para ggplot\n",
    "df_hist_pph <- data.frame(\n",
    "  x = x_vals_pph,\n",
    "  Poisson_Historica = poisson_hist_pph,\n",
    "  Poisson_Nuevas = poisson_nuevas_pph\n",
    ")\n",
    "\n",
    "# Gráfico\n",
    "p_pph <- ggplot() +\n",
    "  geom_histogram(data = data.frame(siniestros = pph$siniestros), \n",
    "                 aes(x = siniestros, y = ..density..), \n",
    "                 bins = 10, alpha = 0.7, fill = \"lightcoral\", color = \"black\") +\n",
    "  geom_line(data = df_hist_pph, aes(x = x, y = Poisson_Historica, color = \"Poisson Histórica\"), size = 1.2) +\n",
    "  geom_line(data = df_hist_pph, aes(x = x, y = Poisson_Nuevas, color = \"Poisson Nuevas Pólizas\"), size = 1.2, linetype = \"dashed\") +\n",
    "  scale_color_manual(values = c(\"Poisson Histórica\" = \"blue\", \"Poisson Nuevas Pólizas\" = \"darkgreen\")) +\n",
    "  labs(title = \"PPH: Distribución Poisson\", \n",
    "       x = \"Número de Siniestros\", y = \"Densidad\", color = \"Distribución\") +\n",
    "  theme_minimal()\n",
    "\n",
    "print(p_pph)"
   ]
  },
  {
   "cell_type": "markdown",
   "id": "b3817d6e",
   "metadata": {},
   "source": [
    "### $N^{(pth)}$ - Binomial Negativa"
   ]
  },
  {
   "cell_type": "code",
   "execution_count": 31,
   "id": "e9e6544e",
   "metadata": {
    "vscode": {
     "languageId": "r"
    }
   },
   "outputs": [
    {
     "name": "stdout",
     "output_type": "stream",
     "text": [
      "Parámetros históricos - size: 70.55872 , mu: 48 \n",
      "Parámetros nuevas pólizas - size: 70.55872 , mu: 0.1042296 \n",
      "Probability parameter (p): 0.998525 \n"
     ]
    }
   ],
   "source": [
    "# Cálculos para PTH (Binomial Negativa)\n",
    "# Parámetros históricos del ajuste\n",
    "size_hist_pth <- resultado_pth$ajustes$binomial_negativa$parametros$size\n",
    "mu_hist_pth <- resultado_pth$ajustes$binomial_negativa$parametros$mu\n",
    "\n",
    "# Para nuevas pólizas\n",
    "mu_nuevas_pth <- l_pth * mean(vigentes_pth$polizas_activas)\n",
    "size_nuevas_pth <- size_hist_pth  # El parámetro size se mantiene\n",
    "\n",
    "# Parámetro de probabilidad para referencia\n",
    "prob_pth <- size_nuevas_pth / (size_nuevas_pth + mu_nuevas_pth)\n",
    "\n",
    "cat(\"Parámetros históricos - size:\", size_hist_pth, \", mu:\", mu_hist_pth, \"\\n\")\n",
    "cat(\"Parámetros nuevas pólizas - size:\", size_nuevas_pth, \", mu:\", mu_nuevas_pth, \"\\n\")\n",
    "cat(\"Probability parameter (p):\", prob_pth, \"\\n\")"
   ]
  },
  {
   "cell_type": "markdown",
   "id": "70018edf",
   "metadata": {},
   "source": [
    "### Visualización PTH - Ajuste Histórico vs Nuevas Pólizas"
   ]
  },
  {
   "cell_type": "code",
   "execution_count": 32,
   "id": "bz5rpg410sq",
   "metadata": {
    "vscode": {
     "languageId": "r"
    }
   },
   "outputs": [
    {
     "data": {
      "image/png": "[encoded data removed]",
      "text/plain": [
       "plot without title"
      ]
     },
     "metadata": {
      "image/png": {
       "height": 420,
       "width": 420
      }
     },
     "output_type": "display_data"
    }
   ],
   "source": [
    "# Gráfico PTH - Solo Binomial Negativa (distribución recomendada)\n",
    "max_val_pth <- max(pth$siniestros)\n",
    "x_vals_pth <- 0:max_val_pth\n",
    "\n",
    "# Distribuciones Binomial Negativa (histórica y nuevas pólizas)\n",
    "nbinom_hist_pth <- dnbinom(x_vals_pth, size = size_hist_pth, mu = mu_hist_pth)\n",
    "nbinom_nuevas_pth <- dnbinom(x_vals_pth, size = size_nuevas_pth, mu = mu_nuevas_pth)\n",
    "\n",
    "# Preparar datos para ggplot\n",
    "df_hist_pth <- data.frame(\n",
    "  x = x_vals_pth,\n",
    "  BN_Historica = nbinom_hist_pth,\n",
    "  BN_Nuevas = nbinom_nuevas_pth\n",
    ")\n",
    "\n",
    "# Gráfico\n",
    "p_pth <- ggplot() +\n",
    "  geom_histogram(data = data.frame(siniestros = pth$siniestros), \n",
    "                 aes(x = siniestros, y = ..density..), \n",
    "                 bins = 10, alpha = 0.7, fill = \"lightgreen\", color = \"black\") +\n",
    "  geom_line(data = df_hist_pth, aes(x = x, y = BN_Historica, color = \"BN Histórica\"), size = 1.2) +\n",
    "  geom_line(data = df_hist_pth, aes(x = x, y = BN_Nuevas, color = \"BN Nuevas Pólizas\"), size = 1.2, linetype = \"dashed\") +\n",
    "  scale_color_manual(values = c(\"BN Histórica\" = \"red\", \"BN Nuevas Pólizas\" = \"darkgreen\")) +\n",
    "  labs(title = \"PTH: Distribución Binomial Negativa\", \n",
    "       x = \"Número de Siniestros\", y = \"Densidad\", color = \"Distribución\") +\n",
    "  theme_minimal()\n",
    "\n",
    "print(p_pth)"
   ]
  },
  {
   "cell_type": "markdown",
   "id": "de1cf0a4",
   "metadata": {},
   "source": [
    "### $N^{(rc)}$ - Binomial Negativa"
   ]
  },
  {
   "cell_type": "code",
   "execution_count": 33,
   "id": "81b15753",
   "metadata": {
    "vscode": {
     "languageId": "r"
    }
   },
   "outputs": [
    {
     "name": "stdout",
     "output_type": "stream",
     "text": [
      "Parámetros históricos - size: 253.8759 , mu: 271.5833 \n",
      "Parámetros nuevas pólizas - size: 253.8759 , mu: 0.53535 \n",
      "Probability parameter (p): 0.9978957 \n"
     ]
    }
   ],
   "source": [
    "# Cálculos para RC (Binomial Negativa)\n",
    "# Parámetros históricos del ajuste\n",
    "size_hist_rc <- resultado_rc$ajustes$binomial_negativa$parametros$size\n",
    "mu_hist_rc <- resultado_rc$ajustes$binomial_negativa$parametros$mu\n",
    "\n",
    "# Para nuevas pólizas\n",
    "mu_nuevas_rc <- l_rc * mean(vigentes_rc$polizas_activas)\n",
    "size_nuevas_rc <- size_hist_rc  # El parámetro size se mantiene\n",
    "\n",
    "# Parámetro de probabilidad para referencia\n",
    "prob_rc <- size_nuevas_rc / (size_nuevas_rc + mu_nuevas_rc)\n",
    "\n",
    "cat(\"Parámetros históricos - size:\", size_hist_rc, \", mu:\", mu_hist_rc, \"\\n\")\n",
    "cat(\"Parámetros nuevas pólizas - size:\", size_nuevas_rc, \", mu:\", mu_nuevas_rc, \"\\n\")\n",
    "cat(\"Probability parameter (p):\", prob_rc, \"\\n\")"
   ]
  },
  {
   "cell_type": "markdown",
   "id": "d10e8d72",
   "metadata": {
    "vscode": {
     "languageId": "r"
    }
   },
   "source": [
    "### Visualización RC - Ajuste Histórico vs Nuevas Pólizas"
   ]
  },
  {
   "cell_type": "code",
   "execution_count": 34,
   "id": "3b17970f",
   "metadata": {
    "vscode": {
     "languageId": "r"
    }
   },
   "outputs": [
    {
     "data": {
      "image/png": "[encoded data removed]",
      "text/plain": [
       "plot without title"
      ]
     },
     "metadata": {
      "image/png": {
       "height": 420,
       "width": 420
      }
     },
     "output_type": "display_data"
    }
   ],
   "source": [
    "# Gráfico RC - Solo Binomial Negativa (distribución recomendada)\n",
    "max_val_rc <- max(rc$siniestros)\n",
    "x_vals_rc <- 0:max_val_rc\n",
    "\n",
    "# Distribuciones Binomial Negativa (histórica y nuevas pólizas)\n",
    "nbinom_hist_rc <- dnbinom(x_vals_rc, size = size_hist_rc, mu = mu_hist_rc)\n",
    "nbinom_nuevas_rc <- dnbinom(x_vals_rc, size = size_nuevas_rc, mu = mu_nuevas_rc)\n",
    "\n",
    "# Preparar datos para ggplot\n",
    "df_hist_rc <- data.frame(\n",
    "  x = x_vals_rc,\n",
    "  BN_Historica = nbinom_hist_rc,\n",
    "  BN_Nuevas = nbinom_nuevas_rc\n",
    ")\n",
    "\n",
    "# Gráfico\n",
    "p_rc <- ggplot() +\n",
    "  geom_histogram(data = data.frame(siniestros = rc$siniestros), \n",
    "                 aes(x = siniestros, y = ..density..), \n",
    "                 bins = 15, alpha = 0.7, fill = \"lightyellow\", color = \"black\") +\n",
    "  geom_line(data = df_hist_rc, aes(x = x, y = BN_Historica, color = \"BN Histórica\"), size = 1.2) +\n",
    "  geom_line(data = df_hist_rc, aes(x = x, y = BN_Nuevas, color = \"BN Nuevas Pólizas\"), size = 1.2, linetype = \"dashed\") +\n",
    "  scale_color_manual(values = c(\"BN Histórica\" = \"red\", \"BN Nuevas Pólizas\" = \"darkgreen\")) +\n",
    "  labs(title = \"RC: Distribución Binomial Negativa\", \n",
    "       x = \"Número de Siniestros\", y = \"Densidad\", color = \"Distribución\") +\n",
    "  theme_minimal()\n",
    "\n",
    "print(p_rc)"
   ]
  },
  {
   "cell_type": "markdown",
   "id": "pn4lzg98f2h",
   "metadata": {},
   "source": [
    "## Resumen Visual de Distribuciones Finales para Nuevas Pólizas"
   ]
  },
  {
   "cell_type": "code",
   "execution_count": 35,
   "id": "ty79b9xcbb",
   "metadata": {
    "vscode": {
     "languageId": "r"
    }
   },
   "outputs": [
    {
     "data": {
      "image/png": "[encoded data removed]",
      "text/plain": [
       "plot without title"
      ]
     },
     "metadata": {
      "image/png": {
       "height": 420,
       "width": 420
      }
     },
     "output_type": "display_data"
    }
   ],
   "source": [
    "# Gráfico resumen: Distribuciones finales recomendadas para nuevas pólizas\n",
    "max_general <- max(max_val, max_val_pph, max_val_pth, max_val_rc)\n",
    "x_general <- 0:max_general\n",
    "\n",
    "# Distribuciones finales recomendadas\n",
    "df_final <- data.frame(\n",
    "  x = rep(x_general, 4),\n",
    "  Densidad = c(\n",
    "    dnbinom(x_general, size = size_nuevas_ppd, mu = mu_nuevas_ppd),  # PPD: BN\n",
    "    dpois(x_general, lambda = mu_nuevas_pph),                        # PPH: Poisson\n",
    "    dnbinom(x_general, size = size_nuevas_pth, mu = mu_nuevas_pth),  # PTH: BN\n",
    "    dnbinom(x_general, size = size_nuevas_rc, mu = mu_nuevas_rc)     # RC: BN\n",
    "  ),\n",
    "  Cobertura = rep(c(\"PPD (BN)\", \"PPH (Poisson)\", \"PTH (BN)\", \"RC (BN)\"), each = length(x_general))\n",
    ")\n",
    "\n",
    "# Gráfico con facetas\n",
    "p_final <- ggplot(df_final, aes(x = x, y = Densidad, fill = Cobertura)) +\n",
    "  geom_col(alpha = 0.7, width = 0.8) +\n",
    "  facet_wrap(~Cobertura, scales = \"free\", ncol = 2) +\n",
    "  scale_fill_manual(values = c(\"PPD (BN)\" = \"lightblue\", \"PPH (Poisson)\" = \"lightcoral\", \n",
    "                               \"PTH (BN)\" = \"lightgreen\", \"RC (BN)\" = \"lightyellow\")) +\n",
    "  labs(title = \"Distribuciones Finales de Frecuencia para Nuevas Pólizas\",\n",
    "       x = \"Número de Siniestros\", y = \"Probabilidad\") +\n",
    "  theme_minimal() +\n",
    "  theme(legend.position = \"none\",\n",
    "        strip.text = element_text(size = 12, face = \"bold\"))\n",
    "\n",
    "print(p_final)"
   ]
  }
 ],
 "metadata": {
  "kernelspec": {
   "display_name": "R",
   "language": "R",
   "name": "ir"
  },
  "language_info": {
   "codemirror_mode": "r",
   "file_extension": ".r",
   "mimetype": "text/x-r-source",
   "name": "R",
   "pygments_lexer": "r",
   "version": "4.2.3"
  }
 },
 "nbformat": 4,
 "nbformat_minor": 5
}
