{
 "cells": [
  {
   "cell_type": "markdown",
   "id": "a867510d",
   "metadata": {},
   "source": [
    "<div align=\"center\">\n",
    "\n",
    "# **Modelo de Frecuencia**\n",
    "\n",
    "</div>"
   ]
  },
  {
   "cell_type": "markdown",
   "id": "9f7aadbe",
   "metadata": {},
   "source": [
    "## Librerias"
   ]
  },
  {
   "cell_type": "code",
   "execution_count": 26,
   "id": "39b1b67f",
   "metadata": {
    "vscode": {
     "languageId": "r"
    }
   },
   "outputs": [],
   "source": [
    "source(\"../src/utils/Estimadores_frecuencia.R\")"
   ]
  },
  {
   "cell_type": "code",
   "execution_count": 27,
   "id": "c3660e8c",
   "metadata": {
    "vscode": {
     "languageId": "r"
    }
   },
   "outputs": [],
   "source": [
    "library(readxl)"
   ]
  },
  {
   "cell_type": "markdown",
   "id": "5f079426",
   "metadata": {},
   "source": [
    "## Data"
   ]
  },
  {
   "cell_type": "markdown",
   "id": "940d0fe5",
   "metadata": {
    "vscode": {
     "languageId": "r"
    }
   },
   "source": [
    "### Data Historica"
   ]
  },
  {
   "cell_type": "code",
   "execution_count": 28,
   "id": "4034587f",
   "metadata": {
    "vscode": {
     "languageId": "r"
    }
   },
   "outputs": [],
   "source": [
    "siniestros_ppd <- read.csv(\"../data/processed/siniestros_ppd_dia.csv\")\n",
    "siniestros_pph <- read.csv(\"../data/processed/siniestros_pph_dia.csv\")\n",
    "siniestros_pth <- read.csv(\"../data/processed/siniestros_pth_dia.csv\")\n",
    "siniestros_rc <- read.csv(\"../data/processed/siniestros_rc_dia.csv\")\n",
    "polizas_ppd <- read.csv(\"../data/processed/polizas_ppd_dia.csv\")\n",
    "polizas_pph <- read.csv(\"../data/processed/polizas_pph_dia.csv\")\n",
    "polizas_pth <- read.csv(\"../data/processed/polizas_pth_dia.csv\")\n",
    "polizas_rc <- read.csv(\"../data/processed/polizas_rc_dia.csv\")"
   ]
  },
  {
   "cell_type": "code",
   "execution_count": 29,
   "id": "2b64fc68",
   "metadata": {
    "vscode": {
     "languageId": "r"
    }
   },
   "outputs": [],
   "source": [
    "siniestros_pph$X <- NULL\n",
    "siniestros_pth$X <- NULL\n",
    "siniestros_ppd$X <- NULL\n",
    "siniestros_rc$X <- NULL"
   ]
  },
  {
   "cell_type": "code",
   "execution_count": 30,
   "id": "d138d674",
   "metadata": {
    "vscode": {
     "languageId": "r"
    }
   },
   "outputs": [],
   "source": [
    "polizas_pph$X <- NULL\n",
    "polizas_pth$X <- NULL\n",
    "polizas_ppd$X <- NULL\n",
    "polizas_rc$X <- NULL"
   ]
  },
  {
   "cell_type": "code",
   "execution_count": 31,
   "id": "6a17a435",
   "metadata": {
    "vscode": {
     "languageId": "r"
    }
   },
   "outputs": [
    {
     "data": {
      "text/html": [
       "<style>\n",
       ".list-inline {list-style: none; margin:0; padding: 0}\n",
       ".list-inline>li {display: inline-block}\n",
       ".list-inline>li:not(:last-child)::after {content: \"\\00b7\"; padding: 0 .5ex}\n",
       "</style>\n",
       "<ol class=list-inline><li>'Numero_polizas'</li><li>'Exposicion'</li><li>'dia'</li></ol>\n"
      ],
      "text/latex": [
       "\\begin{enumerate*}\n",
       "\\item 'Numero\\_polizas'\n",
       "\\item 'Exposicion'\n",
       "\\item 'dia'\n",
       "\\end{enumerate*}\n"
      ],
      "text/markdown": [
       "1. 'Numero_polizas'\n",
       "2. 'Exposicion'\n",
       "3. 'dia'\n",
       "\n",
       "\n"
      ],
      "text/plain": [
       "[1] \"Numero_polizas\" \"Exposicion\"     \"dia\"           "
      ]
     },
     "metadata": {},
     "output_type": "display_data"
    }
   ],
   "source": [
    "colnames(polizas_ppd)"
   ]
  },
  {
   "cell_type": "code",
   "execution_count": 32,
   "id": "66359f34",
   "metadata": {
    "vscode": {
     "languageId": "r"
    }
   },
   "outputs": [
    {
     "data": {
      "text/html": [
       "<style>\n",
       ".list-inline {list-style: none; margin:0; padding: 0}\n",
       ".list-inline>li {display: inline-block}\n",
       ".list-inline>li:not(:last-child)::after {content: \"\\00b7\"; padding: 0 .5ex}\n",
       "</style>\n",
       "<ol class=list-inline><li>'dia'</li><li>'severidad'</li><li>'siniestros'</li></ol>\n"
      ],
      "text/latex": [
       "\\begin{enumerate*}\n",
       "\\item 'dia'\n",
       "\\item 'severidad'\n",
       "\\item 'siniestros'\n",
       "\\end{enumerate*}\n"
      ],
      "text/markdown": [
       "1. 'dia'\n",
       "2. 'severidad'\n",
       "3. 'siniestros'\n",
       "\n",
       "\n"
      ],
      "text/plain": [
       "[1] \"dia\"        \"severidad\"  \"siniestros\""
      ]
     },
     "metadata": {},
     "output_type": "display_data"
    }
   ],
   "source": [
    "colnames(siniestros_ppd)"
   ]
  },
  {
   "cell_type": "markdown",
   "id": "664ae655",
   "metadata": {},
   "source": [
    "### Nuevas polizas"
   ]
  },
  {
   "cell_type": "code",
   "execution_count": 33,
   "id": "3e71e767",
   "metadata": {
    "vscode": {
     "languageId": "r"
    }
   },
   "outputs": [],
   "source": [
    "vigentes <- read_excel(\"../data/input/Grupo_P11.xlsx\")"
   ]
  },
  {
   "cell_type": "markdown",
   "id": "6a9cef07",
   "metadata": {},
   "source": [
    "## Merge de las tablas por dia"
   ]
  },
  {
   "cell_type": "code",
   "execution_count": 34,
   "id": "9eafd4e5",
   "metadata": {
    "vscode": {
     "languageId": "r"
    }
   },
   "outputs": [],
   "source": [
    "ppd <- merge(polizas_ppd, siniestros_ppd, by.x = \"dia\", by.y = \"dia\")\n",
    "pph <- merge(polizas_pph, siniestros_pph, by.x = \"dia\", by.y = \"dia\")\n",
    "pth <- merge(polizas_pth, siniestros_pth, by.x = \"dia\", by.y = \"dia\")\n",
    "rc <- merge(polizas_rc, siniestros_rc, by.x = \"dia\", by.y = \"dia\")"
   ]
  },
  {
   "cell_type": "code",
   "execution_count": 35,
   "id": "5042714e",
   "metadata": {
    "vscode": {
     "languageId": "r"
    }
   },
   "outputs": [],
   "source": [
    "ppd$X <- NULL\n",
    "pph$X <- NULL\n",
    "pth$X <- NULL\n",
    "rc$X <- NULL"
   ]
  },
  {
   "cell_type": "markdown",
   "id": "88f67e46",
   "metadata": {},
   "source": [
    "## Estimando las distribuciones de frecuencia $N^{(c)}$"
   ]
  },
  {
   "cell_type": "markdown",
   "id": "0de0ece6",
   "metadata": {},
   "source": [
    "### $N^{(ppd)}$"
   ]
  },
  {
   "cell_type": "code",
   "execution_count": 37,
   "id": "6988ffd0",
   "metadata": {
    "vscode": {
     "languageId": "r"
    }
   },
   "outputs": [
    {
     "name": "stderr",
     "output_type": "stream",
     "text": [
      "Warning message in chisq.test(freq_obs, p = freq_esp/sum(freq_esp)):\n",
      "“Chi-squared approximation may be incorrect”\n",
      "Warning message in chisq.test(freq_obs, p = freq_esp/sum(freq_esp)):\n",
      "“Chi-squared approximation may be incorrect”\n"
     ]
    },
    {
     "name": "stdout",
     "output_type": "stream",
     "text": [
      "═══════════════════════════════════════════════════════════════════════════\n",
      "                           ESTIMADORES DE FRECUENCIA                        \n",
      "═══════════════════════════════════════════════════════════════════════════\n",
      "N = 365 | Media = 41.1973 | Varianza = 54.3291 | Índice Sobredispersión = 1.3188\n",
      "───────────────────────────────────────────────────────────────────────────\n",
      "\n",
      "1. AJUSTE DE DISTRIBUCIONES:\n",
      "───────────────────────────────────────────────────────────────────────────\n",
      "Poisson:           λ = 41.1973 | AIC = 2508.72 | LogLik = -1253.36\n",
      "Binomial Negativa: size = 129.2444, μ = 41.1973 | AIC = 2495.61 | LogLik = -1245.81\n",
      "\n",
      "2. PRUEBAS DE BONDAD DE AJUSTE:\n",
      "───────────────────────────────────────────────────────────────────────────\n",
      "Poisson:           χ² = 50.8206 | p-valor = 0.0798 | Buen ajuste\n",
      "Binomial Negativa: χ² = 44.1012 | p-valor = 0.2293 | Buen ajuste\n",
      "\n",
      "3. PRUEBAS DE SOBREDISPERSIÓN:\n",
      "───────────────────────────────────────────────────────────────────────────\n",
      "Cameron-Trivedi:   z = 3.2161 | p-valor = 0.0006 | Sobredispersión\n",
      "Índice Var/Media:  1.3188 | Sobredispersión\n",
      "\n",
      "4. RESUMEN Y RECOMENDACIÓN:\n",
      "═══════════════════════════════════════════════════════════════════════════\n",
      "MEJOR DISTRIBUCIÓN: Binomial Negativa (size = 129.2444, μ = 41.1973)\n",
      "CONCLUSIÓN: Hay evidencia de sobredispersión. Se recomienda Binomial Negativa.\n",
      "═══════════════════════════════════════════════════════════════════════════\n"
     ]
    }
   ],
   "source": [
    "Estimadores_frecuencia(ppd$siniestros)"
   ]
  },
  {
   "cell_type": "markdown",
   "id": "db5c5681",
   "metadata": {},
   "source": [
    "### $N^{(pph)}$"
   ]
  },
  {
   "cell_type": "code",
   "execution_count": 38,
   "id": "2b18c048",
   "metadata": {
    "vscode": {
     "languageId": "r"
    }
   },
   "outputs": [
    {
     "name": "stdout",
     "output_type": "stream",
     "text": [
      "═══════════════════════════════════════════════════════════════════════════\n",
      "                           ESTIMADORES DE FRECUENCIA                        \n",
      "═══════════════════════════════════════════════════════════════════════════\n",
      "N = 300 | Media = 2.0967 | Varianza = 1.2782 | Índice Sobredispersión = 0.6097\n",
      "───────────────────────────────────────────────────────────────────────────\n",
      "\n",
      "1. AJUSTE DE DISTRIBUCIONES:\n",
      "───────────────────────────────────────────────────────────────────────────\n",
      "Poisson:           λ = 2.0967 | AIC = 933.08 | LogLik = -465.54\n",
      "Binomial Negativa: size = 284.3247, μ = 2.0966 | AIC = 935.95 | LogLik = -465.98\n",
      "\n",
      "2. PRUEBAS DE BONDAD DE AJUSTE:\n",
      "───────────────────────────────────────────────────────────────────────────\n",
      "Poisson:           χ² = 20.2276 | p-valor = 0.0025 | Mal ajuste\n",
      "Binomial Negativa: χ² = 20.2593 | p-valor = 0.0025 | Mal ajuste\n",
      "\n",
      "3. PRUEBAS DE SOBREDISPERSIÓN:\n",
      "───────────────────────────────────────────────────────────────────────────\n",
      "Cameron-Trivedi:   z = -7.4502 | p-valor = 1.0000 | No sobredispersión\n",
      "Índice Var/Media:  0.6097 | Subdispersión\n",
      "\n",
      "4. RESUMEN Y RECOMENDACIÓN:\n",
      "═══════════════════════════════════════════════════════════════════════════\n",
      "MEJOR DISTRIBUCIÓN: Poisson (λ = 2.0967)\n",
      "CONCLUSIÓN: No hay evidencia de sobredispersión. Poisson es adecuada.\n",
      "═══════════════════════════════════════════════════════════════════════════\n"
     ]
    }
   ],
   "source": [
    "Estimadores_frecuencia(pph$siniestros)"
   ]
  },
  {
   "cell_type": "markdown",
   "id": "10f619a0",
   "metadata": {},
   "source": [
    "### $N^{(pth)}$"
   ]
  },
  {
   "cell_type": "code",
   "execution_count": 39,
   "id": "0711ec62",
   "metadata": {
    "vscode": {
     "languageId": "r"
    }
   },
   "outputs": [
    {
     "name": "stdout",
     "output_type": "stream",
     "text": [
      "═══════════════════════════════════════════════════════════════════════════\n",
      "                           ESTIMADORES DE FRECUENCIA                        \n",
      "═══════════════════════════════════════════════════════════════════════════\n",
      "N = 259 | Media = 1.9189 | Varianza = 1.0748 | Índice Sobredispersión = 0.5601\n",
      "───────────────────────────────────────────────────────────────────────────\n",
      "\n",
      "1. AJUSTE DE DISTRIBUCIONES:\n",
      "───────────────────────────────────────────────────────────────────────────\n",
      "Poisson:           λ = 1.9189 | AIC = 771.79 | LogLik = -384.89\n",
      "Binomial Negativa: size = 301.0152, μ = 1.9189 | AIC = 774.52 | LogLik = -385.26\n",
      "\n",
      "2. PRUEBAS DE BONDAD DE AJUSTE:\n",
      "───────────────────────────────────────────────────────────────────────────\n",
      "Poisson:           χ² = 21.2531 | p-valor = 0.0007 | Mal ajuste\n",
      "Binomial Negativa: χ² = 21.2712 | p-valor = 0.0007 | Mal ajuste\n",
      "\n",
      "3. PRUEBAS DE SOBREDISPERSIÓN:\n",
      "───────────────────────────────────────────────────────────────────────────\n",
      "Cameron-Trivedi:   z = -7.9778 | p-valor = 1.0000 | No sobredispersión\n",
      "Índice Var/Media:  0.5601 | Subdispersión\n",
      "\n",
      "4. RESUMEN Y RECOMENDACIÓN:\n",
      "═══════════════════════════════════════════════════════════════════════════\n",
      "MEJOR DISTRIBUCIÓN: Poisson (λ = 1.9189)\n",
      "CONCLUSIÓN: No hay evidencia de sobredispersión. Poisson es adecuada.\n",
      "═══════════════════════════════════════════════════════════════════════════\n"
     ]
    }
   ],
   "source": [
    "Estimadores_frecuencia(pth$siniestros)"
   ]
  },
  {
   "cell_type": "markdown",
   "id": "130f0a04",
   "metadata": {},
   "source": [
    "### $N^{(rc)}$"
   ]
  },
  {
   "cell_type": "code",
   "execution_count": 40,
   "id": "c9996b28",
   "metadata": {
    "vscode": {
     "languageId": "r"
    }
   },
   "outputs": [
    {
     "name": "stderr",
     "output_type": "stream",
     "text": [
      "Warning message in chisq.test(freq_obs, p = freq_esp/sum(freq_esp)):\n",
      "“Chi-squared approximation may be incorrect”\n",
      "Warning message in chisq.test(freq_obs, p = freq_esp/sum(freq_esp)):\n",
      "“Chi-squared approximation may be incorrect”\n"
     ]
    },
    {
     "name": "stdout",
     "output_type": "stream",
     "text": [
      "═══════════════════════════════════════════════════════════════════════════\n",
      "                           ESTIMADORES DE FRECUENCIA                        \n",
      "═══════════════════════════════════════════════════════════════════════════\n",
      "N = 365 | Media = 7.8849 | Varianza = 9.8494 | Índice Sobredispersión = 1.2491\n",
      "───────────────────────────────────────────────────────────────────────────\n",
      "\n",
      "1. AJUSTE DE DISTRIBUCIONES:\n",
      "───────────────────────────────────────────────────────────────────────────\n",
      "Poisson:           λ = 7.8849 | AIC = 1866.02 | LogLik = -932.01\n",
      "Binomial Negativa: size = 31.6513, μ = 7.8849 | AIC = 1858.58 | LogLik = -927.29\n",
      "\n",
      "2. PRUEBAS DE BONDAD DE AJUSTE:\n",
      "───────────────────────────────────────────────────────────────────────────\n",
      "Poisson:           χ² = 21.6356 | p-valor = 0.1991 | Buen ajuste\n",
      "Binomial Negativa: χ² = 14.1069 | p-valor = 0.6595 | Buen ajuste\n",
      "\n",
      "3. PRUEBAS DE SOBREDISPERSIÓN:\n",
      "───────────────────────────────────────────────────────────────────────────\n",
      "Cameron-Trivedi:   z = 2.7632 | p-valor = 0.0029 | Sobredispersión\n",
      "Índice Var/Media:  1.2491 | Sobredispersión\n",
      "\n",
      "4. RESUMEN Y RECOMENDACIÓN:\n",
      "═══════════════════════════════════════════════════════════════════════════\n",
      "MEJOR DISTRIBUCIÓN: Binomial Negativa (size = 31.6513, μ = 7.8849)\n",
      "CONCLUSIÓN: Hay evidencia de sobredispersión. Se recomienda Binomial Negativa.\n",
      "═══════════════════════════════════════════════════════════════════════════\n"
     ]
    }
   ],
   "source": [
    "Estimadores_frecuencia(rc$siniestros)"
   ]
  },
  {
   "cell_type": "markdown",
   "id": "696dddc9",
   "metadata": {},
   "source": [
    "## Estimando los $\\lambda_c$"
   ]
  },
  {
   "cell_type": "markdown",
   "id": "95469555",
   "metadata": {},
   "source": [
    "### $\\lambda_{ppd}$"
   ]
  },
  {
   "cell_type": "code",
   "execution_count": 41,
   "id": "abd8408c",
   "metadata": {
    "vscode": {
     "languageId": "r"
    }
   },
   "outputs": [
    {
     "data": {
      "text/html": [
       "0.00022405470838744"
      ],
      "text/latex": [
       "0.00022405470838744"
      ],
      "text/markdown": [
       "0.00022405470838744"
      ],
      "text/plain": [
       "[1] 0.0002240547"
      ]
     },
     "metadata": {},
     "output_type": "display_data"
    }
   ],
   "source": [
    "mean(ppd$siniestros)/mean(ppd$Numero_polizas)"
   ]
  },
  {
   "cell_type": "markdown",
   "id": "54106106",
   "metadata": {},
   "source": [
    "### $\\lambda_{pph}$"
   ]
  },
  {
   "cell_type": "code",
   "execution_count": 42,
   "id": "020f1d93",
   "metadata": {
    "vscode": {
     "languageId": "r"
    }
   },
   "outputs": [
    {
     "data": {
      "text/html": [
       "1.14103538385192e-05"
      ],
      "text/latex": [
       "1.14103538385192e-05"
      ],
      "text/markdown": [
       "1.14103538385192e-05"
      ],
      "text/plain": [
       "[1] 1.141035e-05"
      ]
     },
     "metadata": {},
     "output_type": "display_data"
    }
   ],
   "source": [
    "mean(pph$siniestros)/mean(pph$Numero_polizas)"
   ]
  },
  {
   "cell_type": "markdown",
   "id": "b18cb588",
   "metadata": {},
   "source": [
    "### $\\lambda_{pth}$"
   ]
  },
  {
   "cell_type": "code",
   "execution_count": 56,
   "id": "ed2f3ccf",
   "metadata": {
    "vscode": {
     "languageId": "r"
    }
   },
   "outputs": [
    {
     "data": {
      "text/html": [
       "1.03749149836255e-05"
      ],
      "text/latex": [
       "1.03749149836255e-05"
      ],
      "text/markdown": [
       "1.03749149836255e-05"
      ],
      "text/plain": [
       "[1] 1.037491e-05"
      ]
     },
     "metadata": {},
     "output_type": "display_data"
    }
   ],
   "source": [
    "mean(pth$siniestros)/mean(pth$Numero_polizas)"
   ]
  },
  {
   "cell_type": "markdown",
   "id": "a6814ed6",
   "metadata": {
    "vscode": {
     "languageId": "r"
    }
   },
   "source": [
    "### $\\lambda_{rc}$"
   ]
  },
  {
   "cell_type": "code",
   "execution_count": 58,
   "id": "a8c9aec6",
   "metadata": {
    "vscode": {
     "languageId": "r"
    }
   },
   "outputs": [
    {
     "data": {
      "text/html": [
       "5.18907198748363e-05"
      ],
      "text/latex": [
       "5.18907198748363e-05"
      ],
      "text/markdown": [
       "5.18907198748363e-05"
      ],
      "text/plain": [
       "[1] 5.189072e-05"
      ]
     },
     "metadata": {},
     "output_type": "display_data"
    }
   ],
   "source": [
    "mean(rc$siniestros)/mean(rc$Numero_polizas)"
   ]
  },
  {
   "cell_type": "markdown",
   "id": "679077d6",
   "metadata": {},
   "source": [
    "## Nuevas distribuciones de conteo $N^{(c)}$"
   ]
  },
  {
   "cell_type": "markdown",
   "id": "56d1d87b",
   "metadata": {},
   "source": [
    "### $N^{(ppd)}$"
   ]
  },
  {
   "cell_type": "code",
   "execution_count": 53,
   "id": "fd5faf01",
   "metadata": {
    "vscode": {
     "languageId": "r"
    }
   },
   "outputs": [
    {
     "data": {
      "text/html": [
       "0.00133543810208963"
      ],
      "text/latex": [
       "0.00133543810208963"
      ],
      "text/markdown": [
       "0.00133543810208963"
      ],
      "text/plain": [
       "[1] 0.001335438"
      ]
     },
     "metadata": {},
     "output_type": "display_data"
    }
   ],
   "source": [
    "1.14103538385192e-05  * 117.037396121884\n"
   ]
  },
  {
   "cell_type": "code",
   "execution_count": 60,
   "id": "b0e3e679",
   "metadata": {
    "vscode": {
     "languageId": "r"
    }
   },
   "outputs": [
    {
     "data": {
      "text/html": [
       "0.00418895264143548"
      ],
      "text/latex": [
       "0.00418895264143548"
      ],
      "text/markdown": [
       "0.00418895264143548"
      ],
      "text/plain": [
       "[1] 0.004188953"
      ]
     },
     "metadata": {},
     "output_type": "display_data"
    }
   ],
   "source": [
    "0.00133543810208963 / (1.3188 - 1)"
   ]
  },
  {
   "cell_type": "markdown",
   "id": "3434c5aa",
   "metadata": {},
   "source": [
    "$N^{(ppd)} \\sim \\mathcal{NB}(0.00418895264143548,0.00133543810208963)$"
   ]
  },
  {
   "cell_type": "markdown",
   "id": "75f1f4eb",
   "metadata": {},
   "source": [
    "### $N^{(pph)}$"
   ]
  },
  {
   "cell_type": "code",
   "execution_count": 55,
   "id": "65bccbe2",
   "metadata": {
    "vscode": {
     "languageId": "r"
    }
   },
   "outputs": [
    {
     "data": {
      "text/html": [
       "0.00133543810208963"
      ],
      "text/latex": [
       "0.00133543810208963"
      ],
      "text/markdown": [
       "0.00133543810208963"
      ],
      "text/plain": [
       "[1] 0.001335438"
      ]
     },
     "metadata": {},
     "output_type": "display_data"
    }
   ],
   "source": [
    "117.037396121884 * 1.14103538385192e-05"
   ]
  },
  {
   "cell_type": "markdown",
   "id": "52ad2e94",
   "metadata": {},
   "source": [
    "$N^{(ppd)} \\sim \\mathcal{P}(0.00133543810208963)$"
   ]
  },
  {
   "cell_type": "markdown",
   "id": "b3817d6e",
   "metadata": {},
   "source": [
    "### $N^{(pth)}$"
   ]
  },
  {
   "cell_type": "code",
   "execution_count": 57,
   "id": "e9e6544e",
   "metadata": {
    "vscode": {
     "languageId": "r"
    }
   },
   "outputs": [
    {
     "data": {
      "text/html": [
       "0.00121952671029131"
      ],
      "text/latex": [
       "0.00121952671029131"
      ],
      "text/markdown": [
       "0.00121952671029131"
      ],
      "text/plain": [
       "[1] 0.001219527"
      ]
     },
     "metadata": {},
     "output_type": "display_data"
    }
   ],
   "source": [
    "1.03749149836255e-05 * 117.545706371191"
   ]
  },
  {
   "cell_type": "markdown",
   "id": "70018edf",
   "metadata": {},
   "source": [
    "$N^{(ptd)} \\sim \\mathcal{P}(0.00121952671029131)$"
   ]
  },
  {
   "cell_type": "markdown",
   "id": "de1cf0a4",
   "metadata": {},
   "source": [
    "### $N^{(rc)}$"
   ]
  },
  {
   "cell_type": "code",
   "execution_count": 59,
   "id": "81b15753",
   "metadata": {
    "vscode": {
     "languageId": "r"
    }
   },
   "outputs": [
    {
     "data": {
      "text/html": [
       "0.00464005092221511"
      ],
      "text/latex": [
       "0.00464005092221511"
      ],
      "text/markdown": [
       "0.00464005092221511"
      ],
      "text/plain": [
       "[1] 0.004640051"
      ]
     },
     "metadata": {},
     "output_type": "display_data"
    }
   ],
   "source": [
    "5.18907198748363e-05 * 89.4196675900277"
   ]
  },
  {
   "cell_type": "code",
   "execution_count": 62,
   "id": "d10e8d72",
   "metadata": {
    "vscode": {
     "languageId": "r"
    }
   },
   "outputs": [
    {
     "data": {
      "text/html": [
       "0.0186272618314537"
      ],
      "text/latex": [
       "0.0186272618314537"
      ],
      "text/markdown": [
       "0.0186272618314537"
      ],
      "text/plain": [
       "[1] 0.01862726"
      ]
     },
     "metadata": {},
     "output_type": "display_data"
    }
   ],
   "source": [
    "0.00464005092221511 / (1.2491 - 1)"
   ]
  },
  {
   "cell_type": "markdown",
   "id": "3b17970f",
   "metadata": {},
   "source": [
    "$N^{(rc)} \\sim \\mathcal{NB}(0.0186272618314537,0.00464005092221511)$"
   ]
  }
 ],
 "metadata": {
  "kernelspec": {
   "display_name": "R",
   "language": "R",
   "name": "ir"
  },
  "language_info": {
   "codemirror_mode": "r",
   "file_extension": ".r",
   "mimetype": "text/x-r-source",
   "name": "R",
   "pygments_lexer": "r",
   "version": "4.2.3"
  }
 },
 "nbformat": 4,
 "nbformat_minor": 5
}
