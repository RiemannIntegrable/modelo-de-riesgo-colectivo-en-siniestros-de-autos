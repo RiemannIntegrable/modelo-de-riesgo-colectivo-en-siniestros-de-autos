{
 "cells": [
  {
   "cell_type": "markdown",
   "id": "238b3471",
   "metadata": {},
   "source": [
    "<div align = \"center\">\n",
    "\n",
    "# **Modelo de la perdida por cobertura**\n",
    "\n",
    "</div>"
   ]
  },
  {
   "cell_type": "markdown",
   "id": "90547a7c",
   "metadata": {},
   "source": [
    "## Librerias"
   ]
  },
  {
   "cell_type": "code",
   "execution_count": 1,
   "id": "a9009be9",
   "metadata": {
    "vscode": {
     "languageId": "r"
    }
   },
   "outputs": [],
   "source": [
    "source(\"../src/utils/panjer.R\")"
   ]
  },
  {
   "cell_type": "markdown",
   "id": "d30e68da",
   "metadata": {},
   "source": [
    "## Discretizando las severidades"
   ]
  },
  {
   "cell_type": "code",
   "execution_count": null,
   "id": "4cf503d4",
   "metadata": {
    "vscode": {
     "languageId": "r"
    }
   },
   "outputs": [],
   "source": []
  }
 ],
 "metadata": {
  "kernelspec": {
   "display_name": "R",
   "language": "R",
   "name": "ir"
  },
  "language_info": {
   "codemirror_mode": "r",
   "file_extension": ".r",
   "mimetype": "text/x-r-source",
   "name": "R",
   "pygments_lexer": "r",
   "version": "4.2.3"
  }
 },
 "nbformat": 4,
 "nbformat_minor": 5
}
